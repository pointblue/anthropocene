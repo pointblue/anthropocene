{
 "cells": [
  {
   "cell_type": "markdown",
   "metadata": {},
   "source": [
    "# Finding the temporal autocorrelation order and evidence of slope\n",
    "This notebook fits an ARIMA model for ADPE at CROZIER"
   ]
  },
  {
   "cell_type": "code",
   "execution_count": 777,
   "metadata": {},
   "outputs": [],
   "source": [
    "# Load libraries\n",
    "library(forecast); library(ggplot2);library(dplyr); library(fmsb); library(stats); library(ggplot2); library(modelr); library(lmtest); library(pdp)"
   ]
  },
  {
   "cell_type": "code",
   "execution_count": 778,
   "metadata": {},
   "outputs": [],
   "source": [
    "# Load the data\n",
    "master<-read.csv(\"~/Workspace/Anthropocene/data/MASTER_SIE_MOD.csv\")"
   ]
  },
  {
   "cell_type": "code",
   "execution_count": 779,
   "metadata": {},
   "outputs": [
    {
     "data": {
      "text/html": [
       "<table>\n",
       "<caption>A data.frame: 6 × 38</caption>\n",
       "<thead>\n",
       "\t<tr><th></th><th scope=col>year</th><th scope=col>intP_RSP</th><th scope=col>mnChl_aw_RSP</th><th scope=col>mnOW_RSP</th><th scope=col>nmSST_aw_RSP</th><th scope=col>intP_MCM</th><th scope=col>mnChl_aw_MCM</th><th scope=col>mnOW_MCM</th><th scope=col>nmSST_aw_MCM</th><th scope=col>mnAirTemp</th><th scope=col>⋯</th><th scope=col>ICEBERG</th><th scope=col>ADPE_BIRD</th><th scope=col>ADPE_CROZ</th><th scope=col>ADPE_RO</th><th scope=col>BIRD</th><th scope=col>EMPE</th><th scope=col>WESE</th><th scope=col>WESE_1</th><th scope=col>av_SIE</th><th scope=col>FIE</th></tr>\n",
       "\t<tr><th></th><th scope=col>&lt;int&gt;</th><th scope=col>&lt;dbl&gt;</th><th scope=col>&lt;dbl&gt;</th><th scope=col>&lt;int&gt;</th><th scope=col>&lt;dbl&gt;</th><th scope=col>&lt;dbl&gt;</th><th scope=col>&lt;dbl&gt;</th><th scope=col>&lt;dbl&gt;</th><th scope=col>&lt;dbl&gt;</th><th scope=col>&lt;dbl&gt;</th><th scope=col>⋯</th><th scope=col>&lt;int&gt;</th><th scope=col>&lt;int&gt;</th><th scope=col>&lt;int&gt;</th><th scope=col>&lt;int&gt;</th><th scope=col>&lt;int&gt;</th><th scope=col>&lt;int&gt;</th><th scope=col>&lt;dbl&gt;</th><th scope=col>&lt;dbl&gt;</th><th scope=col>&lt;dbl&gt;</th><th scope=col>&lt;dbl&gt;</th></tr>\n",
       "</thead>\n",
       "<tbody>\n",
       "\t<tr><th scope=row>1</th><td>1998</td><td>0.6511596</td><td>1.161487</td><td>250157</td><td>-0.690398</td><td>0.7170871</td><td>1.2969463</td><td>4370.76</td><td>-0.758259</td><td>-5.650</td><td>⋯</td><td>0</td><td>38252</td><td>125441</td><td>34110</td><td>38252</td><td>1108</td><td>0.6388527</td><td>  NA</td><td>3.126</td><td>17.2</td></tr>\n",
       "\t<tr><th scope=row>2</th><td>1999</td><td>0.6556949</td><td>1.353060</td><td>218399</td><td>-0.901666</td><td>0.7196705</td><td>1.5053741</td><td>4127.91</td><td>-0.926631</td><td>-5.900</td><td>⋯</td><td>0</td><td>47350</td><td>156441</td><td>36200</td><td>47350</td><td> 798</td><td>0.6505867</td><td>  NA</td><td>3.269</td><td>31.0</td></tr>\n",
       "\t<tr><th scope=row>3</th><td>2000</td><td>0.5873935</td><td>1.098477</td><td>200943</td><td>-0.924639</td><td>0.3527637</td><td>0.6385173</td><td>2959.68</td><td>-1.109230</td><td>-4.450</td><td>⋯</td><td>0</td><td>41409</td><td> 89489</td><td>23630</td><td>41409</td><td>1201</td><td>0.6219035</td><td>1.05</td><td>2.983</td><td>37.2</td></tr>\n",
       "\t<tr><th scope=row>4</th><td>2001</td><td>0.7697252</td><td>1.460241</td><td>250135</td><td>-0.645706</td><td>1.0612940</td><td>3.1205994</td><td>4366.66</td><td>-0.911519</td><td>-6.175</td><td>⋯</td><td>1</td><td>26317</td><td> 67114</td><td>13670</td><td>26317</td><td>   0</td><td>0.5084746</td><td>0.75</td><td>2.964</td><td>15.0</td></tr>\n",
       "\t<tr><th scope=row>5</th><td>2002</td><td>0.2079730</td><td>0.311760</td><td>100918</td><td>-1.117230</td><td>0.1219010</td><td>0.1905980</td><td>1748.01</td><td>-1.109550</td><td>-6.050</td><td>⋯</td><td>1</td><td>40678</td><td>161079</td><td>22390</td><td>40678</td><td> 247</td><td>0.5345502</td><td>0.80</td><td>2.779</td><td>44.9</td></tr>\n",
       "\t<tr><th scope=row>6</th><td>2003</td><td>0.6588100</td><td>1.278130</td><td>190735</td><td>-1.047010</td><td>0.1797500</td><td>0.2424260</td><td>2701.45</td><td>-1.177640</td><td>-4.625</td><td>⋯</td><td>1</td><td>22816</td><td>100843</td><td>19630</td><td>22816</td><td> 279</td><td>0.5084746</td><td>0.78</td><td>2.859</td><td>52.0</td></tr>\n",
       "</tbody>\n",
       "</table>\n"
      ],
      "text/latex": [
       "A data.frame: 6 × 38\n",
       "\\begin{tabular}{r|lllllllllllllllllllll}\n",
       "  & year & intP\\_RSP & mnChl\\_aw\\_RSP & mnOW\\_RSP & nmSST\\_aw\\_RSP & intP\\_MCM & mnChl\\_aw\\_MCM & mnOW\\_MCM & nmSST\\_aw\\_MCM & mnAirTemp & ⋯ & ICEBERG & ADPE\\_BIRD & ADPE\\_CROZ & ADPE\\_RO & BIRD & EMPE & WESE & WESE\\_1 & av\\_SIE & FIE\\\\\n",
       "  & <int> & <dbl> & <dbl> & <int> & <dbl> & <dbl> & <dbl> & <dbl> & <dbl> & <dbl> & ⋯ & <int> & <int> & <int> & <int> & <int> & <int> & <dbl> & <dbl> & <dbl> & <dbl>\\\\\n",
       "\\hline\n",
       "\t1 & 1998 & 0.6511596 & 1.161487 & 250157 & -0.690398 & 0.7170871 & 1.2969463 & 4370.76 & -0.758259 & -5.650 & ⋯ & 0 & 38252 & 125441 & 34110 & 38252 & 1108 & 0.6388527 &   NA & 3.126 & 17.2\\\\\n",
       "\t2 & 1999 & 0.6556949 & 1.353060 & 218399 & -0.901666 & 0.7196705 & 1.5053741 & 4127.91 & -0.926631 & -5.900 & ⋯ & 0 & 47350 & 156441 & 36200 & 47350 &  798 & 0.6505867 &   NA & 3.269 & 31.0\\\\\n",
       "\t3 & 2000 & 0.5873935 & 1.098477 & 200943 & -0.924639 & 0.3527637 & 0.6385173 & 2959.68 & -1.109230 & -4.450 & ⋯ & 0 & 41409 &  89489 & 23630 & 41409 & 1201 & 0.6219035 & 1.05 & 2.983 & 37.2\\\\\n",
       "\t4 & 2001 & 0.7697252 & 1.460241 & 250135 & -0.645706 & 1.0612940 & 3.1205994 & 4366.66 & -0.911519 & -6.175 & ⋯ & 1 & 26317 &  67114 & 13670 & 26317 &    0 & 0.5084746 & 0.75 & 2.964 & 15.0\\\\\n",
       "\t5 & 2002 & 0.2079730 & 0.311760 & 100918 & -1.117230 & 0.1219010 & 0.1905980 & 1748.01 & -1.109550 & -6.050 & ⋯ & 1 & 40678 & 161079 & 22390 & 40678 &  247 & 0.5345502 & 0.80 & 2.779 & 44.9\\\\\n",
       "\t6 & 2003 & 0.6588100 & 1.278130 & 190735 & -1.047010 & 0.1797500 & 0.2424260 & 2701.45 & -1.177640 & -4.625 & ⋯ & 1 & 22816 & 100843 & 19630 & 22816 &  279 & 0.5084746 & 0.78 & 2.859 & 52.0\\\\\n",
       "\\end{tabular}\n"
      ],
      "text/markdown": [
       "\n",
       "A data.frame: 6 × 38\n",
       "\n",
       "| <!--/--> | year &lt;int&gt; | intP_RSP &lt;dbl&gt; | mnChl_aw_RSP &lt;dbl&gt; | mnOW_RSP &lt;int&gt; | nmSST_aw_RSP &lt;dbl&gt; | intP_MCM &lt;dbl&gt; | mnChl_aw_MCM &lt;dbl&gt; | mnOW_MCM &lt;dbl&gt; | nmSST_aw_MCM &lt;dbl&gt; | mnAirTemp &lt;dbl&gt; | ⋯ ⋯ | ICEBERG &lt;int&gt; | ADPE_BIRD &lt;int&gt; | ADPE_CROZ &lt;int&gt; | ADPE_RO &lt;int&gt; | BIRD &lt;int&gt; | EMPE &lt;int&gt; | WESE &lt;dbl&gt; | WESE_1 &lt;dbl&gt; | av_SIE &lt;dbl&gt; | FIE &lt;dbl&gt; |\n",
       "|---|---|---|---|---|---|---|---|---|---|---|---|---|---|---|---|---|---|---|---|---|---|\n",
       "| 1 | 1998 | 0.6511596 | 1.161487 | 250157 | -0.690398 | 0.7170871 | 1.2969463 | 4370.76 | -0.758259 | -5.650 | ⋯ | 0 | 38252 | 125441 | 34110 | 38252 | 1108 | 0.6388527 |   NA | 3.126 | 17.2 |\n",
       "| 2 | 1999 | 0.6556949 | 1.353060 | 218399 | -0.901666 | 0.7196705 | 1.5053741 | 4127.91 | -0.926631 | -5.900 | ⋯ | 0 | 47350 | 156441 | 36200 | 47350 |  798 | 0.6505867 |   NA | 3.269 | 31.0 |\n",
       "| 3 | 2000 | 0.5873935 | 1.098477 | 200943 | -0.924639 | 0.3527637 | 0.6385173 | 2959.68 | -1.109230 | -4.450 | ⋯ | 0 | 41409 |  89489 | 23630 | 41409 | 1201 | 0.6219035 | 1.05 | 2.983 | 37.2 |\n",
       "| 4 | 2001 | 0.7697252 | 1.460241 | 250135 | -0.645706 | 1.0612940 | 3.1205994 | 4366.66 | -0.911519 | -6.175 | ⋯ | 1 | 26317 |  67114 | 13670 | 26317 |    0 | 0.5084746 | 0.75 | 2.964 | 15.0 |\n",
       "| 5 | 2002 | 0.2079730 | 0.311760 | 100918 | -1.117230 | 0.1219010 | 0.1905980 | 1748.01 | -1.109550 | -6.050 | ⋯ | 1 | 40678 | 161079 | 22390 | 40678 |  247 | 0.5345502 | 0.80 | 2.779 | 44.9 |\n",
       "| 6 | 2003 | 0.6588100 | 1.278130 | 190735 | -1.047010 | 0.1797500 | 0.2424260 | 2701.45 | -1.177640 | -4.625 | ⋯ | 1 | 22816 | 100843 | 19630 | 22816 |  279 | 0.5084746 | 0.78 | 2.859 | 52.0 |\n",
       "\n"
      ],
      "text/plain": [
       "  year intP_RSP  mnChl_aw_RSP mnOW_RSP nmSST_aw_RSP intP_MCM  mnChl_aw_MCM\n",
       "1 1998 0.6511596 1.161487     250157   -0.690398    0.7170871 1.2969463   \n",
       "2 1999 0.6556949 1.353060     218399   -0.901666    0.7196705 1.5053741   \n",
       "3 2000 0.5873935 1.098477     200943   -0.924639    0.3527637 0.6385173   \n",
       "4 2001 0.7697252 1.460241     250135   -0.645706    1.0612940 3.1205994   \n",
       "5 2002 0.2079730 0.311760     100918   -1.117230    0.1219010 0.1905980   \n",
       "6 2003 0.6588100 1.278130     190735   -1.047010    0.1797500 0.2424260   \n",
       "  mnOW_MCM nmSST_aw_MCM mnAirTemp ⋯ ICEBERG ADPE_BIRD ADPE_CROZ ADPE_RO BIRD \n",
       "1 4370.76  -0.758259    -5.650    ⋯ 0       38252     125441    34110   38252\n",
       "2 4127.91  -0.926631    -5.900    ⋯ 0       47350     156441    36200   47350\n",
       "3 2959.68  -1.109230    -4.450    ⋯ 0       41409      89489    23630   41409\n",
       "4 4366.66  -0.911519    -6.175    ⋯ 1       26317      67114    13670   26317\n",
       "5 1748.01  -1.109550    -6.050    ⋯ 1       40678     161079    22390   40678\n",
       "6 2701.45  -1.177640    -4.625    ⋯ 1       22816     100843    19630   22816\n",
       "  EMPE WESE      WESE_1 av_SIE FIE \n",
       "1 1108 0.6388527   NA   3.126  17.2\n",
       "2  798 0.6505867   NA   3.269  31.0\n",
       "3 1201 0.6219035 1.05   2.983  37.2\n",
       "4    0 0.5084746 0.75   2.964  15.0\n",
       "5  247 0.5345502 0.80   2.779  44.9\n",
       "6  279 0.5084746 0.78   2.859  52.0"
      ]
     },
     "metadata": {},
     "output_type": "display_data"
    }
   ],
   "source": [
    "head(master)\n"
   ]
  },
  {
   "cell_type": "code",
   "execution_count": 780,
   "metadata": {},
   "outputs": [],
   "source": [
    "#calculating the annual percentage change for ADPE_CROZ\n",
    "master_gr <- master %>% mutate(growth_croz=log(ADPE_CROZ/lag(ADPE_CROZ)))\n",
    "master_gr$growth_croz<-ifelse(is.na(master_gr$growth_croz),0,master_gr$growth_croz)\n",
    "master_gr[1,\"growth_croz\"]<--0.2011873\n",
    "\n",
    "\n",
    "#taking out years before 2003#\n",
    "master_gr <- subset(master_gr, !year %in% c(1998:2002))\n"
   ]
  },
  {
   "cell_type": "code",
   "execution_count": 781,
   "metadata": {},
   "outputs": [],
   "source": [
    "#taking out iceberg years#\n",
    "master_gr1 <- subset(master_gr, !year %in% c(2001:2005))"
   ]
  },
  {
   "cell_type": "markdown",
   "metadata": {},
   "source": [
    "# Including LAGS"
   ]
  },
  {
   "cell_type": "code",
   "execution_count": 782,
   "metadata": {},
   "outputs": [],
   "source": [
    "master_gr$mnOW_RSP6<- master_gr$mnOW_RSP/10^6"
   ]
  },
  {
   "cell_type": "code",
   "execution_count": 783,
   "metadata": {},
   "outputs": [],
   "source": [
    "#lag 5 years SIE\n",
    "master_gr <- master_gr %>% mutate(SIE_lag5 = lag(av_SIE,5))\n",
    "master_gr[5,\"SIE_lag5\"]<-2.703\n",
    "master_gr[4,\"SIE_lag5\"]<-3.123\n",
    "master_gr[3,\"SIE_lag5\"]<-2.731\n",
    "master_gr[2,\"SIE_lag5\"]<-2.767\n",
    "master_gr[1,\"SIE_lag5\"]<-2.60\n",
    "\n",
    "#lag 4 years SIE\n",
    "master_gr <- master_gr %>% mutate(SIE_lag4 = lag(av_SIE,4))\n",
    "master_gr[4,\"SIE_lag4\"]<-2.703\n",
    "master_gr[3,\"SIE_lag4\"]<-3.123\n",
    "master_gr[2,\"SIE_lag4\"]<-2.731\n",
    "master_gr[1,\"SIE_lag4\"]<-2.767\n",
    "\n",
    "\n",
    "#lag 4 years Gyre\n",
    "master_gr <- master_gr %>% mutate(GyreSPD_lag4 = lag(GyreSPD,4))\n",
    "master_gr[4,\"GyreSPD_lag4\"]<-6.2\n",
    "master_gr[3,\"GyreSPD_lag4\"]<-6.3\n",
    "master_gr[2,\"GyreSPD_lag4\"]<-5.7\n",
    "master_gr[1,\"GyreSPD_lag4\"]<-5.8\n",
    "\n",
    "#lag 5 years Gyre\n",
    "master_gr <- master_gr %>% mutate(GyreSPD_lag5 = lag(GyreSPD,5))\n",
    "master_gr[5,\"GyreSPD_lag5\"]<-6.2\n",
    "master_gr[4,\"GyreSPD_lag5\"]<-6.3\n",
    "master_gr[3,\"GyreSPD_lag5\"]<-5.7\n",
    "master_gr[2,\"GyreSPD_lag5\"]<-5.8\n",
    "master_gr[1,\"GyreSPD_lag5\"]<-5.0\n",
    "\n",
    "#lag 5 years Air Temp\n",
    "master_gr <- master_gr %>% mutate(mnAirTemp_lag5 = lag(mnAirTemp,5))\n",
    "master_gr[5,\"mnAirTemp_lag5\"]<--5.6\n",
    "master_gr[4,\"mnAirTemp_lag5\"]<--4.5\n",
    "master_gr[3,\"mnAirTemp_lag5\"]<--5.2\n",
    "master_gr[2,\"mnAirTemp_lag5\"]<--7.7\n",
    "master_gr[1,\"mnAirTemp_lag5\"]<--4.2\n",
    "\n",
    "#lag 4 years Air Temp\n",
    "master_gr <- master_gr %>% mutate(mnAirTemp_lag4 = lag(mnAirTemp,4))\n",
    "master_gr[4,\"mnAirTemp_lag4\"]<--5.6\n",
    "master_gr[3,\"mnAirTemp_lag4\"]<--4.5\n",
    "master_gr[2,\"mnAirTemp_lag4\"]<--5.2\n",
    "master_gr[1,\"mnAirTemp_lag4\"]<--7.7\n",
    "\n",
    "#lag 5 years SST\n",
    "master_gr <- master_gr %>% mutate(nmSST_aw_RSP_lag5 = lag(nmSST_aw_RSP,5))\n",
    "master_gr[5,\"nmSST_aw_RSP_lag5\"]<--1.11723\n",
    "master_gr[4,\"nmSST_aw_RSP_lag5\"]<--0.645706\n",
    "master_gr[3,\"nmSST_aw_RSP_lag5\"]<--0.924639\n",
    "master_gr[2,\"nmSST_aw_RSP_lag5\"]<--0.901666\n",
    "master_gr[1,\"nmSST_aw_RSP_lag5\"]<--0.690398\n",
    "\n",
    "#lag 4 years SST\n",
    "master_gr <- master_gr %>% mutate(nmSST_aw_RSP_lag4 = lag(nmSST_aw_RSP,4))\n",
    "master_gr[4,\"nmSST_aw_RSP_lag4\"]<--1.11723\n",
    "master_gr[3,\"nmSST_aw_RSP_lag4\"]<--0.645706\n",
    "master_gr[2,\"nmSST_aw_RSP_lag4\"]<--0.924639\n",
    "master_gr[1,\"nmSST_aw_RSP_lag4\"]<--0.901666\n",
    "\n",
    "#lag 5 years Wind\n",
    "master_gr <- master_gr %>% mutate(mnWind_lag5 = lag(mnWind,5))\n",
    "master_gr[5,\"mnWind_lag5\"]<-8.8\n",
    "master_gr[4,\"mnWind_lag5\"]<-8.6\n",
    "master_gr[3,\"mnWind_lag5\"]<-7.8\n",
    "master_gr[2,\"mnWind_lag5\"]<-7.8\n",
    "master_gr[1,\"mnWind_lag5\"]<-7.8\n",
    "\n",
    "#lag 4 years Wind\n",
    "master_gr <- master_gr %>% mutate(mnWind_lag4 = lag(mnWind,4))\n",
    "master_gr[4,\"mnWind_lag4\"]<-8.8\n",
    "master_gr[3,\"mnWind_lag4\"]<-8.6\n",
    "master_gr[2,\"mnWind_lag4\"]<-7.8\n",
    "master_gr[1,\"mnWind_lag4\"]<-7.8\n",
    "\n",
    "#mnOW_RSP6\n",
    "master_gr$mnOW_RSP6<- master_gr$mnOW_RSP/10^6\n",
    "\n",
    "#lag 5 years mnOW_RSP6\n",
    "master_gr <- master_gr %>% mutate(mnOW_RSP6_lag5 = lag(mnOW_RSP6,5))\n",
    "master_gr[5,\"mnOW_RSP6_lag5\"]<-100918/10^6\n",
    "master_gr[4,\"mnOW_RSP6_lag5\"]<-250135/10^6\n",
    "master_gr[3,\"mnOW_RSP6_lag5\"]<-200943/10^6\n",
    "master_gr[2,\"mnOW_RSP6_lag5\"]<-218399/10^6\n",
    "master_gr[1,\"mnOW_RSP6_lag5\"]<-250157/10^6\n",
    "\n",
    "#lag 4 years mnOW_RSP6\n",
    "master_gr <- master_gr %>% mutate(mnOW_RSP6_lag4 = lag(mnOW_RSP6,4))\n",
    "master_gr[4,\"mnOW_RSP6_lag4\"]<-100918/10^6\n",
    "master_gr[3,\"mnOW_RSP6_lag4\"]<-250135/10^6\n",
    "master_gr[2,\"mnOW_RSP6_lag4\"]<-200943/10^6\n",
    "master_gr[1,\"mnOW_RSP6_lag4\"]<-218399/10^6\n",
    "\n",
    "#lag 4 years OW_days_RSP\n",
    "master_gr <- master_gr %>% mutate(OW_day_RSPlag4 = lag(OW_day_RSP,4))\n",
    "master_gr[4,\"OW_day_RSPlag4\"]<-9\n",
    "master_gr[3,\"OW_day_RSPlag4\"]<-2\n",
    "master_gr[2,\"OW_day_RSPlag4\"]<-4\n",
    "master_gr[1,\"OW_day_RSPlag4\"]<-8\n",
    "\n",
    "#lag 4 years OW_days_MCM\n",
    "master_gr <- master_gr %>% mutate(OW_day_MCMlag4 = lag(logOW_day_MCM,4))\n",
    "master_gr[4,\"OW_day_MCMlag4\"]<-5.308267697\n",
    "master_gr[3,\"OW_day_MCMlag4\"]<-4.912654886\n",
    "master_gr[2,\"OW_day_MCMlag4\"]<-5.209486153\n",
    "master_gr[1,\"OW_day_MCMlag4\"]<-5.220355825\n"
   ]
  },
  {
   "cell_type": "code",
   "execution_count": 784,
   "metadata": {},
   "outputs": [
    {
     "data": {
      "text/html": [
       "<table>\n",
       "<caption>A data.frame: 17 × 54</caption>\n",
       "<thead>\n",
       "\t<tr><th scope=col>year</th><th scope=col>intP_RSP</th><th scope=col>mnChl_aw_RSP</th><th scope=col>mnOW_RSP</th><th scope=col>nmSST_aw_RSP</th><th scope=col>intP_MCM</th><th scope=col>mnChl_aw_MCM</th><th scope=col>mnOW_MCM</th><th scope=col>nmSST_aw_MCM</th><th scope=col>mnAirTemp</th><th scope=col>⋯</th><th scope=col>mnAirTemp_lag5</th><th scope=col>mnAirTemp_lag4</th><th scope=col>nmSST_aw_RSP_lag5</th><th scope=col>nmSST_aw_RSP_lag4</th><th scope=col>mnWind_lag5</th><th scope=col>mnWind_lag4</th><th scope=col>mnOW_RSP6_lag5</th><th scope=col>mnOW_RSP6_lag4</th><th scope=col>OW_day_RSPlag4</th><th scope=col>OW_day_MCMlag4</th></tr>\n",
       "\t<tr><th scope=col>&lt;int&gt;</th><th scope=col>&lt;dbl&gt;</th><th scope=col>&lt;dbl&gt;</th><th scope=col>&lt;int&gt;</th><th scope=col>&lt;dbl&gt;</th><th scope=col>&lt;dbl&gt;</th><th scope=col>&lt;dbl&gt;</th><th scope=col>&lt;dbl&gt;</th><th scope=col>&lt;dbl&gt;</th><th scope=col>&lt;dbl&gt;</th><th scope=col>⋯</th><th scope=col>&lt;dbl&gt;</th><th scope=col>&lt;dbl&gt;</th><th scope=col>&lt;dbl&gt;</th><th scope=col>&lt;dbl&gt;</th><th scope=col>&lt;dbl&gt;</th><th scope=col>&lt;dbl&gt;</th><th scope=col>&lt;dbl&gt;</th><th scope=col>&lt;dbl&gt;</th><th scope=col>&lt;dbl&gt;</th><th scope=col>&lt;dbl&gt;</th></tr>\n",
       "</thead>\n",
       "<tbody>\n",
       "\t<tr><td>2003</td><td>0.658810</td><td>1.278130</td><td>190735</td><td>-1.047010</td><td>0.1797500</td><td>0.2424260</td><td>2701.45</td><td>-1.177640</td><td>-4.625</td><td>⋯</td><td>-4.200</td><td>-7.700</td><td>-0.690398</td><td>-0.901666</td><td>7.8</td><td> 7.8</td><td>0.250157</td><td>0.218399</td><td> 8</td><td>5.220356</td></tr>\n",
       "\t<tr><td>2004</td><td>0.659537</td><td>1.201000</td><td>268734</td><td>-0.546599</td><td>0.0595893</td><td>0.0920093</td><td>1115.63</td><td>-1.394120</td><td>-5.000</td><td>⋯</td><td>-7.700</td><td>-5.200</td><td>-0.901666</td><td>-0.924639</td><td>7.8</td><td> 7.8</td><td>0.218399</td><td>0.200943</td><td> 4</td><td>5.209486</td></tr>\n",
       "\t<tr><td>2005</td><td>0.617897</td><td>1.116710</td><td>236044</td><td>-0.551816</td><td>0.2451990</td><td>0.5341190</td><td>3630.16</td><td>-1.099050</td><td>-5.250</td><td>⋯</td><td>-5.200</td><td>-4.500</td><td>-0.924639</td><td>-0.645706</td><td>7.8</td><td> 8.6</td><td>0.200943</td><td>0.250135</td><td> 2</td><td>4.912655</td></tr>\n",
       "\t<tr><td>2006</td><td>0.673591</td><td>1.344420</td><td>218199</td><td>-0.970962</td><td>0.3927390</td><td>0.5908280</td><td>4718.94</td><td>-0.954533</td><td>-6.000</td><td>⋯</td><td>-4.500</td><td>-5.600</td><td>-0.645706</td><td>-1.117230</td><td>8.6</td><td> 8.8</td><td>0.250135</td><td>0.100918</td><td> 9</td><td>5.308268</td></tr>\n",
       "\t<tr><td>2007</td><td>0.543325</td><td>1.170400</td><td>188097</td><td>-1.006890</td><td>0.3533950</td><td>0.6396110</td><td>3903.53</td><td>-1.064650</td><td>-6.800</td><td>⋯</td><td>-5.600</td><td>-4.625</td><td>-1.117230</td><td>-1.047010</td><td>8.8</td><td> 8.6</td><td>0.100918</td><td>0.190735</td><td>12</td><td>0.000000</td></tr>\n",
       "\t<tr><td>2008</td><td>0.525248</td><td>0.962226</td><td>241795</td><td>-0.846050</td><td>0.2566900</td><td>0.5890600</td><td>1968.25</td><td>-1.173800</td><td>-5.025</td><td>⋯</td><td>-4.625</td><td>-5.000</td><td>-1.047010</td><td>-0.546599</td><td>8.6</td><td> 8.4</td><td>0.190735</td><td>0.268734</td><td> 2</td><td>4.644391</td></tr>\n",
       "\t<tr><td>2009</td><td>0.739713</td><td>1.811370</td><td>227884</td><td>-0.983647</td><td>0.4709990</td><td>1.1855100</td><td>5003.04</td><td>-0.939651</td><td>-5.475</td><td>⋯</td><td>-5.000</td><td>-5.250</td><td>-0.546599</td><td>-0.551816</td><td>8.4</td><td> 8.8</td><td>0.268734</td><td>0.236044</td><td> 3</td><td>5.407172</td></tr>\n",
       "\t<tr><td>2010</td><td>0.658263</td><td>1.361110</td><td>254659</td><td>-0.702852</td><td>0.6655190</td><td>1.6221900</td><td>4676.62</td><td>-0.910408</td><td>-4.800</td><td>⋯</td><td>-5.250</td><td>-6.000</td><td>-0.551816</td><td>-0.970962</td><td>8.8</td><td> 8.8</td><td>0.236044</td><td>0.218199</td><td> 6</td><td>5.192957</td></tr>\n",
       "\t<tr><td>2011</td><td>0.530627</td><td>0.988240</td><td>238928</td><td>-1.043260</td><td>0.3446910</td><td>0.5803630</td><td>3446.75</td><td>-1.145310</td><td>-4.475</td><td>⋯</td><td>-6.000</td><td>-6.800</td><td>-0.970962</td><td>-1.006890</td><td>8.8</td><td> 9.4</td><td>0.218199</td><td>0.188097</td><td>17</td><td>5.262690</td></tr>\n",
       "\t<tr><td>2012</td><td>0.619356</td><td>1.160120</td><td>224013</td><td>-0.806416</td><td>0.5633720</td><td>1.5237500</td><td>3799.97</td><td>-1.007750</td><td>-4.325</td><td>⋯</td><td>-6.800</td><td>-5.025</td><td>-1.006890</td><td>-0.846050</td><td>9.4</td><td> 8.2</td><td>0.188097</td><td>0.241795</td><td> 8</td><td>5.370638</td></tr>\n",
       "\t<tr><td>2013</td><td>0.480733</td><td>0.760245</td><td>260754</td><td>-0.548099</td><td>0.5862910</td><td>1.1578700</td><td>4809.29</td><td>-0.529366</td><td>-5.475</td><td>⋯</td><td>-5.025</td><td>-5.475</td><td>-0.846050</td><td>-0.983647</td><td>8.2</td><td> 9.2</td><td>0.241795</td><td>0.227884</td><td> 3</td><td>4.955827</td></tr>\n",
       "\t<tr><td>2014</td><td>0.469865</td><td>1.010510</td><td>184900</td><td>-0.946211</td><td>0.2947150</td><td>0.6039610</td><td>3855.74</td><td>-0.991542</td><td>-5.425</td><td>⋯</td><td>-5.475</td><td>-4.800</td><td>-0.983647</td><td>-0.702852</td><td>9.2</td><td> 8.8</td><td>0.227884</td><td>0.254659</td><td> 5</td><td>5.030438</td></tr>\n",
       "\t<tr><td>2015</td><td>0.550999</td><td>1.069580</td><td>238508</td><td>-0.828653</td><td>0.6110260</td><td>1.3640600</td><td>4850.60</td><td>-0.801907</td><td>-5.275</td><td>⋯</td><td>-4.800</td><td>-4.475</td><td>-0.702852</td><td>-1.043260</td><td>8.8</td><td> 8.6</td><td>0.254659</td><td>0.238928</td><td> 3</td><td>5.342334</td></tr>\n",
       "\t<tr><td>2016</td><td>0.715440</td><td>1.582850</td><td>235490</td><td>-0.661670</td><td>0.4544810</td><td>0.9937190</td><td>2029.15</td><td>-1.027590</td><td>-6.175</td><td>⋯</td><td>-4.475</td><td>-4.325</td><td>-1.043260</td><td>-0.806416</td><td>8.6</td><td> 8.0</td><td>0.238928</td><td>0.224013</td><td> 5</td><td>5.293305</td></tr>\n",
       "\t<tr><td>2017</td><td>0.345075</td><td>0.608589</td><td>263830</td><td>-0.720451</td><td>0.2543610</td><td>0.4013860</td><td>3262.14</td><td>-1.148770</td><td>-4.700</td><td>⋯</td><td>-4.325</td><td>-5.475</td><td>-0.806416</td><td>-0.548099</td><td>8.0</td><td> 8.8</td><td>0.224013</td><td>0.260754</td><td> 3</td><td>4.976734</td></tr>\n",
       "\t<tr><td>2018</td><td>0.430345</td><td>0.787736</td><td>245847</td><td>-0.820266</td><td>0.4504050</td><td>1.0538200</td><td>4958.09</td><td>-1.057240</td><td>-4.700</td><td>⋯</td><td>-5.475</td><td>-5.425</td><td>-0.548099</td><td>-0.946211</td><td>8.8</td><td> 9.2</td><td>0.260754</td><td>0.184900</td><td>23</td><td>5.298317</td></tr>\n",
       "\t<tr><td>2019</td><td>      NA</td><td>      NA</td><td>    NA</td><td>       NA</td><td>       NA</td><td>       NA</td><td>     NA</td><td>       NA</td><td>    NA</td><td>⋯</td><td>-5.425</td><td>-5.275</td><td>-0.946211</td><td>-0.828653</td><td>9.2</td><td>10.4</td><td>0.184900</td><td>0.238508</td><td> 7</td><td>5.056246</td></tr>\n",
       "</tbody>\n",
       "</table>\n"
      ],
      "text/latex": [
       "A data.frame: 17 × 54\n",
       "\\begin{tabular}{lllllllllllllllllllll}\n",
       " year & intP\\_RSP & mnChl\\_aw\\_RSP & mnOW\\_RSP & nmSST\\_aw\\_RSP & intP\\_MCM & mnChl\\_aw\\_MCM & mnOW\\_MCM & nmSST\\_aw\\_MCM & mnAirTemp & ⋯ & mnAirTemp\\_lag5 & mnAirTemp\\_lag4 & nmSST\\_aw\\_RSP\\_lag5 & nmSST\\_aw\\_RSP\\_lag4 & mnWind\\_lag5 & mnWind\\_lag4 & mnOW\\_RSP6\\_lag5 & mnOW\\_RSP6\\_lag4 & OW\\_day\\_RSPlag4 & OW\\_day\\_MCMlag4\\\\\n",
       " <int> & <dbl> & <dbl> & <int> & <dbl> & <dbl> & <dbl> & <dbl> & <dbl> & <dbl> & ⋯ & <dbl> & <dbl> & <dbl> & <dbl> & <dbl> & <dbl> & <dbl> & <dbl> & <dbl> & <dbl>\\\\\n",
       "\\hline\n",
       "\t 2003 & 0.658810 & 1.278130 & 190735 & -1.047010 & 0.1797500 & 0.2424260 & 2701.45 & -1.177640 & -4.625 & ⋯ & -4.200 & -7.700 & -0.690398 & -0.901666 & 7.8 &  7.8 & 0.250157 & 0.218399 &  8 & 5.220356\\\\\n",
       "\t 2004 & 0.659537 & 1.201000 & 268734 & -0.546599 & 0.0595893 & 0.0920093 & 1115.63 & -1.394120 & -5.000 & ⋯ & -7.700 & -5.200 & -0.901666 & -0.924639 & 7.8 &  7.8 & 0.218399 & 0.200943 &  4 & 5.209486\\\\\n",
       "\t 2005 & 0.617897 & 1.116710 & 236044 & -0.551816 & 0.2451990 & 0.5341190 & 3630.16 & -1.099050 & -5.250 & ⋯ & -5.200 & -4.500 & -0.924639 & -0.645706 & 7.8 &  8.6 & 0.200943 & 0.250135 &  2 & 4.912655\\\\\n",
       "\t 2006 & 0.673591 & 1.344420 & 218199 & -0.970962 & 0.3927390 & 0.5908280 & 4718.94 & -0.954533 & -6.000 & ⋯ & -4.500 & -5.600 & -0.645706 & -1.117230 & 8.6 &  8.8 & 0.250135 & 0.100918 &  9 & 5.308268\\\\\n",
       "\t 2007 & 0.543325 & 1.170400 & 188097 & -1.006890 & 0.3533950 & 0.6396110 & 3903.53 & -1.064650 & -6.800 & ⋯ & -5.600 & -4.625 & -1.117230 & -1.047010 & 8.8 &  8.6 & 0.100918 & 0.190735 & 12 & 0.000000\\\\\n",
       "\t 2008 & 0.525248 & 0.962226 & 241795 & -0.846050 & 0.2566900 & 0.5890600 & 1968.25 & -1.173800 & -5.025 & ⋯ & -4.625 & -5.000 & -1.047010 & -0.546599 & 8.6 &  8.4 & 0.190735 & 0.268734 &  2 & 4.644391\\\\\n",
       "\t 2009 & 0.739713 & 1.811370 & 227884 & -0.983647 & 0.4709990 & 1.1855100 & 5003.04 & -0.939651 & -5.475 & ⋯ & -5.000 & -5.250 & -0.546599 & -0.551816 & 8.4 &  8.8 & 0.268734 & 0.236044 &  3 & 5.407172\\\\\n",
       "\t 2010 & 0.658263 & 1.361110 & 254659 & -0.702852 & 0.6655190 & 1.6221900 & 4676.62 & -0.910408 & -4.800 & ⋯ & -5.250 & -6.000 & -0.551816 & -0.970962 & 8.8 &  8.8 & 0.236044 & 0.218199 &  6 & 5.192957\\\\\n",
       "\t 2011 & 0.530627 & 0.988240 & 238928 & -1.043260 & 0.3446910 & 0.5803630 & 3446.75 & -1.145310 & -4.475 & ⋯ & -6.000 & -6.800 & -0.970962 & -1.006890 & 8.8 &  9.4 & 0.218199 & 0.188097 & 17 & 5.262690\\\\\n",
       "\t 2012 & 0.619356 & 1.160120 & 224013 & -0.806416 & 0.5633720 & 1.5237500 & 3799.97 & -1.007750 & -4.325 & ⋯ & -6.800 & -5.025 & -1.006890 & -0.846050 & 9.4 &  8.2 & 0.188097 & 0.241795 &  8 & 5.370638\\\\\n",
       "\t 2013 & 0.480733 & 0.760245 & 260754 & -0.548099 & 0.5862910 & 1.1578700 & 4809.29 & -0.529366 & -5.475 & ⋯ & -5.025 & -5.475 & -0.846050 & -0.983647 & 8.2 &  9.2 & 0.241795 & 0.227884 &  3 & 4.955827\\\\\n",
       "\t 2014 & 0.469865 & 1.010510 & 184900 & -0.946211 & 0.2947150 & 0.6039610 & 3855.74 & -0.991542 & -5.425 & ⋯ & -5.475 & -4.800 & -0.983647 & -0.702852 & 9.2 &  8.8 & 0.227884 & 0.254659 &  5 & 5.030438\\\\\n",
       "\t 2015 & 0.550999 & 1.069580 & 238508 & -0.828653 & 0.6110260 & 1.3640600 & 4850.60 & -0.801907 & -5.275 & ⋯ & -4.800 & -4.475 & -0.702852 & -1.043260 & 8.8 &  8.6 & 0.254659 & 0.238928 &  3 & 5.342334\\\\\n",
       "\t 2016 & 0.715440 & 1.582850 & 235490 & -0.661670 & 0.4544810 & 0.9937190 & 2029.15 & -1.027590 & -6.175 & ⋯ & -4.475 & -4.325 & -1.043260 & -0.806416 & 8.6 &  8.0 & 0.238928 & 0.224013 &  5 & 5.293305\\\\\n",
       "\t 2017 & 0.345075 & 0.608589 & 263830 & -0.720451 & 0.2543610 & 0.4013860 & 3262.14 & -1.148770 & -4.700 & ⋯ & -4.325 & -5.475 & -0.806416 & -0.548099 & 8.0 &  8.8 & 0.224013 & 0.260754 &  3 & 4.976734\\\\\n",
       "\t 2018 & 0.430345 & 0.787736 & 245847 & -0.820266 & 0.4504050 & 1.0538200 & 4958.09 & -1.057240 & -4.700 & ⋯ & -5.475 & -5.425 & -0.548099 & -0.946211 & 8.8 &  9.2 & 0.260754 & 0.184900 & 23 & 5.298317\\\\\n",
       "\t 2019 &       NA &       NA &     NA &        NA &        NA &        NA &      NA &        NA &     NA & ⋯ & -5.425 & -5.275 & -0.946211 & -0.828653 & 9.2 & 10.4 & 0.184900 & 0.238508 &  7 & 5.056246\\\\\n",
       "\\end{tabular}\n"
      ],
      "text/markdown": [
       "\n",
       "A data.frame: 17 × 54\n",
       "\n",
       "| year &lt;int&gt; | intP_RSP &lt;dbl&gt; | mnChl_aw_RSP &lt;dbl&gt; | mnOW_RSP &lt;int&gt; | nmSST_aw_RSP &lt;dbl&gt; | intP_MCM &lt;dbl&gt; | mnChl_aw_MCM &lt;dbl&gt; | mnOW_MCM &lt;dbl&gt; | nmSST_aw_MCM &lt;dbl&gt; | mnAirTemp &lt;dbl&gt; | ⋯ ⋯ | mnAirTemp_lag5 &lt;dbl&gt; | mnAirTemp_lag4 &lt;dbl&gt; | nmSST_aw_RSP_lag5 &lt;dbl&gt; | nmSST_aw_RSP_lag4 &lt;dbl&gt; | mnWind_lag5 &lt;dbl&gt; | mnWind_lag4 &lt;dbl&gt; | mnOW_RSP6_lag5 &lt;dbl&gt; | mnOW_RSP6_lag4 &lt;dbl&gt; | OW_day_RSPlag4 &lt;dbl&gt; | OW_day_MCMlag4 &lt;dbl&gt; |\n",
       "|---|---|---|---|---|---|---|---|---|---|---|---|---|---|---|---|---|---|---|---|---|\n",
       "| 2003 | 0.658810 | 1.278130 | 190735 | -1.047010 | 0.1797500 | 0.2424260 | 2701.45 | -1.177640 | -4.625 | ⋯ | -4.200 | -7.700 | -0.690398 | -0.901666 | 7.8 |  7.8 | 0.250157 | 0.218399 |  8 | 5.220356 |\n",
       "| 2004 | 0.659537 | 1.201000 | 268734 | -0.546599 | 0.0595893 | 0.0920093 | 1115.63 | -1.394120 | -5.000 | ⋯ | -7.700 | -5.200 | -0.901666 | -0.924639 | 7.8 |  7.8 | 0.218399 | 0.200943 |  4 | 5.209486 |\n",
       "| 2005 | 0.617897 | 1.116710 | 236044 | -0.551816 | 0.2451990 | 0.5341190 | 3630.16 | -1.099050 | -5.250 | ⋯ | -5.200 | -4.500 | -0.924639 | -0.645706 | 7.8 |  8.6 | 0.200943 | 0.250135 |  2 | 4.912655 |\n",
       "| 2006 | 0.673591 | 1.344420 | 218199 | -0.970962 | 0.3927390 | 0.5908280 | 4718.94 | -0.954533 | -6.000 | ⋯ | -4.500 | -5.600 | -0.645706 | -1.117230 | 8.6 |  8.8 | 0.250135 | 0.100918 |  9 | 5.308268 |\n",
       "| 2007 | 0.543325 | 1.170400 | 188097 | -1.006890 | 0.3533950 | 0.6396110 | 3903.53 | -1.064650 | -6.800 | ⋯ | -5.600 | -4.625 | -1.117230 | -1.047010 | 8.8 |  8.6 | 0.100918 | 0.190735 | 12 | 0.000000 |\n",
       "| 2008 | 0.525248 | 0.962226 | 241795 | -0.846050 | 0.2566900 | 0.5890600 | 1968.25 | -1.173800 | -5.025 | ⋯ | -4.625 | -5.000 | -1.047010 | -0.546599 | 8.6 |  8.4 | 0.190735 | 0.268734 |  2 | 4.644391 |\n",
       "| 2009 | 0.739713 | 1.811370 | 227884 | -0.983647 | 0.4709990 | 1.1855100 | 5003.04 | -0.939651 | -5.475 | ⋯ | -5.000 | -5.250 | -0.546599 | -0.551816 | 8.4 |  8.8 | 0.268734 | 0.236044 |  3 | 5.407172 |\n",
       "| 2010 | 0.658263 | 1.361110 | 254659 | -0.702852 | 0.6655190 | 1.6221900 | 4676.62 | -0.910408 | -4.800 | ⋯ | -5.250 | -6.000 | -0.551816 | -0.970962 | 8.8 |  8.8 | 0.236044 | 0.218199 |  6 | 5.192957 |\n",
       "| 2011 | 0.530627 | 0.988240 | 238928 | -1.043260 | 0.3446910 | 0.5803630 | 3446.75 | -1.145310 | -4.475 | ⋯ | -6.000 | -6.800 | -0.970962 | -1.006890 | 8.8 |  9.4 | 0.218199 | 0.188097 | 17 | 5.262690 |\n",
       "| 2012 | 0.619356 | 1.160120 | 224013 | -0.806416 | 0.5633720 | 1.5237500 | 3799.97 | -1.007750 | -4.325 | ⋯ | -6.800 | -5.025 | -1.006890 | -0.846050 | 9.4 |  8.2 | 0.188097 | 0.241795 |  8 | 5.370638 |\n",
       "| 2013 | 0.480733 | 0.760245 | 260754 | -0.548099 | 0.5862910 | 1.1578700 | 4809.29 | -0.529366 | -5.475 | ⋯ | -5.025 | -5.475 | -0.846050 | -0.983647 | 8.2 |  9.2 | 0.241795 | 0.227884 |  3 | 4.955827 |\n",
       "| 2014 | 0.469865 | 1.010510 | 184900 | -0.946211 | 0.2947150 | 0.6039610 | 3855.74 | -0.991542 | -5.425 | ⋯ | -5.475 | -4.800 | -0.983647 | -0.702852 | 9.2 |  8.8 | 0.227884 | 0.254659 |  5 | 5.030438 |\n",
       "| 2015 | 0.550999 | 1.069580 | 238508 | -0.828653 | 0.6110260 | 1.3640600 | 4850.60 | -0.801907 | -5.275 | ⋯ | -4.800 | -4.475 | -0.702852 | -1.043260 | 8.8 |  8.6 | 0.254659 | 0.238928 |  3 | 5.342334 |\n",
       "| 2016 | 0.715440 | 1.582850 | 235490 | -0.661670 | 0.4544810 | 0.9937190 | 2029.15 | -1.027590 | -6.175 | ⋯ | -4.475 | -4.325 | -1.043260 | -0.806416 | 8.6 |  8.0 | 0.238928 | 0.224013 |  5 | 5.293305 |\n",
       "| 2017 | 0.345075 | 0.608589 | 263830 | -0.720451 | 0.2543610 | 0.4013860 | 3262.14 | -1.148770 | -4.700 | ⋯ | -4.325 | -5.475 | -0.806416 | -0.548099 | 8.0 |  8.8 | 0.224013 | 0.260754 |  3 | 4.976734 |\n",
       "| 2018 | 0.430345 | 0.787736 | 245847 | -0.820266 | 0.4504050 | 1.0538200 | 4958.09 | -1.057240 | -4.700 | ⋯ | -5.475 | -5.425 | -0.548099 | -0.946211 | 8.8 |  9.2 | 0.260754 | 0.184900 | 23 | 5.298317 |\n",
       "| 2019 |       NA |       NA |     NA |        NA |        NA |        NA |      NA |        NA |     NA | ⋯ | -5.425 | -5.275 | -0.946211 | -0.828653 | 9.2 | 10.4 | 0.184900 | 0.238508 |  7 | 5.056246 |\n",
       "\n"
      ],
      "text/plain": [
       "   year intP_RSP mnChl_aw_RSP mnOW_RSP nmSST_aw_RSP intP_MCM  mnChl_aw_MCM\n",
       "1  2003 0.658810 1.278130     190735   -1.047010    0.1797500 0.2424260   \n",
       "2  2004 0.659537 1.201000     268734   -0.546599    0.0595893 0.0920093   \n",
       "3  2005 0.617897 1.116710     236044   -0.551816    0.2451990 0.5341190   \n",
       "4  2006 0.673591 1.344420     218199   -0.970962    0.3927390 0.5908280   \n",
       "5  2007 0.543325 1.170400     188097   -1.006890    0.3533950 0.6396110   \n",
       "6  2008 0.525248 0.962226     241795   -0.846050    0.2566900 0.5890600   \n",
       "7  2009 0.739713 1.811370     227884   -0.983647    0.4709990 1.1855100   \n",
       "8  2010 0.658263 1.361110     254659   -0.702852    0.6655190 1.6221900   \n",
       "9  2011 0.530627 0.988240     238928   -1.043260    0.3446910 0.5803630   \n",
       "10 2012 0.619356 1.160120     224013   -0.806416    0.5633720 1.5237500   \n",
       "11 2013 0.480733 0.760245     260754   -0.548099    0.5862910 1.1578700   \n",
       "12 2014 0.469865 1.010510     184900   -0.946211    0.2947150 0.6039610   \n",
       "13 2015 0.550999 1.069580     238508   -0.828653    0.6110260 1.3640600   \n",
       "14 2016 0.715440 1.582850     235490   -0.661670    0.4544810 0.9937190   \n",
       "15 2017 0.345075 0.608589     263830   -0.720451    0.2543610 0.4013860   \n",
       "16 2018 0.430345 0.787736     245847   -0.820266    0.4504050 1.0538200   \n",
       "17 2019       NA       NA         NA          NA           NA        NA   \n",
       "   mnOW_MCM nmSST_aw_MCM mnAirTemp ⋯ mnAirTemp_lag5 mnAirTemp_lag4\n",
       "1  2701.45  -1.177640    -4.625    ⋯ -4.200         -7.700        \n",
       "2  1115.63  -1.394120    -5.000    ⋯ -7.700         -5.200        \n",
       "3  3630.16  -1.099050    -5.250    ⋯ -5.200         -4.500        \n",
       "4  4718.94  -0.954533    -6.000    ⋯ -4.500         -5.600        \n",
       "5  3903.53  -1.064650    -6.800    ⋯ -5.600         -4.625        \n",
       "6  1968.25  -1.173800    -5.025    ⋯ -4.625         -5.000        \n",
       "7  5003.04  -0.939651    -5.475    ⋯ -5.000         -5.250        \n",
       "8  4676.62  -0.910408    -4.800    ⋯ -5.250         -6.000        \n",
       "9  3446.75  -1.145310    -4.475    ⋯ -6.000         -6.800        \n",
       "10 3799.97  -1.007750    -4.325    ⋯ -6.800         -5.025        \n",
       "11 4809.29  -0.529366    -5.475    ⋯ -5.025         -5.475        \n",
       "12 3855.74  -0.991542    -5.425    ⋯ -5.475         -4.800        \n",
       "13 4850.60  -0.801907    -5.275    ⋯ -4.800         -4.475        \n",
       "14 2029.15  -1.027590    -6.175    ⋯ -4.475         -4.325        \n",
       "15 3262.14  -1.148770    -4.700    ⋯ -4.325         -5.475        \n",
       "16 4958.09  -1.057240    -4.700    ⋯ -5.475         -5.425        \n",
       "17      NA         NA        NA    ⋯ -5.425         -5.275        \n",
       "   nmSST_aw_RSP_lag5 nmSST_aw_RSP_lag4 mnWind_lag5 mnWind_lag4 mnOW_RSP6_lag5\n",
       "1  -0.690398         -0.901666         7.8          7.8        0.250157      \n",
       "2  -0.901666         -0.924639         7.8          7.8        0.218399      \n",
       "3  -0.924639         -0.645706         7.8          8.6        0.200943      \n",
       "4  -0.645706         -1.117230         8.6          8.8        0.250135      \n",
       "5  -1.117230         -1.047010         8.8          8.6        0.100918      \n",
       "6  -1.047010         -0.546599         8.6          8.4        0.190735      \n",
       "7  -0.546599         -0.551816         8.4          8.8        0.268734      \n",
       "8  -0.551816         -0.970962         8.8          8.8        0.236044      \n",
       "9  -0.970962         -1.006890         8.8          9.4        0.218199      \n",
       "10 -1.006890         -0.846050         9.4          8.2        0.188097      \n",
       "11 -0.846050         -0.983647         8.2          9.2        0.241795      \n",
       "12 -0.983647         -0.702852         9.2          8.8        0.227884      \n",
       "13 -0.702852         -1.043260         8.8          8.6        0.254659      \n",
       "14 -1.043260         -0.806416         8.6          8.0        0.238928      \n",
       "15 -0.806416         -0.548099         8.0          8.8        0.224013      \n",
       "16 -0.548099         -0.946211         8.8          9.2        0.260754      \n",
       "17 -0.946211         -0.828653         9.2         10.4        0.184900      \n",
       "   mnOW_RSP6_lag4 OW_day_RSPlag4 OW_day_MCMlag4\n",
       "1  0.218399        8             5.220356      \n",
       "2  0.200943        4             5.209486      \n",
       "3  0.250135        2             4.912655      \n",
       "4  0.100918        9             5.308268      \n",
       "5  0.190735       12             0.000000      \n",
       "6  0.268734        2             4.644391      \n",
       "7  0.236044        3             5.407172      \n",
       "8  0.218199        6             5.192957      \n",
       "9  0.188097       17             5.262690      \n",
       "10 0.241795        8             5.370638      \n",
       "11 0.227884        3             4.955827      \n",
       "12 0.254659        5             5.030438      \n",
       "13 0.238928        3             5.342334      \n",
       "14 0.224013        5             5.293305      \n",
       "15 0.260754        3             4.976734      \n",
       "16 0.184900       23             5.298317      \n",
       "17 0.238508        7             5.056246      "
      ]
     },
     "metadata": {},
     "output_type": "display_data"
    },
    {
     "data": {
      "text/plain": [
       "    Min.  1st Qu.   Median     Mean  3rd Qu.     Max. \n",
       "-0.46833 -0.02230  0.02294  0.03899  0.06346  0.59314 "
      ]
     },
     "metadata": {},
     "output_type": "display_data"
    },
    {
     "data": {
      "text/plain": [
       "   Min. 1st Qu.  Median    Mean 3rd Qu.    Max.    NA's \n",
       " 184900  222560  237276  232401  248050  268734       1 "
      ]
     },
     "metadata": {},
     "output_type": "display_data"
    }
   ],
   "source": [
    "master_gr;summary(master_gr$growth_croz); summary(master_gr$mnOW_RSP)"
   ]
  },
  {
   "cell_type": "markdown",
   "metadata": {},
   "source": [
    "# Quadratic variables"
   ]
  },
  {
   "cell_type": "code",
   "execution_count": 785,
   "metadata": {},
   "outputs": [],
   "source": [
    "master_gr$av_SIE_2<- master_gr$av_SIE^2\n",
    "master_gr$SIE_lag4_2<- master_gr$SIE_lag4^2\n",
    "master_gr$SIE_lag5_2<- master_gr$SIE_lag5^2\n",
    "master_gr$mnOW_RSP6<- master_gr$mnOW_RSP/10^6\n",
    "master_gr$mnOW_RSP6_2<-master_gr$mnOW_RSP6^2\n",
    "master_gr$mnOW_RSP6_lag4_2<-master_gr$mnOW_RSP6_lag4^2\n",
    "master_gr$mnOW_RSP6_lag5_2<-master_gr$mnOW_RSP6_lag5^2\n",
    "master_gr$mnChl_aw_RSP_2<-master_gr$mnChl_aw_RSP^2\n",
    "master_gr$nmSST_aw_RSP_2<-master_gr$nmSST_aw_RSP^2\n",
    "master_gr$nmSST_aw_RSP_lag4_2<-master_gr$nmSST_aw_RSP_lag4^2\n",
    "master_gr$nmSST_aw_RSP_lag5_2<-master_gr$nmSST_aw_RSP_lag5^2\n",
    "master_gr$mnWind_2<-master_gr$mnWind^2\n",
    "master_gr$mnWind_lag4_2<-master_gr$mnWind_lag4^2\n",
    "master_gr$mnWind_lag5_2<-master_gr$mnWind_lag5^2\n",
    "master_gr$GyreSPD_2<-master_gr$GyreSPD^2\n",
    "master_gr$GyreSPD_lag4_2<-master_gr$GyreSPD_lag4^2\n",
    "master_gr$GyreSPD_lag5_2<-master_gr$GyreSPD_lag5^2\n",
    "master_gr$Salinity_2<-master_gr$Salinity^2\n",
    "master_gr$intP_RSP_2<-master_gr$intP_RSP^2\n",
    "master_gr$Prop._134_2<-master_gr$Prop._134^2\n",
    "master_gr$TOTALTonnes.100_2<-master_gr$TOTALTonnes.100^2\n",
    "master_gr$mnSIE_2<- master_gr$mnSIE^2\n",
    "master_gr$mnAirTemp_2<- master_gr$mnAirTemp^2\n",
    "master_gr$mnAirTemp_lag4_2<- master_gr$mnAirTemp_lag4^2\n",
    "master_gr$mnAirTemp_lag5_2<- master_gr$mnAirTemp_lag5^2\n",
    "master_gr$logOW_day_MCM_2<- master_gr$logOW_day_MCM^2\n",
    "master_gr$OW_day_MCMlag4_2<- master_gr$OW_day_MCMlag4^2\n",
    "master_gr$OW_day_RSPlag4_2<- master_gr$OW_day_RSPlag4^2\n",
    "master_gr$OW_day_RSP_2<- master_gr$OW_day_RSP^2"
   ]
  },
  {
   "cell_type": "code",
   "execution_count": 786,
   "metadata": {},
   "outputs": [
    {
     "data": {
      "text/html": [
       "<table>\n",
       "<caption>A data.frame: 6 × 82</caption>\n",
       "<thead>\n",
       "\t<tr><th></th><th scope=col>year</th><th scope=col>intP_RSP</th><th scope=col>mnChl_aw_RSP</th><th scope=col>mnOW_RSP</th><th scope=col>nmSST_aw_RSP</th><th scope=col>intP_MCM</th><th scope=col>mnChl_aw_MCM</th><th scope=col>mnOW_MCM</th><th scope=col>nmSST_aw_MCM</th><th scope=col>mnAirTemp</th><th scope=col>⋯</th><th scope=col>Prop._134_2</th><th scope=col>TOTALTonnes.100_2</th><th scope=col>mnSIE_2</th><th scope=col>mnAirTemp_2</th><th scope=col>mnAirTemp_lag4_2</th><th scope=col>mnAirTemp_lag5_2</th><th scope=col>logOW_day_MCM_2</th><th scope=col>OW_day_MCMlag4_2</th><th scope=col>OW_day_RSPlag4_2</th><th scope=col>OW_day_RSP_2</th></tr>\n",
       "\t<tr><th></th><th scope=col>&lt;int&gt;</th><th scope=col>&lt;dbl&gt;</th><th scope=col>&lt;dbl&gt;</th><th scope=col>&lt;int&gt;</th><th scope=col>&lt;dbl&gt;</th><th scope=col>&lt;dbl&gt;</th><th scope=col>&lt;dbl&gt;</th><th scope=col>&lt;dbl&gt;</th><th scope=col>&lt;dbl&gt;</th><th scope=col>&lt;dbl&gt;</th><th scope=col>⋯</th><th scope=col>&lt;dbl&gt;</th><th scope=col>&lt;dbl&gt;</th><th scope=col>&lt;dbl&gt;</th><th scope=col>&lt;dbl&gt;</th><th scope=col>&lt;dbl&gt;</th><th scope=col>&lt;dbl&gt;</th><th scope=col>&lt;dbl&gt;</th><th scope=col>&lt;dbl&gt;</th><th scope=col>&lt;dbl&gt;</th><th scope=col>&lt;dbl&gt;</th></tr>\n",
       "</thead>\n",
       "<tbody>\n",
       "\t<tr><th scope=row>1</th><td>2003</td><td>0.658810</td><td>1.278130</td><td>190735</td><td>-1.047010</td><td>0.1797500</td><td>0.2424260</td><td>2701.45</td><td>-1.177640</td><td>-4.625</td><td>⋯</td><td>3025</td><td> 201.0923</td><td> 8.173881</td><td>21.39062</td><td>59.29000</td><td>17.64000</td><td> 0.00000</td><td>27.25211</td><td> 64</td><td>144</td></tr>\n",
       "\t<tr><th scope=row>2</th><td>2004</td><td>0.659537</td><td>1.201000</td><td>268734</td><td>-0.546599</td><td>0.0595893</td><td>0.0920093</td><td>1115.63</td><td>-1.394120</td><td>-5.000</td><td>⋯</td><td>1225</td><td> 426.2491</td><td> 7.612081</td><td>25.00000</td><td>27.04000</td><td>59.29000</td><td>21.57037</td><td>27.13875</td><td> 16</td><td>  4</td></tr>\n",
       "\t<tr><th scope=row>3</th><td>2005</td><td>0.617897</td><td>1.116710</td><td>236044</td><td>-0.551816</td><td>0.2451990</td><td>0.5341190</td><td>3630.16</td><td>-1.099050</td><td>-5.250</td><td>⋯</td><td>1444</td><td>1125.8508</td><td> 8.020224</td><td>27.56250</td><td>20.25000</td><td>27.04000</td><td>29.23751</td><td>24.13418</td><td>  4</td><td>  9</td></tr>\n",
       "\t<tr><th scope=row>4</th><td>2006</td><td>0.673591</td><td>1.344420</td><td>218199</td><td>-0.970962</td><td>0.3927390</td><td>0.5908280</td><td>4718.94</td><td>-0.954533</td><td>-6.000</td><td>⋯</td><td>2025</td><td> 729.6968</td><td> 7.496644</td><td>36.00000</td><td>31.36000</td><td>20.25000</td><td>26.96680</td><td>28.17771</td><td> 81</td><td> 36</td></tr>\n",
       "\t<tr><th scope=row>5</th><td>2007</td><td>0.543325</td><td>1.170400</td><td>188097</td><td>-1.006890</td><td>0.3533950</td><td>0.6396110</td><td>3903.53</td><td>-1.064650</td><td>-6.800</td><td>⋯</td><td>1764</td><td> 814.4232</td><td> 9.771876</td><td>46.24000</td><td>21.39062</td><td>31.36000</td><td>27.69591</td><td> 0.00000</td><td>144</td><td>289</td></tr>\n",
       "\t<tr><th scope=row>6</th><td>2008</td><td>0.525248</td><td>0.962226</td><td>241795</td><td>-0.846050</td><td>0.2566900</td><td>0.5890600</td><td>1968.25</td><td>-1.173800</td><td>-5.025</td><td>⋯</td><td>1681</td><td> 500.7257</td><td>10.029889</td><td>25.25063</td><td>25.00000</td><td>21.39062</td><td>28.84375</td><td>21.57037</td><td>  4</td><td> 64</td></tr>\n",
       "</tbody>\n",
       "</table>\n"
      ],
      "text/latex": [
       "A data.frame: 6 × 82\n",
       "\\begin{tabular}{r|lllllllllllllllllllll}\n",
       "  & year & intP\\_RSP & mnChl\\_aw\\_RSP & mnOW\\_RSP & nmSST\\_aw\\_RSP & intP\\_MCM & mnChl\\_aw\\_MCM & mnOW\\_MCM & nmSST\\_aw\\_MCM & mnAirTemp & ⋯ & Prop.\\_134\\_2 & TOTALTonnes.100\\_2 & mnSIE\\_2 & mnAirTemp\\_2 & mnAirTemp\\_lag4\\_2 & mnAirTemp\\_lag5\\_2 & logOW\\_day\\_MCM\\_2 & OW\\_day\\_MCMlag4\\_2 & OW\\_day\\_RSPlag4\\_2 & OW\\_day\\_RSP\\_2\\\\\n",
       "  & <int> & <dbl> & <dbl> & <int> & <dbl> & <dbl> & <dbl> & <dbl> & <dbl> & <dbl> & ⋯ & <dbl> & <dbl> & <dbl> & <dbl> & <dbl> & <dbl> & <dbl> & <dbl> & <dbl> & <dbl>\\\\\n",
       "\\hline\n",
       "\t1 & 2003 & 0.658810 & 1.278130 & 190735 & -1.047010 & 0.1797500 & 0.2424260 & 2701.45 & -1.177640 & -4.625 & ⋯ & 3025 &  201.0923 &  8.173881 & 21.39062 & 59.29000 & 17.64000 &  0.00000 & 27.25211 &  64 & 144\\\\\n",
       "\t2 & 2004 & 0.659537 & 1.201000 & 268734 & -0.546599 & 0.0595893 & 0.0920093 & 1115.63 & -1.394120 & -5.000 & ⋯ & 1225 &  426.2491 &  7.612081 & 25.00000 & 27.04000 & 59.29000 & 21.57037 & 27.13875 &  16 &   4\\\\\n",
       "\t3 & 2005 & 0.617897 & 1.116710 & 236044 & -0.551816 & 0.2451990 & 0.5341190 & 3630.16 & -1.099050 & -5.250 & ⋯ & 1444 & 1125.8508 &  8.020224 & 27.56250 & 20.25000 & 27.04000 & 29.23751 & 24.13418 &   4 &   9\\\\\n",
       "\t4 & 2006 & 0.673591 & 1.344420 & 218199 & -0.970962 & 0.3927390 & 0.5908280 & 4718.94 & -0.954533 & -6.000 & ⋯ & 2025 &  729.6968 &  7.496644 & 36.00000 & 31.36000 & 20.25000 & 26.96680 & 28.17771 &  81 &  36\\\\\n",
       "\t5 & 2007 & 0.543325 & 1.170400 & 188097 & -1.006890 & 0.3533950 & 0.6396110 & 3903.53 & -1.064650 & -6.800 & ⋯ & 1764 &  814.4232 &  9.771876 & 46.24000 & 21.39062 & 31.36000 & 27.69591 &  0.00000 & 144 & 289\\\\\n",
       "\t6 & 2008 & 0.525248 & 0.962226 & 241795 & -0.846050 & 0.2566900 & 0.5890600 & 1968.25 & -1.173800 & -5.025 & ⋯ & 1681 &  500.7257 & 10.029889 & 25.25063 & 25.00000 & 21.39062 & 28.84375 & 21.57037 &   4 &  64\\\\\n",
       "\\end{tabular}\n"
      ],
      "text/markdown": [
       "\n",
       "A data.frame: 6 × 82\n",
       "\n",
       "| <!--/--> | year &lt;int&gt; | intP_RSP &lt;dbl&gt; | mnChl_aw_RSP &lt;dbl&gt; | mnOW_RSP &lt;int&gt; | nmSST_aw_RSP &lt;dbl&gt; | intP_MCM &lt;dbl&gt; | mnChl_aw_MCM &lt;dbl&gt; | mnOW_MCM &lt;dbl&gt; | nmSST_aw_MCM &lt;dbl&gt; | mnAirTemp &lt;dbl&gt; | ⋯ ⋯ | Prop._134_2 &lt;dbl&gt; | TOTALTonnes.100_2 &lt;dbl&gt; | mnSIE_2 &lt;dbl&gt; | mnAirTemp_2 &lt;dbl&gt; | mnAirTemp_lag4_2 &lt;dbl&gt; | mnAirTemp_lag5_2 &lt;dbl&gt; | logOW_day_MCM_2 &lt;dbl&gt; | OW_day_MCMlag4_2 &lt;dbl&gt; | OW_day_RSPlag4_2 &lt;dbl&gt; | OW_day_RSP_2 &lt;dbl&gt; |\n",
       "|---|---|---|---|---|---|---|---|---|---|---|---|---|---|---|---|---|---|---|---|---|---|\n",
       "| 1 | 2003 | 0.658810 | 1.278130 | 190735 | -1.047010 | 0.1797500 | 0.2424260 | 2701.45 | -1.177640 | -4.625 | ⋯ | 3025 |  201.0923 |  8.173881 | 21.39062 | 59.29000 | 17.64000 |  0.00000 | 27.25211 |  64 | 144 |\n",
       "| 2 | 2004 | 0.659537 | 1.201000 | 268734 | -0.546599 | 0.0595893 | 0.0920093 | 1115.63 | -1.394120 | -5.000 | ⋯ | 1225 |  426.2491 |  7.612081 | 25.00000 | 27.04000 | 59.29000 | 21.57037 | 27.13875 |  16 |   4 |\n",
       "| 3 | 2005 | 0.617897 | 1.116710 | 236044 | -0.551816 | 0.2451990 | 0.5341190 | 3630.16 | -1.099050 | -5.250 | ⋯ | 1444 | 1125.8508 |  8.020224 | 27.56250 | 20.25000 | 27.04000 | 29.23751 | 24.13418 |   4 |   9 |\n",
       "| 4 | 2006 | 0.673591 | 1.344420 | 218199 | -0.970962 | 0.3927390 | 0.5908280 | 4718.94 | -0.954533 | -6.000 | ⋯ | 2025 |  729.6968 |  7.496644 | 36.00000 | 31.36000 | 20.25000 | 26.96680 | 28.17771 |  81 |  36 |\n",
       "| 5 | 2007 | 0.543325 | 1.170400 | 188097 | -1.006890 | 0.3533950 | 0.6396110 | 3903.53 | -1.064650 | -6.800 | ⋯ | 1764 |  814.4232 |  9.771876 | 46.24000 | 21.39062 | 31.36000 | 27.69591 |  0.00000 | 144 | 289 |\n",
       "| 6 | 2008 | 0.525248 | 0.962226 | 241795 | -0.846050 | 0.2566900 | 0.5890600 | 1968.25 | -1.173800 | -5.025 | ⋯ | 1681 |  500.7257 | 10.029889 | 25.25063 | 25.00000 | 21.39062 | 28.84375 | 21.57037 |   4 |  64 |\n",
       "\n"
      ],
      "text/plain": [
       "  year intP_RSP mnChl_aw_RSP mnOW_RSP nmSST_aw_RSP intP_MCM  mnChl_aw_MCM\n",
       "1 2003 0.658810 1.278130     190735   -1.047010    0.1797500 0.2424260   \n",
       "2 2004 0.659537 1.201000     268734   -0.546599    0.0595893 0.0920093   \n",
       "3 2005 0.617897 1.116710     236044   -0.551816    0.2451990 0.5341190   \n",
       "4 2006 0.673591 1.344420     218199   -0.970962    0.3927390 0.5908280   \n",
       "5 2007 0.543325 1.170400     188097   -1.006890    0.3533950 0.6396110   \n",
       "6 2008 0.525248 0.962226     241795   -0.846050    0.2566900 0.5890600   \n",
       "  mnOW_MCM nmSST_aw_MCM mnAirTemp ⋯ Prop._134_2 TOTALTonnes.100_2 mnSIE_2  \n",
       "1 2701.45  -1.177640    -4.625    ⋯ 3025         201.0923          8.173881\n",
       "2 1115.63  -1.394120    -5.000    ⋯ 1225         426.2491          7.612081\n",
       "3 3630.16  -1.099050    -5.250    ⋯ 1444        1125.8508          8.020224\n",
       "4 4718.94  -0.954533    -6.000    ⋯ 2025         729.6968          7.496644\n",
       "5 3903.53  -1.064650    -6.800    ⋯ 1764         814.4232          9.771876\n",
       "6 1968.25  -1.173800    -5.025    ⋯ 1681         500.7257         10.029889\n",
       "  mnAirTemp_2 mnAirTemp_lag4_2 mnAirTemp_lag5_2 logOW_day_MCM_2\n",
       "1 21.39062    59.29000         17.64000          0.00000       \n",
       "2 25.00000    27.04000         59.29000         21.57037       \n",
       "3 27.56250    20.25000         27.04000         29.23751       \n",
       "4 36.00000    31.36000         20.25000         26.96680       \n",
       "5 46.24000    21.39062         31.36000         27.69591       \n",
       "6 25.25063    25.00000         21.39062         28.84375       \n",
       "  OW_day_MCMlag4_2 OW_day_RSPlag4_2 OW_day_RSP_2\n",
       "1 27.25211          64              144         \n",
       "2 27.13875          16                4         \n",
       "3 24.13418           4                9         \n",
       "4 28.17771          81               36         \n",
       "5  0.00000         144              289         \n",
       "6 21.57037           4               64         "
      ]
     },
     "metadata": {},
     "output_type": "display_data"
    }
   ],
   "source": [
    "head(master_gr)"
   ]
  },
  {
   "cell_type": "markdown",
   "metadata": {},
   "source": [
    "# Table excluiding year 2002 to test CHL and PP (because values for that year were probably wrong due the iceberg)"
   ]
  },
  {
   "cell_type": "code",
   "execution_count": 787,
   "metadata": {},
   "outputs": [],
   "source": [
    "# remove row 5 (year 2002)\n",
    "testChl <- master_gr [-c(5),]"
   ]
  },
  {
   "cell_type": "code",
   "execution_count": 788,
   "metadata": {},
   "outputs": [
    {
     "data": {
      "text/html": [
       "<table>\n",
       "<caption>A data.frame: 6 × 82</caption>\n",
       "<thead>\n",
       "\t<tr><th></th><th scope=col>year</th><th scope=col>intP_RSP</th><th scope=col>mnChl_aw_RSP</th><th scope=col>mnOW_RSP</th><th scope=col>nmSST_aw_RSP</th><th scope=col>intP_MCM</th><th scope=col>mnChl_aw_MCM</th><th scope=col>mnOW_MCM</th><th scope=col>nmSST_aw_MCM</th><th scope=col>mnAirTemp</th><th scope=col>⋯</th><th scope=col>Prop._134_2</th><th scope=col>TOTALTonnes.100_2</th><th scope=col>mnSIE_2</th><th scope=col>mnAirTemp_2</th><th scope=col>mnAirTemp_lag4_2</th><th scope=col>mnAirTemp_lag5_2</th><th scope=col>logOW_day_MCM_2</th><th scope=col>OW_day_MCMlag4_2</th><th scope=col>OW_day_RSPlag4_2</th><th scope=col>OW_day_RSP_2</th></tr>\n",
       "\t<tr><th></th><th scope=col>&lt;int&gt;</th><th scope=col>&lt;dbl&gt;</th><th scope=col>&lt;dbl&gt;</th><th scope=col>&lt;int&gt;</th><th scope=col>&lt;dbl&gt;</th><th scope=col>&lt;dbl&gt;</th><th scope=col>&lt;dbl&gt;</th><th scope=col>&lt;dbl&gt;</th><th scope=col>&lt;dbl&gt;</th><th scope=col>&lt;dbl&gt;</th><th scope=col>⋯</th><th scope=col>&lt;dbl&gt;</th><th scope=col>&lt;dbl&gt;</th><th scope=col>&lt;dbl&gt;</th><th scope=col>&lt;dbl&gt;</th><th scope=col>&lt;dbl&gt;</th><th scope=col>&lt;dbl&gt;</th><th scope=col>&lt;dbl&gt;</th><th scope=col>&lt;dbl&gt;</th><th scope=col>&lt;dbl&gt;</th><th scope=col>&lt;dbl&gt;</th></tr>\n",
       "</thead>\n",
       "<tbody>\n",
       "\t<tr><th scope=row>1</th><td>2003</td><td>0.658810</td><td>1.278130</td><td>190735</td><td>-1.047010</td><td>0.1797500</td><td>0.2424260</td><td>2701.45</td><td>-1.177640</td><td>-4.625</td><td>⋯</td><td>3025</td><td> 201.0923</td><td> 8.173881</td><td>21.39062</td><td>59.2900</td><td>17.64000</td><td> 0.00000</td><td>27.25211</td><td>64</td><td>144</td></tr>\n",
       "\t<tr><th scope=row>2</th><td>2004</td><td>0.659537</td><td>1.201000</td><td>268734</td><td>-0.546599</td><td>0.0595893</td><td>0.0920093</td><td>1115.63</td><td>-1.394120</td><td>-5.000</td><td>⋯</td><td>1225</td><td> 426.2491</td><td> 7.612081</td><td>25.00000</td><td>27.0400</td><td>59.29000</td><td>21.57037</td><td>27.13875</td><td>16</td><td>  4</td></tr>\n",
       "\t<tr><th scope=row>3</th><td>2005</td><td>0.617897</td><td>1.116710</td><td>236044</td><td>-0.551816</td><td>0.2451990</td><td>0.5341190</td><td>3630.16</td><td>-1.099050</td><td>-5.250</td><td>⋯</td><td>1444</td><td>1125.8508</td><td> 8.020224</td><td>27.56250</td><td>20.2500</td><td>27.04000</td><td>29.23751</td><td>24.13418</td><td> 4</td><td>  9</td></tr>\n",
       "\t<tr><th scope=row>4</th><td>2006</td><td>0.673591</td><td>1.344420</td><td>218199</td><td>-0.970962</td><td>0.3927390</td><td>0.5908280</td><td>4718.94</td><td>-0.954533</td><td>-6.000</td><td>⋯</td><td>2025</td><td> 729.6968</td><td> 7.496644</td><td>36.00000</td><td>31.3600</td><td>20.25000</td><td>26.96680</td><td>28.17771</td><td>81</td><td> 36</td></tr>\n",
       "\t<tr><th scope=row>6</th><td>2008</td><td>0.525248</td><td>0.962226</td><td>241795</td><td>-0.846050</td><td>0.2566900</td><td>0.5890600</td><td>1968.25</td><td>-1.173800</td><td>-5.025</td><td>⋯</td><td>1681</td><td> 500.7257</td><td>10.029889</td><td>25.25063</td><td>25.0000</td><td>21.39062</td><td>28.84375</td><td>21.57037</td><td> 4</td><td> 64</td></tr>\n",
       "\t<tr><th scope=row>7</th><td>2009</td><td>0.739713</td><td>1.811370</td><td>227884</td><td>-0.983647</td><td>0.4709990</td><td>1.1855100</td><td>5003.04</td><td>-0.939651</td><td>-5.475</td><td>⋯</td><td>1764</td><td> 503.3786</td><td> 9.431041</td><td>29.97562</td><td>27.5625</td><td>25.00000</td><td>24.56022</td><td>29.23751</td><td> 9</td><td>  9</td></tr>\n",
       "</tbody>\n",
       "</table>\n"
      ],
      "text/latex": [
       "A data.frame: 6 × 82\n",
       "\\begin{tabular}{r|lllllllllllllllllllll}\n",
       "  & year & intP\\_RSP & mnChl\\_aw\\_RSP & mnOW\\_RSP & nmSST\\_aw\\_RSP & intP\\_MCM & mnChl\\_aw\\_MCM & mnOW\\_MCM & nmSST\\_aw\\_MCM & mnAirTemp & ⋯ & Prop.\\_134\\_2 & TOTALTonnes.100\\_2 & mnSIE\\_2 & mnAirTemp\\_2 & mnAirTemp\\_lag4\\_2 & mnAirTemp\\_lag5\\_2 & logOW\\_day\\_MCM\\_2 & OW\\_day\\_MCMlag4\\_2 & OW\\_day\\_RSPlag4\\_2 & OW\\_day\\_RSP\\_2\\\\\n",
       "  & <int> & <dbl> & <dbl> & <int> & <dbl> & <dbl> & <dbl> & <dbl> & <dbl> & <dbl> & ⋯ & <dbl> & <dbl> & <dbl> & <dbl> & <dbl> & <dbl> & <dbl> & <dbl> & <dbl> & <dbl>\\\\\n",
       "\\hline\n",
       "\t1 & 2003 & 0.658810 & 1.278130 & 190735 & -1.047010 & 0.1797500 & 0.2424260 & 2701.45 & -1.177640 & -4.625 & ⋯ & 3025 &  201.0923 &  8.173881 & 21.39062 & 59.2900 & 17.64000 &  0.00000 & 27.25211 & 64 & 144\\\\\n",
       "\t2 & 2004 & 0.659537 & 1.201000 & 268734 & -0.546599 & 0.0595893 & 0.0920093 & 1115.63 & -1.394120 & -5.000 & ⋯ & 1225 &  426.2491 &  7.612081 & 25.00000 & 27.0400 & 59.29000 & 21.57037 & 27.13875 & 16 &   4\\\\\n",
       "\t3 & 2005 & 0.617897 & 1.116710 & 236044 & -0.551816 & 0.2451990 & 0.5341190 & 3630.16 & -1.099050 & -5.250 & ⋯ & 1444 & 1125.8508 &  8.020224 & 27.56250 & 20.2500 & 27.04000 & 29.23751 & 24.13418 &  4 &   9\\\\\n",
       "\t4 & 2006 & 0.673591 & 1.344420 & 218199 & -0.970962 & 0.3927390 & 0.5908280 & 4718.94 & -0.954533 & -6.000 & ⋯ & 2025 &  729.6968 &  7.496644 & 36.00000 & 31.3600 & 20.25000 & 26.96680 & 28.17771 & 81 &  36\\\\\n",
       "\t6 & 2008 & 0.525248 & 0.962226 & 241795 & -0.846050 & 0.2566900 & 0.5890600 & 1968.25 & -1.173800 & -5.025 & ⋯ & 1681 &  500.7257 & 10.029889 & 25.25063 & 25.0000 & 21.39062 & 28.84375 & 21.57037 &  4 &  64\\\\\n",
       "\t7 & 2009 & 0.739713 & 1.811370 & 227884 & -0.983647 & 0.4709990 & 1.1855100 & 5003.04 & -0.939651 & -5.475 & ⋯ & 1764 &  503.3786 &  9.431041 & 29.97562 & 27.5625 & 25.00000 & 24.56022 & 29.23751 &  9 &   9\\\\\n",
       "\\end{tabular}\n"
      ],
      "text/markdown": [
       "\n",
       "A data.frame: 6 × 82\n",
       "\n",
       "| <!--/--> | year &lt;int&gt; | intP_RSP &lt;dbl&gt; | mnChl_aw_RSP &lt;dbl&gt; | mnOW_RSP &lt;int&gt; | nmSST_aw_RSP &lt;dbl&gt; | intP_MCM &lt;dbl&gt; | mnChl_aw_MCM &lt;dbl&gt; | mnOW_MCM &lt;dbl&gt; | nmSST_aw_MCM &lt;dbl&gt; | mnAirTemp &lt;dbl&gt; | ⋯ ⋯ | Prop._134_2 &lt;dbl&gt; | TOTALTonnes.100_2 &lt;dbl&gt; | mnSIE_2 &lt;dbl&gt; | mnAirTemp_2 &lt;dbl&gt; | mnAirTemp_lag4_2 &lt;dbl&gt; | mnAirTemp_lag5_2 &lt;dbl&gt; | logOW_day_MCM_2 &lt;dbl&gt; | OW_day_MCMlag4_2 &lt;dbl&gt; | OW_day_RSPlag4_2 &lt;dbl&gt; | OW_day_RSP_2 &lt;dbl&gt; |\n",
       "|---|---|---|---|---|---|---|---|---|---|---|---|---|---|---|---|---|---|---|---|---|---|\n",
       "| 1 | 2003 | 0.658810 | 1.278130 | 190735 | -1.047010 | 0.1797500 | 0.2424260 | 2701.45 | -1.177640 | -4.625 | ⋯ | 3025 |  201.0923 |  8.173881 | 21.39062 | 59.2900 | 17.64000 |  0.00000 | 27.25211 | 64 | 144 |\n",
       "| 2 | 2004 | 0.659537 | 1.201000 | 268734 | -0.546599 | 0.0595893 | 0.0920093 | 1115.63 | -1.394120 | -5.000 | ⋯ | 1225 |  426.2491 |  7.612081 | 25.00000 | 27.0400 | 59.29000 | 21.57037 | 27.13875 | 16 |   4 |\n",
       "| 3 | 2005 | 0.617897 | 1.116710 | 236044 | -0.551816 | 0.2451990 | 0.5341190 | 3630.16 | -1.099050 | -5.250 | ⋯ | 1444 | 1125.8508 |  8.020224 | 27.56250 | 20.2500 | 27.04000 | 29.23751 | 24.13418 |  4 |   9 |\n",
       "| 4 | 2006 | 0.673591 | 1.344420 | 218199 | -0.970962 | 0.3927390 | 0.5908280 | 4718.94 | -0.954533 | -6.000 | ⋯ | 2025 |  729.6968 |  7.496644 | 36.00000 | 31.3600 | 20.25000 | 26.96680 | 28.17771 | 81 |  36 |\n",
       "| 6 | 2008 | 0.525248 | 0.962226 | 241795 | -0.846050 | 0.2566900 | 0.5890600 | 1968.25 | -1.173800 | -5.025 | ⋯ | 1681 |  500.7257 | 10.029889 | 25.25063 | 25.0000 | 21.39062 | 28.84375 | 21.57037 |  4 |  64 |\n",
       "| 7 | 2009 | 0.739713 | 1.811370 | 227884 | -0.983647 | 0.4709990 | 1.1855100 | 5003.04 | -0.939651 | -5.475 | ⋯ | 1764 |  503.3786 |  9.431041 | 29.97562 | 27.5625 | 25.00000 | 24.56022 | 29.23751 |  9 |   9 |\n",
       "\n"
      ],
      "text/plain": [
       "  year intP_RSP mnChl_aw_RSP mnOW_RSP nmSST_aw_RSP intP_MCM  mnChl_aw_MCM\n",
       "1 2003 0.658810 1.278130     190735   -1.047010    0.1797500 0.2424260   \n",
       "2 2004 0.659537 1.201000     268734   -0.546599    0.0595893 0.0920093   \n",
       "3 2005 0.617897 1.116710     236044   -0.551816    0.2451990 0.5341190   \n",
       "4 2006 0.673591 1.344420     218199   -0.970962    0.3927390 0.5908280   \n",
       "6 2008 0.525248 0.962226     241795   -0.846050    0.2566900 0.5890600   \n",
       "7 2009 0.739713 1.811370     227884   -0.983647    0.4709990 1.1855100   \n",
       "  mnOW_MCM nmSST_aw_MCM mnAirTemp ⋯ Prop._134_2 TOTALTonnes.100_2 mnSIE_2  \n",
       "1 2701.45  -1.177640    -4.625    ⋯ 3025         201.0923          8.173881\n",
       "2 1115.63  -1.394120    -5.000    ⋯ 1225         426.2491          7.612081\n",
       "3 3630.16  -1.099050    -5.250    ⋯ 1444        1125.8508          8.020224\n",
       "4 4718.94  -0.954533    -6.000    ⋯ 2025         729.6968          7.496644\n",
       "6 1968.25  -1.173800    -5.025    ⋯ 1681         500.7257         10.029889\n",
       "7 5003.04  -0.939651    -5.475    ⋯ 1764         503.3786          9.431041\n",
       "  mnAirTemp_2 mnAirTemp_lag4_2 mnAirTemp_lag5_2 logOW_day_MCM_2\n",
       "1 21.39062    59.2900          17.64000          0.00000       \n",
       "2 25.00000    27.0400          59.29000         21.57037       \n",
       "3 27.56250    20.2500          27.04000         29.23751       \n",
       "4 36.00000    31.3600          20.25000         26.96680       \n",
       "6 25.25063    25.0000          21.39062         28.84375       \n",
       "7 29.97562    27.5625          25.00000         24.56022       \n",
       "  OW_day_MCMlag4_2 OW_day_RSPlag4_2 OW_day_RSP_2\n",
       "1 27.25211         64               144         \n",
       "2 27.13875         16                 4         \n",
       "3 24.13418          4                 9         \n",
       "4 28.17771         81                36         \n",
       "6 21.57037          4                64         \n",
       "7 29.23751          9                 9         "
      ]
     },
     "metadata": {},
     "output_type": "display_data"
    }
   ],
   "source": [
    "head(testChl)"
   ]
  },
  {
   "cell_type": "markdown",
   "metadata": {},
   "source": [
    "# Plot variables over TIME\n"
   ]
  },
  {
   "cell_type": "code",
   "execution_count": 789,
   "metadata": {},
   "outputs": [],
   "source": [
    "theme_set(theme_bw())"
   ]
  },
  {
   "cell_type": "code",
   "execution_count": 790,
   "metadata": {},
   "outputs": [
    {
     "data": {
      "image/png": "[encoded data removed]",
      "text/plain": [
       "plot without title"
      ]
     },
     "metadata": {
      "image/png": {
       "height": 420,
       "width": 420
      },
      "text/plain": {
       "height": 420,
       "width": 420
      }
     },
     "output_type": "display_data"
    }
   ],
   "source": [
    "ggplot(master_gr,aes(x=year,y=SIE_lag5)) + geom_point()"
   ]
  },
  {
   "cell_type": "code",
   "execution_count": 791,
   "metadata": {},
   "outputs": [
    {
     "name": "stderr",
     "output_type": "stream",
     "text": [
      "Warning message:\n",
      "“Removed 1 rows containing missing values (geom_point).”\n"
     ]
    },
    {
     "data": {
      "image/png": "[encoded data removed]",
      "text/plain": [
       "plot without title"
      ]
     },
     "metadata": {
      "image/png": {
       "height": 420,
       "width": 420
      },
      "text/plain": {
       "height": 420,
       "width": 420
      }
     },
     "output_type": "display_data"
    }
   ],
   "source": [
    "ggplot(master_gr,aes(x=year,y=intP_RSP)) + geom_point()"
   ]
  },
  {
   "cell_type": "code",
   "execution_count": 792,
   "metadata": {},
   "outputs": [
    {
     "name": "stderr",
     "output_type": "stream",
     "text": [
      "Warning message:\n",
      "“Removed 1 rows containing missing values (geom_point).”\n"
     ]
    },
    {
     "data": {
      "image/png": "[encoded data removed]",
      "text/plain": [
       "plot without title"
      ]
     },
     "metadata": {
      "image/png": {
       "height": 420,
       "width": 420
      },
      "text/plain": {
       "height": 420,
       "width": 420
      }
     },
     "output_type": "display_data"
    }
   ],
   "source": [
    "ggplot(master_gr,aes(x=year,y=mnChl_aw_RSP)) + geom_point()"
   ]
  },
  {
   "cell_type": "code",
   "execution_count": 793,
   "metadata": {},
   "outputs": [
    {
     "name": "stderr",
     "output_type": "stream",
     "text": [
      "Warning message:\n",
      "“Removed 1 rows containing missing values (geom_point).”\n"
     ]
    },
    {
     "data": {
      "image/png": "[encoded data removed]",
      "text/plain": [
       "plot without title"
      ]
     },
     "metadata": {
      "image/png": {
       "height": 420,
       "width": 420
      },
      "text/plain": {
       "height": 420,
       "width": 420
      }
     },
     "output_type": "display_data"
    }
   ],
   "source": [
    "ggplot(master_gr,aes(x=year,y=mnOW_RSP)) + geom_point()"
   ]
  },
  {
   "cell_type": "code",
   "execution_count": 794,
   "metadata": {},
   "outputs": [
    {
     "name": "stderr",
     "output_type": "stream",
     "text": [
      "Warning message:\n",
      "“Removed 1 rows containing missing values (geom_point).”\n"
     ]
    },
    {
     "data": {
      "image/png": "[encoded data removed]",
      "text/plain": [
       "plot without title"
      ]
     },
     "metadata": {
      "image/png": {
       "height": 420,
       "width": 420
      },
      "text/plain": {
       "height": 420,
       "width": 420
      }
     },
     "output_type": "display_data"
    }
   ],
   "source": [
    "ggplot(master_gr,aes(x=year,y=nmSST_aw_RSP)) + geom_point()"
   ]
  },
  {
   "cell_type": "code",
   "execution_count": 795,
   "metadata": {},
   "outputs": [
    {
     "name": "stderr",
     "output_type": "stream",
     "text": [
      "Warning message:\n",
      "“Removed 1 rows containing missing values (geom_point).”\n"
     ]
    },
    {
     "data": {
      "image/png": "[encoded data removed]",
      "text/plain": [
       "plot without title"
      ]
     },
     "metadata": {
      "image/png": {
       "height": 420,
       "width": 420
      },
      "text/plain": {
       "height": 420,
       "width": 420
      }
     },
     "output_type": "display_data"
    }
   ],
   "source": [
    "ggplot(master_gr,aes(x=year,y=mnWind)) + geom_point()"
   ]
  },
  {
   "cell_type": "code",
   "execution_count": 796,
   "metadata": {},
   "outputs": [
    {
     "name": "stderr",
     "output_type": "stream",
     "text": [
      "Warning message:\n",
      "“Removed 1 rows containing missing values (geom_point).”\n"
     ]
    },
    {
     "data": {
      "image/png": "[encoded data removed]",
      "text/plain": [
       "plot without title"
      ]
     },
     "metadata": {
      "image/png": {
       "height": 420,
       "width": 420
      },
      "text/plain": {
       "height": 420,
       "width": 420
      }
     },
     "output_type": "display_data"
    }
   ],
   "source": [
    "ggplot(master_gr,aes(x=year,y=mnAirTemp)) + geom_point()"
   ]
  },
  {
   "cell_type": "code",
   "execution_count": 797,
   "metadata": {},
   "outputs": [
    {
     "name": "stderr",
     "output_type": "stream",
     "text": [
      "Warning message:\n",
      "“Removed 1 rows containing missing values (geom_point).”\n"
     ]
    },
    {
     "data": {
      "image/png": "[encoded data removed]",
      "text/plain": [
       "plot without title"
      ]
     },
     "metadata": {
      "image/png": {
       "height": 420,
       "width": 420
      },
      "text/plain": {
       "height": 420,
       "width": 420
      }
     },
     "output_type": "display_data"
    }
   ],
   "source": [
    "ggplot(master_gr,aes(x=year,y=mnSIE)) + geom_point()"
   ]
  },
  {
   "cell_type": "code",
   "execution_count": 798,
   "metadata": {},
   "outputs": [
    {
     "name": "stderr",
     "output_type": "stream",
     "text": [
      "Warning message:\n",
      "“Removed 2 rows containing missing values (geom_point).”\n"
     ]
    },
    {
     "data": {
      "image/png": "[encoded data removed]",
      "text/plain": [
       "plot without title"
      ]
     },
     "metadata": {
      "image/png": {
       "height": 420,
       "width": 420
      },
      "text/plain": {
       "height": 420,
       "width": 420
      }
     },
     "output_type": "display_data"
    }
   ],
   "source": [
    "ggplot(master_gr,aes(x=year,y=GyreSPD)) + geom_point()"
   ]
  },
  {
   "cell_type": "code",
   "execution_count": 799,
   "metadata": {},
   "outputs": [
    {
     "name": "stderr",
     "output_type": "stream",
     "text": [
      "Warning message:\n",
      "“Removed 5 rows containing missing values (geom_point).”\n"
     ]
    },
    {
     "data": {
      "image/png": "[encoded data removed]",
      "text/plain": [
       "plot without title"
      ]
     },
     "metadata": {
      "image/png": {
       "height": 420,
       "width": 420
      },
      "text/plain": {
       "height": 420,
       "width": 420
      }
     },
     "output_type": "display_data"
    }
   ],
   "source": [
    "ggplot(master_gr,aes(x=year,y=Salinity)) + geom_point()"
   ]
  },
  {
   "cell_type": "code",
   "execution_count": 800,
   "metadata": {},
   "outputs": [
    {
     "data": {
      "image/png": "[encoded data removed]",
      "text/plain": [
       "plot without title"
      ]
     },
     "metadata": {
      "image/png": {
       "height": 420,
       "width": 420
      },
      "text/plain": {
       "height": 420,
       "width": 420
      }
     },
     "output_type": "display_data"
    }
   ],
   "source": [
    "ggplot(master_gr,aes(x=year,y=growth_croz)) + geom_point()"
   ]
  },
  {
   "cell_type": "code",
   "execution_count": 801,
   "metadata": {},
   "outputs": [
    {
     "name": "stderr",
     "output_type": "stream",
     "text": [
      "Warning message:\n",
      "“Removed 1 rows containing missing values (geom_point).”\n"
     ]
    },
    {
     "data": {
      "image/png": "[encoded data removed]",
      "text/plain": [
       "plot without title"
      ]
     },
     "metadata": {
      "image/png": {
       "height": 420,
       "width": 420
      },
      "text/plain": {
       "height": 420,
       "width": 420
      }
     },
     "output_type": "display_data"
    }
   ],
   "source": [
    "ggplot(master_gr,aes(x=year,y=Prop._134)) + geom_point()"
   ]
  },
  {
   "cell_type": "code",
   "execution_count": 802,
   "metadata": {},
   "outputs": [
    {
     "name": "stderr",
     "output_type": "stream",
     "text": [
      "Warning message:\n",
      "“Removed 1 rows containing missing values (geom_point).”\n"
     ]
    },
    {
     "data": {
      "image/png": "[encoded data removed]",
      "text/plain": [
       "plot without title"
      ]
     },
     "metadata": {
      "image/png": {
       "height": 420,
       "width": 420
      },
      "text/plain": {
       "height": 420,
       "width": 420
      }
     },
     "output_type": "display_data"
    }
   ],
   "source": [
    "ggplot(master_gr,aes(x=Prop._134,y=growth_croz)) + geom_point()"
   ]
  },
  {
   "cell_type": "markdown",
   "metadata": {},
   "source": [
    "# \"in_frame\": dataframe only with env. variables (TO USE FOR VIF)\n",
    "# NO ICEBERG"
   ]
  },
  {
   "cell_type": "code",
   "execution_count": 803,
   "metadata": {},
   "outputs": [],
   "source": [
    "in_frame <- master_gr %>% select (intP_RSP:mnChl_aw_RSP, nmSST_aw_RSP:GyreSPD, Salinity, mnOW_RSP6:SIE_lag5)"
   ]
  },
  {
   "cell_type": "code",
   "execution_count": 804,
   "metadata": {},
   "outputs": [
    {
     "data": {
      "text/html": [
       "<table>\n",
       "<caption>A data.frame: 6 × 16</caption>\n",
       "<thead>\n",
       "\t<tr><th></th><th scope=col>intP_RSP</th><th scope=col>mnChl_aw_RSP</th><th scope=col>nmSST_aw_RSP</th><th scope=col>intP_MCM</th><th scope=col>mnChl_aw_MCM</th><th scope=col>mnOW_MCM</th><th scope=col>nmSST_aw_MCM</th><th scope=col>mnAirTemp</th><th scope=col>mnWind</th><th scope=col>mnSIE</th><th scope=col>OW_day_RSP</th><th scope=col>logOW_day_MCM</th><th scope=col>GyreSPD</th><th scope=col>Salinity</th><th scope=col>mnOW_RSP6</th><th scope=col>SIE_lag5</th></tr>\n",
       "\t<tr><th></th><th scope=col>&lt;dbl&gt;</th><th scope=col>&lt;dbl&gt;</th><th scope=col>&lt;dbl&gt;</th><th scope=col>&lt;dbl&gt;</th><th scope=col>&lt;dbl&gt;</th><th scope=col>&lt;dbl&gt;</th><th scope=col>&lt;dbl&gt;</th><th scope=col>&lt;dbl&gt;</th><th scope=col>&lt;dbl&gt;</th><th scope=col>&lt;dbl&gt;</th><th scope=col>&lt;int&gt;</th><th scope=col>&lt;dbl&gt;</th><th scope=col>&lt;dbl&gt;</th><th scope=col>&lt;dbl&gt;</th><th scope=col>&lt;dbl&gt;</th><th scope=col>&lt;dbl&gt;</th></tr>\n",
       "</thead>\n",
       "<tbody>\n",
       "\t<tr><th scope=row>1</th><td>0.658810</td><td>1.278130</td><td>-1.047010</td><td>0.1797500</td><td>0.2424260</td><td>2701.45</td><td>-1.177640</td><td>-4.625</td><td>8.6</td><td>2.859</td><td>12</td><td>0.000000</td><td>7.0</td><td>34.836</td><td>0.190735</td><td>2.600</td></tr>\n",
       "\t<tr><th scope=row>2</th><td>0.659537</td><td>1.201000</td><td>-0.546599</td><td>0.0595893</td><td>0.0920093</td><td>1115.63</td><td>-1.394120</td><td>-5.000</td><td>8.4</td><td>2.759</td><td> 2</td><td>4.644391</td><td>7.2</td><td>34.835</td><td>0.268734</td><td>2.767</td></tr>\n",
       "\t<tr><th scope=row>3</th><td>0.617897</td><td>1.116710</td><td>-0.551816</td><td>0.2451990</td><td>0.5341190</td><td>3630.16</td><td>-1.099050</td><td>-5.250</td><td>8.8</td><td>2.832</td><td> 3</td><td>5.407172</td><td>7.8</td><td>34.795</td><td>0.236044</td><td>2.731</td></tr>\n",
       "\t<tr><th scope=row>4</th><td>0.673591</td><td>1.344420</td><td>-0.970962</td><td>0.3927390</td><td>0.5908280</td><td>4718.94</td><td>-0.954533</td><td>-6.000</td><td>8.8</td><td>2.738</td><td> 6</td><td>5.192957</td><td>5.4</td><td>34.800</td><td>0.218199</td><td>3.123</td></tr>\n",
       "\t<tr><th scope=row>5</th><td>0.543325</td><td>1.170400</td><td>-1.006890</td><td>0.3533950</td><td>0.6396110</td><td>3903.53</td><td>-1.064650</td><td>-6.800</td><td>9.4</td><td>3.126</td><td>17</td><td>5.262690</td><td>4.9</td><td>    NA</td><td>0.188097</td><td>2.703</td></tr>\n",
       "\t<tr><th scope=row>6</th><td>0.525248</td><td>0.962226</td><td>-0.846050</td><td>0.2566900</td><td>0.5890600</td><td>1968.25</td><td>-1.173800</td><td>-5.025</td><td>8.2</td><td>3.167</td><td> 8</td><td>5.370638</td><td>7.4</td><td>34.820</td><td>0.241795</td><td>2.859</td></tr>\n",
       "</tbody>\n",
       "</table>\n"
      ],
      "text/latex": [
       "A data.frame: 6 × 16\n",
       "\\begin{tabular}{r|llllllllllllllll}\n",
       "  & intP\\_RSP & mnChl\\_aw\\_RSP & nmSST\\_aw\\_RSP & intP\\_MCM & mnChl\\_aw\\_MCM & mnOW\\_MCM & nmSST\\_aw\\_MCM & mnAirTemp & mnWind & mnSIE & OW\\_day\\_RSP & logOW\\_day\\_MCM & GyreSPD & Salinity & mnOW\\_RSP6 & SIE\\_lag5\\\\\n",
       "  & <dbl> & <dbl> & <dbl> & <dbl> & <dbl> & <dbl> & <dbl> & <dbl> & <dbl> & <dbl> & <int> & <dbl> & <dbl> & <dbl> & <dbl> & <dbl>\\\\\n",
       "\\hline\n",
       "\t1 & 0.658810 & 1.278130 & -1.047010 & 0.1797500 & 0.2424260 & 2701.45 & -1.177640 & -4.625 & 8.6 & 2.859 & 12 & 0.000000 & 7.0 & 34.836 & 0.190735 & 2.600\\\\\n",
       "\t2 & 0.659537 & 1.201000 & -0.546599 & 0.0595893 & 0.0920093 & 1115.63 & -1.394120 & -5.000 & 8.4 & 2.759 &  2 & 4.644391 & 7.2 & 34.835 & 0.268734 & 2.767\\\\\n",
       "\t3 & 0.617897 & 1.116710 & -0.551816 & 0.2451990 & 0.5341190 & 3630.16 & -1.099050 & -5.250 & 8.8 & 2.832 &  3 & 5.407172 & 7.8 & 34.795 & 0.236044 & 2.731\\\\\n",
       "\t4 & 0.673591 & 1.344420 & -0.970962 & 0.3927390 & 0.5908280 & 4718.94 & -0.954533 & -6.000 & 8.8 & 2.738 &  6 & 5.192957 & 5.4 & 34.800 & 0.218199 & 3.123\\\\\n",
       "\t5 & 0.543325 & 1.170400 & -1.006890 & 0.3533950 & 0.6396110 & 3903.53 & -1.064650 & -6.800 & 9.4 & 3.126 & 17 & 5.262690 & 4.9 &     NA & 0.188097 & 2.703\\\\\n",
       "\t6 & 0.525248 & 0.962226 & -0.846050 & 0.2566900 & 0.5890600 & 1968.25 & -1.173800 & -5.025 & 8.2 & 3.167 &  8 & 5.370638 & 7.4 & 34.820 & 0.241795 & 2.859\\\\\n",
       "\\end{tabular}\n"
      ],
      "text/markdown": [
       "\n",
       "A data.frame: 6 × 16\n",
       "\n",
       "| <!--/--> | intP_RSP &lt;dbl&gt; | mnChl_aw_RSP &lt;dbl&gt; | nmSST_aw_RSP &lt;dbl&gt; | intP_MCM &lt;dbl&gt; | mnChl_aw_MCM &lt;dbl&gt; | mnOW_MCM &lt;dbl&gt; | nmSST_aw_MCM &lt;dbl&gt; | mnAirTemp &lt;dbl&gt; | mnWind &lt;dbl&gt; | mnSIE &lt;dbl&gt; | OW_day_RSP &lt;int&gt; | logOW_day_MCM &lt;dbl&gt; | GyreSPD &lt;dbl&gt; | Salinity &lt;dbl&gt; | mnOW_RSP6 &lt;dbl&gt; | SIE_lag5 &lt;dbl&gt; |\n",
       "|---|---|---|---|---|---|---|---|---|---|---|---|---|---|---|---|---|\n",
       "| 1 | 0.658810 | 1.278130 | -1.047010 | 0.1797500 | 0.2424260 | 2701.45 | -1.177640 | -4.625 | 8.6 | 2.859 | 12 | 0.000000 | 7.0 | 34.836 | 0.190735 | 2.600 |\n",
       "| 2 | 0.659537 | 1.201000 | -0.546599 | 0.0595893 | 0.0920093 | 1115.63 | -1.394120 | -5.000 | 8.4 | 2.759 |  2 | 4.644391 | 7.2 | 34.835 | 0.268734 | 2.767 |\n",
       "| 3 | 0.617897 | 1.116710 | -0.551816 | 0.2451990 | 0.5341190 | 3630.16 | -1.099050 | -5.250 | 8.8 | 2.832 |  3 | 5.407172 | 7.8 | 34.795 | 0.236044 | 2.731 |\n",
       "| 4 | 0.673591 | 1.344420 | -0.970962 | 0.3927390 | 0.5908280 | 4718.94 | -0.954533 | -6.000 | 8.8 | 2.738 |  6 | 5.192957 | 5.4 | 34.800 | 0.218199 | 3.123 |\n",
       "| 5 | 0.543325 | 1.170400 | -1.006890 | 0.3533950 | 0.6396110 | 3903.53 | -1.064650 | -6.800 | 9.4 | 3.126 | 17 | 5.262690 | 4.9 |     NA | 0.188097 | 2.703 |\n",
       "| 6 | 0.525248 | 0.962226 | -0.846050 | 0.2566900 | 0.5890600 | 1968.25 | -1.173800 | -5.025 | 8.2 | 3.167 |  8 | 5.370638 | 7.4 | 34.820 | 0.241795 | 2.859 |\n",
       "\n"
      ],
      "text/plain": [
       "  intP_RSP mnChl_aw_RSP nmSST_aw_RSP intP_MCM  mnChl_aw_MCM mnOW_MCM\n",
       "1 0.658810 1.278130     -1.047010    0.1797500 0.2424260    2701.45 \n",
       "2 0.659537 1.201000     -0.546599    0.0595893 0.0920093    1115.63 \n",
       "3 0.617897 1.116710     -0.551816    0.2451990 0.5341190    3630.16 \n",
       "4 0.673591 1.344420     -0.970962    0.3927390 0.5908280    4718.94 \n",
       "5 0.543325 1.170400     -1.006890    0.3533950 0.6396110    3903.53 \n",
       "6 0.525248 0.962226     -0.846050    0.2566900 0.5890600    1968.25 \n",
       "  nmSST_aw_MCM mnAirTemp mnWind mnSIE OW_day_RSP logOW_day_MCM GyreSPD Salinity\n",
       "1 -1.177640    -4.625    8.6    2.859 12         0.000000      7.0     34.836  \n",
       "2 -1.394120    -5.000    8.4    2.759  2         4.644391      7.2     34.835  \n",
       "3 -1.099050    -5.250    8.8    2.832  3         5.407172      7.8     34.795  \n",
       "4 -0.954533    -6.000    8.8    2.738  6         5.192957      5.4     34.800  \n",
       "5 -1.064650    -6.800    9.4    3.126 17         5.262690      4.9         NA  \n",
       "6 -1.173800    -5.025    8.2    3.167  8         5.370638      7.4     34.820  \n",
       "  mnOW_RSP6 SIE_lag5\n",
       "1 0.190735  2.600   \n",
       "2 0.268734  2.767   \n",
       "3 0.236044  2.731   \n",
       "4 0.218199  3.123   \n",
       "5 0.188097  2.703   \n",
       "6 0.241795  2.859   "
      ]
     },
     "metadata": {},
     "output_type": "display_data"
    }
   ],
   "source": [
    "head(in_frame)"
   ]
  },
  {
   "cell_type": "markdown",
   "metadata": {},
   "source": [
    "# test without 2002"
   ]
  },
  {
   "cell_type": "code",
   "execution_count": 805,
   "metadata": {},
   "outputs": [],
   "source": [
    "in_frame2002 <- testChl %>% select (intP_RSP:mnChl_aw_RSP, nmSST_aw_RSP:GyreSPD, Salinity, mnOW_RSP6:SIE_lag5)"
   ]
  },
  {
   "cell_type": "markdown",
   "metadata": {},
   "source": [
    "# ARIMA"
   ]
  },
  {
   "cell_type": "code",
   "execution_count": 806,
   "metadata": {},
   "outputs": [
    {
     "name": "stdout",
     "output_type": "stream",
     "text": [
      "\n",
      " ARIMA(2,0,2) with non-zero mean : Inf\n",
      " ARIMA(0,0,0) with non-zero mean : -1.384252\n",
      " ARIMA(1,0,0) with non-zero mean : -4.529586\n",
      " ARIMA(0,0,1) with non-zero mean : -6.166314\n",
      " ARIMA(0,0,0) with zero mean     : -2.788807\n",
      " ARIMA(1,0,1) with non-zero mean : -4.23597\n",
      " ARIMA(0,0,2) with non-zero mean : Inf\n",
      " ARIMA(1,0,2) with non-zero mean : Inf\n",
      " ARIMA(0,0,1) with zero mean     : -3.662478\n",
      "\n",
      " Best model: ARIMA(0,0,1) with non-zero mean \n",
      "\n"
     ]
    }
   ],
   "source": [
    "#I included the trace function to understand the combination of p,d,q that arima checked to select the best model#\n",
    "amdl<-auto.arima(master_gr$growth_croz,ic=\"aic\", trace=TRUE)"
   ]
  },
  {
   "cell_type": "code",
   "execution_count": 807,
   "metadata": {},
   "outputs": [
    {
     "name": "stdout",
     "output_type": "stream",
     "text": [
      "Series: master_gr$growth_croz \n",
      "ARIMA(1,0,0) with drift \n",
      "\n",
      "Coefficients:\n",
      "          ar1   drift\n",
      "      -0.4919  0.0031\n",
      "s.e.   0.2439  0.0031\n",
      "\n",
      "sigma^2 estimated as 0.03936:  log likelihood=4.3\n",
      "AIC=-2.6   AICc=-0.76   BIC=-0.1\n",
      "\n",
      "Training set error measures:\n",
      "                     ME      RMSE       MAE  MPE MAPE      MASE         ACF1\n",
      "Training set 0.02206329 0.1863614 0.1299614 -Inf  Inf 0.6518501 -0.005703827\n"
     ]
    }
   ],
   "source": [
    "#checking best model\n",
    "mdl1<-Arima(master_gr$growth_croz,order=c(1,0,0),include.mean=F,include.drift=T)\n",
    "summary(mdl1)"
   ]
  },
  {
   "cell_type": "code",
   "execution_count": 808,
   "metadata": {},
   "outputs": [
    {
     "name": "stdout",
     "output_type": "stream",
     "text": [
      "\n",
      "\tLjung-Box test\n",
      "\n",
      "data:  Residuals from ARIMA(1,0,0) with drift\n",
      "Q* = 6.3256, df = 3, p-value = 0.0968\n",
      "\n",
      "Model df: 2.   Total lags used: 5\n",
      "\n"
     ]
    },
    {
     "data": {
      "image/png": "[encoded data removed]",
      "text/plain": [
       "plot without title"
      ]
     },
     "metadata": {
      "image/png": {
       "height": 420,
       "width": 420
      },
      "text/plain": {
       "height": 420,
       "width": 420
      }
     },
     "output_type": "display_data"
    }
   ],
   "source": [
    "checkresiduals(mdl1)"
   ]
  },
  {
   "cell_type": "code",
   "execution_count": 809,
   "metadata": {},
   "outputs": [
    {
     "name": "stdout",
     "output_type": "stream",
     "text": [
      "Series: master_gr$growth_croz \n",
      "ARIMA(2,0,0) with drift \n",
      "\n",
      "Coefficients:\n",
      "          ar1      ar2   drift\n",
      "      -0.5079  -0.2469  0.0030\n",
      "s.e.   0.2489   0.3604  0.0026\n",
      "\n",
      "sigma^2 estimated as 0.04097:  log likelihood=4.53\n",
      "AIC=-1.06   AICc=2.27   BIC=2.27\n",
      "\n",
      "Training set error measures:\n",
      "                     ME      RMSE       MAE  MPE MAPE      MASE        ACF1\n",
      "Training set 0.02739753 0.1836951 0.1272164 -Inf  Inf 0.6380823 -0.02928708\n"
     ]
    }
   ],
   "source": [
    "# Compare to:\n",
    "mdl1a<-Arima(master_gr$growth_croz,order=c(2,0,0),include.mean=F,include.drift=T)\n",
    "summary(mdl1a)"
   ]
  },
  {
   "cell_type": "code",
   "execution_count": 810,
   "metadata": {},
   "outputs": [
    {
     "name": "stdout",
     "output_type": "stream",
     "text": [
      "\n",
      "\tLjung-Box test\n",
      "\n",
      "data:  Residuals from ARIMA(2,0,0) with drift\n",
      "Q* = 4.6634, df = 3, p-value = 0.1982\n",
      "\n",
      "Model df: 3.   Total lags used: 6\n",
      "\n"
     ]
    },
    {
     "data": {
      "image/png": "[encoded data removed]",
      "text/plain": [
       "plot without title"
      ]
     },
     "metadata": {
      "image/png": {
       "height": 420,
       "width": 420
      },
      "text/plain": {
       "height": 420,
       "width": 420
      }
     },
     "output_type": "display_data"
    }
   ],
   "source": [
    "checkresiduals(mdl1a)"
   ]
  },
  {
   "cell_type": "code",
   "execution_count": 811,
   "metadata": {},
   "outputs": [
    {
     "data": {
      "image/png": "[encoded data removed]",
      "text/plain": [
       "plot without title"
      ]
     },
     "metadata": {
      "image/png": {
       "height": 420,
       "width": 420
      },
      "text/plain": {
       "height": 420,
       "width": 420
      }
     },
     "output_type": "display_data"
    }
   ],
   "source": [
    "autoplot(forecast(mdl1))\n"
   ]
  },
  {
   "cell_type": "markdown",
   "metadata": {},
   "source": [
    "# Plotting the correct trend"
   ]
  },
  {
   "cell_type": "code",
   "execution_count": 812,
   "metadata": {},
   "outputs": [],
   "source": [
    "adcroz<-master_gr$growth_croz\n",
    "names(adcroz)<-master_gr$year"
   ]
  },
  {
   "cell_type": "code",
   "execution_count": 813,
   "metadata": {},
   "outputs": [
    {
     "data": {
      "image/png": "[encoded data removed]",
      "text/plain": [
       "plot without title"
      ]
     },
     "metadata": {
      "image/png": {
       "height": 420,
       "width": 420
      },
      "text/plain": {
       "height": 420,
       "width": 420
      }
     },
     "output_type": "display_data"
    }
   ],
   "source": [
    "# Uncorrected trend\n",
    "ggtsdisplay(adcroz)"
   ]
  },
  {
   "cell_type": "code",
   "execution_count": 814,
   "metadata": {},
   "outputs": [
    {
     "data": {
      "image/png": "[encoded data removed]",
      "text/plain": [
       "plot without title"
      ]
     },
     "metadata": {
      "image/png": {
       "height": 420,
       "width": 420
      },
      "text/plain": {
       "height": 420,
       "width": 420
      }
     },
     "output_type": "display_data"
    }
   ],
   "source": [
    "pdf<-data.frame(year=master_gr$year,uncorr=mdl1$x,corr=fitted(mdl1))\n",
    "ggplot(pdf,aes(x=year,y=uncorr)) + geom_point() + geom_line(aes(y=corr),color=\"blue\")"
   ]
  },
  {
   "cell_type": "code",
   "execution_count": 815,
   "metadata": {},
   "outputs": [],
   "source": [
    "save(adcroz,pdf,file=\"/home/ubuntu/Workspace/Anthropocene/data/bestModeldata.RData\")"
   ]
  },
  {
   "cell_type": "markdown",
   "metadata": {},
   "source": [
    "# Playing around with the covariates"
   ]
  },
  {
   "cell_type": "markdown",
   "metadata": {},
   "source": [
    "## Removing drift term and including (1,0,0) structure"
   ]
  },
  {
   "cell_type": "markdown",
   "metadata": {},
   "source": [
    "## 1st: VIF to select the environmental variables to include in the saturated model"
   ]
  },
  {
   "cell_type": "code",
   "execution_count": 816,
   "metadata": {},
   "outputs": [
    {
     "name": "stdout",
     "output_type": "stream",
     "text": [
      " var           vif\n",
      " intP_RSP      Inf\n",
      " mnChl_aw_RSP  Inf\n",
      " nmSST_aw_RSP  Inf\n",
      " intP_MCM      Inf\n",
      " mnChl_aw_MCM  Inf\n",
      " mnOW_MCM      Inf\n",
      " nmSST_aw_MCM  Inf\n",
      " mnAirTemp     Inf\n",
      " mnWind        Inf\n",
      " mnSIE         Inf\n",
      " OW_day_RSP    Inf\n",
      " logOW_day_MCM Inf\n",
      " GyreSPD       Inf\n",
      " Salinity      Inf\n",
      " mnOW_RSP6     Inf\n",
      " SIE_lag5      Inf\n",
      "\n",
      "removed:  intP_RSP Inf \n",
      "\n",
      " var           vif\n",
      " mnChl_aw_RSP  Inf\n",
      " nmSST_aw_RSP  Inf\n",
      " intP_MCM      Inf\n",
      " mnChl_aw_MCM  Inf\n",
      " mnOW_MCM      Inf\n",
      " nmSST_aw_MCM  Inf\n",
      " mnAirTemp     Inf\n",
      " mnWind        Inf\n",
      " mnSIE         Inf\n",
      " OW_day_RSP    Inf\n",
      " logOW_day_MCM Inf\n",
      " GyreSPD       Inf\n",
      " Salinity      Inf\n",
      " mnOW_RSP6     Inf\n",
      " SIE_lag5      Inf\n",
      "\n",
      "removed:  mnChl_aw_RSP Inf \n",
      "\n",
      " var           vif\n",
      " nmSST_aw_RSP  Inf\n",
      " intP_MCM      Inf\n",
      " mnChl_aw_MCM  Inf\n",
      " mnOW_MCM      Inf\n",
      " nmSST_aw_MCM  Inf\n",
      " mnAirTemp     Inf\n",
      " mnWind        Inf\n",
      " mnSIE         Inf\n",
      " OW_day_RSP    Inf\n",
      " logOW_day_MCM Inf\n",
      " GyreSPD       Inf\n",
      " Salinity      Inf\n",
      " mnOW_RSP6     Inf\n",
      " SIE_lag5      Inf\n",
      "\n",
      "removed:  nmSST_aw_RSP Inf \n",
      "\n",
      " var           vif\n",
      " intP_MCM      Inf\n",
      " mnChl_aw_MCM  Inf\n",
      " mnOW_MCM      Inf\n",
      " nmSST_aw_MCM  Inf\n",
      " mnAirTemp     Inf\n",
      " mnWind        Inf\n",
      " mnSIE         Inf\n",
      " OW_day_RSP    Inf\n",
      " logOW_day_MCM Inf\n",
      " GyreSPD       Inf\n",
      " Salinity      Inf\n",
      " mnOW_RSP6     Inf\n",
      " SIE_lag5      Inf\n",
      "\n",
      "removed:  intP_MCM Inf \n",
      "\n",
      " var           vif\n",
      " mnChl_aw_MCM  Inf\n",
      " mnOW_MCM      Inf\n",
      " nmSST_aw_MCM  Inf\n",
      " mnAirTemp     Inf\n",
      " mnWind        Inf\n",
      " mnSIE         Inf\n",
      " OW_day_RSP    Inf\n",
      " logOW_day_MCM Inf\n",
      " GyreSPD       Inf\n",
      " Salinity      Inf\n",
      " mnOW_RSP6     Inf\n",
      " SIE_lag5      Inf\n",
      "\n",
      "removed:  mnChl_aw_MCM Inf \n",
      "\n",
      " var           vif\n",
      " mnOW_MCM      Inf\n",
      " nmSST_aw_MCM  Inf\n",
      " mnAirTemp     Inf\n",
      " mnWind        Inf\n",
      " mnSIE         Inf\n",
      " OW_day_RSP    Inf\n",
      " logOW_day_MCM Inf\n",
      " GyreSPD       Inf\n",
      " Salinity      Inf\n",
      " mnOW_RSP6     Inf\n",
      " SIE_lag5      Inf\n",
      "\n",
      "removed:  mnOW_MCM Inf \n",
      "\n",
      " var           vif             \n",
      " nmSST_aw_MCM  9.37318766777265\n",
      " mnAirTemp     15.6826172265014\n",
      " mnWind        3.55923001653173\n",
      " mnSIE         3.80391117986775\n",
      " OW_day_RSP    3.85189663080153\n",
      " logOW_day_MCM 42.1064325017568\n",
      " GyreSPD       50.1030995765285\n",
      " Salinity      9.21060323904965\n",
      " mnOW_RSP6     13.5612379799745\n",
      " SIE_lag5      61.3570065409568\n",
      "\n",
      "removed:  SIE_lag5 61.35701 \n",
      "\n"
     ]
    },
    {
     "data": {
      "text/html": [
       "<style>\n",
       ".list-inline {list-style: none; margin:0; padding: 0}\n",
       ".list-inline>li {display: inline-block}\n",
       ".list-inline>li:not(:last-child)::after {content: \"\\00b7\"; padding: 0 .5ex}\n",
       "</style>\n",
       "<ol class=list-inline><li>'nmSST_aw_MCM'</li><li>'mnAirTemp'</li><li>'mnWind'</li><li>'mnSIE'</li><li>'OW_day_RSP'</li><li>'logOW_day_MCM'</li><li>'GyreSPD'</li><li>'Salinity'</li><li>'mnOW_RSP6'</li></ol>\n"
      ],
      "text/latex": [
       "\\begin{enumerate*}\n",
       "\\item 'nmSST\\_aw\\_MCM'\n",
       "\\item 'mnAirTemp'\n",
       "\\item 'mnWind'\n",
       "\\item 'mnSIE'\n",
       "\\item 'OW\\_day\\_RSP'\n",
       "\\item 'logOW\\_day\\_MCM'\n",
       "\\item 'GyreSPD'\n",
       "\\item 'Salinity'\n",
       "\\item 'mnOW\\_RSP6'\n",
       "\\end{enumerate*}\n"
      ],
      "text/markdown": [
       "1. 'nmSST_aw_MCM'\n",
       "2. 'mnAirTemp'\n",
       "3. 'mnWind'\n",
       "4. 'mnSIE'\n",
       "5. 'OW_day_RSP'\n",
       "6. 'logOW_day_MCM'\n",
       "7. 'GyreSPD'\n",
       "8. 'Salinity'\n",
       "9. 'mnOW_RSP6'\n",
       "\n",
       "\n"
      ],
      "text/plain": [
       "[1] \"nmSST_aw_MCM\"  \"mnAirTemp\"     \"mnWind\"        \"mnSIE\"        \n",
       "[5] \"OW_day_RSP\"    \"logOW_day_MCM\" \"GyreSPD\"       \"Salinity\"     \n",
       "[9] \"mnOW_RSP6\"    "
      ]
     },
     "metadata": {},
     "output_type": "display_data"
    }
   ],
   "source": [
    "#threshold at 10 (it’s equivalent to explaining 99% of the information in a variable by the set of the other covariates).\n",
    "\n",
    "#select covariates based on variance inflation\n",
    "\n",
    "vif_func<-function(in_frame,thresh=10,trace=T,...){\n",
    "  \n",
    "  \n",
    "  \n",
    "  if(class(in_frame) != 'data.frame') in_frame<-data.frame(in_frame)\n",
    "  \n",
    "  \n",
    "  \n",
    "  #get initial vif value for all comparisons of variables\n",
    "  \n",
    "  vif_init<-NULL\n",
    "  \n",
    "  var_names <- names(in_frame)\n",
    "  \n",
    "  for(val in var_names){\n",
    "    \n",
    "    regressors <- var_names[-which(var_names == val)]\n",
    "    \n",
    "    form <- paste(regressors, collapse = '+')\n",
    "    \n",
    "    form_in <- formula(paste(val, '~', form))\n",
    "    \n",
    "    vif_init<-rbind(vif_init, c(val, VIF(lm(form_in, data = in_frame, ...))))\n",
    "    \n",
    "  }\n",
    "  \n",
    "  vif_max<-max(as.numeric(vif_init[,2]), na.rm = TRUE)\n",
    "  \n",
    "  \n",
    "  \n",
    "  if(vif_max < thresh){\n",
    "    \n",
    "    if(trace==T){ #print output of each iteration\n",
    "      \n",
    "      prmatrix(vif_init,collab=c('var','vif'),rowlab=rep('',nrow(vif_init)),quote=F)\n",
    "      \n",
    "      cat('\\n')\n",
    "      \n",
    "      cat(paste('All variables have VIF < ', thresh,', max VIF ',round(vif_max,2), sep=''),'\\n\\n')\n",
    "      \n",
    "    }\n",
    "    \n",
    "    return(var_names)\n",
    "    \n",
    "  }\n",
    "  \n",
    "  else{\n",
    "    \n",
    "    \n",
    "    \n",
    "    in_dat<-in_frame\n",
    "    \n",
    "    \n",
    "    \n",
    "    #backwards selection of explanatory variables, stops when all VIF values are below 'thresh'\n",
    "    \n",
    "    while(vif_max >= thresh){\n",
    "      \n",
    "      \n",
    "      \n",
    "      vif_vals<-NULL\n",
    "      \n",
    "      var_names <- names(in_dat)\n",
    "      \n",
    "      \n",
    "      \n",
    "      for(val in var_names){\n",
    "        \n",
    "        regressors <- var_names[-which(var_names == val)]\n",
    "        \n",
    "        form <- paste(regressors, collapse = '+')\n",
    "        \n",
    "        form_in <- formula(paste(val, '~', form))\n",
    "        \n",
    "        vif_add<-VIF(lm(form_in, data = in_dat, ...))\n",
    "        \n",
    "        vif_vals<-rbind(vif_vals,c(val,vif_add))\n",
    "        \n",
    "      }\n",
    "      \n",
    "      max_row<-which(vif_vals[,2] == max(as.numeric(vif_vals[,2]), na.rm = TRUE))[1]\n",
    "      \n",
    "      \n",
    "      \n",
    "      vif_max<-as.numeric(vif_vals[max_row,2])\n",
    "      \n",
    "      \n",
    "      \n",
    "      if(vif_max<thresh) break\n",
    "      \n",
    "      \n",
    "      \n",
    "      if(trace==T){ #print output of each iteration\n",
    "        \n",
    "        prmatrix(vif_vals,collab=c('var','vif'),rowlab=rep('',nrow(vif_vals)),quote=F)\n",
    "        \n",
    "        cat('\\n')\n",
    "        \n",
    "        cat('removed: ',vif_vals[max_row,1],vif_max,'\\n\\n')\n",
    "        \n",
    "        flush.console()\n",
    "        \n",
    "      }\n",
    "      \n",
    "      \n",
    "      \n",
    "      in_dat<-in_dat[,!names(in_dat) %in% vif_vals[max_row,1]]\n",
    "      \n",
    "      \n",
    "      \n",
    "    }\n",
    "    \n",
    "    \n",
    "    \n",
    "    return(names(in_dat))\n",
    "    \n",
    "    \n",
    "    \n",
    "  }\n",
    "  \n",
    "  \n",
    "  \n",
    "}\n",
    "  \n",
    "vif_func(in_frame,thresh=10,trace=T)"
   ]
  },
  {
   "cell_type": "markdown",
   "metadata": {},
   "source": [
    "# Chl, and Productivity showed up as redundant variables, so I don't include them in the saturated model, specially because how difficult is to give a rationale to link productivity with anything at the Ross Sea\n",
    " "
   ]
  },
  {
   "cell_type": "code",
   "execution_count": 817,
   "metadata": {},
   "outputs": [
    {
     "data": {
      "text/plain": [
       "\n",
       "\tSpearman's rank correlation rho\n",
       "\n",
       "data:  master_gr$nmSST_aw_RSP and master_gr$mnOW_RSP6\n",
       "S = 240, p-value = 0.008217\n",
       "alternative hypothesis: true rho is not equal to 0\n",
       "sample estimates:\n",
       "      rho \n",
       "0.6470588 \n"
      ]
     },
     "metadata": {},
     "output_type": "display_data"
    },
    {
     "data": {
      "text/plain": [
       "\n",
       "\tSpearman's rank correlation rho\n",
       "\n",
       "data:  master_gr$SIE_lag4 and master_gr$mnOW_RSP6_lag4\n",
       "S = 580, p-value = 0.2593\n",
       "alternative hypothesis: true rho is not equal to 0\n",
       "sample estimates:\n",
       "      rho \n",
       "0.2892157 \n"
      ]
     },
     "metadata": {},
     "output_type": "display_data"
    }
   ],
   "source": [
    "#correlation test\n",
    "test <- cor.test(master_gr$nmSST_aw_RSP, master_gr$mnOW_RSP6, method= \"spearman\")\n",
    "test\n",
    "\n",
    "test <- cor.test(master_gr$SIE_lag4, master_gr$mnOW_RSP6_lag4, method= \"spearman\")\n",
    "test\n"
   ]
  },
  {
   "cell_type": "code",
   "execution_count": 818,
   "metadata": {},
   "outputs": [
    {
     "name": "stderr",
     "output_type": "stream",
     "text": [
      "Warning message in cor.test.default(master_gr$nmSST_aw_RSP, master_gr$OW_day_RSP, :\n",
      "“Cannot compute exact p-value with ties”\n"
     ]
    },
    {
     "data": {
      "text/plain": [
       "\n",
       "\tSpearman's rank correlation rho\n",
       "\n",
       "data:  master_gr$nmSST_aw_RSP and master_gr$OW_day_RSP\n",
       "S = 962.5, p-value = 0.1095\n",
       "alternative hypothesis: true rho is not equal to 0\n",
       "sample estimates:\n",
       "       rho \n",
       "-0.4154467 \n"
      ]
     },
     "metadata": {},
     "output_type": "display_data"
    }
   ],
   "source": [
    "#correlation test\n",
    "test <- cor.test(master_gr$nmSST_aw_RSP, master_gr$OW_day_RSP, method= \"spearman\")\n",
    "test"
   ]
  },
  {
   "cell_type": "markdown",
   "metadata": {},
   "source": [
    "# Saturated model"
   ]
  },
  {
   "cell_type": "code",
   "execution_count": 819,
   "metadata": {},
   "outputs": [
    {
     "name": "stdout",
     "output_type": "stream",
     "text": [
      "Series: master_gr$growth_croz \n",
      "Regression with ARIMA(1,0,0) errors \n",
      "\n",
      "Coefficients:\n",
      "          ar1  av_SIE  GyreSPD   mnWind  Fish_cum3  mnAirTemp  nmSST_aw_RSP\n",
      "      -0.7449  0.0806   0.0507  -0.0283     0.0053    -0.0072        0.5048\n",
      "s.e.   0.1960  0.1719   0.0523   0.0808     0.0060     0.0590        0.2641\n",
      "      OW_day_RSP\n",
      "         -0.0032\n",
      "s.e.      0.0100\n",
      "\n",
      "sigma^2 estimated as 0.04079:  log likelihood=8.02\n",
      "AIC=1.96   AICc=37.96   BIC=8.33\n",
      "\n",
      "Training set error measures:\n",
      "                      ME      RMSE       MAE       MPE     MAPE      MASE\n",
      "Training set -0.01110291 0.1379761 0.1218532 -39.61625 244.9121 0.6111818\n",
      "                   ACF1\n",
      "Training set -0.2277898\n"
     ]
    }
   ],
   "source": [
    "cov_sat_growth<-as.matrix(master_gr[,c(\"av_SIE\", \"GyreSPD\", \n",
    "                              \"mnWind\",   \"Fish_cum3\",\n",
    "                                       \"mnAirTemp\", \"nmSST_aw_RSP\", \"OW_day_RSP\" )]) #, \"mnOW_RSP6\"\n",
    "mdlsat<-Arima(master_gr$growth_croz,order=c(1,0,0),include.mean=F,include.drift=F,xreg= cov_sat_growth)\n",
    "summary(mdlsat)"
   ]
  },
  {
   "cell_type": "code",
   "execution_count": 820,
   "metadata": {},
   "outputs": [
    {
     "data": {
      "text/plain": [
       "\n",
       "z test of coefficients:\n",
       "\n",
       "               Estimate Std. Error z value  Pr(>|z|)    \n",
       "ar1          -0.7449009  0.1959740 -3.8010 0.0001441 ***\n",
       "av_SIE        0.0805683  0.1719023  0.4687 0.6392936    \n",
       "GyreSPD       0.0507324  0.0522804  0.9704 0.3318519    \n",
       "mnWind       -0.0283142  0.0808474 -0.3502 0.7261753    \n",
       "Fish_cum3     0.0053087  0.0059931  0.8858 0.3757242    \n",
       "mnAirTemp    -0.0071563  0.0589850 -0.1213 0.9034341    \n",
       "nmSST_aw_RSP  0.5047634  0.2641278  1.9111 0.0559972 .  \n",
       "OW_day_RSP   -0.0032190  0.0099754 -0.3227 0.7469300    \n",
       "---\n",
       "Signif. codes:  0 ‘***’ 0.001 ‘**’ 0.01 ‘*’ 0.05 ‘.’ 0.1 ‘ ’ 1\n"
      ]
     },
     "metadata": {},
     "output_type": "display_data"
    }
   ],
   "source": [
    "coeftest(mdlsat)"
   ]
  },
  {
   "cell_type": "code",
   "execution_count": 821,
   "metadata": {},
   "outputs": [
    {
     "name": "stdout",
     "output_type": "stream",
     "text": [
      "Series: master_gr$growth_croz \n",
      "Regression with ARIMA(1,0,0) errors \n",
      "\n",
      "Coefficients:\n",
      "          ar1  av_SIE  GyreSPD   mnWind  Fish_cum3  mnAirTemp  nmSST_aw_RSP\n",
      "      -0.7597  0.0710   0.0616  -0.0320     0.0066     0.0004        0.5392\n",
      "s.e.   0.1799  0.1685   0.0398   0.0795     0.0044     0.0540        0.2416\n",
      "\n",
      "sigma^2 estimated as 0.03582:  log likelihood=7.97\n",
      "AIC=0.06   AICc=24.06   BIC=5.73\n",
      "\n",
      "Training set error measures:\n",
      "                     ME      RMSE       MAE       MPE     MAPE      MASE\n",
      "Training set -0.0108102 0.1382236 0.1221392 -101.4121 307.2488 0.6126164\n",
      "                  ACF1\n",
      "Training set -0.262729\n"
     ]
    }
   ],
   "source": [
    "cov_sat_growth<-as.matrix(master_gr[,c(\"av_SIE\", \"GyreSPD\", \n",
    "                              \"mnWind\",   \"Fish_cum3\",\n",
    "                                       \"mnAirTemp\", \"nmSST_aw_RSP\")]) #, \"mnOW_RSP6\", \"OW_day_RSP\" \n",
    "mdlsat<-Arima(master_gr$growth_croz,order=c(1,0,0),include.mean=F,include.drift=F,xreg= cov_sat_growth)\n",
    "summary(mdlsat)"
   ]
  },
  {
   "cell_type": "code",
   "execution_count": 822,
   "metadata": {},
   "outputs": [
    {
     "data": {
      "text/plain": [
       "\n",
       "z test of coefficients:\n",
       "\n",
       "                Estimate  Std. Error z value  Pr(>|z|)    \n",
       "ar1          -0.75971594  0.17987820 -4.2235 2.405e-05 ***\n",
       "av_SIE        0.07097624  0.16845555  0.4213   0.67351    \n",
       "GyreSPD       0.06155820  0.03984975  1.5448   0.12240    \n",
       "mnWind       -0.03200325  0.07950250 -0.4025   0.68728    \n",
       "Fish_cum3     0.00661200  0.00444063  1.4890   0.13649    \n",
       "mnAirTemp     0.00036925  0.05399005  0.0068   0.99454    \n",
       "nmSST_aw_RSP  0.53922435  0.24164262  2.2315   0.02565 *  \n",
       "---\n",
       "Signif. codes:  0 ‘***’ 0.001 ‘**’ 0.01 ‘*’ 0.05 ‘.’ 0.1 ‘ ’ 1\n"
      ]
     },
     "metadata": {},
     "output_type": "display_data"
    }
   ],
   "source": [
    "coeftest(mdlsat)"
   ]
  },
  {
   "cell_type": "markdown",
   "metadata": {},
   "source": [
    "# Including lags"
   ]
  },
  {
   "cell_type": "code",
   "execution_count": 823,
   "metadata": {},
   "outputs": [
    {
     "name": "stdout",
     "output_type": "stream",
     "text": [
      "Series: master_gr$growth_croz \n",
      "Regression with ARIMA(1,0,0) errors \n",
      "\n",
      "Coefficients:\n",
      "          ar1  av_SIE  SIE_lag5  GyreSPD  mnWind  nmSST_aw_RSP  Fish_cum3\n",
      "      -0.8078  0.1861   -0.2857   0.0284  0.0851        0.7405     0.0076\n",
      "s.e.   0.1517  0.1587    0.1541   0.0392  0.0950        0.2412     0.0040\n",
      "      mnAirTemp\n",
      "         0.0364\n",
      "s.e.     0.0514\n",
      "\n",
      "sigma^2 estimated as 0.03304:  log likelihood=9.48\n",
      "AIC=-0.96   AICc=35.04   BIC=5.41\n",
      "\n",
      "Training set error measures:\n",
      "                       ME      RMSE       MAE      MPE    MAPE      MASE\n",
      "Training set -0.008728568 0.1241643 0.1012963 30.68707 218.304 0.5080739\n",
      "                   ACF1\n",
      "Training set -0.4468092\n"
     ]
    }
   ],
   "source": [
    "#\"SIE_lag5\"\n",
    "cov_sat_growth<-as.matrix(master_gr[,c(\"av_SIE\",\"SIE_lag5\", \"GyreSPD\", \n",
    "                              \"mnWind\",  \"nmSST_aw_RSP\",  \"Fish_cum3\",\n",
    "                                       \"mnAirTemp\")]) # \"mnOW_RSP6\"\n",
    "mdlsat<-Arima(master_gr$growth_croz,order=c(1,0,0),include.mean=F,include.drift=F,xreg= cov_sat_growth)\n",
    "summary(mdlsat)"
   ]
  },
  {
   "cell_type": "code",
   "execution_count": 824,
   "metadata": {},
   "outputs": [
    {
     "data": {
      "text/plain": [
       "\n",
       "z test of coefficients:\n",
       "\n",
       "               Estimate Std. Error z value  Pr(>|z|)    \n",
       "ar1          -0.8078190  0.1517281 -5.3241 1.014e-07 ***\n",
       "av_SIE        0.1861435  0.1587155  1.1728   0.24087    \n",
       "SIE_lag5     -0.2856861  0.1541492 -1.8533   0.06384 .  \n",
       "GyreSPD       0.0283661  0.0391863  0.7239   0.46914    \n",
       "mnWind        0.0850770  0.0950431  0.8951   0.37071    \n",
       "nmSST_aw_RSP  0.7404656  0.2411884  3.0701   0.00214 ** \n",
       "Fish_cum3     0.0076273  0.0039632  1.9246   0.05429 .  \n",
       "mnAirTemp     0.0364419  0.0514200  0.7087   0.47850    \n",
       "---\n",
       "Signif. codes:  0 ‘***’ 0.001 ‘**’ 0.01 ‘*’ 0.05 ‘.’ 0.1 ‘ ’ 1\n"
      ]
     },
     "metadata": {},
     "output_type": "display_data"
    }
   ],
   "source": [
    "coeftest(mdlsat)"
   ]
  },
  {
   "cell_type": "code",
   "execution_count": 825,
   "metadata": {},
   "outputs": [
    {
     "name": "stdout",
     "output_type": "stream",
     "text": [
      "Series: master_gr$growth_croz \n",
      "Regression with ARIMA(1,0,0) errors \n",
      "\n",
      "Coefficients:\n",
      "          ar1  av_SIE  SIE_lag4  GyreSPD  mnWind  nmSST_aw_RSP  Fish_cum3\n",
      "      -0.8156  0.1408   -0.2158   0.0673  0.0357        0.6637     0.0088\n",
      "s.e.   0.1459  0.1447    0.0976   0.0330  0.0746        0.2136     0.0039\n",
      "      mnAirTemp\n",
      "         0.0320\n",
      "s.e.     0.0479\n",
      "\n",
      "sigma^2 estimated as 0.0306:  log likelihood=10.04\n",
      "AIC=-2.07   AICc=33.93   BIC=4.3\n",
      "\n",
      "Training set error measures:\n",
      "                      ME      RMSE       MAE      MPE     MAPE      MASE\n",
      "Training set -0.00766083 0.1194971 0.1002572 78.86195 190.4203 0.5028623\n",
      "                   ACF1\n",
      "Training set -0.5108577\n"
     ]
    }
   ],
   "source": [
    "#SIE_lag4\",\n",
    "cov_sat_growth<-as.matrix(master_gr[,c(\"av_SIE\", \"SIE_lag4\", \"GyreSPD\", \n",
    "                              \"mnWind\",  \"nmSST_aw_RSP\",  \"Fish_cum3\",\n",
    "                                       \"mnAirTemp\")]) #, \"mnOW_RSP6\"\n",
    "mdlsat<-Arima(master_gr$growth_croz,order=c(1,0,0),include.mean=F,include.drift=F,xreg= cov_sat_growth)\n",
    "summary(mdlsat)"
   ]
  },
  {
   "cell_type": "code",
   "execution_count": 826,
   "metadata": {},
   "outputs": [
    {
     "data": {
      "text/plain": [
       "\n",
       "z test of coefficients:\n",
       "\n",
       "               Estimate Std. Error z value Pr(>|z|)    \n",
       "ar1          -0.8156260  0.1459457 -5.5886 2.29e-08 ***\n",
       "av_SIE        0.1407676  0.1447405  0.9726 0.330776    \n",
       "SIE_lag4     -0.2158406  0.0975760 -2.2120 0.026965 *  \n",
       "GyreSPD       0.0672860  0.0330499  2.0359 0.041761 *  \n",
       "mnWind        0.0356924  0.0746079  0.4784 0.632365    \n",
       "nmSST_aw_RSP  0.6636579  0.2135953  3.1071 0.001889 ** \n",
       "Fish_cum3     0.0088120  0.0039248  2.2452 0.024754 *  \n",
       "mnAirTemp     0.0319797  0.0478556  0.6683 0.503971    \n",
       "---\n",
       "Signif. codes:  0 ‘***’ 0.001 ‘**’ 0.01 ‘*’ 0.05 ‘.’ 0.1 ‘ ’ 1\n"
      ]
     },
     "metadata": {},
     "output_type": "display_data"
    }
   ],
   "source": [
    "coeftest(mdlsat)"
   ]
  },
  {
   "cell_type": "code",
   "execution_count": 827,
   "metadata": {},
   "outputs": [
    {
     "name": "stdout",
     "output_type": "stream",
     "text": [
      "Series: master_gr$growth_croz \n",
      "Regression with ARIMA(1,0,0) errors \n",
      "\n",
      "Coefficients:\n",
      "          ar1  av_SIE  SIE_lag4  GyreSPD  mnWind  nmSST_aw_RSP\n",
      "      -0.8081  0.1108   -0.1949   0.0573  0.0570        0.6555\n",
      "s.e.   0.1492  0.1517    0.1031   0.0370  0.0822        0.2120\n",
      "      nmSST_aw_RSP_lag4  Fish_cum3  mnAirTemp\n",
      "                 0.0995     0.0090     0.0362\n",
      "s.e.             0.1678     0.0039     0.0480\n",
      "\n",
      "sigma^2 estimated as 0.03496:  log likelihood=10.21\n",
      "AIC=-0.42   AICc=54.58   BIC=6.66\n",
      "\n",
      "Training set error measures:\n",
      "                       ME      RMSE       MAE      MPE     MAPE      MASE\n",
      "Training set -0.007221312 0.1182512 0.1000737 14.58842 248.1858 0.5019418\n",
      "                   ACF1\n",
      "Training set -0.4571292\n"
     ]
    }
   ],
   "source": [
    "#SIE_lag4\", \"nmSST_aw_RSP_lag5\" and \"nmSST_aw_RSP_lag4\",,\n",
    "cov_sat_growth<-as.matrix(master_gr[,c(\"av_SIE\", \"SIE_lag4\", \"GyreSPD\", \n",
    "                              \"mnWind\",  \"nmSST_aw_RSP\", \"nmSST_aw_RSP_lag4\", \"Fish_cum3\",\n",
    "                                       \"mnAirTemp\")]) #, \"mnOW_RSP6\"\n",
    "mdlsat<-Arima(master_gr$growth_croz,order=c(1,0,0),include.mean=F,include.drift=F,xreg= cov_sat_growth)\n",
    "summary(mdlsat)"
   ]
  },
  {
   "cell_type": "code",
   "execution_count": 828,
   "metadata": {},
   "outputs": [
    {
     "data": {
      "text/plain": [
       "\n",
       "z test of coefficients:\n",
       "\n",
       "                    Estimate Std. Error z value  Pr(>|z|)    \n",
       "ar1               -0.8081044  0.1492172 -5.4156 6.107e-08 ***\n",
       "av_SIE             0.1107936  0.1516862  0.7304  0.465137    \n",
       "SIE_lag4          -0.1948543  0.1030902 -1.8901  0.058740 .  \n",
       "GyreSPD            0.0573341  0.0369822  1.5503  0.121065    \n",
       "mnWind             0.0569624  0.0822062  0.6929  0.488359    \n",
       "nmSST_aw_RSP       0.6555387  0.2120364  3.0916  0.001991 ** \n",
       "nmSST_aw_RSP_lag4  0.0994975  0.1677709  0.5931  0.553144    \n",
       "Fish_cum3          0.0089613  0.0038906  2.3033  0.021263 *  \n",
       "mnAirTemp          0.0362172  0.0480176  0.7542  0.450700    \n",
       "---\n",
       "Signif. codes:  0 ‘***’ 0.001 ‘**’ 0.01 ‘*’ 0.05 ‘.’ 0.1 ‘ ’ 1\n"
      ]
     },
     "metadata": {},
     "output_type": "display_data"
    }
   ],
   "source": [
    "coeftest(mdlsat)"
   ]
  },
  {
   "cell_type": "code",
   "execution_count": 829,
   "metadata": {},
   "outputs": [
    {
     "name": "stdout",
     "output_type": "stream",
     "text": [
      "Series: master_gr$growth_croz \n",
      "Regression with ARIMA(1,0,0) errors \n",
      "\n",
      "Coefficients:\n",
      "          ar1  av_SIE  SIE_lag4  GyreSPD  mnWind  nmSST_aw_RSP  Fish_cum3\n",
      "      -0.7865  0.0698   -0.3388   0.0594  0.0433        0.6293     0.0083\n",
      "s.e.   0.1673  0.1390    0.1075   0.0303  0.0679        0.1904     0.0035\n",
      "      mnAirTemp  mnAirTemp_lag5\n",
      "        -0.0002         -0.0678\n",
      "s.e.     0.0460          0.0345\n",
      "\n",
      "sigma^2 estimated as 0.0283:  log likelihood=11.84\n",
      "AIC=-3.69   AICc=51.31   BIC=3.4\n",
      "\n",
      "Training set error measures:\n",
      "                       ME      RMSE        MAE      MPE     MAPE      MASE\n",
      "Training set -0.006265101 0.1063968 0.07685182 224.6399 262.5587 0.3854673\n",
      "                  ACF1\n",
      "Training set -0.492519\n"
     ]
    }
   ],
   "source": [
    "#\"mnAirTemp_lag5\" and \"mnAirTemp_lag4\"\n",
    "cov_sat_growth<-as.matrix(master_gr[,c(\"av_SIE\", \"SIE_lag4\", \"GyreSPD\", \n",
    "                              \"mnWind\",  \"nmSST_aw_RSP\", \"Fish_cum3\",\n",
    "                                       \"mnAirTemp\", \"mnAirTemp_lag5\")]) #, \"mnOW_RSP6\"\n",
    "mdlsat<-Arima(master_gr$growth_croz,order=c(1,0,0),include.mean=F,include.drift=F,xreg= cov_sat_growth)\n",
    "summary(mdlsat)"
   ]
  },
  {
   "cell_type": "code",
   "execution_count": 830,
   "metadata": {},
   "outputs": [
    {
     "data": {
      "text/plain": [
       "\n",
       "z test of coefficients:\n",
       "\n",
       "                  Estimate  Std. Error z value  Pr(>|z|)    \n",
       "ar1            -0.78652752  0.16726204 -4.7024 2.572e-06 ***\n",
       "av_SIE          0.06979434  0.13903220  0.5020 0.6156666    \n",
       "SIE_lag4       -0.33877938  0.10747515 -3.1522 0.0016206 ** \n",
       "GyreSPD         0.05937612  0.03030754  1.9591 0.0500987 .  \n",
       "mnWind          0.04330651  0.06792510  0.6376 0.5237583    \n",
       "nmSST_aw_RSP    0.62925146  0.19041614  3.3046 0.0009511 ***\n",
       "Fish_cum3       0.00831691  0.00352902  2.3567 0.0184372 *  \n",
       "mnAirTemp      -0.00019232  0.04596011 -0.0042 0.9966613    \n",
       "mnAirTemp_lag5 -0.06776420  0.03446552 -1.9661 0.0492819 *  \n",
       "---\n",
       "Signif. codes:  0 ‘***’ 0.001 ‘**’ 0.01 ‘*’ 0.05 ‘.’ 0.1 ‘ ’ 1\n"
      ]
     },
     "metadata": {},
     "output_type": "display_data"
    }
   ],
   "source": [
    "coeftest(mdlsat)"
   ]
  },
  {
   "cell_type": "code",
   "execution_count": 831,
   "metadata": {},
   "outputs": [
    {
     "name": "stdout",
     "output_type": "stream",
     "text": [
      "Series: master_gr$growth_croz \n",
      "Regression with ARIMA(1,0,0) errors \n",
      "\n",
      "Coefficients:\n",
      "          ar1  av_SIE  SIE_lag4  GyreSPD  mnWind  nmSST_aw_RSP  Fish_cum3\n",
      "      -0.7865  0.0698   -0.3388   0.0594  0.0433        0.6293     0.0083\n",
      "s.e.   0.1673  0.1390    0.1075   0.0303  0.0679        0.1904     0.0035\n",
      "      mnAirTemp  mnAirTemp_lag5\n",
      "        -0.0002         -0.0678\n",
      "s.e.     0.0460          0.0345\n",
      "\n",
      "sigma^2 estimated as 0.0283:  log likelihood=11.84\n",
      "AIC=-3.69   AICc=51.31   BIC=3.4\n",
      "\n",
      "Training set error measures:\n",
      "                       ME      RMSE        MAE      MPE     MAPE      MASE\n",
      "Training set -0.006265101 0.1063968 0.07685182 224.6399 262.5587 0.3854673\n",
      "                  ACF1\n",
      "Training set -0.492519\n"
     ]
    }
   ],
   "source": [
    "#\"mnOW_RSP6_lag5\" and \"mnOW_RSP6_lag4\" \n",
    "cov_sat_growth<-as.matrix(master_gr[,c(\"av_SIE\", \"SIE_lag4\", \"GyreSPD\", \n",
    "                              \"mnWind\",  \"nmSST_aw_RSP\", \"Fish_cum3\", \"mnAirTemp\",\n",
    "                                       \"mnAirTemp_lag5\")]) #, \"mnOW_RSP6_lag5\", , \"mnOW_RSP6\"\n",
    "mdlsat<-Arima(master_gr$growth_croz,order=c(1,0,0),include.mean=F,include.drift=F,xreg= cov_sat_growth)\n",
    "summary(mdlsat)"
   ]
  },
  {
   "cell_type": "code",
   "execution_count": 832,
   "metadata": {},
   "outputs": [
    {
     "data": {
      "text/plain": [
       "\n",
       "z test of coefficients:\n",
       "\n",
       "                  Estimate  Std. Error z value  Pr(>|z|)    \n",
       "ar1            -0.78652752  0.16726204 -4.7024 2.572e-06 ***\n",
       "av_SIE          0.06979434  0.13903220  0.5020 0.6156666    \n",
       "SIE_lag4       -0.33877938  0.10747515 -3.1522 0.0016206 ** \n",
       "GyreSPD         0.05937612  0.03030754  1.9591 0.0500987 .  \n",
       "mnWind          0.04330651  0.06792510  0.6376 0.5237583    \n",
       "nmSST_aw_RSP    0.62925146  0.19041614  3.3046 0.0009511 ***\n",
       "Fish_cum3       0.00831691  0.00352902  2.3567 0.0184372 *  \n",
       "mnAirTemp      -0.00019232  0.04596011 -0.0042 0.9966613    \n",
       "mnAirTemp_lag5 -0.06776420  0.03446552 -1.9661 0.0492819 *  \n",
       "---\n",
       "Signif. codes:  0 ‘***’ 0.001 ‘**’ 0.01 ‘*’ 0.05 ‘.’ 0.1 ‘ ’ 1\n"
      ]
     },
     "metadata": {},
     "output_type": "display_data"
    }
   ],
   "source": [
    "coeftest(mdlsat)\n",
    "                    "
   ]
  },
  {
   "cell_type": "code",
   "execution_count": 833,
   "metadata": {},
   "outputs": [
    {
     "name": "stdout",
     "output_type": "stream",
     "text": [
      "Series: master_gr$growth_croz \n",
      "Regression with ARIMA(1,0,0) errors \n",
      "\n",
      "Coefficients:\n",
      "          ar1  SIE_lag4  GyreSPD  nmSST_aw_RSP  Fish_cum3  mnAirTemp_lag5\n",
      "      -0.7842   -0.2299   0.0857        0.4580     0.0087         -0.0580\n",
      "s.e.   0.1622    0.0885   0.0252        0.1576     0.0031          0.0322\n",
      "\n",
      "sigma^2 estimated as 0.02234:  log likelihood=10.58\n",
      "AIC=-7.16   AICc=8.84   BIC=-2.2\n",
      "\n",
      "Training set error measures:\n",
      "                       ME      RMSE        MAE      MPE     MAPE      MASE\n",
      "Training set -0.007049711 0.1157736 0.08689384 377.6063 463.1512 0.4358354\n",
      "                   ACF1\n",
      "Training set -0.2953875\n"
     ]
    }
   ],
   "source": [
    "# removing SIE(NO LAG) AND AIR TEMP (NO LAG) and Wind\n",
    "cov_sat_growth<-as.matrix(master_gr[,c(\"SIE_lag4\", \"GyreSPD\", \n",
    "                               \"nmSST_aw_RSP\", \"Fish_cum3\", \"mnAirTemp_lag5\"\n",
    "                                       )]) \n",
    "mdlsat<-Arima(master_gr$growth_croz,order=c(1,0,0),include.mean=F,include.drift=F,xreg= cov_sat_growth)\n",
    "summary(mdlsat)"
   ]
  },
  {
   "cell_type": "code",
   "execution_count": 834,
   "metadata": {},
   "outputs": [
    {
     "data": {
      "text/plain": [
       "\n",
       "z test of coefficients:\n",
       "\n",
       "                 Estimate Std. Error z value  Pr(>|z|)    \n",
       "ar1            -0.7841838  0.1622398 -4.8335 1.342e-06 ***\n",
       "SIE_lag4       -0.2298976  0.0884527 -2.5991 0.0093468 ** \n",
       "GyreSPD         0.0856882  0.0251598  3.4058 0.0006598 ***\n",
       "nmSST_aw_RSP    0.4580423  0.1576125  2.9061 0.0036593 ** \n",
       "Fish_cum3       0.0087279  0.0031033  2.8125 0.0049159 ** \n",
       "mnAirTemp_lag5 -0.0580208  0.0322422 -1.7995 0.0719347 .  \n",
       "---\n",
       "Signif. codes:  0 ‘***’ 0.001 ‘**’ 0.01 ‘*’ 0.05 ‘.’ 0.1 ‘ ’ 1\n"
      ]
     },
     "metadata": {},
     "output_type": "display_data"
    }
   ],
   "source": [
    "coeftest(mdlsat)"
   ]
  },
  {
   "cell_type": "code",
   "execution_count": 835,
   "metadata": {},
   "outputs": [
    {
     "name": "stdout",
     "output_type": "stream",
     "text": [
      "Series: master_gr$growth_croz \n",
      "Regression with ARIMA(1,0,0) errors \n",
      "\n",
      "Coefficients:\n",
      "          ar1  SIE_lag4  GyreSPD_lag4  nmSST_aw_RSP  Fish_cum3  mnAirTemp_lag5\n",
      "      -0.5747   -0.1756        0.0751        0.5037     0.0020         -0.0836\n",
      "s.e.   0.2319    0.0996        0.0341        0.1885     0.0035          0.0379\n",
      "\n",
      "sigma^2 estimated as 0.0262:  log likelihood=9.99\n",
      "AIC=-5.99   AICc=8.01   BIC=-0.58\n",
      "\n",
      "Training set error measures:\n",
      "                       ME      RMSE       MAE       MPE     MAPE      MASE\n",
      "Training set -0.004985718 0.1279554 0.1123943 -433.6485 663.0062 0.5637385\n",
      "                  ACF1\n",
      "Training set 0.0544969\n"
     ]
    }
   ],
   "source": [
    "#INCLUDING GYRE LAG\n",
    "cov_sat_growth<-as.matrix(master_gr[,c(\"SIE_lag4\", \"GyreSPD_lag4\",\n",
    "                                \"nmSST_aw_RSP\", \"Fish_cum3\",\n",
    "                                       \"mnAirTemp_lag5\")]) \n",
    "mdlsat<-Arima(master_gr$growth_croz,order=c(1,0,0),include.mean=F,include.drift=F,xreg= cov_sat_growth)\n",
    "summary(mdlsat)"
   ]
  },
  {
   "cell_type": "code",
   "execution_count": 836,
   "metadata": {},
   "outputs": [
    {
     "data": {
      "text/plain": [
       "\n",
       "z test of coefficients:\n",
       "\n",
       "                 Estimate Std. Error z value Pr(>|z|)   \n",
       "ar1            -0.5746575  0.2318689 -2.4784 0.013198 * \n",
       "SIE_lag4       -0.1756291  0.0995825 -1.7637 0.077790 . \n",
       "GyreSPD_lag4    0.0751228  0.0340684  2.2051 0.027450 * \n",
       "nmSST_aw_RSP    0.5037037  0.1884720  2.6726 0.007527 **\n",
       "Fish_cum3       0.0020478  0.0034553  0.5927 0.553415   \n",
       "mnAirTemp_lag5 -0.0835689  0.0379229 -2.2037 0.027549 * \n",
       "---\n",
       "Signif. codes:  0 ‘***’ 0.001 ‘**’ 0.01 ‘*’ 0.05 ‘.’ 0.1 ‘ ’ 1\n"
      ]
     },
     "metadata": {},
     "output_type": "display_data"
    }
   ],
   "source": [
    "coeftest(mdlsat)"
   ]
  },
  {
   "cell_type": "code",
   "execution_count": 837,
   "metadata": {},
   "outputs": [
    {
     "name": "stdout",
     "output_type": "stream",
     "text": [
      "Series: master_gr$growth_croz \n",
      "Regression with ARIMA(1,0,0) errors \n",
      "\n",
      "Coefficients:\n",
      "          ar1  SIE_lag4  GyreSPD  nmSST_aw_RSP  Fish_cum3  mnAirTemp_lag5\n",
      "      -0.7842   -0.2299   0.0857        0.4580     0.0087         -0.0580\n",
      "s.e.   0.1622    0.0885   0.0252        0.1576     0.0031          0.0322\n",
      "\n",
      "sigma^2 estimated as 0.02234:  log likelihood=10.58\n",
      "AIC=-7.16   AICc=8.84   BIC=-2.2\n",
      "\n",
      "Training set error measures:\n",
      "                       ME      RMSE        MAE      MPE     MAPE      MASE\n",
      "Training set -0.007049711 0.1157736 0.08689384 377.6063 463.1512 0.4358354\n",
      "                   ACF1\n",
      "Training set -0.2953875\n"
     ]
    }
   ],
   "source": [
    "\n",
    "cov_sat_growth<-as.matrix(master_gr[,c(\"SIE_lag4\", \"GyreSPD\",\n",
    "                                \"nmSST_aw_RSP\", \"Fish_cum3\",\n",
    "                                       \"mnAirTemp_lag5\")]) \n",
    "mdlsat<-Arima(master_gr$growth_croz,order=c(1,0,0),include.mean=F,include.drift=F,xreg= cov_sat_growth)\n",
    "summary(mdlsat)"
   ]
  },
  {
   "cell_type": "code",
   "execution_count": 838,
   "metadata": {},
   "outputs": [
    {
     "data": {
      "text/plain": [
       "\n",
       "z test of coefficients:\n",
       "\n",
       "                 Estimate Std. Error z value  Pr(>|z|)    \n",
       "ar1            -0.7841838  0.1622398 -4.8335 1.342e-06 ***\n",
       "SIE_lag4       -0.2298976  0.0884527 -2.5991 0.0093468 ** \n",
       "GyreSPD         0.0856882  0.0251598  3.4058 0.0006598 ***\n",
       "nmSST_aw_RSP    0.4580423  0.1576125  2.9061 0.0036593 ** \n",
       "Fish_cum3       0.0087279  0.0031033  2.8125 0.0049159 ** \n",
       "mnAirTemp_lag5 -0.0580208  0.0322422 -1.7995 0.0719347 .  \n",
       "---\n",
       "Signif. codes:  0 ‘***’ 0.001 ‘**’ 0.01 ‘*’ 0.05 ‘.’ 0.1 ‘ ’ 1\n"
      ]
     },
     "metadata": {},
     "output_type": "display_data"
    }
   ],
   "source": [
    "coeftest(mdlsat)"
   ]
  },
  {
   "cell_type": "code",
   "execution_count": 839,
   "metadata": {},
   "outputs": [
    {
     "name": "stdout",
     "output_type": "stream",
     "text": [
      "Series: master_gr$growth_croz \n",
      "Regression with ARIMA(1,0,0) errors \n",
      "\n",
      "Coefficients:\n",
      "          ar1  SIE_lag4  GyreSPD  nmSST_aw_RSP  Fish_cum3  mnAirTemp_lag5\n",
      "      -0.7929   -0.2492   0.0901        0.5243     0.0097         -0.0638\n",
      "s.e.   0.1535    0.0939   0.0260        0.1966     0.0036          0.0334\n",
      "      OW_day_RSP\n",
      "          0.0032\n",
      "s.e.      0.0059\n",
      "\n",
      "sigma^2 estimated as 0.02457:  log likelihood=10.73\n",
      "AIC=-5.46   AICc=18.54   BIC=0.2\n",
      "\n",
      "Training set error measures:\n",
      "                       ME      RMSE        MAE      MPE     MAPE      MASE\n",
      "Training set -0.006650581 0.1144804 0.08060308 285.9228 361.0075 0.4042826\n",
      "                   ACF1\n",
      "Training set -0.3820798\n"
     ]
    }
   ],
   "source": [
    "#checking OW_day_RSP\n",
    "cov_sat_growth<-as.matrix(master_gr[,c(\"SIE_lag4\", \"GyreSPD\",\n",
    "                                \"nmSST_aw_RSP\", \"Fish_cum3\",\n",
    "                                       \"mnAirTemp_lag5\", \"OW_day_RSP\")]) \n",
    "mdlsat<-Arima(master_gr$growth_croz,order=c(1,0,0),include.mean=F,include.drift=F,xreg= cov_sat_growth)\n",
    "summary(mdlsat)\n"
   ]
  },
  {
   "cell_type": "code",
   "execution_count": 840,
   "metadata": {},
   "outputs": [
    {
     "data": {
      "text/plain": [
       "\n",
       "z test of coefficients:\n",
       "\n",
       "                 Estimate Std. Error z value  Pr(>|z|)    \n",
       "ar1            -0.7929125  0.1535155 -5.1650 2.404e-07 ***\n",
       "SIE_lag4       -0.2491519  0.0938839 -2.6538 0.0079584 ** \n",
       "GyreSPD         0.0901311  0.0259864  3.4684 0.0005236 ***\n",
       "nmSST_aw_RSP    0.5243262  0.1966135  2.6668 0.0076580 ** \n",
       "Fish_cum3       0.0097407  0.0035677  2.7303 0.0063281 ** \n",
       "mnAirTemp_lag5 -0.0637516  0.0333547 -1.9113 0.0559630 .  \n",
       "OW_day_RSP      0.0032383  0.0058644  0.5522 0.5808158    \n",
       "---\n",
       "Signif. codes:  0 ‘***’ 0.001 ‘**’ 0.01 ‘*’ 0.05 ‘.’ 0.1 ‘ ’ 1\n"
      ]
     },
     "metadata": {},
     "output_type": "display_data"
    }
   ],
   "source": [
    "coeftest(mdlsat)"
   ]
  },
  {
   "cell_type": "code",
   "execution_count": 841,
   "metadata": {},
   "outputs": [
    {
     "name": "stdout",
     "output_type": "stream",
     "text": [
      "Series: master_gr$growth_croz \n",
      "Regression with ARIMA(1,0,0) errors \n",
      "\n",
      "Coefficients:\n",
      "          ar1  SIE_lag4  GyreSPD  Fish_cum3  mnOW_RSP6  mnAirTemp_lag5\n",
      "      -0.4611   -0.4725   0.0089     0.0033     3.4189         -0.0918\n",
      "s.e.   0.3403    0.1397   0.0497     0.0036     1.9621          0.0458\n",
      "\n",
      "sigma^2 estimated as 0.03121:  log likelihood=8.43\n",
      "AIC=-2.86   AICc=13.14   BIC=2.09\n",
      "\n",
      "Training set error measures:\n",
      "                       ME     RMSE       MAE      MPE     MAPE      MASE\n",
      "Training set -0.007370189 0.136832 0.1069028 702.1033 722.1261 0.5361945\n",
      "                    ACF1\n",
      "Training set -0.05672473\n"
     ]
    }
   ],
   "source": [
    "\n",
    "#checking OW_RSP, does not improve the model\n",
    "cov_sat_growth<-as.matrix(master_gr[,c(\"SIE_lag4\", \"GyreSPD\",\n",
    "                                 \"Fish_cum3\", \"mnOW_RSP6\",\n",
    "                                       \"mnAirTemp_lag5\")]) \n",
    "mdlsat<-Arima(master_gr$growth_croz,order=c(1,0,0),include.mean=F,include.drift=F,xreg= cov_sat_growth)\n",
    "summary(mdlsat)"
   ]
  },
  {
   "cell_type": "code",
   "execution_count": 842,
   "metadata": {},
   "outputs": [
    {
     "data": {
      "text/plain": [
       "\n",
       "z test of coefficients:\n",
       "\n",
       "                 Estimate Std. Error z value  Pr(>|z|)    \n",
       "ar1            -0.4610661  0.3402641 -1.3550 0.1754098    \n",
       "SIE_lag4       -0.4724744  0.1397365 -3.3812 0.0007217 ***\n",
       "GyreSPD         0.0088587  0.0497491  0.1781 0.8586705    \n",
       "Fish_cum3       0.0032698  0.0036477  0.8964 0.3700470    \n",
       "mnOW_RSP6       3.4189324  1.9621379  1.7425 0.0814293 .  \n",
       "mnAirTemp_lag5 -0.0918066  0.0458180 -2.0037 0.0450995 *  \n",
       "---\n",
       "Signif. codes:  0 ‘***’ 0.001 ‘**’ 0.01 ‘*’ 0.05 ‘.’ 0.1 ‘ ’ 1\n"
      ]
     },
     "metadata": {},
     "output_type": "display_data"
    }
   ],
   "source": [
    "coeftest(mdlsat)"
   ]
  },
  {
   "cell_type": "code",
   "execution_count": 843,
   "metadata": {},
   "outputs": [
    {
     "name": "stdout",
     "output_type": "stream",
     "text": [
      "Series: master_gr$growth_croz \n",
      "Regression with ARIMA(1,0,0) errors \n",
      "\n",
      "Coefficients:\n",
      "          ar1  SIE_lag4_2  SIE_lag4  GyreSPD  nmSST_aw_RSP  Fish_cum3\n",
      "      -0.7776     -0.0884    0.1231   0.0566        0.5884     0.0085\n",
      "s.e.   0.1646      0.0840    0.3463   0.0370        0.1967     0.0030\n",
      "      mnAirTemp_lag5\n",
      "             -0.0626\n",
      "s.e.          0.0313\n",
      "\n",
      "sigma^2 estimated as 0.02343:  log likelihood=11.12\n",
      "AIC=-6.24   AICc=17.76   BIC=-0.58\n",
      "\n",
      "Training set error measures:\n",
      "                       ME      RMSE        MAE      MPE     MAPE      MASE\n",
      "Training set -0.007134829 0.1117816 0.08054378 375.8754 420.6141 0.4039852\n",
      "                  ACF1\n",
      "Training set -0.357546\n"
     ]
    }
   ],
   "source": [
    "#best model\n",
    "#quadratics\n",
    "cov_sat_growth<-as.matrix(master_gr[,c(\"SIE_lag4_2\", \"SIE_lag4\", \"GyreSPD\",\n",
    "                                \"nmSST_aw_RSP\", \"Fish_cum3\",\n",
    "                                       \"mnAirTemp_lag5\")]) \n",
    "mdlsat<-Arima(master_gr$growth_croz,order=c(1,0,0),include.mean=F,include.drift=F,xreg= cov_sat_growth)\n",
    "summary(mdlsat)"
   ]
  },
  {
   "cell_type": "code",
   "execution_count": 844,
   "metadata": {},
   "outputs": [
    {
     "data": {
      "text/plain": [
       "\n",
       "z test of coefficients:\n",
       "\n",
       "                 Estimate Std. Error z value  Pr(>|z|)    \n",
       "ar1            -0.7775507  0.1645595 -4.7250 2.301e-06 ***\n",
       "SIE_lag4_2     -0.0883681  0.0839580 -1.0525  0.292558    \n",
       "SIE_lag4        0.1230806  0.3462527  0.3555  0.722242    \n",
       "GyreSPD         0.0566456  0.0369982  1.5310  0.125760    \n",
       "nmSST_aw_RSP    0.5883812  0.1966833  2.9915  0.002776 ** \n",
       "Fish_cum3       0.0084583  0.0030126  2.8076  0.004991 ** \n",
       "mnAirTemp_lag5 -0.0626058  0.0313387 -1.9977  0.045747 *  \n",
       "---\n",
       "Signif. codes:  0 ‘***’ 0.001 ‘**’ 0.01 ‘*’ 0.05 ‘.’ 0.1 ‘ ’ 1\n"
      ]
     },
     "metadata": {},
     "output_type": "display_data"
    }
   ],
   "source": [
    "coeftest(mdlsat)"
   ]
  },
  {
   "cell_type": "code",
   "execution_count": 845,
   "metadata": {},
   "outputs": [
    {
     "name": "stdout",
     "output_type": "stream",
     "text": [
      "Series: master_gr$growth_croz \n",
      "Regression with ARIMA(1,0,0) errors \n",
      "\n",
      "Coefficients:\n",
      "          ar1  SIE_lag4  GyreSPD  GyreSPD_2  nmSST_aw_RSP  Fish_cum3\n",
      "      -0.7771   -0.5409   0.4818    -0.0350        0.7379     0.0100\n",
      "s.e.   0.1636    0.1990   0.2328     0.0205        0.2186     0.0029\n",
      "      mnAirTemp_lag5\n",
      "             -0.0642\n",
      "s.e.          0.0294\n",
      "\n",
      "sigma^2 estimated as 0.02103:  log likelihood=11.93\n",
      "AIC=-7.86   AICc=16.14   BIC=-2.2\n",
      "\n",
      "Training set error measures:\n",
      "                       ME      RMSE        MAE     MPE     MAPE      MASE\n",
      "Training set -0.006571571 0.1059098 0.08192564 408.887 449.8062 0.4109162\n",
      "                   ACF1\n",
      "Training set -0.3626302\n"
     ]
    }
   ],
   "source": [
    "#best model\n",
    "#quadratics\n",
    "cov_sat_growth<-as.matrix(master_gr[,c(\"SIE_lag4\", \"GyreSPD\", \"GyreSPD_2\",\n",
    "                                \"nmSST_aw_RSP\", \"Fish_cum3\",\n",
    "                                       \"mnAirTemp_lag5\")]) \n",
    "mdlsat<-Arima(master_gr$growth_croz,order=c(1,0,0),include.mean=F,include.drift=F,xreg= cov_sat_growth)\n",
    "summary(mdlsat)"
   ]
  },
  {
   "cell_type": "code",
   "execution_count": 846,
   "metadata": {},
   "outputs": [
    {
     "data": {
      "text/plain": [
       "\n",
       "z test of coefficients:\n",
       "\n",
       "                Estimate Std. Error z value  Pr(>|z|)    \n",
       "ar1            -0.777137   0.163601 -4.7502 2.032e-06 ***\n",
       "SIE_lag4       -0.540903   0.199030 -2.7177 0.0065739 ** \n",
       "GyreSPD         0.481809   0.232756  2.0700 0.0384508 *  \n",
       "GyreSPD_2      -0.034977   0.020510 -1.7054 0.0881220 .  \n",
       "nmSST_aw_RSP    0.737950   0.218617  3.3755 0.0007367 ***\n",
       "Fish_cum3       0.010025   0.002940  3.4098 0.0006500 ***\n",
       "mnAirTemp_lag5 -0.064236   0.029425 -2.1830 0.0290355 *  \n",
       "---\n",
       "Signif. codes:  0 ‘***’ 0.001 ‘**’ 0.01 ‘*’ 0.05 ‘.’ 0.1 ‘ ’ 1\n"
      ]
     },
     "metadata": {},
     "output_type": "display_data"
    }
   ],
   "source": [
    "coeftest(mdlsat)"
   ]
  },
  {
   "cell_type": "code",
   "execution_count": 847,
   "metadata": {},
   "outputs": [
    {
     "name": "stdout",
     "output_type": "stream",
     "text": [
      "Series: master_gr$growth_croz \n",
      "Regression with ARIMA(1,0,0) errors \n",
      "\n",
      "Coefficients:\n"
     ]
    },
    {
     "name": "stderr",
     "output_type": "stream",
     "text": [
      "Warning message in sqrt(diag(x$var.coef)):\n",
      "“NaNs produced”\n"
     ]
    },
    {
     "name": "stdout",
     "output_type": "stream",
     "text": [
      "          ar1  xreg\n",
      "      -0.6109     0\n",
      "s.e.      NaN   NaN\n",
      "\n",
      "sigma^2 estimated as 0.03477:  log likelihood=5.26\n",
      "AIC=-4.52   AICc=-2.67   BIC=-2.02\n",
      "\n",
      "Training set error measures:\n",
      "                      ME      RMSE      MAE  MPE MAPE     MASE      ACF1\n",
      "Training set -0.01219961 0.1751582 0.131037 -Inf  Inf 0.657245 0.0196731\n"
     ]
    }
   ],
   "source": [
    "#INTERCEPT ONLY\n",
    "cov_sat_growth<-as.matrix(master_gr[,c(1)]) \n",
    "mdlsat<-Arima(master_gr$growth_croz,order=c(1,0,0),include.mean=F,include.drift=F,xreg= cov_sat_growth)\n",
    "summary(mdlsat)"
   ]
  },
  {
   "cell_type": "markdown",
   "metadata": {},
   "source": [
    "# We explored all the cuadratics only Gyre_2 improved the best model"
   ]
  },
  {
   "cell_type": "code",
   "execution_count": 848,
   "metadata": {},
   "outputs": [],
   "source": [
    "#explore different percentages weights for cum_fish\n",
    "#Fish= Total Tonnes * Perc.134/100\n",
    "#Fish_cum3; 3 years cumulative, no weights\n",
    "#Fish_cum_8_9_1; 3 years cumulative, weights: 80%, 90% ,100%\n",
    "#Fish_cum_6_8_1; 3 years cumulative, weights: 60%, 80% ,100%\n",
    "#Fish_cum_75_1; 2 years cumulative, weights: 75%, 100%\n",
    "#Fish_cum; 2 years cumulative, no weights\n",
    "#Fish_cum_5_1; 2 years cumulative, weights: 50%, 100%\n",
    "#Fish_cum_4_1; 2 years cumulative, weights: 40%, 100%\n",
    "#Fish_cum_2_1; 2 years cumulative, weights: 20%, 100%"
   ]
  },
  {
   "cell_type": "code",
   "execution_count": 849,
   "metadata": {},
   "outputs": [
    {
     "name": "stdout",
     "output_type": "stream",
     "text": [
      "Series: master_gr$growth_croz \n",
      "Regression with ARIMA(1,0,0) errors \n",
      "\n",
      "Coefficients:\n",
      "          ar1  SIE_lag4  GyreSPD  GyreSPD_2  nmSST_aw_RSP  Fish_cum3\n",
      "      -0.7771   -0.5409   0.4818    -0.0350        0.7379     0.0100\n",
      "s.e.   0.1636    0.1990   0.2328     0.0205        0.2186     0.0029\n",
      "      mnAirTemp_lag5\n",
      "             -0.0642\n",
      "s.e.          0.0294\n",
      "\n",
      "sigma^2 estimated as 0.02103:  log likelihood=11.93\n",
      "AIC=-7.86   AICc=16.14   BIC=-2.2\n",
      "\n",
      "Training set error measures:\n",
      "                       ME      RMSE        MAE     MPE     MAPE      MASE\n",
      "Training set -0.006571571 0.1059098 0.08192564 408.887 449.8062 0.4109162\n",
      "                   ACF1\n",
      "Training set -0.3626302\n"
     ]
    }
   ],
   "source": [
    "## Explored various Fish_cum moving window configurations, best ones are Fich_cum3 and Fish_cum_8_9_1.\n",
    "# That is: 0.75 prop134 at t-1 + prop134 at t\n",
    "cov_sat_growth<-as.matrix(master_gr[,c(\"SIE_lag4\", \"GyreSPD\", \"GyreSPD_2\",\n",
    "                                \"nmSST_aw_RSP\", \"Fish_cum3\", \"mnAirTemp_lag5\"\n",
    "                                       )]) \n",
    "mdlsat<-Arima(master_gr$growth_croz,order=c(1,0,0),include.mean=F,include.drift=F,xreg= cov_sat_growth)\n",
    "summary(mdlsat)"
   ]
  },
  {
   "cell_type": "code",
   "execution_count": 850,
   "metadata": {},
   "outputs": [
    {
     "data": {
      "text/plain": [
       "\n",
       "z test of coefficients:\n",
       "\n",
       "                Estimate Std. Error z value  Pr(>|z|)    \n",
       "ar1            -0.777137   0.163601 -4.7502 2.032e-06 ***\n",
       "SIE_lag4       -0.540903   0.199030 -2.7177 0.0065739 ** \n",
       "GyreSPD         0.481809   0.232756  2.0700 0.0384508 *  \n",
       "GyreSPD_2      -0.034977   0.020510 -1.7054 0.0881220 .  \n",
       "nmSST_aw_RSP    0.737950   0.218617  3.3755 0.0007367 ***\n",
       "Fish_cum3       0.010025   0.002940  3.4098 0.0006500 ***\n",
       "mnAirTemp_lag5 -0.064236   0.029425 -2.1830 0.0290355 *  \n",
       "---\n",
       "Signif. codes:  0 ‘***’ 0.001 ‘**’ 0.01 ‘*’ 0.05 ‘.’ 0.1 ‘ ’ 1\n"
      ]
     },
     "metadata": {},
     "output_type": "display_data"
    }
   ],
   "source": [
    "coeftest(mdlsat)"
   ]
  },
  {
   "cell_type": "code",
   "execution_count": 851,
   "metadata": {},
   "outputs": [
    {
     "name": "stdout",
     "output_type": "stream",
     "text": [
      "Series: master_gr$growth_croz \n",
      "Regression with ARIMA(1,0,0) errors \n",
      "\n",
      "Coefficients:\n",
      "          ar1  SIE_lag4  GyreSPD  GyreSPD_2  nmSST_aw_RSP  Fish_cum3\n",
      "      -0.7629   -0.6407   0.6044    -0.0444        0.7943     0.0112\n",
      "s.e.   0.1644    0.2699   0.3233     0.0268        0.2397     0.0036\n",
      "      mnAirTemp_lag5  intP_RSP\n",
      "             -0.0719   -0.2092\n",
      "s.e.          0.0326    0.3869\n",
      "\n",
      "sigma^2 estimated as 0.02366:  log likelihood=12.08\n",
      "AIC=-6.15   AICc=29.85   BIC=0.22\n",
      "\n",
      "Training set error measures:\n",
      "                       ME      RMSE        MAE      MPE     MAPE      MASE\n",
      "Training set -0.005693026 0.1050755 0.07865623 351.8885 395.9267 0.3945178\n",
      "                   ACF1\n",
      "Training set -0.4166686\n"
     ]
    }
   ],
   "source": [
    "#including CHL and Productivity\n",
    "cov_sat_growth<-as.matrix(master_gr[,c(\"SIE_lag4\", \"GyreSPD\", \"GyreSPD_2\",\n",
    "                                \"nmSST_aw_RSP\", \"Fish_cum3\", \"mnAirTemp_lag5\", \"intP_RSP\" \n",
    "                                       )]) #intP_RSP\tmnChl_aw_RSP\n",
    "mdlsat<-Arima(master_gr$growth_croz,order=c(1,0,0),include.mean=F,include.drift=F,xreg= cov_sat_growth)\n",
    "summary(mdlsat)"
   ]
  },
  {
   "cell_type": "code",
   "execution_count": 852,
   "metadata": {},
   "outputs": [
    {
     "name": "stdout",
     "output_type": "stream",
     "text": [
      "Series: master_gr$growth_croz \n",
      "Regression with ARIMA(1,0,0) errors \n",
      "\n",
      "Coefficients:\n",
      "          ar1  SIE_lag4  GyreSPD  GyreSPD_2  nmSST_aw_RSP  Fish_cum3\n",
      "      -0.7845   -0.4587   0.3852    -0.0277        0.7093     0.0090\n",
      "s.e.   0.1661    0.2724   0.3193     0.0263        0.2268     0.0037\n",
      "      mnAirTemp_lag5  mnChl_aw_RSP\n",
      "             -0.0639        0.0670\n",
      "s.e.          0.0291        0.1539\n",
      "\n",
      "sigma^2 estimated as 0.02369:  log likelihood=12.02\n",
      "AIC=-6.05   AICc=29.95   BIC=0.32\n",
      "\n",
      "Training set error measures:\n",
      "                       ME      RMSE        MAE      MPE     MAPE      MASE\n",
      "Training set -0.006862537 0.1051424 0.08239934 440.3486 477.6421 0.4132922\n",
      "                   ACF1\n",
      "Training set -0.3181834\n"
     ]
    }
   ],
   "source": [
    "#including CHL and Productivity\n",
    "cov_sat_growth<-as.matrix(master_gr[,c(\"SIE_lag4\", \"GyreSPD\", \"GyreSPD_2\",\n",
    "                                \"nmSST_aw_RSP\", \"Fish_cum3\", \"mnAirTemp_lag5\", \"mnChl_aw_RSP\" \n",
    "                                       )]) #intP_RSP\tmnChl_aw_RSP\n",
    "mdlsat<-Arima(master_gr$growth_croz,order=c(1,0,0),include.mean=F,include.drift=F,xreg= cov_sat_growth)\n",
    "summary(mdlsat)"
   ]
  },
  {
   "cell_type": "code",
   "execution_count": 853,
   "metadata": {},
   "outputs": [
    {
     "data": {
      "text/plain": [
       "\n",
       "\tSpearman's rank correlation rho\n",
       "\n",
       "data:  master_gr$nmSST_aw_RSP and master_gr$mnOW_RSP6\n",
       "S = 240, p-value = 0.008217\n",
       "alternative hypothesis: true rho is not equal to 0\n",
       "sample estimates:\n",
       "      rho \n",
       "0.6470588 \n"
      ]
     },
     "metadata": {},
     "output_type": "display_data"
    }
   ],
   "source": [
    "#correlation test\n",
    "test <- cor.test(master_gr$nmSST_aw_RSP, master_gr$mnOW_RSP6, method= \"spearman\")\n",
    "test"
   ]
  },
  {
   "cell_type": "code",
   "execution_count": 854,
   "metadata": {},
   "outputs": [
    {
     "name": "stdout",
     "output_type": "stream",
     "text": [
      "\n",
      "\tLjung-Box test\n",
      "\n",
      "data:  Residuals from Regression with ARIMA(1,0,0) errors\n",
      "Q* = NA, df = 7, p-value = NA\n",
      "\n",
      "Model df: 8.   Total lags used: 15\n",
      "\n"
     ]
    },
    {
     "data": {
      "image/png": "[encoded data removed]",
      "text/plain": [
       "plot without title"
      ]
     },
     "metadata": {
      "image/png": {
       "height": 420,
       "width": 420
      },
      "text/plain": {
       "height": 420,
       "width": 420
      }
     },
     "output_type": "display_data"
    }
   ],
   "source": [
    "checkresiduals (mdlsat, lag=15)"
   ]
  },
  {
   "cell_type": "code",
   "execution_count": 855,
   "metadata": {},
   "outputs": [
    {
     "data": {
      "image/png": "[encoded data removed]",
      "text/plain": [
       "plot without title"
      ]
     },
     "metadata": {
      "image/png": {
       "height": 420,
       "width": 420
      },
      "text/plain": {
       "height": 420,
       "width": 420
      }
     },
     "output_type": "display_data"
    }
   ],
   "source": [
    "plot(residuals(mdlsat, type=\"response\"))"
   ]
  },
  {
   "cell_type": "code",
   "execution_count": 856,
   "metadata": {},
   "outputs": [],
   "source": [
    "save(master_gr,mdlsat,cov_sat_growth,file=\"/home/ubuntu/Workspace/Anthropocene/data/bestModelfit.RData\")"
   ]
  },
  {
   "cell_type": "code",
   "execution_count": 857,
   "metadata": {},
   "outputs": [
    {
     "name": "stdout",
     "output_type": "stream",
     "text": [
      "\n",
      "\tLjung-Box test\n",
      "\n",
      "data:  Residuals from Regression with ARIMA(1,0,0) errors\n",
      "Q* = 16.778, df = 3, p-value = 0.0007851\n",
      "\n",
      "Model df: 7.   Total lags used: 10\n",
      "\n"
     ]
    },
    {
     "data": {
      "image/png": "[encoded data removed]",
      "text/plain": [
       "plot without title"
      ]
     },
     "metadata": {
      "image/png": {
       "height": 420,
       "width": 420
      },
      "text/plain": {
       "height": 420,
       "width": 420
      }
     },
     "output_type": "display_data"
    }
   ],
   "source": [
    "checkresiduals(mdlsatow)"
   ]
  },
  {
   "cell_type": "markdown",
   "metadata": {},
   "source": [
    "# Checking for correlations"
   ]
  },
  {
   "cell_type": "code",
   "execution_count": 858,
   "metadata": {},
   "outputs": [
    {
     "ename": "ERROR",
     "evalue": "Error: Can't subset columns that don't exist.\n\u001b[31m✖\u001b[39m Column `Cum_fish8` doesn't exist.\n",
     "output_type": "error",
     "traceback": [
      "Error: Can't subset columns that don't exist.\n\u001b[31m✖\u001b[39m Column `Cum_fish8` doesn't exist.\nTraceback:\n",
      "1. master_gr %>% select(mnSIE, SIE_lag4, GyreSPD, GyreSPD_lag4, \n .     mnWind, nmSST_aw_RSP, Cum_fish8, mnAirTemp_lag4, mnOW_RSP6)",
      "2. withVisible(eval(quote(`_fseq`(`_lhs`)), env, env))",
      "3. eval(quote(`_fseq`(`_lhs`)), env, env)",
      "4. eval(quote(`_fseq`(`_lhs`)), env, env)",
      "5. `_fseq`(`_lhs`)",
      "6. freduce(value, `_function_list`)",
      "7. withVisible(function_list[[k]](value))",
      "8. function_list[[k]](value)",
      "9. select(., mnSIE, SIE_lag4, GyreSPD, GyreSPD_lag4, mnWind, nmSST_aw_RSP, \n .     Cum_fish8, mnAirTemp_lag4, mnOW_RSP6)",
      "10. select.data.frame(., mnSIE, SIE_lag4, GyreSPD, GyreSPD_lag4, \n  .     mnWind, nmSST_aw_RSP, Cum_fish8, mnAirTemp_lag4, mnOW_RSP6)",
      "11. tidyselect::eval_select(expr(c(...)), .data)",
      "12. eval_select_impl(data, names(data), as_quosure(expr, env), include = include, \n  .     exclude = exclude, strict = strict, name_spec = name_spec, \n  .     allow_rename = allow_rename)",
      "13. with_subscript_errors(vars_select_eval(vars, expr, strict, data = x, \n  .     name_spec = name_spec, uniquely_named = uniquely_named, allow_rename = allow_rename, \n  .     type = type), type = type)",
      "14. tryCatch(instrument_base_errors(expr), vctrs_error_subscript = function(cnd) {\n  .     cnd$subscript_action <- subscript_action(type)\n  .     cnd$subscript_elt <- \"column\"\n  .     cnd_signal(cnd)\n  . })",
      "15. tryCatchList(expr, classes, parentenv, handlers)",
      "16. tryCatchOne(expr, names, parentenv, handlers[[1L]])",
      "17. value[[3L]](cond)",
      "18. cnd_signal(cnd)",
      "19. rlang:::signal_abort(x)"
     ]
    }
   ],
   "source": [
    "in_frame <- master_gr %>% select (av_SIE, GyreSPD, \n",
    "                              mnWind,   Fish_cum3,\n",
    "                                       mnAirTemp, mnOW_RSP6)"
   ]
  },
  {
   "cell_type": "code",
   "execution_count": 898,
   "metadata": {},
   "outputs": [
    {
     "name": "stdout",
     "output_type": "stream",
     "text": [
      " var           vif\n",
      " intP_RSP      Inf\n",
      " mnChl_aw_RSP  Inf\n",
      " nmSST_aw_RSP  Inf\n",
      " intP_MCM      Inf\n",
      " mnChl_aw_MCM  Inf\n",
      " mnOW_MCM      Inf\n",
      " nmSST_aw_MCM  Inf\n",
      " mnAirTemp     Inf\n",
      " mnWind        Inf\n",
      " mnSIE         Inf\n",
      " OW_day_RSP    Inf\n",
      " logOW_day_MCM Inf\n",
      " GyreSPD       Inf\n",
      " Salinity      Inf\n",
      " mnOW_RSP6     Inf\n",
      " SIE_lag5      Inf\n",
      "\n",
      "removed:  intP_RSP Inf \n",
      "\n",
      " var           vif\n",
      " mnChl_aw_RSP  Inf\n",
      " nmSST_aw_RSP  Inf\n",
      " intP_MCM      Inf\n",
      " mnChl_aw_MCM  Inf\n",
      " mnOW_MCM      Inf\n",
      " nmSST_aw_MCM  Inf\n",
      " mnAirTemp     Inf\n",
      " mnWind        Inf\n",
      " mnSIE         Inf\n",
      " OW_day_RSP    Inf\n",
      " logOW_day_MCM Inf\n",
      " GyreSPD       Inf\n",
      " Salinity      Inf\n",
      " mnOW_RSP6     Inf\n",
      " SIE_lag5      Inf\n",
      "\n",
      "removed:  mnChl_aw_RSP Inf \n",
      "\n",
      " var           vif\n",
      " nmSST_aw_RSP  Inf\n",
      " intP_MCM      Inf\n",
      " mnChl_aw_MCM  Inf\n",
      " mnOW_MCM      Inf\n",
      " nmSST_aw_MCM  Inf\n",
      " mnAirTemp     Inf\n",
      " mnWind        Inf\n",
      " mnSIE         Inf\n",
      " OW_day_RSP    Inf\n",
      " logOW_day_MCM Inf\n",
      " GyreSPD       Inf\n",
      " Salinity      Inf\n",
      " mnOW_RSP6     Inf\n",
      " SIE_lag5      Inf\n",
      "\n",
      "removed:  nmSST_aw_RSP Inf \n",
      "\n",
      " var           vif\n",
      " intP_MCM      Inf\n",
      " mnChl_aw_MCM  Inf\n",
      " mnOW_MCM      Inf\n",
      " nmSST_aw_MCM  Inf\n",
      " mnAirTemp     Inf\n",
      " mnWind        Inf\n",
      " mnSIE         Inf\n",
      " OW_day_RSP    Inf\n",
      " logOW_day_MCM Inf\n",
      " GyreSPD       Inf\n",
      " Salinity      Inf\n",
      " mnOW_RSP6     Inf\n",
      " SIE_lag5      Inf\n",
      "\n",
      "removed:  intP_MCM Inf \n",
      "\n",
      " var           vif\n",
      " mnChl_aw_MCM  Inf\n",
      " mnOW_MCM      Inf\n",
      " nmSST_aw_MCM  Inf\n",
      " mnAirTemp     Inf\n",
      " mnWind        Inf\n",
      " mnSIE         Inf\n",
      " OW_day_RSP    Inf\n",
      " logOW_day_MCM Inf\n",
      " GyreSPD       Inf\n",
      " Salinity      Inf\n",
      " mnOW_RSP6     Inf\n",
      " SIE_lag5      Inf\n",
      "\n",
      "removed:  mnChl_aw_MCM Inf \n",
      "\n",
      " var           vif\n",
      " mnOW_MCM      Inf\n",
      " nmSST_aw_MCM  Inf\n",
      " mnAirTemp     Inf\n",
      " mnWind        Inf\n",
      " mnSIE         Inf\n",
      " OW_day_RSP    Inf\n",
      " logOW_day_MCM Inf\n",
      " GyreSPD       Inf\n",
      " Salinity      Inf\n",
      " mnOW_RSP6     Inf\n",
      " SIE_lag5      Inf\n",
      "\n",
      "removed:  mnOW_MCM Inf \n",
      "\n",
      " var           vif             \n",
      " nmSST_aw_MCM  9.37318766777265\n",
      " mnAirTemp     15.6826172265014\n",
      " mnWind        3.55923001653173\n",
      " mnSIE         3.80391117986775\n",
      " OW_day_RSP    3.85189663080153\n",
      " logOW_day_MCM 42.1064325017568\n",
      " GyreSPD       50.1030995765285\n",
      " Salinity      9.21060323904965\n",
      " mnOW_RSP6     13.5612379799745\n",
      " SIE_lag5      61.3570065409568\n",
      "\n",
      "removed:  SIE_lag5 61.35701 \n",
      "\n"
     ]
    },
    {
     "data": {
      "text/html": [
       "<style>\n",
       ".list-inline {list-style: none; margin:0; padding: 0}\n",
       ".list-inline>li {display: inline-block}\n",
       ".list-inline>li:not(:last-child)::after {content: \"\\00b7\"; padding: 0 .5ex}\n",
       "</style>\n",
       "<ol class=list-inline><li>'nmSST_aw_MCM'</li><li>'mnAirTemp'</li><li>'mnWind'</li><li>'mnSIE'</li><li>'OW_day_RSP'</li><li>'logOW_day_MCM'</li><li>'GyreSPD'</li><li>'Salinity'</li><li>'mnOW_RSP6'</li></ol>\n"
      ],
      "text/latex": [
       "\\begin{enumerate*}\n",
       "\\item 'nmSST\\_aw\\_MCM'\n",
       "\\item 'mnAirTemp'\n",
       "\\item 'mnWind'\n",
       "\\item 'mnSIE'\n",
       "\\item 'OW\\_day\\_RSP'\n",
       "\\item 'logOW\\_day\\_MCM'\n",
       "\\item 'GyreSPD'\n",
       "\\item 'Salinity'\n",
       "\\item 'mnOW\\_RSP6'\n",
       "\\end{enumerate*}\n"
      ],
      "text/markdown": [
       "1. 'nmSST_aw_MCM'\n",
       "2. 'mnAirTemp'\n",
       "3. 'mnWind'\n",
       "4. 'mnSIE'\n",
       "5. 'OW_day_RSP'\n",
       "6. 'logOW_day_MCM'\n",
       "7. 'GyreSPD'\n",
       "8. 'Salinity'\n",
       "9. 'mnOW_RSP6'\n",
       "\n",
       "\n"
      ],
      "text/plain": [
       "[1] \"nmSST_aw_MCM\"  \"mnAirTemp\"     \"mnWind\"        \"mnSIE\"        \n",
       "[5] \"OW_day_RSP\"    \"logOW_day_MCM\" \"GyreSPD\"       \"Salinity\"     \n",
       "[9] \"mnOW_RSP6\"    "
      ]
     },
     "metadata": {},
     "output_type": "display_data"
    }
   ],
   "source": [
    "#threshold at 10 (it’s equivalent to explaining 99% of the information in a variable by the set of the other covariates).\n",
    "\n",
    "#select covariates based on variance inflation\n",
    "\n",
    "vif_func<-function(in_frame,thresh=10,trace=T,...){\n",
    "  \n",
    "  \n",
    "  \n",
    "  if(class(in_frame) != 'data.frame') in_frame<-data.frame(in_frame)\n",
    "  \n",
    "  \n",
    "  \n",
    "  #get initial vif value for all comparisons of variables\n",
    "  \n",
    "  vif_init<-NULL\n",
    "  \n",
    "  var_names <- names(in_frame)\n",
    "  \n",
    "  for(val in var_names){\n",
    "    \n",
    "    regressors <- var_names[-which(var_names == val)]\n",
    "    \n",
    "    form <- paste(regressors, collapse = '+')\n",
    "    \n",
    "    form_in <- formula(paste(val, '~', form))\n",
    "    \n",
    "    vif_init<-rbind(vif_init, c(val, VIF(lm(form_in, data = in_frame, ...))))\n",
    "    \n",
    "  }\n",
    "  \n",
    "  vif_max<-max(as.numeric(vif_init[,2]), na.rm = TRUE)\n",
    "  \n",
    "  \n",
    "  \n",
    "  if(vif_max < thresh){\n",
    "    \n",
    "    if(trace==T){ #print output of each iteration\n",
    "      \n",
    "      prmatrix(vif_init,collab=c('var','vif'),rowlab=rep('',nrow(vif_init)),quote=F)\n",
    "      \n",
    "      cat('\\n')\n",
    "      \n",
    "      cat(paste('All variables have VIF < ', thresh,', max VIF ',round(vif_max,2), sep=''),'\\n\\n')\n",
    "      \n",
    "    }\n",
    "    \n",
    "    return(var_names)\n",
    "    \n",
    "  }\n",
    "  \n",
    "  else{\n",
    "    \n",
    "    \n",
    "    \n",
    "    in_dat<-in_frame\n",
    "    \n",
    "    \n",
    "    \n",
    "    #backwards selection of explanatory variables, stops when all VIF values are below 'thresh'\n",
    "    \n",
    "    while(vif_max >= thresh){\n",
    "      \n",
    "      \n",
    "      \n",
    "      vif_vals<-NULL\n",
    "      \n",
    "      var_names <- names(in_dat)\n",
    "      \n",
    "      \n",
    "      \n",
    "      for(val in var_names){\n",
    "        \n",
    "        regressors <- var_names[-which(var_names == val)]\n",
    "        \n",
    "        form <- paste(regressors, collapse = '+')\n",
    "        \n",
    "        form_in <- formula(paste(val, '~', form))\n",
    "        \n",
    "        vif_add<-VIF(lm(form_in, data = in_dat, ...))\n",
    "        \n",
    "        vif_vals<-rbind(vif_vals,c(val,vif_add))\n",
    "        \n",
    "      }\n",
    "      \n",
    "      max_row<-which(vif_vals[,2] == max(as.numeric(vif_vals[,2]), na.rm = TRUE))[1]\n",
    "      \n",
    "      \n",
    "      \n",
    "      vif_max<-as.numeric(vif_vals[max_row,2])\n",
    "      \n",
    "      \n",
    "      \n",
    "      if(vif_max<thresh) break\n",
    "      \n",
    "      \n",
    "      \n",
    "      if(trace==T){ #print output of each iteration\n",
    "        \n",
    "        prmatrix(vif_vals,collab=c('var','vif'),rowlab=rep('',nrow(vif_vals)),quote=F)\n",
    "        \n",
    "        cat('\\n')\n",
    "        \n",
    "        cat('removed: ',vif_vals[max_row,1],vif_max,'\\n\\n')\n",
    "        \n",
    "        flush.console()\n",
    "        \n",
    "      }\n",
    "      \n",
    "      \n",
    "      \n",
    "      in_dat<-in_dat[,!names(in_dat) %in% vif_vals[max_row,1]]\n",
    "      \n",
    "      \n",
    "      \n",
    "    }\n",
    "    \n",
    "    \n",
    "    \n",
    "    return(names(in_dat))\n",
    "    \n",
    "    \n",
    "    \n",
    "  }\n",
    "  \n",
    "  \n",
    "  \n",
    "}\n",
    "  \n",
    "vif_func(in_frame,thresh=10,trace=T)"
   ]
  },
  {
   "cell_type": "markdown",
   "metadata": {},
   "source": [
    "# Partial dependence plots"
   ]
  },
  {
   "cell_type": "code",
   "execution_count": 859,
   "metadata": {},
   "outputs": [],
   "source": [
    "## function to generate the data\n",
    "# df is the source data.frame (master_gr)\n",
    "# varv is the variable for which to construct the partial dependence plot\n",
    "# meanmed indicates if fixing other variables to their mean or median value\n",
    "# mdl is the model in which to evaluate the partial dependence\n",
    "# type indicates if evaluating the dependence on a sequence of the predictor values or their real values\n",
    "getPDdata<-function(df,varv, meanmed=\"mean\", mdl, type=\"seq\"){\n",
    "    #get fixed values of constant vars\n",
    "    cvars<-names(coef(mdl)); cvars<-cvars[which(!cvars %in% c(varv,\"ar1\",\"ar2\",\"ar3\"))]\n",
    "    pddc<-sapply(cvars,function(vv,df,meanmed){\n",
    "        mvv<-ifelse(meanmed==\"mean\",mean(df[,vv],na.rm=T),median(df[,vv],na.rm=T))\n",
    "    },df=df,meanmed=meanmed)\n",
    "    \n",
    "    #get varying values of partial dependence var\n",
    "    if(type==\"seq\"){\n",
    "        minprv<-min(df[,varv],na.rm=T); maxprv<-max(df[,varv],na.rm=T)\n",
    "        prv<-seq(minprv,maxprv,length.out=nrow(df))\n",
    "    }else{\n",
    "        prv<-unique(df[,varv])\n",
    "    }\n",
    "    pddf<-data.frame(prv=prv);names(pddf)<-varv\n",
    "    \n",
    "    #combine into matrix\n",
    "    for(ii in 1:NROW(pddc)){\n",
    "        cvn<-pddc[ii]; cvnn<-cvars[ii]\n",
    "        pddf<-cbind(pddf,cvnv=rep(cvn,nrow(pddf)))\n",
    "        names(pddf)<-gsub(\"cvnv\",cvnn,names(pddf))\n",
    "    }\n",
    "    #must re-order as in the original matrix used to train the model\n",
    "    cvars<-names(coef(mdl)); cvars<-cvars[which(!cvars %in% c(\"ar1\",\"ar2\",\"ar3\"))]\n",
    "    pddf<-pddf[,cvars]\n",
    "    pdmx<-as.matrix(pddf)\n",
    "    \n",
    "    preds<-forecast(mdl,xreg=pdmx,level=95)\n",
    "    plotdata<-data.frame(varv=prv,meanv=as.numeric(preds$mean),\n",
    "                         lcv=as.numeric(preds$lower),ucv=as.numeric(preds$upper))\n",
    "    names(plotdata)<-gsub(\"varv\",varv,names(plotdata))\n",
    "    return(plotdata)\n",
    "}\n",
    "\n"
   ]
  },
  {
   "cell_type": "code",
   "execution_count": 860,
   "metadata": {},
   "outputs": [
    {
     "data": {
      "image/png": "[encoded data removed]",
      "text/plain": [
       "plot without title"
      ]
     },
     "metadata": {
      "image/png": {
       "height": 420,
       "width": 420
      },
      "text/plain": {
       "height": 420,
       "width": 420
      }
     },
     "output_type": "display_data"
    }
   ],
   "source": [
    "pdat<-getPDdata(df=master_gr,varv=\"GyreSPD_lag4\",mdl=mdlsat)\n",
    "ggplot(pdat,aes(x=GyreSPD_lag4,y=meanv)) + geom_ribbon(aes(ymin=lcv,ymax=ucv),alpha=0.5) + geom_line(color=\"blue\") +\n",
    "    labs(x=\"Gyre speed lag 4 years\", y = \"Predicted log(growth rate)\")"
   ]
  },
  {
   "cell_type": "code",
   "execution_count": 773,
   "metadata": {},
   "outputs": [
    {
     "ename": "ERROR",
     "evalue": "Error in coef(mdl): object 'mod7' not found\n",
     "output_type": "error",
     "traceback": [
      "Error in coef(mdl): object 'mod7' not found\nTraceback:\n",
      "1. getPDdata(df = master_gr, varv = \"nmSST_aw_RSP\", mdl = mod7)",
      "2. coef(mdl)   # at line 9 of file <text>"
     ]
    }
   ],
   "source": [
    "pdat<-getPDdata(df=master_gr,varv=\"nmSST_aw_RSP\",mdl=mod7)\n",
    "ggplot(pdat,aes(x= nmSST_aw_RSP,y=meanv)) + geom_ribbon(aes(ymin=lcv,ymax=ucv),alpha=0.5) + geom_line(color=\"blue\") +\n",
    "    labs(x=\"Sea Surface Temperature (C)\", y = \"Predicted log(growth rate)\")"
   ]
  },
  {
   "cell_type": "code",
   "execution_count": null,
   "metadata": {},
   "outputs": [],
   "source": [
    "#nmSST_aw_RSP\n",
    "pdat<-getPDdata(df=master_gr,varv=\"SIE_lag4\",mdl=mod7)\n",
    "ggplot(pdat,aes(x= nmSST_aw_RSP,y=meanv)) + geom_ribbon(aes(ymin=lcv,ymax=ucv),alpha=0.5) + geom_line(color=\"blue\") +\n",
    "    labs(x=\"Sea Surface Temperature\", y = \"Predicted log(growth rate)\", title=\"Arima model of order (1,0,0)\")"
   ]
  },
  {
   "cell_type": "code",
   "execution_count": null,
   "metadata": {},
   "outputs": [],
   "source": [
    "pdat<-getPDdata(df=master_gr,varv=\"Fish_cum_75_1\",mdl=mdlsat)\n",
    "ggplot(pdat,aes(x=Prop._134,y=meanv)) + geom_ribbon(aes(ymin=lcv,ymax=ucv),alpha=0.5) + geom_line(color=\"blue\") +\n",
    "    labs(x=\"Proportion of Toothfish > 134 cm in catch\", y = \"Predicted log(growth rate)\", title=\"Arima model of order (1,0,0)\")"
   ]
  },
  {
   "cell_type": "markdown",
   "metadata": {},
   "source": [
    "# From here SST will be excluded due its correlation with OW and the lack of consistent hypothesis to explain its effect on penguin annual growth"
   ]
  },
  {
   "cell_type": "markdown",
   "metadata": {},
   "source": [
    "## Starting the selection model from the beggining "
   ]
  },
  {
   "cell_type": "code",
   "execution_count": 615,
   "metadata": {},
   "outputs": [
    {
     "data": {
      "text/plain": [
       "\n",
       "\tPearson's product-moment correlation\n",
       "\n",
       "data:  master_gr$mnOW_RSP6 and master_gr$OW_day_RSP\n",
       "t = -4.5926, df = 14, p-value = 0.0004183\n",
       "alternative hypothesis: true correlation is not equal to 0\n",
       "95 percent confidence interval:\n",
       " -0.9181335 -0.4540710\n",
       "sample estimates:\n",
       "       cor \n",
       "-0.7752736 \n"
      ]
     },
     "metadata": {},
     "output_type": "display_data"
    }
   ],
   "source": [
    "#correlation test\n",
    "test <- cor.test(master_gr$mnOW_RSP6, master_gr$OW_day_RSP)\n",
    "test"
   ]
  },
  {
   "cell_type": "code",
   "execution_count": 889,
   "metadata": {},
   "outputs": [
    {
     "name": "stdout",
     "output_type": "stream",
     "text": [
      "Series: master_gr$growth_croz \n",
      "Regression with ARIMA(1,0,0) errors \n",
      "\n",
      "Coefficients:\n",
      "          ar1  av_SIE  GyreSPD   mnWind  Fish_cum3  mnAirTemp  mnOW_RSP6\n",
      "      -0.8505  0.1099   0.1133  -0.1146     0.0028    -0.0258    -0.8651\n",
      "s.e.   0.1660  0.1932   0.0569   0.0765     0.0045     0.0574     1.6520\n",
      "\n",
      "sigma^2 estimated as 0.04626:  log likelihood=5.84\n",
      "AIC=4.32   AICc=28.32   BIC=9.99\n",
      "\n",
      "Training set error measures:\n",
      "                      ME      RMSE       MAE      MPE     MAPE      MASE\n",
      "Training set -0.01567541 0.1570744 0.1282612 200.8574 479.3735 0.6433226\n",
      "                   ACF1\n",
      "Training set -0.1364377\n"
     ]
    }
   ],
   "source": [
    "cov_sat_growth<-as.matrix(master_gr[,c(\"av_SIE\", \"GyreSPD\", \n",
    "                              \"mnWind\",   \"Fish_cum3\",\n",
    "                                       \"mnAirTemp\", \"mnOW_RSP6\" )]) #, \"OW_day_RSP\"\n",
    "mdlsat<-Arima(master_gr$growth_croz,order=c(1,0,0),include.mean=F,include.drift=F,xreg= cov_sat_growth)\n",
    "summary(mdlsat)"
   ]
  },
  {
   "cell_type": "code",
   "execution_count": 890,
   "metadata": {},
   "outputs": [
    {
     "data": {
      "text/plain": [
       "\n",
       "z test of coefficients:\n",
       "\n",
       "            Estimate Std. Error z value  Pr(>|z|)    \n",
       "ar1       -0.8504864  0.1659679 -5.1244 2.985e-07 ***\n",
       "av_SIE     0.1098775  0.1932334  0.5686   0.56961    \n",
       "GyreSPD    0.1133107  0.0568546  1.9930   0.04626 *  \n",
       "mnWind    -0.1145647  0.0764976 -1.4976   0.13423    \n",
       "Fish_cum3  0.0028053  0.0045026  0.6230   0.53326    \n",
       "mnAirTemp -0.0258420  0.0573592 -0.4505   0.65233    \n",
       "mnOW_RSP6 -0.8651326  1.6520037 -0.5237   0.60050    \n",
       "---\n",
       "Signif. codes:  0 ‘***’ 0.001 ‘**’ 0.01 ‘*’ 0.05 ‘.’ 0.1 ‘ ’ 1\n"
      ]
     },
     "metadata": {},
     "output_type": "display_data"
    }
   ],
   "source": [
    "coeftest(mdlsat)"
   ]
  },
  {
   "cell_type": "code",
   "execution_count": 891,
   "metadata": {},
   "outputs": [
    {
     "data": {
      "text/html": [
       "&lt;NA&gt;"
      ],
      "text/latex": [
       "<NA>"
      ],
      "text/markdown": [
       "&lt;NA&gt;"
      ],
      "text/plain": [
       "[1] NA"
      ]
     },
     "metadata": {},
     "output_type": "display_data"
    },
    {
     "data": {
      "text/plain": [
       "\n",
       "Call:\n",
       "lm(formula = diff(master_gr$growth_croz) ~ diff(cov_sat_growth) - \n",
       "    1)\n",
       "\n",
       "Residuals:\n",
       "     Min       1Q   Median       3Q      Max \n",
       "-0.45736 -0.22370 -0.02315  0.20927  0.59421 \n",
       "\n",
       "Coefficients:\n",
       "                                Estimate Std. Error t value Pr(>|t|)\n",
       "diff(cov_sat_growth)av_SIE    -0.5819709  0.6494905  -0.896    0.396\n",
       "diff(cov_sat_growth)GyreSPD    0.0101411  0.1021937   0.099    0.923\n",
       "diff(cov_sat_growth)mnWind     0.0704765  0.1201350   0.587    0.574\n",
       "diff(cov_sat_growth)Fish_cum3 -0.0004154  0.0213946  -0.019    0.985\n",
       "diff(cov_sat_growth)mnAirTemp -0.1503511  0.1955725  -0.769    0.464\n",
       "diff(cov_sat_growth)mnOW_RSP6  4.7111471  2.5945030   1.816    0.107\n",
       "\n",
       "Residual standard error: 0.3805 on 8 degrees of freedom\n",
       "  (2 observations deleted due to missingness)\n",
       "Multiple R-squared:  0.352,\tAdjusted R-squared:  -0.134 \n",
       "F-statistic: 0.7242 on 6 and 8 DF,  p-value: 0.6431\n"
      ]
     },
     "metadata": {},
     "output_type": "display_data"
    }
   ],
   "source": [
    "# R squared\n",
    "cor(fitted(mdlsat),master_gr$growth_croz)^2\n",
    "\n",
    "b <- lm(diff(master_gr$growth_croz) ~ diff(cov_sat_growth) - 1)\n",
    "summary(b)"
   ]
  },
  {
   "cell_type": "code",
   "execution_count": 892,
   "metadata": {},
   "outputs": [
    {
     "name": "stdout",
     "output_type": "stream",
     "text": [
      "Series: master_gr$growth_croz \n",
      "Regression with ARIMA(1,0,0) errors \n",
      "\n",
      "Coefficients:\n",
      "          ar1  av_SIE  GyreSPD   mnWind  Fish_cum3  mnAirTemp  OW_day_RSP\n",
      "      -0.7555  0.1122   0.0470  -0.0812    -0.0012    -0.0483     -0.0115\n",
      "s.e.   0.2282  0.1937   0.0569   0.0836     0.0055     0.0613      0.0101\n",
      "\n",
      "sigma^2 estimated as 0.04444:  log likelihood=6.36\n",
      "AIC=3.28   AICc=27.28   BIC=8.94\n",
      "\n",
      "Training set error measures:\n",
      "                      ME      RMSE       MAE      MPE    MAPE      MASE\n",
      "Training set -0.01604534 0.1539457 0.1355301 298.2586 579.274 0.6797811\n",
      "                    ACF1\n",
      "Training set -0.04463834\n"
     ]
    }
   ],
   "source": [
    "cov_sat_growth<-as.matrix(master_gr[,c(\"av_SIE\", \"GyreSPD\", \n",
    "                              \"mnWind\",   \"Fish_cum3\",\n",
    "                                       \"mnAirTemp\", \"OW_day_RSP\" )]) # \"mnOW_RSP6\"\n",
    "mdlsat<-Arima(master_gr$growth_croz,order=c(1,0,0),include.mean=F,include.drift=F,xreg= cov_sat_growth)\n",
    "summary(mdlsat)"
   ]
  },
  {
   "cell_type": "code",
   "execution_count": 893,
   "metadata": {},
   "outputs": [
    {
     "data": {
      "text/plain": [
       "\n",
       "z test of coefficients:\n",
       "\n",
       "             Estimate Std. Error z value  Pr(>|z|)    \n",
       "ar1        -0.7555258  0.2281568 -3.3114 0.0009282 ***\n",
       "av_SIE      0.1122351  0.1936919  0.5795 0.5622845    \n",
       "GyreSPD     0.0469895  0.0569229  0.8255 0.4090915    \n",
       "mnWind     -0.0812132  0.0835553 -0.9720 0.3310661    \n",
       "Fish_cum3  -0.0011656  0.0055284 -0.2108 0.8330136    \n",
       "mnAirTemp  -0.0482541  0.0613013 -0.7872 0.4311870    \n",
       "OW_day_RSP -0.0114577  0.0101470 -1.1292 0.2588233    \n",
       "---\n",
       "Signif. codes:  0 ‘***’ 0.001 ‘**’ 0.01 ‘*’ 0.05 ‘.’ 0.1 ‘ ’ 1\n"
      ]
     },
     "metadata": {},
     "output_type": "display_data"
    }
   ],
   "source": [
    "coeftest(mdlsat)"
   ]
  },
  {
   "cell_type": "code",
   "execution_count": 894,
   "metadata": {},
   "outputs": [
    {
     "data": {
      "text/html": [
       "&lt;NA&gt;"
      ],
      "text/latex": [
       "<NA>"
      ],
      "text/markdown": [
       "&lt;NA&gt;"
      ],
      "text/plain": [
       "[1] NA"
      ]
     },
     "metadata": {},
     "output_type": "display_data"
    },
    {
     "data": {
      "text/plain": [
       "\n",
       "Call:\n",
       "lm(formula = diff(master_gr$growth_croz) ~ diff(cov_sat_growth) - \n",
       "    1)\n",
       "\n",
       "Residuals:\n",
       "    Min      1Q  Median      3Q     Max \n",
       "-0.5531 -0.1768  0.0332  0.1725  0.7760 \n",
       "\n",
       "Coefficients:\n",
       "                                 Estimate Std. Error t value Pr(>|t|)\n",
       "diff(cov_sat_growth)av_SIE     -0.4767111  0.7052792  -0.676    0.518\n",
       "diff(cov_sat_growth)GyreSPD     0.0361228  0.1122525   0.322    0.756\n",
       "diff(cov_sat_growth)mnWind      0.0418412  0.1305581   0.320    0.757\n",
       "diff(cov_sat_growth)Fish_cum3  -0.0001525  0.0230941  -0.007    0.995\n",
       "diff(cov_sat_growth)mnAirTemp  -0.1580209  0.2150399  -0.735    0.483\n",
       "diff(cov_sat_growth)OW_day_RSP -0.0180658  0.0138708  -1.302    0.229\n",
       "\n",
       "Residual standard error: 0.4107 on 8 degrees of freedom\n",
       "  (2 observations deleted due to missingness)\n",
       "Multiple R-squared:  0.245,\tAdjusted R-squared:  -0.3213 \n",
       "F-statistic: 0.4327 on 6 and 8 DF,  p-value: 0.8384\n"
      ]
     },
     "metadata": {},
     "output_type": "display_data"
    }
   ],
   "source": [
    "cor(fitted(mdlsat),master_gr$growth_croz)^2\n",
    "\n",
    "b <- lm(diff(master_gr$growth_croz) ~ diff(cov_sat_growth) - 1)\n",
    "summary(b)"
   ]
  },
  {
   "cell_type": "code",
   "execution_count": 883,
   "metadata": {},
   "outputs": [
    {
     "name": "stdout",
     "output_type": "stream",
     "text": [
      "Series: master_gr$growth_croz \n",
      "Regression with ARIMA(1,0,0) errors \n",
      "\n",
      "Coefficients:\n",
      "          ar1   av_SIE  GyreSPD   mnWind  Fish_cum3  mnAirTemp  OW_day_RSPlag4\n",
      "      -0.8403  -0.0741   0.0643  -0.0098     0.0091     0.0305         -0.0224\n",
      "s.e.   0.1468   0.1613   0.0345   0.0726     0.0044     0.0512          0.0080\n",
      "\n",
      "sigma^2 estimated as 0.03084:  log likelihood=8.91\n",
      "AIC=-1.82   AICc=22.18   BIC=3.84\n",
      "\n",
      "Training set error measures:\n",
      "                      ME      RMSE        MAE      MPE     MAPE      MASE\n",
      "Training set -0.01000659 0.1282435 0.09739215 20.86291 221.7201 0.4884919\n",
      "                   ACF1\n",
      "Training set -0.2384542\n"
     ]
    }
   ],
   "source": [
    "#checking OW_lag\n",
    "\n",
    "cov_sat_growth<-as.matrix(master_gr[,c(\"av_SIE\", \"GyreSPD\", \n",
    "                              \"mnWind\",   \"Fish_cum3\",\n",
    "                                       \"mnAirTemp\", \"OW_day_RSPlag4\" )]) # \"mnOW_RSP6\"\n",
    "mdlsat<-Arima(master_gr$growth_croz,order=c(1,0,0),include.mean=F,include.drift=F,xreg= cov_sat_growth)\n",
    "summary(mdlsat)"
   ]
  },
  {
   "cell_type": "code",
   "execution_count": 884,
   "metadata": {},
   "outputs": [
    {
     "data": {
      "text/plain": [
       "\n",
       "z test of coefficients:\n",
       "\n",
       "                 Estimate Std. Error z value  Pr(>|z|)    \n",
       "ar1            -0.8402533  0.1467981 -5.7239 1.041e-08 ***\n",
       "av_SIE         -0.0741161  0.1612766 -0.4596  0.645833    \n",
       "GyreSPD         0.0642818  0.0344824  1.8642  0.062294 .  \n",
       "mnWind         -0.0098205  0.0725704 -0.1353  0.892356    \n",
       "Fish_cum3       0.0091368  0.0043687  2.0914  0.036492 *  \n",
       "mnAirTemp       0.0304934  0.0512321  0.5952  0.551709    \n",
       "OW_day_RSPlag4 -0.0223652  0.0079614 -2.8092  0.004966 ** \n",
       "---\n",
       "Signif. codes:  0 ‘***’ 0.001 ‘**’ 0.01 ‘*’ 0.05 ‘.’ 0.1 ‘ ’ 1\n"
      ]
     },
     "metadata": {},
     "output_type": "display_data"
    }
   ],
   "source": [
    "coeftest(mdlsat)"
   ]
  },
  {
   "cell_type": "code",
   "execution_count": 885,
   "metadata": {},
   "outputs": [
    {
     "data": {
      "text/html": [
       "&lt;NA&gt;"
      ],
      "text/latex": [
       "<NA>"
      ],
      "text/markdown": [
       "&lt;NA&gt;"
      ],
      "text/plain": [
       "[1] NA"
      ]
     },
     "metadata": {},
     "output_type": "display_data"
    },
    {
     "data": {
      "text/plain": [
       "\n",
       "Call:\n",
       "lm(formula = diff(master_gr$growth_croz) ~ diff(cov_sat_growth) - \n",
       "    1)\n",
       "\n",
       "Residuals:\n",
       "     Min       1Q   Median       3Q      Max \n",
       "-0.58277 -0.14887 -0.09703  0.10939  0.76252 \n",
       "\n",
       "Coefficients:\n",
       "                                    Estimate Std. Error t value Pr(>|t|)\n",
       "diff(cov_sat_growth)av_SIE         -0.995152   0.699078  -1.424    0.192\n",
       "diff(cov_sat_growth)GyreSPD        -0.084939   0.116515  -0.729    0.487\n",
       "diff(cov_sat_growth)mnWind          0.076407   0.121664   0.628    0.547\n",
       "diff(cov_sat_growth)Fish_cum3       0.003122   0.021729   0.144    0.889\n",
       "diff(cov_sat_growth)mnAirTemp      -0.097256   0.194427  -0.500    0.630\n",
       "diff(cov_sat_growth)OW_day_RSPlag4 -0.043702   0.025034  -1.746    0.119\n",
       "\n",
       "Residual standard error: 0.3848 on 8 degrees of freedom\n",
       "  (2 observations deleted due to missingness)\n",
       "Multiple R-squared:  0.3373,\tAdjusted R-squared:  -0.1597 \n",
       "F-statistic: 0.6787 on 6 and 8 DF,  p-value: 0.6725\n"
      ]
     },
     "metadata": {},
     "output_type": "display_data"
    }
   ],
   "source": [
    "cor(fitted(mdlsat),master_gr$growth_croz)^2\n",
    "\n",
    "b <- lm(diff(master_gr$growth_croz) ~ diff(cov_sat_growth) - 1)\n",
    "summary(b)"
   ]
  },
  {
   "cell_type": "code",
   "execution_count": 874,
   "metadata": {},
   "outputs": [
    {
     "name": "stdout",
     "output_type": "stream",
     "text": [
      "Series: master_gr$growth_croz \n",
      "Regression with ARIMA(1,0,0) errors \n",
      "\n",
      "Coefficients:\n",
      "          ar1   av_SIE  GyreSPD  Fish_cum3  mnAirTemp  OW_day_RSPlag4\n",
      "      -0.8377  -0.0902   0.0615     0.0094     0.0354         -0.0229\n",
      "s.e.   0.1471   0.1092   0.0280     0.0038     0.0359          0.0068\n",
      "\n",
      "sigma^2 estimated as 0.02747:  log likelihood=8.9\n",
      "AIC=-3.8   AICc=12.2   BIC=1.15\n",
      "\n",
      "Training set error measures:\n",
      "                       ME      RMSE        MAE      MPE     MAPE      MASE\n",
      "Training set -0.009921878 0.1283841 0.09813401 17.53469 216.4669 0.4922129\n",
      "                   ACF1\n",
      "Training set -0.2311309\n"
     ]
    }
   ],
   "source": [
    "cov_sat_growth<-as.matrix(master_gr[,c(\"av_SIE\", \"GyreSPD\", \n",
    "                              \"Fish_cum3\",\n",
    "                                       \"mnAirTemp\", \"OW_day_RSPlag4\" )]) # \"mnOW_RSP6\",  \"mnWind\",  \n",
    "mdlsat<-Arima(master_gr$growth_croz,order=c(1,0,0),include.mean=F,include.drift=F,xreg= cov_sat_growth)\n",
    "summary(mdlsat)"
   ]
  },
  {
   "cell_type": "code",
   "execution_count": 875,
   "metadata": {},
   "outputs": [
    {
     "data": {
      "text/plain": [
       "\n",
       "z test of coefficients:\n",
       "\n",
       "                 Estimate Std. Error z value  Pr(>|z|)    \n",
       "ar1            -0.8376783  0.1471151 -5.6940 1.241e-08 ***\n",
       "av_SIE         -0.0902132  0.1092233 -0.8260  0.408831    \n",
       "GyreSPD         0.0615415  0.0279943  2.1984  0.027923 *  \n",
       "Fish_cum3       0.0094309  0.0037941  2.4857  0.012930 *  \n",
       "mnAirTemp       0.0354453  0.0358906  0.9876  0.323352    \n",
       "OW_day_RSPlag4 -0.0229245  0.0068145 -3.3641  0.000768 ***\n",
       "---\n",
       "Signif. codes:  0 ‘***’ 0.001 ‘**’ 0.01 ‘*’ 0.05 ‘.’ 0.1 ‘ ’ 1\n"
      ]
     },
     "metadata": {},
     "output_type": "display_data"
    }
   ],
   "source": [
    "coeftest(mdlsat)"
   ]
  },
  {
   "cell_type": "code",
   "execution_count": 876,
   "metadata": {},
   "outputs": [
    {
     "data": {
      "text/html": [
       "&lt;NA&gt;"
      ],
      "text/latex": [
       "<NA>"
      ],
      "text/markdown": [
       "&lt;NA&gt;"
      ],
      "text/plain": [
       "[1] NA"
      ]
     },
     "metadata": {},
     "output_type": "display_data"
    },
    {
     "data": {
      "text/plain": [
       "\n",
       "Call:\n",
       "lm(formula = diff(master_gr$growth_croz) ~ diff(cov_sat_growth) - \n",
       "    1)\n",
       "\n",
       "Residuals:\n",
       "    Min      1Q  Median      3Q     Max \n",
       "-0.5737 -0.1356 -0.0549  0.1345  0.7514 \n",
       "\n",
       "Coefficients:\n",
       "                                    Estimate Std. Error t value Pr(>|t|)\n",
       "diff(cov_sat_growth)av_SIE         -0.901583   0.659637  -1.367    0.205\n",
       "diff(cov_sat_growth)GyreSPD        -0.090709   0.112176  -0.809    0.440\n",
       "diff(cov_sat_growth)Fish_cum3       0.005107   0.020762   0.246    0.811\n",
       "diff(cov_sat_growth)mnAirTemp      -0.090357   0.187472  -0.482    0.641\n",
       "diff(cov_sat_growth)OW_day_RSPlag4 -0.042676   0.024126  -1.769    0.111\n",
       "\n",
       "Residual standard error: 0.3716 on 9 degrees of freedom\n",
       "  (2 observations deleted due to missingness)\n",
       "Multiple R-squared:  0.3047,\tAdjusted R-squared:  -0.08164 \n",
       "F-statistic: 0.7887 on 5 and 9 DF,  p-value: 0.5832\n"
      ]
     },
     "metadata": {},
     "output_type": "display_data"
    }
   ],
   "source": [
    "# R squared\n",
    "cor(fitted(mdlsat),master_gr$growth_croz)^2\n",
    "\n",
    "b <- lm(diff(master_gr$growth_croz) ~ diff(cov_sat_growth) - 1)\n",
    "summary(b)"
   ]
  },
  {
   "cell_type": "code",
   "execution_count": 895,
   "metadata": {},
   "outputs": [
    {
     "name": "stdout",
     "output_type": "stream",
     "text": [
      "Series: master_gr$growth_croz \n",
      "Regression with ARIMA(1,0,0) errors \n",
      "\n",
      "Coefficients:\n",
      "          ar1   av_SIE  GyreSPD  Fish_cum3  mnOW_RSP6_lag4\n",
      "      -0.6842  -0.1686   0.0578     0.0052          0.1508\n",
      "s.e.   0.2260   0.1455   0.0421     0.0054          1.2118\n",
      "\n",
      "sigma^2 estimated as 0.04474:  log likelihood=4.74\n",
      "AIC=2.51   AICc=13.01   BIC=6.76\n",
      "\n",
      "Training set error measures:\n",
      "                      ME     RMSE       MAE      MPE     MAPE      MASE\n",
      "Training set -0.01588644 0.172707 0.1401866 182.4426 438.5998 0.7031371\n",
      "                    ACF1\n",
      "Training set -0.02918655\n"
     ]
    }
   ],
   "source": [
    "#checking ow again\n",
    "cov_sat_growth<-as.matrix(master_gr[,c(\"av_SIE\", \"GyreSPD\", \n",
    "                              \"Fish_cum3\",\n",
    "                                \"mnOW_RSP6_lag4\")]) #   \"mnWind\",   \"mnAirTemp\",\"OW_day_RSPlag4\" \n",
    "mdlsat<-Arima(master_gr$growth_croz,order=c(1,0,0),include.mean=F,include.drift=F,xreg= cov_sat_growth)\n",
    "summary(mdlsat)"
   ]
  },
  {
   "cell_type": "code",
   "execution_count": 896,
   "metadata": {},
   "outputs": [
    {
     "data": {
      "text/plain": [
       "\n",
       "z test of coefficients:\n",
       "\n",
       "                 Estimate Std. Error z value Pr(>|z|)   \n",
       "ar1            -0.6842101  0.2260459 -3.0269 0.002471 **\n",
       "av_SIE         -0.1685914  0.1454971 -1.1587 0.246567   \n",
       "GyreSPD         0.0578094  0.0420578  1.3745 0.169279   \n",
       "Fish_cum3       0.0051992  0.0053997  0.9629 0.335614   \n",
       "mnOW_RSP6_lag4  0.1508498  1.2118465  0.1245 0.900936   \n",
       "---\n",
       "Signif. codes:  0 ‘***’ 0.001 ‘**’ 0.01 ‘*’ 0.05 ‘.’ 0.1 ‘ ’ 1\n"
      ]
     },
     "metadata": {},
     "output_type": "display_data"
    }
   ],
   "source": [
    "coeftest(mdlsat)"
   ]
  },
  {
   "cell_type": "code",
   "execution_count": 897,
   "metadata": {},
   "outputs": [
    {
     "data": {
      "text/html": [
       "&lt;NA&gt;"
      ],
      "text/latex": [
       "<NA>"
      ],
      "text/markdown": [
       "&lt;NA&gt;"
      ],
      "text/plain": [
       "[1] NA"
      ]
     },
     "metadata": {},
     "output_type": "display_data"
    },
    {
     "data": {
      "text/plain": [
       "\n",
       "Call:\n",
       "lm(formula = diff(master_gr$growth_croz) ~ diff(cov_sat_growth) - \n",
       "    1)\n",
       "\n",
       "Residuals:\n",
       "     Min       1Q   Median       3Q      Max \n",
       "-0.49140 -0.17108  0.03129  0.09552  1.02255 \n",
       "\n",
       "Coefficients:\n",
       "                                    Estimate Std. Error t value Pr(>|t|)\n",
       "diff(cov_sat_growth)av_SIE         -0.351485   0.687817  -0.511    0.620\n",
       "diff(cov_sat_growth)GyreSPD        -0.022786   0.109358  -0.208    0.839\n",
       "diff(cov_sat_growth)Fish_cum3       0.000832   0.023162   0.036    0.972\n",
       "diff(cov_sat_growth)mnOW_RSP6_lag4 -0.165111   2.924849  -0.056    0.956\n",
       "\n",
       "Residual standard error: 0.4122 on 10 degrees of freedom\n",
       "  (2 observations deleted due to missingness)\n",
       "Multiple R-squared:  0.04967,\tAdjusted R-squared:  -0.3305 \n",
       "F-statistic: 0.1307 on 4 and 10 DF,  p-value: 0.9676\n"
      ]
     },
     "metadata": {},
     "output_type": "display_data"
    }
   ],
   "source": [
    "# R squared\n",
    "cor(fitted(mdlsat),master_gr$growth_croz)^2\n",
    "\n",
    "b <- lm(diff(master_gr$growth_croz) ~ diff(cov_sat_growth) - 1)\n",
    "summary(b)"
   ]
  },
  {
   "cell_type": "code",
   "execution_count": 869,
   "metadata": {
    "scrolled": false
   },
   "outputs": [
    {
     "name": "stdout",
     "output_type": "stream",
     "text": [
      "Series: master_gr$growth_croz \n",
      "Regression with ARIMA(1,0,0) errors \n",
      "\n",
      "Coefficients:\n",
      "          ar1  GyreSPD  Fish_cum3  mnAirTemp  OW_day_RSPlag4\n",
      "      -0.8354   0.0442     0.0076     0.0541         -0.0231\n",
      "s.e.   0.1515   0.0192     0.0031     0.0283          0.0070\n",
      "\n",
      "sigma^2 estimated as 0.02587:  log likelihood=8.57\n",
      "AIC=-5.14   AICc=5.36   BIC=-0.89\n",
      "\n",
      "Training set error measures:\n",
      "                      ME      RMSE       MAE       MPE     MAPE    MASE\n",
      "Training set -0.01149712 0.1313351 0.1006914 -176.5243 383.7193 0.50504\n",
      "                   ACF1\n",
      "Training set -0.1405273\n"
     ]
    }
   ],
   "source": [
    "cov_sat_growth<-as.matrix(master_gr[,c(\"GyreSPD\", \n",
    "                              \"Fish_cum3\",  \"mnAirTemp\",\n",
    "                                       \"OW_day_RSPlag4\")]) # \"mnOW_RSP6\",  \"mnWind\",  ,\n",
    "mdlsat<-Arima(master_gr$growth_croz,order=c(1,0,0),include.mean=F,include.drift=F,xreg= cov_sat_growth)\n",
    "summary(mdlsat)"
   ]
  },
  {
   "cell_type": "markdown",
   "metadata": {},
   "source": [
    "# BEST MODEL"
   ]
  },
  {
   "cell_type": "code",
   "execution_count": 870,
   "metadata": {},
   "outputs": [
    {
     "data": {
      "text/plain": [
       "\n",
       "z test of coefficients:\n",
       "\n",
       "                 Estimate Std. Error z value  Pr(>|z|)    \n",
       "ar1            -0.8353710  0.1514571 -5.5156 3.477e-08 ***\n",
       "GyreSPD         0.0441696  0.0192171  2.2984 0.0215363 *  \n",
       "Fish_cum3       0.0075588  0.0031009  2.4376 0.0147845 *  \n",
       "mnAirTemp       0.0540915  0.0283356  1.9090 0.0562670 .  \n",
       "OW_day_RSPlag4 -0.0230953  0.0069845 -3.3067 0.0009442 ***\n",
       "---\n",
       "Signif. codes:  0 ‘***’ 0.001 ‘**’ 0.01 ‘*’ 0.05 ‘.’ 0.1 ‘ ’ 1\n"
      ]
     },
     "metadata": {},
     "output_type": "display_data"
    }
   ],
   "source": [
    "#BEST MODEL\n",
    "###\n",
    "coeftest(mdlsat)"
   ]
  },
  {
   "cell_type": "code",
   "execution_count": 871,
   "metadata": {},
   "outputs": [
    {
     "data": {
      "text/html": [
       "&lt;NA&gt;"
      ],
      "text/latex": [
       "<NA>"
      ],
      "text/markdown": [
       "&lt;NA&gt;"
      ],
      "text/plain": [
       "[1] NA"
      ]
     },
     "metadata": {},
     "output_type": "display_data"
    },
    {
     "data": {
      "text/plain": [
       "\n",
       "Call:\n",
       "lm(formula = diff(master_gr$growth_croz) ~ diff(cov_sat_growth) - \n",
       "    1)\n",
       "\n",
       "Residuals:\n",
       "     Min       1Q   Median       3Q      Max \n",
       "-0.54812 -0.12084 -0.03853  0.08515  0.95313 \n",
       "\n",
       "Coefficients:\n",
       "                                    Estimate Std. Error t value Pr(>|t|)\n",
       "diff(cov_sat_growth)GyreSPD        -0.112130   0.115797  -0.968    0.356\n",
       "diff(cov_sat_growth)Fish_cum3       0.002939   0.021581   0.136    0.894\n",
       "diff(cov_sat_growth)mnAirTemp       0.039228   0.168605   0.233    0.821\n",
       "diff(cov_sat_growth)OW_day_RSPlag4 -0.031561   0.023679  -1.333    0.212\n",
       "\n",
       "Residual standard error: 0.3874 on 10 degrees of freedom\n",
       "  (2 observations deleted due to missingness)\n",
       "Multiple R-squared:  0.1603,\tAdjusted R-squared:  -0.1755 \n",
       "F-statistic: 0.4774 on 4 and 10 DF,  p-value: 0.752\n"
      ]
     },
     "metadata": {},
     "output_type": "display_data"
    }
   ],
   "source": [
    "# R squared\n",
    "cor(fitted(mdlsat),master_gr$growth_croz)^2\n",
    "\n",
    "b <- lm(diff(master_gr$growth_croz) ~ diff(cov_sat_growth) - 1)\n",
    "summary(b)"
   ]
  },
  {
   "cell_type": "code",
   "execution_count": 877,
   "metadata": {},
   "outputs": [
    {
     "name": "stdout",
     "output_type": "stream",
     "text": [
      "Series: master_gr$growth_croz \n",
      "Regression with ARIMA(1,0,0) errors \n",
      "\n",
      "Coefficients:\n",
      "          ar1  GyreSPD  SIE_lag4  Fish_cum3  OW_day_RSPlag4\n",
      "      -0.7873   0.0485   -0.1088     0.0066         -0.0188\n",
      "s.e.   0.1771   0.0317    0.0881     0.0033          0.0083\n",
      "\n",
      "sigma^2 estimated as 0.02926:  log likelihood=7.76\n",
      "AIC=-3.52   AICc=6.98   BIC=0.73\n",
      "\n",
      "Training set error measures:\n",
      "                      ME      RMSE       MAE       MPE     MAPE      MASE\n",
      "Training set -0.01262225 0.1396592 0.1079167 -10.62599 307.4418 0.5412803\n",
      "                    ACF1\n",
      "Training set -0.03785056\n"
     ]
    }
   ],
   "source": [
    "cov_sat_growth<-as.matrix(master_gr[,c(\"GyreSPD\", \"SIE_lag4\",\n",
    "                              \"Fish_cum3\",  \n",
    "                                       \"OW_day_RSPlag4\")]) # \"mnOW_RSP6\",  \"mnWind\", \"mnAirTemp\", ,\n",
    "mdlsat<-Arima(master_gr$growth_croz,order=c(1,0,0),include.mean=F,include.drift=F,xreg= cov_sat_growth)\n",
    "summary(mdlsat)"
   ]
  },
  {
   "cell_type": "code",
   "execution_count": 878,
   "metadata": {},
   "outputs": [
    {
     "data": {
      "text/plain": [
       "\n",
       "z test of coefficients:\n",
       "\n",
       "                 Estimate Std. Error z value  Pr(>|z|)    \n",
       "ar1            -0.7873377  0.1771452 -4.4446 8.806e-06 ***\n",
       "GyreSPD         0.0484665  0.0317034  1.5287   0.12633    \n",
       "SIE_lag4       -0.1088397  0.0880774 -1.2357   0.21656    \n",
       "Fish_cum3       0.0065878  0.0032878  2.0037   0.04510 *  \n",
       "OW_day_RSPlag4 -0.0188445  0.0082813 -2.2755   0.02287 *  \n",
       "---\n",
       "Signif. codes:  0 ‘***’ 0.001 ‘**’ 0.01 ‘*’ 0.05 ‘.’ 0.1 ‘ ’ 1\n"
      ]
     },
     "metadata": {},
     "output_type": "display_data"
    }
   ],
   "source": [
    "coeftest(mdlsat)"
   ]
  },
  {
   "cell_type": "code",
   "execution_count": 879,
   "metadata": {},
   "outputs": [
    {
     "data": {
      "text/html": [
       "&lt;NA&gt;"
      ],
      "text/latex": [
       "<NA>"
      ],
      "text/markdown": [
       "&lt;NA&gt;"
      ],
      "text/plain": [
       "[1] NA"
      ]
     },
     "metadata": {},
     "output_type": "display_data"
    },
    {
     "data": {
      "text/plain": [
       "\n",
       "Call:\n",
       "lm(formula = diff(master_gr$growth_croz) ~ diff(cov_sat_growth) - \n",
       "    1)\n",
       "\n",
       "Residuals:\n",
       "     Min       1Q   Median       3Q      Max \n",
       "-0.51621 -0.16111 -0.04819  0.17772  0.88861 \n",
       "\n",
       "Coefficients:\n",
       "                                    Estimate Std. Error t value Pr(>|t|)\n",
       "diff(cov_sat_growth)GyreSPD        -0.091847   0.088191  -1.041    0.322\n",
       "diff(cov_sat_growth)SIE_lag4       -0.308852   0.505813  -0.611    0.555\n",
       "diff(cov_sat_growth)Fish_cum3       0.009369   0.023509   0.399    0.699\n",
       "diff(cov_sat_growth)OW_day_RSPlag4 -0.029699   0.023042  -1.289    0.226\n",
       "\n",
       "Residual standard error: 0.3814 on 10 degrees of freedom\n",
       "  (2 observations deleted due to missingness)\n",
       "Multiple R-squared:  0.1861,\tAdjusted R-squared:  -0.1394 \n",
       "F-statistic: 0.5718 on 4 and 10 DF,  p-value: 0.6894\n"
      ]
     },
     "metadata": {},
     "output_type": "display_data"
    }
   ],
   "source": [
    "# R squared\n",
    "cor(fitted(mdlsat),master_gr$growth_croz)^2\n",
    "\n",
    "b <- lm(diff(master_gr$growth_croz) ~ diff(cov_sat_growth) - 1)\n",
    "summary(b)"
   ]
  },
  {
   "cell_type": "code",
   "execution_count": 880,
   "metadata": {},
   "outputs": [
    {
     "name": "stdout",
     "output_type": "stream",
     "text": [
      "Series: master_gr$growth_croz \n",
      "Regression with ARIMA(1,0,0) errors \n",
      "\n",
      "Coefficients:\n",
      "          ar1   av_SIE  av_SIE_2  GyreSPD  Fish_cum3  OW_day_RSPlag4\n",
      "      -0.8086  -0.2229    0.0170   0.0680     0.0095         -0.0214\n",
      "s.e.   0.1616   0.3227    0.0816   0.0431     0.0042          0.0095\n",
      "\n",
      "sigma^2 estimated as 0.0294:  log likelihood=8.47\n",
      "AIC=-2.94   AICc=13.06   BIC=2.02\n",
      "\n",
      "Training set error measures:\n",
      "                      ME      RMSE       MAE      MPE     MAPE      MASE\n",
      "Training set -0.01008819 0.1328058 0.1070736 80.66478 281.1331 0.5370512\n",
      "                   ACF1\n",
      "Training set -0.1787447\n"
     ]
    }
   ],
   "source": [
    "#checked lags and quadratics for SIE and Gyre\n",
    "cov_sat_growth<-as.matrix(master_gr[,c(\"av_SIE\", \"av_SIE_2\", \"GyreSPD\",\n",
    "                              \"Fish_cum3\",\n",
    "                                        \"OW_day_RSPlag4\" )]) # \"mnOW_RSP6\",  \"mnWind\",   \"mnAirTemp\",\n",
    "mdlsat<-Arima(master_gr$growth_croz,order=c(1,0,0),include.mean=F,include.drift=F,xreg= cov_sat_growth)\n",
    "summary(mdlsat)"
   ]
  },
  {
   "cell_type": "code",
   "execution_count": 881,
   "metadata": {},
   "outputs": [
    {
     "data": {
      "text/plain": [
       "\n",
       "z test of coefficients:\n",
       "\n",
       "                 Estimate Std. Error z value  Pr(>|z|)    \n",
       "ar1            -0.8085861  0.1616130 -5.0032 5.638e-07 ***\n",
       "av_SIE         -0.2229238  0.3226564 -0.6909   0.48963    \n",
       "av_SIE_2        0.0169949  0.0816363  0.2082   0.83509    \n",
       "GyreSPD         0.0680470  0.0430763  1.5797   0.11418    \n",
       "Fish_cum3       0.0095005  0.0041658  2.2806   0.02257 *  \n",
       "OW_day_RSPlag4 -0.0213915  0.0095346 -2.2436   0.02486 *  \n",
       "---\n",
       "Signif. codes:  0 ‘***’ 0.001 ‘**’ 0.01 ‘*’ 0.05 ‘.’ 0.1 ‘ ’ 1\n"
      ]
     },
     "metadata": {},
     "output_type": "display_data"
    }
   ],
   "source": [
    "#BEST MODEL\n",
    "coeftest(mdlsat)"
   ]
  },
  {
   "cell_type": "code",
   "execution_count": 882,
   "metadata": {},
   "outputs": [
    {
     "data": {
      "text/html": [
       "&lt;NA&gt;"
      ],
      "text/latex": [
       "<NA>"
      ],
      "text/markdown": [
       "&lt;NA&gt;"
      ],
      "text/plain": [
       "[1] NA"
      ]
     },
     "metadata": {},
     "output_type": "display_data"
    },
    {
     "data": {
      "text/plain": [
       "\n",
       "Call:\n",
       "lm(formula = diff(master_gr$growth_croz) ~ diff(cov_sat_growth) - \n",
       "    1)\n",
       "\n",
       "Residuals:\n",
       "     Min       1Q   Median       3Q      Max \n",
       "-0.56987 -0.11661 -0.03019  0.13198  0.79157 \n",
       "\n",
       "Coefficients:\n",
       "                                    Estimate Std. Error t value Pr(>|t|)\n",
       "diff(cov_sat_growth)av_SIE          3.510245  11.173371   0.314    0.761\n",
       "diff(cov_sat_growth)av_SIE_2       -0.748069   1.963636  -0.381    0.712\n",
       "diff(cov_sat_growth)GyreSPD        -0.130920   0.090919  -1.440    0.184\n",
       "diff(cov_sat_growth)Fish_cum3       0.007014   0.021989   0.319    0.757\n",
       "diff(cov_sat_growth)OW_day_RSPlag4 -0.045236   0.025454  -1.777    0.109\n",
       "\n",
       "Residual standard error: 0.3734 on 9 degrees of freedom\n",
       "  (2 observations deleted due to missingness)\n",
       "Multiple R-squared:  0.298,\tAdjusted R-squared:  -0.09195 \n",
       "F-statistic: 0.7642 on 5 and 9 DF,  p-value: 0.5978\n"
      ]
     },
     "metadata": {},
     "output_type": "display_data"
    }
   ],
   "source": [
    "cor(fitted(mdlsat),master_gr$growth_croz)^2\n",
    "\n",
    "b <- lm(diff(master_gr$growth_croz) ~ diff(cov_sat_growth) - 1)\n",
    "summary(b)"
   ]
  },
  {
   "cell_type": "code",
   "execution_count": 872,
   "metadata": {},
   "outputs": [
    {
     "name": "stdout",
     "output_type": "stream",
     "text": [
      "Series: master_gr$growth_croz \n",
      "Regression with ARIMA(1,0,0) errors \n",
      "\n",
      "Coefficients:\n"
     ]
    },
    {
     "name": "stderr",
     "output_type": "stream",
     "text": [
      "Warning message in sqrt(diag(x$var.coef)):\n",
      "“NaNs produced”\n"
     ]
    },
    {
     "name": "stdout",
     "output_type": "stream",
     "text": [
      "          ar1  xreg\n",
      "      -0.6109     0\n",
      "s.e.      NaN   NaN\n",
      "\n",
      "sigma^2 estimated as 0.03477:  log likelihood=5.26\n",
      "AIC=-4.52   AICc=-2.67   BIC=-2.02\n",
      "\n",
      "Training set error measures:\n",
      "                      ME      RMSE      MAE  MPE MAPE     MASE      ACF1\n",
      "Training set -0.01219961 0.1751582 0.131037 -Inf  Inf 0.657245 0.0196731\n"
     ]
    }
   ],
   "source": [
    "#intercept only\n",
    "cov_sat_growth<-as.matrix(master_gr[,c(1)]) # \"mnOW_RSP6\",  \"mnWind\",   \"mnAirTemp\",\n",
    "mdlsat<-Arima(master_gr$growth_croz,order=c(1,0,0),include.mean=F,include.drift=F,xreg= cov_sat_growth)\n",
    "summary(mdlsat)"
   ]
  },
  {
   "cell_type": "code",
   "execution_count": 873,
   "metadata": {},
   "outputs": [
    {
     "data": {
      "text/html": [
       "0.291339934636825"
      ],
      "text/latex": [
       "0.291339934636825"
      ],
      "text/markdown": [
       "0.291339934636825"
      ],
      "text/plain": [
       "[1] 0.2913399"
      ]
     },
     "metadata": {},
     "output_type": "display_data"
    },
    {
     "data": {
      "text/plain": [
       "\n",
       "Call:\n",
       "lm(formula = diff(master_gr$growth_croz) ~ diff(cov_sat_growth) - \n",
       "    1)\n",
       "\n",
       "Residuals:\n",
       "     Min       1Q   Median       3Q      Max \n",
       "-0.55895 -0.11655 -0.03824  0.05571  1.03220 \n",
       "\n",
       "Coefficients:\n",
       "                     Estimate Std. Error t value Pr(>|t|)\n",
       "diff(cov_sat_growth)  0.02927    0.08624   0.339    0.739\n",
       "\n",
       "Residual standard error: 0.345 on 15 degrees of freedom\n",
       "Multiple R-squared:  0.007621,\tAdjusted R-squared:  -0.05854 \n",
       "F-statistic: 0.1152 on 1 and 15 DF,  p-value: 0.739\n"
      ]
     },
     "metadata": {},
     "output_type": "display_data"
    }
   ],
   "source": [
    "# R squared\n",
    "cor(fitted(mdlsat),master_gr$growth_croz)^2\n",
    "\n",
    "b <- lm(diff(master_gr$growth_croz) ~ diff(cov_sat_growth) - 1)\n",
    "summary(b)"
   ]
  },
  {
   "cell_type": "code",
   "execution_count": null,
   "metadata": {},
   "outputs": [],
   "source": []
  }
 ],
 "metadata": {
  "kernelspec": {
   "display_name": "R",
   "language": "R",
   "name": "ir"
  },
  "language_info": {
   "codemirror_mode": "r",
   "file_extension": ".r",
   "mimetype": "text/x-r-source",
   "name": "R",
   "pygments_lexer": "r",
   "version": "3.6.3"
  }
 },
 "nbformat": 4,
 "nbformat_minor": 2
}
