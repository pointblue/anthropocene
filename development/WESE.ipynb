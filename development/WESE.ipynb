{
 "cells": [
  {
   "cell_type": "markdown",
   "metadata": {},
   "source": [
    "# Finding the temporal autocorrelation order and evidence of slope\n",
    "This notebook fits an ARIMA model for WESE data looking for evidence of change"
   ]
  },
  {
   "cell_type": "code",
   "execution_count": 69,
   "metadata": {},
   "outputs": [],
   "source": [
    "# Load libraries\n",
    "library(forecast); library(ggplot2);library(plyr); library(dplyr); library(fmsb); library(stats); library(lmtest); library(modelr)"
   ]
  },
  {
   "cell_type": "code",
   "execution_count": 2,
   "metadata": {},
   "outputs": [],
   "source": [
    "# Load the data\n",
    "master<-read.csv(\"~/Workspace/Anthropocene/data/MASTER_SIE_MOD.csv\")"
   ]
  },
  {
   "cell_type": "code",
   "execution_count": 3,
   "metadata": {},
   "outputs": [],
   "source": [
    "#calculating the annual percentage change for WESE\n",
    "master_gr <- master %>% mutate(growth_wese=log(WESE/lag(WESE)))%>% mutate(growth_wese_1=log(WESE_1/lag(WESE_1)))\n"
   ]
  },
  {
   "cell_type": "code",
   "execution_count": 72,
   "metadata": {},
   "outputs": [],
   "source": [
    "master_gr<-subset(master_gr,year>2002 & year<2019)"
   ]
  },
  {
   "cell_type": "code",
   "execution_count": 71,
   "metadata": {},
   "outputs": [
    {
     "data": {
      "text/html": [
       "<table>\n",
       "<caption>A data.frame: 6 × 71</caption>\n",
       "<thead>\n",
       "\t<tr><th></th><th scope=col>year</th><th scope=col>intP_RSP</th><th scope=col>mnChl_aw_RSP</th><th scope=col>mnOW_RSP</th><th scope=col>nmSST_aw_RSP</th><th scope=col>intP_MCM</th><th scope=col>mnChl_aw_MCM</th><th scope=col>mnOW_MCM</th><th scope=col>nmSST_aw_MCM</th><th scope=col>mnAirTemp</th><th scope=col>⋯</th><th scope=col>nmSST_aw_RSP_2</th><th scope=col>mnWind_2</th><th scope=col>GyreSPD_2</th><th scope=col>GyreSPD_lag4_2</th><th scope=col>GyreSPD_lag5_2</th><th scope=col>Salinity_2</th><th scope=col>intP_RSP_2</th><th scope=col>Prop._134_2</th><th scope=col>TOTALTonnes.100_2</th><th scope=col>mnSIE_2</th></tr>\n",
       "\t<tr><th></th><th scope=col>&lt;int&gt;</th><th scope=col>&lt;dbl&gt;</th><th scope=col>&lt;dbl&gt;</th><th scope=col>&lt;int&gt;</th><th scope=col>&lt;dbl&gt;</th><th scope=col>&lt;dbl&gt;</th><th scope=col>&lt;dbl&gt;</th><th scope=col>&lt;dbl&gt;</th><th scope=col>&lt;dbl&gt;</th><th scope=col>&lt;dbl&gt;</th><th scope=col>⋯</th><th scope=col>&lt;dbl&gt;</th><th scope=col>&lt;dbl&gt;</th><th scope=col>&lt;dbl&gt;</th><th scope=col>&lt;dbl&gt;</th><th scope=col>&lt;dbl&gt;</th><th scope=col>&lt;dbl&gt;</th><th scope=col>&lt;dbl&gt;</th><th scope=col>&lt;dbl&gt;</th><th scope=col>&lt;dbl&gt;</th><th scope=col>&lt;dbl&gt;</th></tr>\n",
       "</thead>\n",
       "<tbody>\n",
       "\t<tr><th scope=row>4</th><td>2003</td><td>0.658810</td><td>1.278130</td><td>190735</td><td>-1.047010</td><td>0.1797500</td><td>0.2424260</td><td>2701.45</td><td>-1.177640</td><td>-4.625</td><td>⋯</td><td>1.0962299</td><td>73.96</td><td>49.00</td><td>38.44</td><td>39.69</td><td>1213.547</td><td>0.4340306</td><td>3025</td><td> 201.0923</td><td> 8.173881</td></tr>\n",
       "\t<tr><th scope=row>5</th><td>2004</td><td>0.659537</td><td>1.201000</td><td>268734</td><td>-0.546599</td><td>0.0595893</td><td>0.0920093</td><td>1115.63</td><td>-1.394120</td><td>-5.000</td><td>⋯</td><td>0.2987705</td><td>70.56</td><td>51.84</td><td>40.96</td><td>38.44</td><td>1213.477</td><td>0.4349891</td><td>1225</td><td> 426.2491</td><td> 7.612081</td></tr>\n",
       "\t<tr><th scope=row>6</th><td>2005</td><td>0.617897</td><td>1.116710</td><td>236044</td><td>-0.551816</td><td>0.2451990</td><td>0.5341190</td><td>3630.16</td><td>-1.099050</td><td>-5.250</td><td>⋯</td><td>0.3045009</td><td>77.44</td><td>60.84</td><td>43.56</td><td>40.96</td><td>1210.692</td><td>0.3817967</td><td>1444</td><td>1125.8508</td><td> 8.020224</td></tr>\n",
       "\t<tr><th scope=row>7</th><td>2006</td><td>0.673591</td><td>1.344420</td><td>218199</td><td>-0.970962</td><td>0.3927390</td><td>0.5908280</td><td>4718.94</td><td>-0.954533</td><td>-6.000</td><td>⋯</td><td>0.9427672</td><td>77.44</td><td>29.16</td><td>19.36</td><td>43.56</td><td>1211.040</td><td>0.4537248</td><td>2025</td><td> 729.6968</td><td> 7.496644</td></tr>\n",
       "\t<tr><th scope=row>8</th><td>2007</td><td>0.543325</td><td>1.170400</td><td>188097</td><td>-1.006890</td><td>0.3533950</td><td>0.6396110</td><td>3903.53</td><td>-1.064650</td><td>-6.800</td><td>⋯</td><td>1.0138275</td><td>88.36</td><td>24.01</td><td>49.00</td><td>19.36</td><td>      NA</td><td>0.2952021</td><td>1764</td><td> 814.4232</td><td> 9.771876</td></tr>\n",
       "\t<tr><th scope=row>9</th><td>2008</td><td>0.525248</td><td>0.962226</td><td>241795</td><td>-0.846050</td><td>0.2566900</td><td>0.5890600</td><td>1968.25</td><td>-1.173800</td><td>-5.025</td><td>⋯</td><td>0.7158006</td><td>67.24</td><td>54.76</td><td>51.84</td><td>49.00</td><td>1212.432</td><td>0.2758855</td><td>1681</td><td> 500.7257</td><td>10.029889</td></tr>\n",
       "</tbody>\n",
       "</table>\n"
      ],
      "text/latex": [
       "A data.frame: 6 × 71\n",
       "\\begin{tabular}{r|lllllllllllllllllllll}\n",
       "  & year & intP\\_RSP & mnChl\\_aw\\_RSP & mnOW\\_RSP & nmSST\\_aw\\_RSP & intP\\_MCM & mnChl\\_aw\\_MCM & mnOW\\_MCM & nmSST\\_aw\\_MCM & mnAirTemp & ⋯ & nmSST\\_aw\\_RSP\\_2 & mnWind\\_2 & GyreSPD\\_2 & GyreSPD\\_lag4\\_2 & GyreSPD\\_lag5\\_2 & Salinity\\_2 & intP\\_RSP\\_2 & Prop.\\_134\\_2 & TOTALTonnes.100\\_2 & mnSIE\\_2\\\\\n",
       "  & <int> & <dbl> & <dbl> & <int> & <dbl> & <dbl> & <dbl> & <dbl> & <dbl> & <dbl> & ⋯ & <dbl> & <dbl> & <dbl> & <dbl> & <dbl> & <dbl> & <dbl> & <dbl> & <dbl> & <dbl>\\\\\n",
       "\\hline\n",
       "\t4 & 2003 & 0.658810 & 1.278130 & 190735 & -1.047010 & 0.1797500 & 0.2424260 & 2701.45 & -1.177640 & -4.625 & ⋯ & 1.0962299 & 73.96 & 49.00 & 38.44 & 39.69 & 1213.547 & 0.4340306 & 3025 &  201.0923 &  8.173881\\\\\n",
       "\t5 & 2004 & 0.659537 & 1.201000 & 268734 & -0.546599 & 0.0595893 & 0.0920093 & 1115.63 & -1.394120 & -5.000 & ⋯ & 0.2987705 & 70.56 & 51.84 & 40.96 & 38.44 & 1213.477 & 0.4349891 & 1225 &  426.2491 &  7.612081\\\\\n",
       "\t6 & 2005 & 0.617897 & 1.116710 & 236044 & -0.551816 & 0.2451990 & 0.5341190 & 3630.16 & -1.099050 & -5.250 & ⋯ & 0.3045009 & 77.44 & 60.84 & 43.56 & 40.96 & 1210.692 & 0.3817967 & 1444 & 1125.8508 &  8.020224\\\\\n",
       "\t7 & 2006 & 0.673591 & 1.344420 & 218199 & -0.970962 & 0.3927390 & 0.5908280 & 4718.94 & -0.954533 & -6.000 & ⋯ & 0.9427672 & 77.44 & 29.16 & 19.36 & 43.56 & 1211.040 & 0.4537248 & 2025 &  729.6968 &  7.496644\\\\\n",
       "\t8 & 2007 & 0.543325 & 1.170400 & 188097 & -1.006890 & 0.3533950 & 0.6396110 & 3903.53 & -1.064650 & -6.800 & ⋯ & 1.0138275 & 88.36 & 24.01 & 49.00 & 19.36 &       NA & 0.2952021 & 1764 &  814.4232 &  9.771876\\\\\n",
       "\t9 & 2008 & 0.525248 & 0.962226 & 241795 & -0.846050 & 0.2566900 & 0.5890600 & 1968.25 & -1.173800 & -5.025 & ⋯ & 0.7158006 & 67.24 & 54.76 & 51.84 & 49.00 & 1212.432 & 0.2758855 & 1681 &  500.7257 & 10.029889\\\\\n",
       "\\end{tabular}\n"
      ],
      "text/markdown": [
       "\n",
       "A data.frame: 6 × 71\n",
       "\n",
       "| <!--/--> | year &lt;int&gt; | intP_RSP &lt;dbl&gt; | mnChl_aw_RSP &lt;dbl&gt; | mnOW_RSP &lt;int&gt; | nmSST_aw_RSP &lt;dbl&gt; | intP_MCM &lt;dbl&gt; | mnChl_aw_MCM &lt;dbl&gt; | mnOW_MCM &lt;dbl&gt; | nmSST_aw_MCM &lt;dbl&gt; | mnAirTemp &lt;dbl&gt; | ⋯ ⋯ | nmSST_aw_RSP_2 &lt;dbl&gt; | mnWind_2 &lt;dbl&gt; | GyreSPD_2 &lt;dbl&gt; | GyreSPD_lag4_2 &lt;dbl&gt; | GyreSPD_lag5_2 &lt;dbl&gt; | Salinity_2 &lt;dbl&gt; | intP_RSP_2 &lt;dbl&gt; | Prop._134_2 &lt;dbl&gt; | TOTALTonnes.100_2 &lt;dbl&gt; | mnSIE_2 &lt;dbl&gt; |\n",
       "|---|---|---|---|---|---|---|---|---|---|---|---|---|---|---|---|---|---|---|---|---|---|\n",
       "| 4 | 2003 | 0.658810 | 1.278130 | 190735 | -1.047010 | 0.1797500 | 0.2424260 | 2701.45 | -1.177640 | -4.625 | ⋯ | 1.0962299 | 73.96 | 49.00 | 38.44 | 39.69 | 1213.547 | 0.4340306 | 3025 |  201.0923 |  8.173881 |\n",
       "| 5 | 2004 | 0.659537 | 1.201000 | 268734 | -0.546599 | 0.0595893 | 0.0920093 | 1115.63 | -1.394120 | -5.000 | ⋯ | 0.2987705 | 70.56 | 51.84 | 40.96 | 38.44 | 1213.477 | 0.4349891 | 1225 |  426.2491 |  7.612081 |\n",
       "| 6 | 2005 | 0.617897 | 1.116710 | 236044 | -0.551816 | 0.2451990 | 0.5341190 | 3630.16 | -1.099050 | -5.250 | ⋯ | 0.3045009 | 77.44 | 60.84 | 43.56 | 40.96 | 1210.692 | 0.3817967 | 1444 | 1125.8508 |  8.020224 |\n",
       "| 7 | 2006 | 0.673591 | 1.344420 | 218199 | -0.970962 | 0.3927390 | 0.5908280 | 4718.94 | -0.954533 | -6.000 | ⋯ | 0.9427672 | 77.44 | 29.16 | 19.36 | 43.56 | 1211.040 | 0.4537248 | 2025 |  729.6968 |  7.496644 |\n",
       "| 8 | 2007 | 0.543325 | 1.170400 | 188097 | -1.006890 | 0.3533950 | 0.6396110 | 3903.53 | -1.064650 | -6.800 | ⋯ | 1.0138275 | 88.36 | 24.01 | 49.00 | 19.36 |       NA | 0.2952021 | 1764 |  814.4232 |  9.771876 |\n",
       "| 9 | 2008 | 0.525248 | 0.962226 | 241795 | -0.846050 | 0.2566900 | 0.5890600 | 1968.25 | -1.173800 | -5.025 | ⋯ | 0.7158006 | 67.24 | 54.76 | 51.84 | 49.00 | 1212.432 | 0.2758855 | 1681 |  500.7257 | 10.029889 |\n",
       "\n"
      ],
      "text/plain": [
       "  year intP_RSP mnChl_aw_RSP mnOW_RSP nmSST_aw_RSP intP_MCM  mnChl_aw_MCM\n",
       "4 2003 0.658810 1.278130     190735   -1.047010    0.1797500 0.2424260   \n",
       "5 2004 0.659537 1.201000     268734   -0.546599    0.0595893 0.0920093   \n",
       "6 2005 0.617897 1.116710     236044   -0.551816    0.2451990 0.5341190   \n",
       "7 2006 0.673591 1.344420     218199   -0.970962    0.3927390 0.5908280   \n",
       "8 2007 0.543325 1.170400     188097   -1.006890    0.3533950 0.6396110   \n",
       "9 2008 0.525248 0.962226     241795   -0.846050    0.2566900 0.5890600   \n",
       "  mnOW_MCM nmSST_aw_MCM mnAirTemp ⋯ nmSST_aw_RSP_2 mnWind_2 GyreSPD_2\n",
       "4 2701.45  -1.177640    -4.625    ⋯ 1.0962299      73.96    49.00    \n",
       "5 1115.63  -1.394120    -5.000    ⋯ 0.2987705      70.56    51.84    \n",
       "6 3630.16  -1.099050    -5.250    ⋯ 0.3045009      77.44    60.84    \n",
       "7 4718.94  -0.954533    -6.000    ⋯ 0.9427672      77.44    29.16    \n",
       "8 3903.53  -1.064650    -6.800    ⋯ 1.0138275      88.36    24.01    \n",
       "9 1968.25  -1.173800    -5.025    ⋯ 0.7158006      67.24    54.76    \n",
       "  GyreSPD_lag4_2 GyreSPD_lag5_2 Salinity_2 intP_RSP_2 Prop._134_2\n",
       "4 38.44          39.69          1213.547   0.4340306  3025       \n",
       "5 40.96          38.44          1213.477   0.4349891  1225       \n",
       "6 43.56          40.96          1210.692   0.3817967  1444       \n",
       "7 19.36          43.56          1211.040   0.4537248  2025       \n",
       "8 49.00          19.36                NA   0.2952021  1764       \n",
       "9 51.84          49.00          1212.432   0.2758855  1681       \n",
       "  TOTALTonnes.100_2 mnSIE_2  \n",
       "4  201.0923          8.173881\n",
       "5  426.2491          7.612081\n",
       "6 1125.8508          8.020224\n",
       "7  729.6968          7.496644\n",
       "8  814.4232          9.771876\n",
       "9  500.7257         10.029889"
      ]
     },
     "metadata": {},
     "output_type": "display_data"
    }
   ],
   "source": [
    "head(master_gr)"
   ]
  },
  {
   "cell_type": "code",
   "execution_count": 6,
   "metadata": {},
   "outputs": [],
   "source": [
    "master_gr$mnOW_MCM6<- master_gr$mnOW_MCM/10^3"
   ]
  },
  {
   "cell_type": "code",
   "execution_count": 7,
   "metadata": {},
   "outputs": [],
   "source": [
    "#lag 5 years SIE\n",
    "master_gr <- master_gr %>% mutate(SIE_lag5 = lag(av_SIE,5))\n",
    "master_gr[5,\"SIE_lag5\"]<-2.703\n",
    "master_gr[4,\"SIE_lag5\"]<-3.123\n",
    "master_gr[3,\"SIE_lag5\"]<-2.731\n",
    "master_gr[2,\"SIE_lag5\"]<-2.767\n",
    "master_gr[1,\"SIE_lag5\"]<-2.60\n",
    "\n",
    "#lag 4 years SIE\n",
    "master_gr <- master_gr %>% mutate(SIE_lag4 = lag(av_SIE,4))\n",
    "master_gr[4,\"SIE_lag4\"]<-2.703\n",
    "master_gr[3,\"SIE_lag4\"]<-3.123\n",
    "master_gr[2,\"SIE_lag4\"]<-2.731\n",
    "master_gr[1,\"SIE_lag4\"]<-2.767\n",
    "\n",
    "\n",
    "#lag 4 years Gyre\n",
    "master_gr <- master_gr %>% mutate(GyreSPD_lag4 = lag(GyreSPD,4))\n",
    "master_gr[4,\"GyreSPD_lag4\"]<-6.2\n",
    "master_gr[3,\"GyreSPD_lag4\"]<-6.3\n",
    "master_gr[2,\"GyreSPD_lag4\"]<-5.7\n",
    "master_gr[1,\"GyreSPD_lag4\"]<-5.8\n",
    "\n",
    "#lag 5 years Gyre\n",
    "master_gr <- master_gr %>% mutate(GyreSPD_lag5 = lag(GyreSPD,5))\n",
    "master_gr[5,\"GyreSPD_lag5\"]<-6.2\n",
    "master_gr[4,\"GyreSPD_lag5\"]<-6.3\n",
    "master_gr[3,\"GyreSPD_lag5\"]<-5.7\n",
    "master_gr[2,\"GyreSPD_lag5\"]<-5.8\n",
    "master_gr[1,\"GyreSPD_lag5\"]<-5.0\n",
    "\n",
    "#lag 5 years Air Temp\n",
    "master_gr <- master_gr %>% mutate(mnAirTemp_lag5 = lag(mnAirTemp,5))\n",
    "master_gr[5,\"mnAirTemp_lag5\"]<--5.6\n",
    "master_gr[4,\"mnAirTemp_lag5\"]<--4.5\n",
    "master_gr[3,\"mnAirTemp_lag5\"]<--5.2\n",
    "master_gr[2,\"mnAirTemp_lag5\"]<--7.7\n",
    "master_gr[1,\"mnAirTemp_lag5\"]<--4.2\n",
    "\n",
    "#lag 4 years Air Temp\n",
    "master_gr <- master_gr %>% mutate(mnAirTemp_lag4 = lag(mnAirTemp,4))\n",
    "master_gr[5,\"mnAirTemp_lag4\"]<--5.6\n",
    "master_gr[4,\"mnAirTemp_lag4\"]<--4.5\n",
    "master_gr[3,\"mnAirTemp_lag4\"]<--5.2\n",
    "master_gr[2,\"mnAirTemp_lag4\"]<--7.7\n",
    "\n",
    "\n",
    "#lag 4 years FIE\n",
    "master_gr <- master_gr %>% mutate(FIE_lag6 = lag(FIE,6))\n",
    "\n",
    "\n",
    "# VARIABLES WITHOUT DATA FOR THE LAGGED YEARS (before 1998)\n",
    "\n",
    "master_gr <- master_gr %>% mutate(mnWind_lag = lag(mnWind,5))\n",
    "master_gr <- master_gr %>% mutate(Salinity_lag = lag(Salinity,5))\n",
    "master_gr <- master_gr %>% mutate(mnSST_lag = lag(nmSST_aw_RSP,5))\n",
    "master_gr <- master_gr %>% mutate(Prop134_lag = lag(Prop._134,5))\n",
    "master_gr <- master_gr %>% mutate(FIE_lag4 = lag(FIE,4))\n"
   ]
  },
  {
   "cell_type": "code",
   "execution_count": 8,
   "metadata": {},
   "outputs": [],
   "source": [
    "# Quadratic variables\n",
    "master_gr$FIE_2<- master_gr$FIE^2\n",
    "master_gr$FIE_lag4_2<- master_gr$FIE_lag4^2\n",
    "master_gr$SIE_lag4_2<- master_gr$SIE_lag4^2\n",
    "master_gr$SIE_2<- master_gr$mnSIE^2\n",
    "master_gr$mnAirTemp_2<- master_gr$mnAirTemp^2\n",
    "master_gr$SIE_lag5_2<- master_gr$SIE_lag5^2\n",
    "master_gr$mnOW_RSP6<- master_gr$mnOW_RSP/10^3\n",
    "master_gr$mnOW_MCM6<- master_gr$mnOW_MCM/10^3\n",
    "master_gr$mnOW_RSP6_2<-master_gr$mnOW_RSP6^2\n",
    "master_gr$mnOW_MCM6_2<-master_gr$mnOW_MCM6^2\n",
    "master_gr$mnChl_aw_RSP_2<-master_gr$mnChl_aw_RSP^2\n",
    "master_gr$nmSST_aw_RSP_2<-master_gr$nmSST_aw_RSP^2\n",
    "master_gr$mnWind_2<-master_gr$mnWind^2\n",
    "master_gr$GyreSPD_2<-master_gr$GyreSPD^2\n",
    "master_gr$GyreSPD_lag4_2<-master_gr$GyreSPD_lag4^2\n",
    "master_gr$GyreSPD_lag5_2<-master_gr$GyreSPD_lag5^2\n",
    "master_gr$Salinity_2<-master_gr$Salinity^2\n",
    "master_gr$intP_RSP_2<-master_gr$intP_RSP^2\n",
    "master_gr$Prop._134_2<-master_gr$Prop._134^2\n",
    "master_gr$TOTALTonnes.100_2<-master_gr$TOTALTonnes.100^2\n",
    "master_gr$mnSIE_2<- master_gr$mnSIE^2\n",
    "master_gr$mnAirTemp_2<- master_gr$mnAirTemp^2"
   ]
  },
  {
   "cell_type": "code",
   "execution_count": 9,
   "metadata": {},
   "outputs": [
    {
     "data": {
      "text/html": [
       "<table>\n",
       "<caption>A data.frame: 6 × 71</caption>\n",
       "<thead>\n",
       "\t<tr><th></th><th scope=col>year</th><th scope=col>intP_RSP</th><th scope=col>mnChl_aw_RSP</th><th scope=col>mnOW_RSP</th><th scope=col>nmSST_aw_RSP</th><th scope=col>intP_MCM</th><th scope=col>mnChl_aw_MCM</th><th scope=col>mnOW_MCM</th><th scope=col>nmSST_aw_MCM</th><th scope=col>mnAirTemp</th><th scope=col>⋯</th><th scope=col>nmSST_aw_RSP_2</th><th scope=col>mnWind_2</th><th scope=col>GyreSPD_2</th><th scope=col>GyreSPD_lag4_2</th><th scope=col>GyreSPD_lag5_2</th><th scope=col>Salinity_2</th><th scope=col>intP_RSP_2</th><th scope=col>Prop._134_2</th><th scope=col>TOTALTonnes.100_2</th><th scope=col>mnSIE_2</th></tr>\n",
       "\t<tr><th></th><th scope=col>&lt;int&gt;</th><th scope=col>&lt;dbl&gt;</th><th scope=col>&lt;dbl&gt;</th><th scope=col>&lt;int&gt;</th><th scope=col>&lt;dbl&gt;</th><th scope=col>&lt;dbl&gt;</th><th scope=col>&lt;dbl&gt;</th><th scope=col>&lt;dbl&gt;</th><th scope=col>&lt;dbl&gt;</th><th scope=col>&lt;dbl&gt;</th><th scope=col>⋯</th><th scope=col>&lt;dbl&gt;</th><th scope=col>&lt;dbl&gt;</th><th scope=col>&lt;dbl&gt;</th><th scope=col>&lt;dbl&gt;</th><th scope=col>&lt;dbl&gt;</th><th scope=col>&lt;dbl&gt;</th><th scope=col>&lt;dbl&gt;</th><th scope=col>&lt;dbl&gt;</th><th scope=col>&lt;dbl&gt;</th><th scope=col>&lt;dbl&gt;</th></tr>\n",
       "</thead>\n",
       "<tbody>\n",
       "\t<tr><th scope=row>1</th><td>2000</td><td>0.5873935</td><td>1.098477</td><td>200943</td><td>-0.924639</td><td>0.3527637</td><td>0.6385173</td><td>2959.68</td><td>-1.109230</td><td>-4.450</td><td>⋯</td><td>0.8549573</td><td>60.84</td><td>40.96</td><td>33.64</td><td>25.00</td><td>1210.344</td><td>0.34503108</td><td>1296</td><td>  44.81499</td><td>8.898289</td></tr>\n",
       "\t<tr><th scope=row>2</th><td>2001</td><td>0.7697252</td><td>1.460241</td><td>250135</td><td>-0.645706</td><td>1.0612940</td><td>3.1205994</td><td>4366.66</td><td>-0.911519</td><td>-6.175</td><td>⋯</td><td>0.4169362</td><td>73.96</td><td>43.56</td><td>32.49</td><td>33.64</td><td>1213.477</td><td>0.59247683</td><td> 144</td><td>  32.31809</td><td>8.785296</td></tr>\n",
       "\t<tr><th scope=row>3</th><td>2002</td><td>0.2079730</td><td>0.311760</td><td>100918</td><td>-1.117230</td><td>0.1219010</td><td>0.1905980</td><td>1748.01</td><td>-1.109550</td><td>-6.050</td><td>⋯</td><td>1.2482029</td><td>77.44</td><td>19.36</td><td>39.69</td><td>32.49</td><td>1213.826</td><td>0.04325277</td><td> 196</td><td> 151.50163</td><td>7.722841</td></tr>\n",
       "\t<tr><th scope=row>4</th><td>2003</td><td>0.6588100</td><td>1.278130</td><td>190735</td><td>-1.047010</td><td>0.1797500</td><td>0.2424260</td><td>2701.45</td><td>-1.177640</td><td>-4.625</td><td>⋯</td><td>1.0962299</td><td>73.96</td><td>49.00</td><td>38.44</td><td>39.69</td><td>1213.547</td><td>0.43403062</td><td>3025</td><td> 201.09225</td><td>8.173881</td></tr>\n",
       "\t<tr><th scope=row>5</th><td>2004</td><td>0.6595370</td><td>1.201000</td><td>268734</td><td>-0.546599</td><td>0.0595893</td><td>0.0920093</td><td>1115.63</td><td>-1.394120</td><td>-5.000</td><td>⋯</td><td>0.2987705</td><td>70.56</td><td>51.84</td><td>40.96</td><td>38.44</td><td>1213.477</td><td>0.43498905</td><td>1225</td><td> 426.24906</td><td>7.612081</td></tr>\n",
       "\t<tr><th scope=row>6</th><td>2005</td><td>0.6178970</td><td>1.116710</td><td>236044</td><td>-0.551816</td><td>0.2451990</td><td>0.5341190</td><td>3630.16</td><td>-1.099050</td><td>-5.250</td><td>⋯</td><td>0.3045009</td><td>77.44</td><td>60.84</td><td>43.56</td><td>40.96</td><td>1210.692</td><td>0.38179670</td><td>1444</td><td>1125.85078</td><td>8.020224</td></tr>\n",
       "</tbody>\n",
       "</table>\n"
      ],
      "text/latex": [
       "A data.frame: 6 × 71\n",
       "\\begin{tabular}{r|lllllllllllllllllllll}\n",
       "  & year & intP\\_RSP & mnChl\\_aw\\_RSP & mnOW\\_RSP & nmSST\\_aw\\_RSP & intP\\_MCM & mnChl\\_aw\\_MCM & mnOW\\_MCM & nmSST\\_aw\\_MCM & mnAirTemp & ⋯ & nmSST\\_aw\\_RSP\\_2 & mnWind\\_2 & GyreSPD\\_2 & GyreSPD\\_lag4\\_2 & GyreSPD\\_lag5\\_2 & Salinity\\_2 & intP\\_RSP\\_2 & Prop.\\_134\\_2 & TOTALTonnes.100\\_2 & mnSIE\\_2\\\\\n",
       "  & <int> & <dbl> & <dbl> & <int> & <dbl> & <dbl> & <dbl> & <dbl> & <dbl> & <dbl> & ⋯ & <dbl> & <dbl> & <dbl> & <dbl> & <dbl> & <dbl> & <dbl> & <dbl> & <dbl> & <dbl>\\\\\n",
       "\\hline\n",
       "\t1 & 2000 & 0.5873935 & 1.098477 & 200943 & -0.924639 & 0.3527637 & 0.6385173 & 2959.68 & -1.109230 & -4.450 & ⋯ & 0.8549573 & 60.84 & 40.96 & 33.64 & 25.00 & 1210.344 & 0.34503108 & 1296 &   44.81499 & 8.898289\\\\\n",
       "\t2 & 2001 & 0.7697252 & 1.460241 & 250135 & -0.645706 & 1.0612940 & 3.1205994 & 4366.66 & -0.911519 & -6.175 & ⋯ & 0.4169362 & 73.96 & 43.56 & 32.49 & 33.64 & 1213.477 & 0.59247683 &  144 &   32.31809 & 8.785296\\\\\n",
       "\t3 & 2002 & 0.2079730 & 0.311760 & 100918 & -1.117230 & 0.1219010 & 0.1905980 & 1748.01 & -1.109550 & -6.050 & ⋯ & 1.2482029 & 77.44 & 19.36 & 39.69 & 32.49 & 1213.826 & 0.04325277 &  196 &  151.50163 & 7.722841\\\\\n",
       "\t4 & 2003 & 0.6588100 & 1.278130 & 190735 & -1.047010 & 0.1797500 & 0.2424260 & 2701.45 & -1.177640 & -4.625 & ⋯ & 1.0962299 & 73.96 & 49.00 & 38.44 & 39.69 & 1213.547 & 0.43403062 & 3025 &  201.09225 & 8.173881\\\\\n",
       "\t5 & 2004 & 0.6595370 & 1.201000 & 268734 & -0.546599 & 0.0595893 & 0.0920093 & 1115.63 & -1.394120 & -5.000 & ⋯ & 0.2987705 & 70.56 & 51.84 & 40.96 & 38.44 & 1213.477 & 0.43498905 & 1225 &  426.24906 & 7.612081\\\\\n",
       "\t6 & 2005 & 0.6178970 & 1.116710 & 236044 & -0.551816 & 0.2451990 & 0.5341190 & 3630.16 & -1.099050 & -5.250 & ⋯ & 0.3045009 & 77.44 & 60.84 & 43.56 & 40.96 & 1210.692 & 0.38179670 & 1444 & 1125.85078 & 8.020224\\\\\n",
       "\\end{tabular}\n"
      ],
      "text/markdown": [
       "\n",
       "A data.frame: 6 × 71\n",
       "\n",
       "| <!--/--> | year &lt;int&gt; | intP_RSP &lt;dbl&gt; | mnChl_aw_RSP &lt;dbl&gt; | mnOW_RSP &lt;int&gt; | nmSST_aw_RSP &lt;dbl&gt; | intP_MCM &lt;dbl&gt; | mnChl_aw_MCM &lt;dbl&gt; | mnOW_MCM &lt;dbl&gt; | nmSST_aw_MCM &lt;dbl&gt; | mnAirTemp &lt;dbl&gt; | ⋯ ⋯ | nmSST_aw_RSP_2 &lt;dbl&gt; | mnWind_2 &lt;dbl&gt; | GyreSPD_2 &lt;dbl&gt; | GyreSPD_lag4_2 &lt;dbl&gt; | GyreSPD_lag5_2 &lt;dbl&gt; | Salinity_2 &lt;dbl&gt; | intP_RSP_2 &lt;dbl&gt; | Prop._134_2 &lt;dbl&gt; | TOTALTonnes.100_2 &lt;dbl&gt; | mnSIE_2 &lt;dbl&gt; |\n",
       "|---|---|---|---|---|---|---|---|---|---|---|---|---|---|---|---|---|---|---|---|---|---|\n",
       "| 1 | 2000 | 0.5873935 | 1.098477 | 200943 | -0.924639 | 0.3527637 | 0.6385173 | 2959.68 | -1.109230 | -4.450 | ⋯ | 0.8549573 | 60.84 | 40.96 | 33.64 | 25.00 | 1210.344 | 0.34503108 | 1296 |   44.81499 | 8.898289 |\n",
       "| 2 | 2001 | 0.7697252 | 1.460241 | 250135 | -0.645706 | 1.0612940 | 3.1205994 | 4366.66 | -0.911519 | -6.175 | ⋯ | 0.4169362 | 73.96 | 43.56 | 32.49 | 33.64 | 1213.477 | 0.59247683 |  144 |   32.31809 | 8.785296 |\n",
       "| 3 | 2002 | 0.2079730 | 0.311760 | 100918 | -1.117230 | 0.1219010 | 0.1905980 | 1748.01 | -1.109550 | -6.050 | ⋯ | 1.2482029 | 77.44 | 19.36 | 39.69 | 32.49 | 1213.826 | 0.04325277 |  196 |  151.50163 | 7.722841 |\n",
       "| 4 | 2003 | 0.6588100 | 1.278130 | 190735 | -1.047010 | 0.1797500 | 0.2424260 | 2701.45 | -1.177640 | -4.625 | ⋯ | 1.0962299 | 73.96 | 49.00 | 38.44 | 39.69 | 1213.547 | 0.43403062 | 3025 |  201.09225 | 8.173881 |\n",
       "| 5 | 2004 | 0.6595370 | 1.201000 | 268734 | -0.546599 | 0.0595893 | 0.0920093 | 1115.63 | -1.394120 | -5.000 | ⋯ | 0.2987705 | 70.56 | 51.84 | 40.96 | 38.44 | 1213.477 | 0.43498905 | 1225 |  426.24906 | 7.612081 |\n",
       "| 6 | 2005 | 0.6178970 | 1.116710 | 236044 | -0.551816 | 0.2451990 | 0.5341190 | 3630.16 | -1.099050 | -5.250 | ⋯ | 0.3045009 | 77.44 | 60.84 | 43.56 | 40.96 | 1210.692 | 0.38179670 | 1444 | 1125.85078 | 8.020224 |\n",
       "\n"
      ],
      "text/plain": [
       "  year intP_RSP  mnChl_aw_RSP mnOW_RSP nmSST_aw_RSP intP_MCM  mnChl_aw_MCM\n",
       "1 2000 0.5873935 1.098477     200943   -0.924639    0.3527637 0.6385173   \n",
       "2 2001 0.7697252 1.460241     250135   -0.645706    1.0612940 3.1205994   \n",
       "3 2002 0.2079730 0.311760     100918   -1.117230    0.1219010 0.1905980   \n",
       "4 2003 0.6588100 1.278130     190735   -1.047010    0.1797500 0.2424260   \n",
       "5 2004 0.6595370 1.201000     268734   -0.546599    0.0595893 0.0920093   \n",
       "6 2005 0.6178970 1.116710     236044   -0.551816    0.2451990 0.5341190   \n",
       "  mnOW_MCM nmSST_aw_MCM mnAirTemp ⋯ nmSST_aw_RSP_2 mnWind_2 GyreSPD_2\n",
       "1 2959.68  -1.109230    -4.450    ⋯ 0.8549573      60.84    40.96    \n",
       "2 4366.66  -0.911519    -6.175    ⋯ 0.4169362      73.96    43.56    \n",
       "3 1748.01  -1.109550    -6.050    ⋯ 1.2482029      77.44    19.36    \n",
       "4 2701.45  -1.177640    -4.625    ⋯ 1.0962299      73.96    49.00    \n",
       "5 1115.63  -1.394120    -5.000    ⋯ 0.2987705      70.56    51.84    \n",
       "6 3630.16  -1.099050    -5.250    ⋯ 0.3045009      77.44    60.84    \n",
       "  GyreSPD_lag4_2 GyreSPD_lag5_2 Salinity_2 intP_RSP_2 Prop._134_2\n",
       "1 33.64          25.00          1210.344   0.34503108 1296       \n",
       "2 32.49          33.64          1213.477   0.59247683  144       \n",
       "3 39.69          32.49          1213.826   0.04325277  196       \n",
       "4 38.44          39.69          1213.547   0.43403062 3025       \n",
       "5 40.96          38.44          1213.477   0.43498905 1225       \n",
       "6 43.56          40.96          1210.692   0.38179670 1444       \n",
       "  TOTALTonnes.100_2 mnSIE_2 \n",
       "1   44.81499        8.898289\n",
       "2   32.31809        8.785296\n",
       "3  151.50163        7.722841\n",
       "4  201.09225        8.173881\n",
       "5  426.24906        7.612081\n",
       "6 1125.85078        8.020224"
      ]
     },
     "metadata": {},
     "output_type": "display_data"
    }
   ],
   "source": [
    "head(master_gr)\n"
   ]
  },
  {
   "cell_type": "code",
   "execution_count": 10,
   "metadata": {},
   "outputs": [
    {
     "data": {
      "image/png": "[encoded data removed]",
      "text/plain": [
       "plot without title"
      ]
     },
     "metadata": {
      "image/png": {
       "height": 420,
       "width": 420
      },
      "text/plain": {
       "height": 420,
       "width": 420
      }
     },
     "output_type": "display_data"
    }
   ],
   "source": [
    "ggplot(master_gr, aes(x=year, y= Fish_cum3))+geom_point()"
   ]
  },
  {
   "cell_type": "markdown",
   "metadata": {},
   "source": [
    "# Arima model with growth_wese"
   ]
  },
  {
   "cell_type": "code",
   "execution_count": 11,
   "metadata": {},
   "outputs": [
    {
     "name": "stdout",
     "output_type": "stream",
     "text": [
      "Series: master_gr$growth_wese \n",
      "ARIMA(1,0,0) with drift \n",
      "\n",
      "Coefficients:\n",
      "          ar1  drift\n",
      "      -0.3409  9e-04\n",
      "s.e.   0.2325  4e-03\n",
      "\n",
      "sigma^2 estimated as 0.07512:  log likelihood=-1.37\n",
      "AIC=8.74   AICc=10.34   BIC=11.58\n",
      "\n",
      "Training set error measures:\n",
      "                      ME      RMSE       MAE      MPE     MAPE     MASE\n",
      "Training set -0.00897238 0.2592505 0.1923701 108.2647 112.9072 0.619005\n",
      "                    ACF1\n",
      "Training set -0.07481332\n"
     ]
    }
   ],
   "source": [
    "#checking best model\n",
    "mdl1<-Arima(master_gr$growth_wese,order=c(1,0,0),include.mean=F,include.drift=T)\n",
    "summary(mdl1)"
   ]
  },
  {
   "cell_type": "code",
   "execution_count": 12,
   "metadata": {},
   "outputs": [
    {
     "name": "stdout",
     "output_type": "stream",
     "text": [
      "\n",
      "\tLjung-Box test\n",
      "\n",
      "data:  Residuals from ARIMA(1,0,0) with drift\n",
      "Q* = 1.7717, df = 3, p-value = 0.6211\n",
      "\n",
      "Model df: 2.   Total lags used: 5\n",
      "\n"
     ]
    },
    {
     "data": {
      "image/png": "[encoded data removed]",
      "text/plain": [
       "plot without title"
      ]
     },
     "metadata": {
      "image/png": {
       "height": 420,
       "width": 420
      },
      "text/plain": {
       "height": 420,
       "width": 420
      }
     },
     "output_type": "display_data"
    }
   ],
   "source": [
    "checkresiduals(mdl1)"
   ]
  },
  {
   "cell_type": "markdown",
   "metadata": {},
   "source": [
    "## Plotting the correct trend"
   ]
  },
  {
   "cell_type": "code",
   "execution_count": 13,
   "metadata": {},
   "outputs": [],
   "source": [
    "wese<-master_gr$growth_wese\n",
    "names(wese)<-master_gr$year"
   ]
  },
  {
   "cell_type": "code",
   "execution_count": 14,
   "metadata": {},
   "outputs": [
    {
     "data": {
      "image/png": "[encoded data removed]",
      "text/plain": [
       "plot without title"
      ]
     },
     "metadata": {
      "image/png": {
       "height": 420,
       "width": 420
      },
      "text/plain": {
       "height": 420,
       "width": 420
      }
     },
     "output_type": "display_data"
    }
   ],
   "source": [
    "# Uncorrected trend\n",
    "ggtsdisplay(wese)"
   ]
  },
  {
   "cell_type": "code",
   "execution_count": 68,
   "metadata": {},
   "outputs": [
    {
     "name": "stdout",
     "output_type": "stream",
     "text": [
      " var          vif             \n",
      " FIE          1.18297266177155\n",
      " mnWind       1.74451079304158\n",
      " nmSST_aw_MCM 3.22846521320152\n",
      " Fish_cum3    1.32850220742851\n",
      " mnAirTemp    1.16268934156961\n",
      " mnOW_MCM6    4.43226845323991\n",
      "\n",
      "All variables have VIF < 10, max VIF 4.43 \n",
      "\n"
     ]
    },
    {
     "data": {
      "text/html": [
       "<style>\n",
       ".list-inline {list-style: none; margin:0; padding: 0}\n",
       ".list-inline>li {display: inline-block}\n",
       ".list-inline>li:not(:last-child)::after {content: \"\\00b7\"; padding: 0 .5ex}\n",
       "</style>\n",
       "<ol class=list-inline><li>'FIE'</li><li>'mnWind'</li><li>'nmSST_aw_MCM'</li><li>'Fish_cum3'</li><li>'mnAirTemp'</li><li>'mnOW_MCM6'</li></ol>\n"
      ],
      "text/latex": [
       "\\begin{enumerate*}\n",
       "\\item 'FIE'\n",
       "\\item 'mnWind'\n",
       "\\item 'nmSST\\_aw\\_MCM'\n",
       "\\item 'Fish\\_cum3'\n",
       "\\item 'mnAirTemp'\n",
       "\\item 'mnOW\\_MCM6'\n",
       "\\end{enumerate*}\n"
      ],
      "text/markdown": [
       "1. 'FIE'\n",
       "2. 'mnWind'\n",
       "3. 'nmSST_aw_MCM'\n",
       "4. 'Fish_cum3'\n",
       "5. 'mnAirTemp'\n",
       "6. 'mnOW_MCM6'\n",
       "\n",
       "\n"
      ],
      "text/plain": [
       "[1] \"FIE\"          \"mnWind\"       \"nmSST_aw_MCM\" \"Fish_cum3\"    \"mnAirTemp\"   \n",
       "[6] \"mnOW_MCM6\"   "
      ]
     },
     "metadata": {},
     "output_type": "display_data"
    }
   ],
   "source": [
    "#threshold at 10 (it’s equivalent to explaining 99% of the information in a variable by the set of the other covariates).\n",
    "\n",
    "#select covariates based on variance inflation\n",
    "\n",
    "in_frame <- master_gr %>% select (FIE, mnWind, nmSST_aw_MCM, Fish_cum3, mnAirTemp, mnOW_MCM6)\n",
    "\n",
    "vif_func<-function(in_frame,thresh=10,trace=T,...){\n",
    "  \n",
    "  \n",
    "  \n",
    "  if(class(in_frame) != 'data.frame') in_frame<-data.frame(in_frame)\n",
    "  \n",
    "  \n",
    "  \n",
    "  #get initial vif value for all comparisons of variables\n",
    "  \n",
    "  vif_init<-NULL\n",
    "  \n",
    "  var_names <- names(in_frame)\n",
    "  \n",
    "  for(val in var_names){\n",
    "    \n",
    "    regressors <- var_names[-which(var_names == val)]\n",
    "    \n",
    "    form <- paste(regressors, collapse = '+')\n",
    "    \n",
    "    form_in <- formula(paste(val, '~', form))\n",
    "    \n",
    "    vif_init<-rbind(vif_init, c(val, VIF(lm(form_in, data = in_frame, ...))))\n",
    "    \n",
    "  }\n",
    "  \n",
    "  vif_max<-max(as.numeric(vif_init[,2]), na.rm = TRUE)\n",
    "  \n",
    "  \n",
    "  \n",
    "  if(vif_max < thresh){\n",
    "    \n",
    "    if(trace==T){ #print output of each iteration\n",
    "      \n",
    "      prmatrix(vif_init,collab=c('var','vif'),rowlab=rep('',nrow(vif_init)),quote=F)\n",
    "      \n",
    "      cat('\\n')\n",
    "      \n",
    "      cat(paste('All variables have VIF < ', thresh,', max VIF ',round(vif_max,2), sep=''),'\\n\\n')\n",
    "      \n",
    "    }\n",
    "    \n",
    "    return(var_names)\n",
    "    \n",
    "  }\n",
    "  \n",
    "  else{\n",
    "    \n",
    "    \n",
    "    \n",
    "    in_dat<-in_frame\n",
    "    \n",
    "    \n",
    "    \n",
    "    #backwards selection of explanatory variables, stops when all VIF values are below 'thresh'\n",
    "    \n",
    "    while(vif_max >= thresh){\n",
    "      \n",
    "      \n",
    "      \n",
    "      vif_vals<-NULL\n",
    "      \n",
    "      var_names <- names(in_dat)\n",
    "      \n",
    "      \n",
    "      \n",
    "      for(val in var_names){\n",
    "        \n",
    "        regressors <- var_names[-which(var_names == val)]\n",
    "        \n",
    "        form <- paste(regressors, collapse = '+')\n",
    "        \n",
    "        form_in <- formula(paste(val, '~', form))\n",
    "        \n",
    "        vif_add<-VIF(lm(form_in, data = in_dat, ...))\n",
    "        \n",
    "        vif_vals<-rbind(vif_vals,c(val,vif_add))\n",
    "        \n",
    "      }\n",
    "      \n",
    "      max_row<-which(vif_vals[,2] == max(as.numeric(vif_vals[,2]), na.rm = TRUE))[1]\n",
    "      \n",
    "      \n",
    "      \n",
    "      vif_max<-as.numeric(vif_vals[max_row,2])\n",
    "      \n",
    "      \n",
    "      \n",
    "      if(vif_max<thresh) break\n",
    "      \n",
    "      \n",
    "      \n",
    "      if(trace==T){ #print output of each iteration\n",
    "        \n",
    "        prmatrix(vif_vals,collab=c('var','vif'),rowlab=rep('',nrow(vif_vals)),quote=F)\n",
    "        \n",
    "        cat('\\n')\n",
    "        \n",
    "        cat('removed: ',vif_vals[max_row,1],vif_max,'\\n\\n')\n",
    "        \n",
    "        flush.console()\n",
    "        \n",
    "      }\n",
    "      \n",
    "      \n",
    "      \n",
    "      in_dat<-in_dat[,!names(in_dat) %in% vif_vals[max_row,1]]\n",
    "      \n",
    "      \n",
    "      \n",
    "    }\n",
    "    \n",
    "    \n",
    "    \n",
    "    return(names(in_dat))\n",
    "    \n",
    "    \n",
    "    \n",
    "  }\n",
    "  \n",
    "  \n",
    "  \n",
    "}\n",
    "  \n",
    "vif_func(in_frame,thresh=10,trace=T)"
   ]
  },
  {
   "cell_type": "markdown",
   "metadata": {},
   "source": [
    "# Fish variables"
   ]
  },
  {
   "cell_type": "markdown",
   "metadata": {},
   "source": [
    "# Fish_cum3= cumulative 3 years (no weights)\n",
    "# Fish_cum_8_9_1= 3 years with weights (80%, 90% and 100%)\n",
    "# Fish_cum_6_8_1= 3 years with weights (60%, 80% and 100%)\n",
    "# Fish_cum2= cumulative 2 years (no weights)\n",
    "# Fish_cum_75_1= 2 years with weights (75% and 100%)\n",
    "# Fish_cum_5_1= 2 years with weights (50% and 100%)\n",
    "# Fish_cum_2_1= 2 years with weights (20% and 100%)"
   ]
  },
  {
   "cell_type": "code",
   "execution_count": 48,
   "metadata": {},
   "outputs": [],
   "source": [
    "#Saturated model\n",
    "\n",
    "model_wese<- lm(growth_wese~ FIE+ mnWind + nmSST_aw_MCM + Fish_cum3 + mnAirTemp +  mnOW_MCM6, data=master_gr)"
   ]
  },
  {
   "cell_type": "code",
   "execution_count": 49,
   "metadata": {},
   "outputs": [
    {
     "data": {
      "text/plain": [
       "\n",
       "Call:\n",
       "lm(formula = growth_wese ~ FIE + mnWind + nmSST_aw_MCM + Fish_cum3 + \n",
       "    mnAirTemp + mnOW_MCM6, data = master_gr)\n",
       "\n",
       "Residuals:\n",
       "     Min       1Q   Median       3Q      Max \n",
       "-0.18676 -0.14400  0.02171  0.11538  0.18245 \n",
       "\n",
       "Coefficients:\n",
       "              Estimate Std. Error t value Pr(>|t|)    \n",
       "(Intercept)  -0.270225   0.682084  -0.396 0.698930    \n",
       "FIE           0.012968   0.002774   4.675 0.000537 ***\n",
       "mnWind       -0.088237   0.056801  -1.553 0.146279    \n",
       "nmSST_aw_MCM  0.136288   0.392480   0.347 0.734420    \n",
       "Fish_cum3     0.007883   0.004175   1.888 0.083404 .  \n",
       "mnAirTemp    -0.056598   0.059716  -0.948 0.361937    \n",
       "mnOW_MCM6     0.100490   0.067869   1.481 0.164475    \n",
       "---\n",
       "Signif. codes:  0 ‘***’ 0.001 ‘**’ 0.01 ‘*’ 0.05 ‘.’ 0.1 ‘ ’ 1\n",
       "\n",
       "Residual standard error: 0.1647 on 12 degrees of freedom\n",
       "Multiple R-squared:  0.772,\tAdjusted R-squared:  0.658 \n",
       "F-statistic: 6.772 on 6 and 12 DF,  p-value: 0.002549\n"
      ]
     },
     "metadata": {},
     "output_type": "display_data"
    },
    {
     "data": {
      "text/html": [
       "'AIC: -7.34672951128174'"
      ],
      "text/latex": [
       "'AIC: -7.34672951128174'"
      ],
      "text/markdown": [
       "'AIC: -7.34672951128174'"
      ],
      "text/plain": [
       "[1] \"AIC: -7.34672951128174\""
      ]
     },
     "metadata": {},
     "output_type": "display_data"
    }
   ],
   "source": [
    "summary(model_wese); paste(\"AIC:\",AIC(model_wese))"
   ]
  },
  {
   "cell_type": "code",
   "execution_count": 19,
   "metadata": {},
   "outputs": [
    {
     "data": {
      "text/html": [
       "<table>\n",
       "<caption>A data.frame: 19 × 10</caption>\n",
       "<thead>\n",
       "\t<tr><th scope=col>year</th><th scope=col>FIE</th><th scope=col>GyreSPD</th><th scope=col>mnWind</th><th scope=col>nmSST_aw_MCM</th><th scope=col>Fish_cum3</th><th scope=col>Fish_cum_6_8_1</th><th scope=col>Fish_cum_75_1</th><th scope=col>mnAirTemp</th><th scope=col>mnOW_MCM6</th></tr>\n",
       "\t<tr><th scope=col>&lt;int&gt;</th><th scope=col>&lt;dbl&gt;</th><th scope=col>&lt;dbl&gt;</th><th scope=col>&lt;dbl&gt;</th><th scope=col>&lt;dbl&gt;</th><th scope=col>&lt;dbl&gt;</th><th scope=col>&lt;dbl&gt;</th><th scope=col>&lt;dbl&gt;</th><th scope=col>&lt;dbl&gt;</th><th scope=col>&lt;dbl&gt;</th></tr>\n",
       "</thead>\n",
       "<tbody>\n",
       "\t<tr><td>2000</td><td>37.2</td><td>6.4</td><td> 7.8</td><td>-1.109230</td><td> 3.259784</td><td> 3.061944</td><td> 2.942784</td><td>-4.450</td><td>2.95968</td></tr>\n",
       "\t<tr><td>2001</td><td>15.0</td><td>6.6</td><td> 8.6</td><td>-0.911519</td><td> 3.802572</td><td> 3.036415</td><td> 2.489676</td><td>-6.175</td><td>4.36666</td></tr>\n",
       "\t<tr><td>2002</td><td>44.9</td><td>4.4</td><td> 8.8</td><td>-1.109550</td><td> 4.815376</td><td> 3.714945</td><td> 2.234845</td><td>-6.050</td><td>1.74801</td></tr>\n",
       "\t<tr><td>2003</td><td>52.0</td><td>7.0</td><td> 8.6</td><td>-1.177640</td><td>10.204777</td><td> 9.587261</td><td> 9.091788</td><td>-4.625</td><td>2.70145</td></tr>\n",
       "\t<tr><td>2004</td><td>14.9</td><td>7.2</td><td> 8.4</td><td>-1.394120</td><td>16.748619</td><td>14.499460</td><td>13.075569</td><td>-5.000</td><td>1.11563</td></tr>\n",
       "\t<tr><td>2005</td><td>47.0</td><td>7.8</td><td> 8.8</td><td>-1.099050</td><td>27.775821</td><td>23.210861</td><td>18.169929</td><td>-5.250</td><td>3.63016</td></tr>\n",
       "\t<tr><td>2006</td><td>47.0</td><td>5.4</td><td> 8.8</td><td>-0.954533</td><td>32.132241</td><td>26.691748</td><td>21.718609</td><td>-6.000</td><td>4.71894</td></tr>\n",
       "\t<tr><td>2007</td><td>23.0</td><td>4.9</td><td> 9.4</td><td>-1.064650</td><td>36.892213</td><td>29.360890</td><td>21.102856</td><td>-6.800</td><td>3.90353</td></tr>\n",
       "\t<tr><td>2008</td><td>20.0</td><td>7.4</td><td> 8.2</td><td>-1.173800</td><td>33.316336</td><td>26.056814</td><td>18.164030</td><td>-5.025</td><td>1.96825</td></tr>\n",
       "\t<tr><td>2009</td><td>38.0</td><td>6.1</td><td> 9.2</td><td>-0.939651</td><td>30.583693</td><td>23.954386</td><td>16.304059</td><td>-5.475</td><td>5.00304</td></tr>\n",
       "\t<tr><td>2010</td><td>18.0</td><td>7.8</td><td> 8.8</td><td>-0.910408</td><td>30.337081</td><td>24.782637</td><td>18.806762</td><td>-4.800</td><td>4.67662</td></tr>\n",
       "\t<tr><td>2011</td><td>18.0</td><td>5.6</td><td> 8.6</td><td>-1.145310</td><td>31.434842</td><td>25.317699</td><td>19.076832</td><td>-4.475</td><td>3.44675</td></tr>\n",
       "\t<tr><td>2012</td><td>16.0</td><td>6.4</td><td> 8.0</td><td>-1.007750</td><td>30.118506</td><td>23.368292</td><td>15.811044</td><td>-4.325</td><td>3.79997</td></tr>\n",
       "\t<tr><td>2013</td><td>18.0</td><td>5.0</td><td> 8.8</td><td>-0.529366</td><td>25.281480</td><td>19.551199</td><td>12.982484</td><td>-5.475</td><td>4.80929</td></tr>\n",
       "\t<tr><td>2014</td><td>20.0</td><td>6.7</td><td> 9.2</td><td>-0.991542</td><td>20.076788</td><td>15.453585</td><td>10.244371</td><td>-5.425</td><td>3.85574</td></tr>\n",
       "\t<tr><td>2015</td><td>20.0</td><td>7.4</td><td>10.4</td><td>-0.801907</td><td>16.790362</td><td>13.015897</td><td> 8.621099</td><td>-5.275</td><td>4.85060</td></tr>\n",
       "\t<tr><td>2016</td><td>15.0</td><td>6.6</td><td> 8.2</td><td>-1.027590</td><td>12.707998</td><td> 9.716879</td><td> 6.435300</td><td>-6.175</td><td>2.02915</td></tr>\n",
       "\t<tr><td>2017</td><td>60.0</td><td>7.3</td><td> 8.8</td><td>-1.148770</td><td>17.556400</td><td>15.064240</td><td>12.031000</td><td>-4.700</td><td>3.26214</td></tr>\n",
       "\t<tr><td>2018</td><td>13.5</td><td> NA</td><td>11.8</td><td>-1.057240</td><td>21.174400</td><td>18.063200</td><td>15.875400</td><td>-4.700</td><td>4.95809</td></tr>\n",
       "</tbody>\n",
       "</table>\n"
      ],
      "text/latex": [
       "A data.frame: 19 × 10\n",
       "\\begin{tabular}{llllllllll}\n",
       " year & FIE & GyreSPD & mnWind & nmSST\\_aw\\_MCM & Fish\\_cum3 & Fish\\_cum\\_6\\_8\\_1 & Fish\\_cum\\_75\\_1 & mnAirTemp & mnOW\\_MCM6\\\\\n",
       " <int> & <dbl> & <dbl> & <dbl> & <dbl> & <dbl> & <dbl> & <dbl> & <dbl> & <dbl>\\\\\n",
       "\\hline\n",
       "\t 2000 & 37.2 & 6.4 &  7.8 & -1.109230 &  3.259784 &  3.061944 &  2.942784 & -4.450 & 2.95968\\\\\n",
       "\t 2001 & 15.0 & 6.6 &  8.6 & -0.911519 &  3.802572 &  3.036415 &  2.489676 & -6.175 & 4.36666\\\\\n",
       "\t 2002 & 44.9 & 4.4 &  8.8 & -1.109550 &  4.815376 &  3.714945 &  2.234845 & -6.050 & 1.74801\\\\\n",
       "\t 2003 & 52.0 & 7.0 &  8.6 & -1.177640 & 10.204777 &  9.587261 &  9.091788 & -4.625 & 2.70145\\\\\n",
       "\t 2004 & 14.9 & 7.2 &  8.4 & -1.394120 & 16.748619 & 14.499460 & 13.075569 & -5.000 & 1.11563\\\\\n",
       "\t 2005 & 47.0 & 7.8 &  8.8 & -1.099050 & 27.775821 & 23.210861 & 18.169929 & -5.250 & 3.63016\\\\\n",
       "\t 2006 & 47.0 & 5.4 &  8.8 & -0.954533 & 32.132241 & 26.691748 & 21.718609 & -6.000 & 4.71894\\\\\n",
       "\t 2007 & 23.0 & 4.9 &  9.4 & -1.064650 & 36.892213 & 29.360890 & 21.102856 & -6.800 & 3.90353\\\\\n",
       "\t 2008 & 20.0 & 7.4 &  8.2 & -1.173800 & 33.316336 & 26.056814 & 18.164030 & -5.025 & 1.96825\\\\\n",
       "\t 2009 & 38.0 & 6.1 &  9.2 & -0.939651 & 30.583693 & 23.954386 & 16.304059 & -5.475 & 5.00304\\\\\n",
       "\t 2010 & 18.0 & 7.8 &  8.8 & -0.910408 & 30.337081 & 24.782637 & 18.806762 & -4.800 & 4.67662\\\\\n",
       "\t 2011 & 18.0 & 5.6 &  8.6 & -1.145310 & 31.434842 & 25.317699 & 19.076832 & -4.475 & 3.44675\\\\\n",
       "\t 2012 & 16.0 & 6.4 &  8.0 & -1.007750 & 30.118506 & 23.368292 & 15.811044 & -4.325 & 3.79997\\\\\n",
       "\t 2013 & 18.0 & 5.0 &  8.8 & -0.529366 & 25.281480 & 19.551199 & 12.982484 & -5.475 & 4.80929\\\\\n",
       "\t 2014 & 20.0 & 6.7 &  9.2 & -0.991542 & 20.076788 & 15.453585 & 10.244371 & -5.425 & 3.85574\\\\\n",
       "\t 2015 & 20.0 & 7.4 & 10.4 & -0.801907 & 16.790362 & 13.015897 &  8.621099 & -5.275 & 4.85060\\\\\n",
       "\t 2016 & 15.0 & 6.6 &  8.2 & -1.027590 & 12.707998 &  9.716879 &  6.435300 & -6.175 & 2.02915\\\\\n",
       "\t 2017 & 60.0 & 7.3 &  8.8 & -1.148770 & 17.556400 & 15.064240 & 12.031000 & -4.700 & 3.26214\\\\\n",
       "\t 2018 & 13.5 &  NA & 11.8 & -1.057240 & 21.174400 & 18.063200 & 15.875400 & -4.700 & 4.95809\\\\\n",
       "\\end{tabular}\n"
      ],
      "text/markdown": [
       "\n",
       "A data.frame: 19 × 10\n",
       "\n",
       "| year &lt;int&gt; | FIE &lt;dbl&gt; | GyreSPD &lt;dbl&gt; | mnWind &lt;dbl&gt; | nmSST_aw_MCM &lt;dbl&gt; | Fish_cum3 &lt;dbl&gt; | Fish_cum_6_8_1 &lt;dbl&gt; | Fish_cum_75_1 &lt;dbl&gt; | mnAirTemp &lt;dbl&gt; | mnOW_MCM6 &lt;dbl&gt; |\n",
       "|---|---|---|---|---|---|---|---|---|---|\n",
       "| 2000 | 37.2 | 6.4 |  7.8 | -1.109230 |  3.259784 |  3.061944 |  2.942784 | -4.450 | 2.95968 |\n",
       "| 2001 | 15.0 | 6.6 |  8.6 | -0.911519 |  3.802572 |  3.036415 |  2.489676 | -6.175 | 4.36666 |\n",
       "| 2002 | 44.9 | 4.4 |  8.8 | -1.109550 |  4.815376 |  3.714945 |  2.234845 | -6.050 | 1.74801 |\n",
       "| 2003 | 52.0 | 7.0 |  8.6 | -1.177640 | 10.204777 |  9.587261 |  9.091788 | -4.625 | 2.70145 |\n",
       "| 2004 | 14.9 | 7.2 |  8.4 | -1.394120 | 16.748619 | 14.499460 | 13.075569 | -5.000 | 1.11563 |\n",
       "| 2005 | 47.0 | 7.8 |  8.8 | -1.099050 | 27.775821 | 23.210861 | 18.169929 | -5.250 | 3.63016 |\n",
       "| 2006 | 47.0 | 5.4 |  8.8 | -0.954533 | 32.132241 | 26.691748 | 21.718609 | -6.000 | 4.71894 |\n",
       "| 2007 | 23.0 | 4.9 |  9.4 | -1.064650 | 36.892213 | 29.360890 | 21.102856 | -6.800 | 3.90353 |\n",
       "| 2008 | 20.0 | 7.4 |  8.2 | -1.173800 | 33.316336 | 26.056814 | 18.164030 | -5.025 | 1.96825 |\n",
       "| 2009 | 38.0 | 6.1 |  9.2 | -0.939651 | 30.583693 | 23.954386 | 16.304059 | -5.475 | 5.00304 |\n",
       "| 2010 | 18.0 | 7.8 |  8.8 | -0.910408 | 30.337081 | 24.782637 | 18.806762 | -4.800 | 4.67662 |\n",
       "| 2011 | 18.0 | 5.6 |  8.6 | -1.145310 | 31.434842 | 25.317699 | 19.076832 | -4.475 | 3.44675 |\n",
       "| 2012 | 16.0 | 6.4 |  8.0 | -1.007750 | 30.118506 | 23.368292 | 15.811044 | -4.325 | 3.79997 |\n",
       "| 2013 | 18.0 | 5.0 |  8.8 | -0.529366 | 25.281480 | 19.551199 | 12.982484 | -5.475 | 4.80929 |\n",
       "| 2014 | 20.0 | 6.7 |  9.2 | -0.991542 | 20.076788 | 15.453585 | 10.244371 | -5.425 | 3.85574 |\n",
       "| 2015 | 20.0 | 7.4 | 10.4 | -0.801907 | 16.790362 | 13.015897 |  8.621099 | -5.275 | 4.85060 |\n",
       "| 2016 | 15.0 | 6.6 |  8.2 | -1.027590 | 12.707998 |  9.716879 |  6.435300 | -6.175 | 2.02915 |\n",
       "| 2017 | 60.0 | 7.3 |  8.8 | -1.148770 | 17.556400 | 15.064240 | 12.031000 | -4.700 | 3.26214 |\n",
       "| 2018 | 13.5 |  NA | 11.8 | -1.057240 | 21.174400 | 18.063200 | 15.875400 | -4.700 | 4.95809 |\n",
       "\n"
      ],
      "text/plain": [
       "   year FIE  GyreSPD mnWind nmSST_aw_MCM Fish_cum3 Fish_cum_6_8_1 Fish_cum_75_1\n",
       "1  2000 37.2 6.4      7.8   -1.109230     3.259784  3.061944       2.942784    \n",
       "2  2001 15.0 6.6      8.6   -0.911519     3.802572  3.036415       2.489676    \n",
       "3  2002 44.9 4.4      8.8   -1.109550     4.815376  3.714945       2.234845    \n",
       "4  2003 52.0 7.0      8.6   -1.177640    10.204777  9.587261       9.091788    \n",
       "5  2004 14.9 7.2      8.4   -1.394120    16.748619 14.499460      13.075569    \n",
       "6  2005 47.0 7.8      8.8   -1.099050    27.775821 23.210861      18.169929    \n",
       "7  2006 47.0 5.4      8.8   -0.954533    32.132241 26.691748      21.718609    \n",
       "8  2007 23.0 4.9      9.4   -1.064650    36.892213 29.360890      21.102856    \n",
       "9  2008 20.0 7.4      8.2   -1.173800    33.316336 26.056814      18.164030    \n",
       "10 2009 38.0 6.1      9.2   -0.939651    30.583693 23.954386      16.304059    \n",
       "11 2010 18.0 7.8      8.8   -0.910408    30.337081 24.782637      18.806762    \n",
       "12 2011 18.0 5.6      8.6   -1.145310    31.434842 25.317699      19.076832    \n",
       "13 2012 16.0 6.4      8.0   -1.007750    30.118506 23.368292      15.811044    \n",
       "14 2013 18.0 5.0      8.8   -0.529366    25.281480 19.551199      12.982484    \n",
       "15 2014 20.0 6.7      9.2   -0.991542    20.076788 15.453585      10.244371    \n",
       "16 2015 20.0 7.4     10.4   -0.801907    16.790362 13.015897       8.621099    \n",
       "17 2016 15.0 6.6      8.2   -1.027590    12.707998  9.716879       6.435300    \n",
       "18 2017 60.0 7.3      8.8   -1.148770    17.556400 15.064240      12.031000    \n",
       "19 2018 13.5  NA     11.8   -1.057240    21.174400 18.063200      15.875400    \n",
       "   mnAirTemp mnOW_MCM6\n",
       "1  -4.450    2.95968  \n",
       "2  -6.175    4.36666  \n",
       "3  -6.050    1.74801  \n",
       "4  -4.625    2.70145  \n",
       "5  -5.000    1.11563  \n",
       "6  -5.250    3.63016  \n",
       "7  -6.000    4.71894  \n",
       "8  -6.800    3.90353  \n",
       "9  -5.025    1.96825  \n",
       "10 -5.475    5.00304  \n",
       "11 -4.800    4.67662  \n",
       "12 -4.475    3.44675  \n",
       "13 -4.325    3.79997  \n",
       "14 -5.475    4.80929  \n",
       "15 -5.425    3.85574  \n",
       "16 -5.275    4.85060  \n",
       "17 -6.175    2.02915  \n",
       "18 -4.700    3.26214  \n",
       "19 -4.700    4.95809  "
      ]
     },
     "metadata": {},
     "output_type": "display_data"
    }
   ],
   "source": [
    "master_gr[,c(\"year\",\"FIE\", \"GyreSPD\", \"mnWind\", \"nmSST_aw_MCM\" ,\"Fish_cum3\", \"Fish_cum_6_8_1\", \"Fish_cum_75_1\", \"mnAirTemp\", \"mnOW_MCM6\")]"
   ]
  },
  {
   "cell_type": "code",
   "execution_count": 20,
   "metadata": {},
   "outputs": [
    {
     "name": "stdout",
     "output_type": "stream",
     "text": [
      "Start:  AIC=-63.27\n",
      "growth_wese ~ FIE + mnWind + nmSST_aw_MCM + Fish_cum3 + mnAirTemp + \n",
      "    mnOW_MCM6\n",
      "\n",
      "               Df Sum of Sq     RSS     AIC\n",
      "- nmSST_aw_MCM  1   0.00327 0.32883 -65.076\n",
      "- mnAirTemp     1   0.02437 0.34993 -63.895\n",
      "<none>                      0.32556 -63.266\n",
      "- mnOW_MCM6     1   0.05948 0.38503 -62.078\n",
      "- mnWind        1   0.06547 0.39103 -61.785\n",
      "- Fish_cum3     1   0.09673 0.42229 -60.324\n",
      "- FIE           1   0.59298 0.91854 -45.559\n",
      "\n",
      "Step:  AIC=-65.08\n",
      "growth_wese ~ FIE + mnWind + Fish_cum3 + mnAirTemp + mnOW_MCM6\n",
      "\n",
      "            Df Sum of Sq     RSS     AIC\n",
      "- mnAirTemp  1   0.03622 0.36505 -65.091\n",
      "<none>                   0.32883 -65.076\n",
      "- mnWind     1   0.09430 0.42313 -62.286\n",
      "- Fish_cum3  1   0.09559 0.42442 -62.228\n",
      "- mnOW_MCM6  1   0.23134 0.56017 -56.955\n",
      "- FIE        1   0.63340 0.96223 -46.676\n",
      "\n",
      "Step:  AIC=-65.09\n",
      "growth_wese ~ FIE + mnWind + Fish_cum3 + mnOW_MCM6\n",
      "\n",
      "            Df Sum of Sq     RSS     AIC\n",
      "<none>                   0.36505 -65.091\n",
      "- mnWind     1   0.08987 0.45492 -62.910\n",
      "- Fish_cum3  1   0.09290 0.45795 -62.783\n",
      "- mnOW_MCM6  1   0.23528 0.60033 -57.639\n",
      "- FIE        1   0.62207 0.98712 -48.191\n"
     ]
    },
    {
     "data": {
      "text/plain": [
       "\n",
       "Call:\n",
       "lm(formula = growth_wese ~ FIE + mnWind + Fish_cum3 + mnOW_MCM6, \n",
       "    data = master_gr)\n",
       "\n",
       "Coefficients:\n",
       "(Intercept)          FIE       mnWind    Fish_cum3    mnOW_MCM6  \n",
       "  -0.106222     0.012525    -0.094036     0.007306     0.120295  \n"
      ]
     },
     "metadata": {},
     "output_type": "display_data"
    }
   ],
   "source": [
    "step(model_wese)"
   ]
  },
  {
   "cell_type": "code",
   "execution_count": 28,
   "metadata": {
    "scrolled": true
   },
   "outputs": [
    {
     "data": {
      "text/plain": [
       "\n",
       "Call:\n",
       "lm(formula = growth_wese ~ FIE + mnWind + Fish_cum3 + mnOW_MCM6, \n",
       "    data = master_gr)\n",
       "\n",
       "Residuals:\n",
       "     Min       1Q   Median       3Q      Max \n",
       "-0.21490 -0.12649 -0.02738  0.12443  0.18778 \n",
       "\n",
       "Coefficients:\n",
       "             Estimate Std. Error t value Pr(>|t|)    \n",
       "(Intercept) -0.106222   0.424401  -0.250 0.806001    \n",
       "FIE          0.012525   0.002564   4.884 0.000241 ***\n",
       "mnWind      -0.094036   0.050653  -1.856 0.084551 .  \n",
       "Fish_cum3    0.007306   0.003871   1.888 0.079995 .  \n",
       "mnOW_MCM6    0.120295   0.040046   3.004 0.009478 ** \n",
       "---\n",
       "Signif. codes:  0 ‘***’ 0.001 ‘**’ 0.01 ‘*’ 0.05 ‘.’ 0.1 ‘ ’ 1\n",
       "\n",
       "Residual standard error: 0.1615 on 14 degrees of freedom\n",
       "Multiple R-squared:  0.7444,\tAdjusted R-squared:  0.6713 \n",
       "F-statistic: 10.19 on 4 and 14 DF,  p-value: 0.0004432\n"
      ]
     },
     "metadata": {},
     "output_type": "display_data"
    },
    {
     "data": {
      "text/html": [
       "'AIC: -9.17144262858744'"
      ],
      "text/latex": [
       "'AIC: -9.17144262858744'"
      ],
      "text/markdown": [
       "'AIC: -9.17144262858744'"
      ],
      "text/plain": [
       "[1] \"AIC: -9.17144262858744\""
      ]
     },
     "metadata": {},
     "output_type": "display_data"
    }
   ],
   "source": [
    "#trying model above\n",
    "model_wese<- lm(formula = growth_wese ~ FIE + mnWind + Fish_cum3 + mnOW_MCM6, data = master_gr)\n",
    "summary (model_wese); paste(\"AIC:\",AIC(model_wese))"
   ]
  },
  {
   "cell_type": "code",
   "execution_count": 29,
   "metadata": {},
   "outputs": [
    {
     "data": {
      "text/plain": [
       "\n",
       "Call:\n",
       "lm(formula = growth_wese ~ FIE + mnWind + Fish_cum3 + mnOW_MCM6 + \n",
       "    GyreSPD, data = master_gr)\n",
       "\n",
       "Residuals:\n",
       "     Min       1Q   Median       3Q      Max \n",
       "-0.24204 -0.09252  0.04055  0.10300  0.14479 \n",
       "\n",
       "Coefficients:\n",
       "             Estimate Std. Error t value Pr(>|t|)    \n",
       "(Intercept) -1.045566   0.612832  -1.706 0.113708    \n",
       "FIE          0.011479   0.002357   4.870 0.000385 ***\n",
       "mnWind       0.029871   0.070890   0.421 0.680939    \n",
       "Fish_cum3    0.006597   0.003504   1.883 0.084168 .  \n",
       "mnOW_MCM6    0.101887   0.037035   2.751 0.017567 *  \n",
       "GyreSPD     -0.003657   0.034611  -0.106 0.917609    \n",
       "---\n",
       "Signif. codes:  0 ‘***’ 0.001 ‘**’ 0.01 ‘*’ 0.05 ‘.’ 0.1 ‘ ’ 1\n",
       "\n",
       "Residual standard error: 0.1456 on 12 degrees of freedom\n",
       "  (1 observation deleted due to missingness)\n",
       "Multiple R-squared:  0.7845,\tAdjusted R-squared:  0.6947 \n",
       "F-statistic: 8.738 on 5 and 12 DF,  p-value: 0.001081\n"
      ]
     },
     "metadata": {},
     "output_type": "display_data"
    },
    {
     "data": {
      "text/html": [
       "'AIC: -11.5915917537371'"
      ],
      "text/latex": [
       "'AIC: -11.5915917537371'"
      ],
      "text/markdown": [
       "'AIC: -11.5915917537371'"
      ],
      "text/plain": [
       "[1] \"AIC: -11.5915917537371\""
      ]
     },
     "metadata": {},
     "output_type": "display_data"
    }
   ],
   "source": [
    "# Including Gyre\n",
    "model_wese<- lm(formula = growth_wese ~ FIE + mnWind + Fish_cum3 + mnOW_MCM6 + GyreSPD, data = master_gr)\n",
    "summary (model_wese); paste(\"AIC:\",AIC(model_wese))"
   ]
  },
  {
   "cell_type": "code",
   "execution_count": 50,
   "metadata": {},
   "outputs": [
    {
     "data": {
      "text/plain": [
       "\n",
       "Call:\n",
       "lm(formula = growth_wese ~ FIE + mnWind + Fish_cum3 + mnOW_MCM6 + \n",
       "    GyreSPD, data = master_gr)\n",
       "\n",
       "Residuals:\n",
       "     Min       1Q   Median       3Q      Max \n",
       "-0.24204 -0.09252  0.04055  0.10300  0.14479 \n",
       "\n",
       "Coefficients:\n",
       "             Estimate Std. Error t value Pr(>|t|)    \n",
       "(Intercept) -1.045566   0.612832  -1.706 0.113708    \n",
       "FIE          0.011479   0.002357   4.870 0.000385 ***\n",
       "mnWind       0.029871   0.070890   0.421 0.680939    \n",
       "Fish_cum3    0.006597   0.003504   1.883 0.084168 .  \n",
       "mnOW_MCM6    0.101887   0.037035   2.751 0.017567 *  \n",
       "GyreSPD     -0.003657   0.034611  -0.106 0.917609    \n",
       "---\n",
       "Signif. codes:  0 ‘***’ 0.001 ‘**’ 0.01 ‘*’ 0.05 ‘.’ 0.1 ‘ ’ 1\n",
       "\n",
       "Residual standard error: 0.1456 on 12 degrees of freedom\n",
       "  (1 observation deleted due to missingness)\n",
       "Multiple R-squared:  0.7845,\tAdjusted R-squared:  0.6947 \n",
       "F-statistic: 8.738 on 5 and 12 DF,  p-value: 0.001081\n"
      ]
     },
     "metadata": {},
     "output_type": "display_data"
    },
    {
     "data": {
      "text/html": [
       "'AIC: -11.5915917537371'"
      ],
      "text/latex": [
       "'AIC: -11.5915917537371'"
      ],
      "text/markdown": [
       "'AIC: -11.5915917537371'"
      ],
      "text/plain": [
       "[1] \"AIC: -11.5915917537371\""
      ]
     },
     "metadata": {},
     "output_type": "display_data"
    }
   ],
   "source": [
    "#trying ALL FISH_CUM. BEST MODEL?  Best model is with Fish_cum3\n",
    "model_wese<- lm(formula = growth_wese ~ FIE + mnWind + Fish_cum3 + mnOW_MCM6 + GyreSPD, data = master_gr)\n",
    "summary (model_wese); paste(\"AIC:\",AIC(model_wese))"
   ]
  },
  {
   "cell_type": "code",
   "execution_count": 47,
   "metadata": {},
   "outputs": [
    {
     "name": "stderr",
     "output_type": "stream",
     "text": [
      "Warning message in cor.test.default(master_gr$FIE, master_gr$mnOW_MCM6, method = \"spearman\"):\n",
      "“Cannot compute exact p-value with ties”\n"
     ]
    },
    {
     "data": {
      "text/plain": [
       "\n",
       "\tSpearman's rank correlation rho\n",
       "\n",
       "data:  master_gr$FIE and master_gr$mnOW_MCM6\n",
       "S = 1255.5, p-value = 0.6798\n",
       "alternative hypothesis: true rho is not equal to 0\n",
       "sample estimates:\n",
       "       rho \n",
       "-0.1013226 \n"
      ]
     },
     "metadata": {},
     "output_type": "display_data"
    }
   ],
   "source": [
    "test <- cor.test(master_gr$FIE, master_gr$mnOW_MCM6, method= \"spearman\")\n",
    "test\n"
   ]
  },
  {
   "cell_type": "markdown",
   "metadata": {},
   "source": [
    "# BEST MODEL"
   ]
  },
  {
   "cell_type": "code",
   "execution_count": 46,
   "metadata": {},
   "outputs": [
    {
     "data": {
      "text/plain": [
       "\n",
       "Call:\n",
       "lm(formula = growth_wese ~ FIE + Fish_cum3 + mnOW_MCM6 + GyreSPD, \n",
       "    data = master_gr)\n",
       "\n",
       "Residuals:\n",
       "     Min       1Q   Median       3Q      Max \n",
       "-0.23327 -0.09988  0.01627  0.11335  0.13800 \n",
       "\n",
       "Coefficients:\n",
       "             Estimate Std. Error t value Pr(>|t|)    \n",
       "(Intercept) -0.813934   0.262161  -3.105 0.008371 ** \n",
       "FIE          0.011534   0.002278   5.064 0.000217 ***\n",
       "Fish_cum3    0.006581   0.003391   1.941 0.074283 .  \n",
       "mnOW_MCM6    0.109668   0.031071   3.530 0.003698 ** \n",
       "GyreSPD     -0.003478   0.033496  -0.104 0.918890    \n",
       "---\n",
       "Signif. codes:  0 ‘***’ 0.001 ‘**’ 0.01 ‘*’ 0.05 ‘.’ 0.1 ‘ ’ 1\n",
       "\n",
       "Residual standard error: 0.1409 on 13 degrees of freedom\n",
       "  (1 observation deleted due to missingness)\n",
       "Multiple R-squared:  0.7813,\tAdjusted R-squared:  0.714 \n",
       "F-statistic: 11.61 on 4 and 13 DF,  p-value: 0.0003108\n"
      ]
     },
     "metadata": {},
     "output_type": "display_data"
    },
    {
     "data": {
      "text/html": [
       "'AIC: -13.3272218352494'"
      ],
      "text/latex": [
       "'AIC: -13.3272218352494'"
      ],
      "text/markdown": [
       "'AIC: -13.3272218352494'"
      ],
      "text/plain": [
       "[1] \"AIC: -13.3272218352494\""
      ]
     },
     "metadata": {},
     "output_type": "display_data"
    }
   ],
   "source": [
    "#excluding wind - this is the best model by AIC + LRT (by AIC alone justified to include gyre speed)\n",
    "model_wese<- lm(formula = growth_wese ~ FIE + Fish_cum3 + mnOW_MCM6 + GyreSPD, data = master_gr)\n",
    "summary (model_wese); paste(\"AIC:\",AIC(model_wese))"
   ]
  },
  {
   "cell_type": "code",
   "execution_count": 67,
   "metadata": {},
   "outputs": [
    {
     "data": {
      "text/plain": [
       "\n",
       "Call:\n",
       "lm(formula = growth_wese ~ 1, data = master_gr)\n",
       "\n",
       "Residuals:\n",
       "     Min       1Q   Median       3Q      Max \n",
       "-0.66355 -0.12752  0.02109  0.19861  0.45072 \n",
       "\n",
       "Coefficients:\n",
       "             Estimate Std. Error t value Pr(>|t|)\n",
       "(Intercept) -0.004283   0.064617  -0.066    0.948\n",
       "\n",
       "Residual standard error: 0.2817 on 18 degrees of freedom\n"
      ]
     },
     "metadata": {},
     "output_type": "display_data"
    },
    {
     "data": {
      "text/html": [
       "'AIC: 8.74395895850825'"
      ],
      "text/latex": [
       "'AIC: 8.74395895850825'"
      ],
      "text/markdown": [
       "'AIC: 8.74395895850825'"
      ],
      "text/plain": [
       "[1] \"AIC: 8.74395895850825\""
      ]
     },
     "metadata": {},
     "output_type": "display_data"
    }
   ],
   "source": [
    "model_wese<- lm(formula = growth_wese ~ 1, data = master_gr)\n",
    "summary (model_wese) \n",
    "paste(\"AIC:\",AIC(model_wese))"
   ]
  },
  {
   "cell_type": "code",
   "execution_count": 52,
   "metadata": {},
   "outputs": [
    {
     "data": {
      "text/plain": [
       "\n",
       "Call:\n",
       "lm(formula = growth_wese ~ FIE + Fish_cum3 + mnOW_MCM6, data = master_gr)\n",
       "\n",
       "Residuals:\n",
       "     Min       1Q   Median       3Q      Max \n",
       "-0.40010 -0.09059  0.05752  0.10197  0.19379 \n",
       "\n",
       "Coefficients:\n",
       "             Estimate Std. Error t value Pr(>|t|)    \n",
       "(Intercept) -0.841202   0.164904  -5.101 0.000130 ***\n",
       "FIE          0.013224   0.002736   4.834 0.000219 ***\n",
       "Fish_cum3    0.008185   0.004143   1.976 0.066905 .  \n",
       "mnOW_MCM6    0.080802   0.036591   2.208 0.043211 *  \n",
       "---\n",
       "Signif. codes:  0 ‘***’ 0.001 ‘**’ 0.01 ‘*’ 0.05 ‘.’ 0.1 ‘ ’ 1\n",
       "\n",
       "Residual standard error: 0.1741 on 15 degrees of freedom\n",
       "Multiple R-squared:  0.6814,\tAdjusted R-squared:  0.6177 \n",
       "F-statistic: 10.69 on 3 and 15 DF,  p-value: 0.0005166\n"
      ]
     },
     "metadata": {},
     "output_type": "display_data"
    },
    {
     "data": {
      "text/html": [
       "'AIC: -6.98985208382591'"
      ],
      "text/latex": [
       "'AIC: -6.98985208382591'"
      ],
      "text/markdown": [
       "'AIC: -6.98985208382591'"
      ],
      "text/plain": [
       "[1] \"AIC: -6.98985208382591\""
      ]
     },
     "metadata": {},
     "output_type": "display_data"
    }
   ],
   "source": [
    "#excluding wind - this is the best model by AIC + LRT (by AIC alone justified to include gyre speed)\n",
    "model_wese<- lm(formula = growth_wese ~ FIE + Fish_cum3 + mnOW_MCM6 , data = master_gr)\n",
    "summary (model_wese); paste(\"AIC:\",AIC(model_wese))"
   ]
  },
  {
   "cell_type": "code",
   "execution_count": 40,
   "metadata": {},
   "outputs": [
    {
     "data": {
      "text/html": [
       "<table>\n",
       "<caption>A anova: 2 × 5</caption>\n",
       "<thead>\n",
       "\t<tr><th></th><th scope=col>#Df</th><th scope=col>LogLik</th><th scope=col>Df</th><th scope=col>Chisq</th><th scope=col>Pr(&gt;Chisq)</th></tr>\n",
       "\t<tr><th></th><th scope=col>&lt;dbl&gt;</th><th scope=col>&lt;dbl&gt;</th><th scope=col>&lt;dbl&gt;</th><th scope=col>&lt;dbl&gt;</th><th scope=col>&lt;dbl&gt;</th></tr>\n",
       "</thead>\n",
       "<tbody>\n",
       "\t<tr><th scope=row>1</th><td>7</td><td>12.79580</td><td>NA</td><td>       NA</td><td>       NA</td></tr>\n",
       "\t<tr><th scope=row>2</th><td>6</td><td>12.66361</td><td>-1</td><td>0.2643699</td><td>0.6071337</td></tr>\n",
       "</tbody>\n",
       "</table>\n"
      ],
      "text/latex": [
       "A anova: 2 × 5\n",
       "\\begin{tabular}{r|lllll}\n",
       "  & \\#Df & LogLik & Df & Chisq & Pr(>Chisq)\\\\\n",
       "  & <dbl> & <dbl> & <dbl> & <dbl> & <dbl>\\\\\n",
       "\\hline\n",
       "\t1 & 7 & 12.79580 & NA &        NA &        NA\\\\\n",
       "\t2 & 6 & 12.66361 & -1 & 0.2643699 & 0.6071337\\\\\n",
       "\\end{tabular}\n"
      ],
      "text/markdown": [
       "\n",
       "A anova: 2 × 5\n",
       "\n",
       "| <!--/--> | #Df &lt;dbl&gt; | LogLik &lt;dbl&gt; | Df &lt;dbl&gt; | Chisq &lt;dbl&gt; | Pr(&gt;Chisq) &lt;dbl&gt; |\n",
       "|---|---|---|---|---|---|\n",
       "| 1 | 7 | 12.79580 | NA |        NA |        NA |\n",
       "| 2 | 6 | 12.66361 | -1 | 0.2643699 | 0.6071337 |\n",
       "\n"
      ],
      "text/plain": [
       "  #Df LogLik   Df Chisq     Pr(>Chisq)\n",
       "1 7   12.79580 NA        NA        NA \n",
       "2 6   12.66361 -1 0.2643699 0.6071337 "
      ]
     },
     "metadata": {},
     "output_type": "display_data"
    }
   ],
   "source": [
    "## Checking Likelihood ratio tests to see if excluding wind is justified\n",
    "library(lmtest)\n",
    "model_wese_wind<- lm(formula = growth_wese ~ FIE + mnWind + Fish_cum3 + mnOW_MCM6 + GyreSPD, data = master_gr)\n",
    "model_wese<-lm(formula = growth_wese ~ FIE + Fish_cum3 + mnOW_MCM6 + GyreSPD, data = master_gr)\n",
    "lrtest(model_wese_wind,model_wese)\n",
    "\n",
    "# We cannot do the same for Gyre speed because the model without it uses 2019 data \n",
    "# so has one more record than the model with gyre speed"
   ]
  },
  {
   "cell_type": "markdown",
   "metadata": {},
   "source": [
    "### By the LRTest above we are justified in not including Wind"
   ]
  },
  {
   "cell_type": "code",
   "execution_count": 55,
   "metadata": {},
   "outputs": [
    {
     "data": {
      "text/plain": [
       "\n",
       "Call:\n",
       "lm(formula = growth_wese ~ 1, data = master_gr)\n",
       "\n",
       "Residuals:\n",
       "     Min       1Q   Median       3Q      Max \n",
       "-0.66355 -0.12752  0.02109  0.19861  0.45072 \n",
       "\n",
       "Coefficients:\n",
       "             Estimate Std. Error t value Pr(>|t|)\n",
       "(Intercept) -0.004283   0.064617  -0.066    0.948\n",
       "\n",
       "Residual standard error: 0.2817 on 18 degrees of freedom\n"
      ]
     },
     "metadata": {},
     "output_type": "display_data"
    },
    {
     "data": {
      "text/html": [
       "'AIC: 8.74395895850825'"
      ],
      "text/latex": [
       "'AIC: 8.74395895850825'"
      ],
      "text/markdown": [
       "'AIC: 8.74395895850825'"
      ],
      "text/plain": [
       "[1] \"AIC: 8.74395895850825\""
      ]
     },
     "metadata": {},
     "output_type": "display_data"
    }
   ],
   "source": [
    "model_wese<- lm(formula = growth_wese ~ 1, data = master_gr)\n",
    "summary (model_wese); paste(\"AIC:\",AIC(model_wese))"
   ]
  },
  {
   "cell_type": "code",
   "execution_count": 42,
   "metadata": {},
   "outputs": [],
   "source": [
    "save(master_gr,model_wese,file=\"/home/ubuntu/Workspace/Anthropocene/data/bestWESEmodel.RData\")"
   ]
  },
  {
   "cell_type": "code",
   "execution_count": null,
   "metadata": {},
   "outputs": [],
   "source": []
  }
 ],
 "metadata": {
  "kernelspec": {
   "display_name": "R",
   "language": "R",
   "name": "ir"
  },
  "language_info": {
   "codemirror_mode": "r",
   "file_extension": ".r",
   "mimetype": "text/x-r-source",
   "name": "R",
   "pygments_lexer": "r",
   "version": "3.6.3"
  }
 },
 "nbformat": 4,
 "nbformat_minor": 2
}
