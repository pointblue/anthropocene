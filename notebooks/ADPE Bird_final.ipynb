{
 "cells": [
  {
   "cell_type": "markdown",
   "metadata": {},
   "source": [
    "# Finding the temporal autocorrelation order and evidence of slope\n",
    "# This notebook fits an ARIMA model for ADPE at BIRD"
   ]
  },
  {
   "cell_type": "code",
   "execution_count": 1,
   "metadata": {},
   "outputs": [
    {
     "name": "stderr",
     "output_type": "stream",
     "text": [
      "Registered S3 method overwritten by 'quantmod':\n",
      "  method            from\n",
      "  as.zoo.data.frame zoo \n",
      "\n",
      "\n",
      "Attaching package: ‘dplyr’\n",
      "\n",
      "\n",
      "The following objects are masked from ‘package:stats’:\n",
      "\n",
      "    filter, lag\n",
      "\n",
      "\n",
      "The following objects are masked from ‘package:base’:\n",
      "\n",
      "    intersect, setdiff, setequal, union\n",
      "\n",
      "\n",
      "Loading required package: zoo\n",
      "\n",
      "\n",
      "Attaching package: ‘zoo’\n",
      "\n",
      "\n",
      "The following objects are masked from ‘package:base’:\n",
      "\n",
      "    as.Date, as.Date.numeric\n",
      "\n",
      "\n"
     ]
    }
   ],
   "source": [
    "# Load libraries\n",
    "library(forecast); library(ggplot2);library(dplyr); library(fmsb); library(stats); library(ggplot2); \n",
    "library(modelr); library(lmtest); library(pdp)"
   ]
  },
  {
   "cell_type": "code",
   "execution_count": 2,
   "metadata": {},
   "outputs": [],
   "source": [
    "# Load the data\n",
    "master<-read.csv(\"~/Workspace/Anthropocene/data/MASTER_SIE_MOD.csv\")\n"
   ]
  },
  {
   "cell_type": "code",
   "execution_count": 3,
   "metadata": {},
   "outputs": [],
   "source": [
    "#calculating the annual percentage change for ADPE_BIRD\n",
    "master_gr <- master %>% mutate(growth_bird=log(ADPE_BIRD/lag(ADPE_BIRD)))\n",
    "\n",
    "#excluding years before 2003#\n",
    "master_gr <- subset(master_gr, !year %in% c(1998:2002))\n"
   ]
  },
  {
   "cell_type": "code",
   "execution_count": 4,
   "metadata": {},
   "outputs": [],
   "source": [
    "#adding/scaling additional covariates (e.g., lags) \n",
    "\n",
    "#open water/10^6\n",
    "master_gr$mnOW_RSP6<- master_gr$mnOW_RSP/10^6\n",
    "\n",
    "#lag 5 years SIE\n",
    "master_gr <- master_gr %>% mutate(SIE_lag5 = lag(av_SIE,5))\n",
    "master_gr[5,\"SIE_lag5\"]<-2.703\n",
    "master_gr[4,\"SIE_lag5\"]<-3.123\n",
    "master_gr[3,\"SIE_lag5\"]<-2.731\n",
    "master_gr[2,\"SIE_lag5\"]<-2.767\n",
    "master_gr[1,\"SIE_lag5\"]<-2.60\n",
    "\n",
    "#lag 4 years SIE\n",
    "master_gr <- master_gr %>% mutate(SIE_lag4 = lag(av_SIE,4))\n",
    "master_gr[4,\"SIE_lag4\"]<-2.703\n",
    "master_gr[3,\"SIE_lag4\"]<-3.123\n",
    "master_gr[2,\"SIE_lag4\"]<-2.731\n",
    "master_gr[1,\"SIE_lag4\"]<-2.767\n",
    "\n",
    "\n",
    "#lag 4 years Gyre\n",
    "master_gr <- master_gr %>% mutate(GyreSPD_lag4 = lag(GyreSPD,4))\n",
    "master_gr[4,\"GyreSPD_lag4\"]<-6.2\n",
    "master_gr[3,\"GyreSPD_lag4\"]<-6.3\n",
    "master_gr[2,\"GyreSPD_lag4\"]<-5.7\n",
    "master_gr[1,\"GyreSPD_lag4\"]<-5.8\n",
    "\n",
    "#lag 5 years Gyre\n",
    "master_gr <- master_gr %>% mutate(GyreSPD_lag5 = lag(GyreSPD,5))\n",
    "master_gr[5,\"GyreSPD_lag5\"]<-6.2\n",
    "master_gr[4,\"GyreSPD_lag5\"]<-6.3\n",
    "master_gr[3,\"GyreSPD_lag5\"]<-5.7\n",
    "master_gr[2,\"GyreSPD_lag5\"]<-5.8\n",
    "master_gr[1,\"GyreSPD_lag5\"]<-5.0\n",
    "\n",
    "#lag 5 years Air Temp\n",
    "master_gr <- master_gr %>% mutate(mnAirTemp_lag5 = lag(mnAirTemp,5))\n",
    "master_gr[5,\"mnAirTemp_lag5\"]<--5.6\n",
    "master_gr[4,\"mnAirTemp_lag5\"]<--4.5\n",
    "master_gr[3,\"mnAirTemp_lag5\"]<--5.2\n",
    "master_gr[2,\"mnAirTemp_lag5\"]<--7.7\n",
    "master_gr[1,\"mnAirTemp_lag5\"]<--4.2\n",
    "\n",
    "#lag 4 years Air Temp\n",
    "master_gr <- master_gr %>% mutate(mnAirTemp_lag4 = lag(mnAirTemp,4))\n",
    "master_gr[5,\"mnAirTemp_lag4\"]<--5.6\n",
    "master_gr[4,\"mnAirTemp_lag4\"]<--4.5\n",
    "master_gr[3,\"mnAirTemp_lag4\"]<--5.2\n",
    "master_gr[2,\"mnAirTemp_lag4\"]<--7.7\n",
    "\n",
    "#lag 5 years SST\n",
    "master_gr <- master_gr %>% mutate(nmSST_aw_RSP_lag5 = lag(nmSST_aw_RSP,5))\n",
    "master_gr[5,\"nmSST_aw_RSP_lag5\"]<--1.11723\n",
    "master_gr[4,\"nmSST_aw_RSP_lag5\"]<--0.645706\n",
    "master_gr[3,\"nmSST_aw_RSP_lag5\"]<--0.924639\n",
    "master_gr[2,\"nmSST_aw_RSP_lag5\"]<--0.901666\n",
    "master_gr[1,\"nmSST_aw_RSP_lag5\"]<--0.690398\n",
    "\n",
    "#lag 4 years SST\n",
    "master_gr <- master_gr %>% mutate(nmSST_aw_RSP_lag4 = lag(nmSST_aw_RSP,4))\n",
    "master_gr[4,\"nmSST_aw_RSP_lag4\"]<--1.11723\n",
    "master_gr[3,\"nmSST_aw_RSP_lag4\"]<--0.645706\n",
    "master_gr[2,\"nmSST_aw_RSP_lag4\"]<--0.924639\n",
    "master_gr[1,\"nmSST_aw_RSP_lag4\"]<--0.901666\n",
    "\n",
    "#lag 5 years Wind\n",
    "master_gr <- master_gr %>% mutate(mnWind_lag5 = lag(mnWind,5))\n",
    "master_gr[5,\"mnWind_lag5\"]<-8.8\n",
    "master_gr[4,\"mnWind_lag5\"]<-8.6\n",
    "master_gr[3,\"mnWind_lag5\"]<-7.8\n",
    "master_gr[2,\"mnWind_lag5\"]<-7.8\n",
    "master_gr[1,\"mnWind_lag5\"]<-7.8\n",
    "\n",
    "#lag 4 years Wind\n",
    "master_gr <- master_gr %>% mutate(mnWind_lag4 = lag(mnWind,4))\n",
    "master_gr[4,\"mnWind_lag4\"]<-8.8\n",
    "master_gr[3,\"mnWind_lag4\"]<-8.6\n",
    "master_gr[2,\"mnWind_lag4\"]<-7.8\n",
    "master_gr[1,\"mnWind_lag4\"]<-7.8\n",
    "\n",
    "#mnOW_RSP6\n",
    "master_gr$mnOW_RSP6<- master_gr$mnOW_RSP/10^6\n",
    "\n",
    "#lag 5 years mnOW_RSP6\n",
    "master_gr <- master_gr %>% mutate(mnOW_RSP6_lag5 = lag(mnOW_RSP6,5))\n",
    "master_gr[5,\"mnOW_RSP6_lag5\"]<-100918/10^6\n",
    "master_gr[4,\"mnOW_RSP6_lag5\"]<-250135/10^6\n",
    "master_gr[3,\"mnOW_RSP6_lag5\"]<-200943/10^6\n",
    "master_gr[2,\"mnOW_RSP6_lag5\"]<-218399/10^6\n",
    "master_gr[1,\"mnOW_RSP6_lag5\"]<-250157/10^6\n",
    "\n",
    "#lag 4 years mnOW_RSP6\n",
    "master_gr <- master_gr %>% mutate(mnOW_RSP6_lag4 = lag(mnOW_RSP6,4))\n",
    "master_gr[4,\"mnOW_RSP6_lag4\"]<-100918/10^6\n",
    "master_gr[3,\"mnOW_RSP6_lag4\"]<-250135/10^6\n",
    "master_gr[2,\"mnOW_RSP6_lag4\"]<-200943/10^6\n",
    "master_gr[1,\"mnOW_RSP6_lag4\"]<-218399/10^6\n",
    "\n",
    "#lag 4 years mnOW_RSP6\n",
    "master_gr <- master_gr %>% mutate(mnOW_RSP6_lag4 = lag(mnOW_RSP6,4))\n",
    "master_gr[4,\"mnOW_RSP6_lag4\"]<-100918/10^6\n",
    "master_gr[3,\"mnOW_RSP6_lag4\"]<-250135/10^6\n",
    "master_gr[2,\"mnOW_RSP6_lag4\"]<-200943/10^6\n",
    "master_gr[1,\"mnOW_RSP6_lag4\"]<-218399/10^6\n",
    "\n",
    "#lag 4 years OW_days_RSP\n",
    "master_gr <- master_gr %>% mutate(OW_day_RSPlag4 = lag(OW_day_RSP,4))\n",
    "master_gr[4,\"OW_day_RSPlag4\"]<-9\n",
    "master_gr[3,\"OW_day_RSPlag4\"]<-2\n",
    "master_gr[2,\"OW_day_RSPlag4\"]<-4\n",
    "master_gr[1,\"OW_day_RSPlag4\"]<-8\n",
    "\n",
    "#lag 4 years OW_days_MCM\n",
    "master_gr <- master_gr %>% mutate(OW_day_MCMlag4 = lag(logOW_day_MCM,4))\n",
    "master_gr[4,\"OW_day_MCMlag4\"]<-5.308267697\n",
    "master_gr[3,\"OW_day_MCMlag4\"]<-4.912654886\n",
    "master_gr[2,\"OW_day_MCMlag4\"]<-5.209486153\n",
    "master_gr[1,\"OW_day_MCMlag4\"]<-5.220355825\n"
   ]
  },
  {
   "cell_type": "code",
   "execution_count": 5,
   "metadata": {},
   "outputs": [],
   "source": [
    "#Adding quadratic variables\n",
    "master_gr$av_SIE_2<- master_gr$av_SIE^2\n",
    "master_gr$SIE_lag4_2<- master_gr$SIE_lag4^2\n",
    "master_gr$SIE_lag5_2<- master_gr$SIE_lag5^2\n",
    "master_gr$mnOW_RSP6<- master_gr$mnOW_RSP/10^6\n",
    "master_gr$mnOW_MCM6<- master_gr$mnOW_MCM/10^6\n",
    "master_gr$mnOW_RSP6_2<-master_gr$mnOW_RSP6^2\n",
    "master_gr$mnOW_RSP6_lag4_2<-master_gr$mnOW_RSP6_lag4^2\n",
    "master_gr$mnOW_RSP6_lag5_2<-master_gr$mnOW_RSP6_lag5^2\n",
    "master_gr$mnChl_aw_RSP_2<-master_gr$mnChl_aw_RSP^2\n",
    "master_gr$nmSST_aw_RSP_2<-master_gr$nmSST_aw_RSP^2\n",
    "master_gr$nmSST_aw_RSP_lag4_2<-master_gr$nmSST_aw_RSP_lag4^2\n",
    "master_gr$nmSST_aw_RSP_lag5_2<-master_gr$nmSST_aw_RSP_lag5^2\n",
    "master_gr$mnWind_2<-master_gr$mnWind^2\n",
    "master_gr$mnWind_lag4_2<-master_gr$mnWind_lag4^2\n",
    "master_gr$mnWind_lag5_2<-master_gr$mnWind_lag5^2\n",
    "master_gr$GyreSPD_2<-master_gr$GyreSPD^2\n",
    "master_gr$GyreSPD_lag4_2<-master_gr$GyreSPD_lag4^2\n",
    "master_gr$GyreSPD_lag5_2<-master_gr$GyreSPD_lag5^2\n",
    "master_gr$Salinity_2<-master_gr$Salinity^2\n",
    "master_gr$intP_RSP_2<-master_gr$intP_RSP^2\n",
    "master_gr$Prop._134_2<-master_gr$Prop._134^2\n",
    "master_gr$TOTALTonnes.100_2<-master_gr$TOTALTonnes.100^2\n",
    "master_gr$mnSIE_2<- master_gr$mnSIE^2\n",
    "master_gr$mnAirTemp_2<- master_gr$mnAirTemp^2\n",
    "master_gr$mnAirTemp_lag4_2<- master_gr$mnAirTemp_lag4^2\n",
    "master_gr$mnAirTemp_lag5_2<- master_gr$mnAirTemp_lag5^2\n",
    "master_gr$logOW_day_MCM_2<- master_gr$logOW_day_MCM^2\n",
    "master_gr$OW_day_MCMlag4_2<- master_gr$OW_day_MCMlag4^2\n",
    "master_gr$OW_day_RSPlag4_2<- master_gr$OW_day_RSPlag4^2\n",
    "master_gr$OW_day_RSP_2<- master_gr$OW_day_RSP^2"
   ]
  },
  {
   "cell_type": "markdown",
   "metadata": {},
   "source": [
    "# ARIMA"
   ]
  },
  {
   "cell_type": "code",
   "execution_count": 6,
   "metadata": {},
   "outputs": [
    {
     "name": "stdout",
     "output_type": "stream",
     "text": [
      "\n",
      " ARIMA(2,0,2) with non-zero mean : Inf\n",
      " ARIMA(0,0,0) with non-zero mean : 9.225962\n",
      " ARIMA(1,0,0) with non-zero mean : 9.327103\n",
      " ARIMA(0,0,1) with non-zero mean : Inf\n",
      " ARIMA(0,0,0) with zero mean     : 7.396489\n",
      " ARIMA(1,0,1) with non-zero mean : Inf\n",
      "\n",
      " Best model: ARIMA(0,0,0) with zero mean     \n",
      "\n"
     ]
    }
   ],
   "source": [
    "#Including the trace function to understand the combination of p,d,q that arima checked to select the best model#\n",
    "amdl<-auto.arima(master_gr$growth_bird,ic=\"aic\", trace=TRUE)"
   ]
  },
  {
   "cell_type": "code",
   "execution_count": 7,
   "metadata": {},
   "outputs": [
    {
     "name": "stdout",
     "output_type": "stream",
     "text": [
      "Series: master_gr$growth_bird \n",
      "ARIMA(1,0,0) with drift \n",
      "\n",
      "Coefficients:\n",
      "          ar1   drift\n",
      "      -0.3343  0.0020\n",
      "s.e.   0.2623  0.0054\n",
      "\n",
      "sigma^2 estimated as 0.08428:  log likelihood=-1.91\n",
      "AIC=9.81   AICc=11.81   BIC=12.13\n",
      "\n",
      "Training set error measures:\n",
      "                     ME      RMSE      MAE      MPE     MAPE      MASE\n",
      "Training set 0.01907064 0.2715676 0.199199 51.12156 180.8103 0.5631151\n",
      "                    ACF1\n",
      "Training set -0.06627433\n"
     ]
    }
   ],
   "source": [
    "#checking best model\n",
    "mdl1<-Arima(master_gr$growth_bird,order=c(1,0,0),include.mean=F,include.drift=T)\n",
    "summary(mdl1)"
   ]
  },
  {
   "cell_type": "code",
   "execution_count": 8,
   "metadata": {},
   "outputs": [
    {
     "name": "stdout",
     "output_type": "stream",
     "text": [
      "\n",
      "\tLjung-Box test\n",
      "\n",
      "data:  Residuals from ARIMA(1,0,0) with drift\n",
      "Q* = 7.6, df = 3, p-value = 0.05504\n",
      "\n",
      "Model df: 2.   Total lags used: 5\n",
      "\n"
     ]
    },
    {
     "data": {
      "image/png": "[encoded data removed]",
      "text/plain": [
       "plot without title"
      ]
     },
     "metadata": {
      "image/png": {
       "height": 420,
       "width": 420
      },
      "text/plain": {
       "height": 420,
       "width": 420
      }
     },
     "output_type": "display_data"
    }
   ],
   "source": [
    "checkresiduals(mdl1)"
   ]
  },
  {
   "cell_type": "code",
   "execution_count": 9,
   "metadata": {},
   "outputs": [
    {
     "name": "stdout",
     "output_type": "stream",
     "text": [
      "Series: master_gr$growth_bird \n",
      "ARIMA(2,0,0) with drift \n",
      "\n",
      "Coefficients:\n",
      "          ar1      ar2   drift\n",
      "      -0.3835  -0.4257  0.0018\n",
      "s.e.   0.2494   0.2555  0.0038\n",
      "\n",
      "sigma^2 estimated as 0.07639:  log likelihood=-0.7\n",
      "AIC=9.41   AICc=13.04   BIC=12.5\n",
      "\n",
      "Training set error measures:\n",
      "                     ME      RMSE       MAE      MPE     MAPE      MASE\n",
      "Training set 0.03140492 0.2491245 0.2110308 199.5566 290.0398 0.5965622\n",
      "                    ACF1\n",
      "Training set -0.09129029\n"
     ]
    }
   ],
   "source": [
    "# Compare to:\n",
    "mdl1a<-Arima(master_gr$growth_bird,order=c(2,0,0),include.mean=F,include.drift=T)\n",
    "summary(mdl1a)"
   ]
  },
  {
   "cell_type": "code",
   "execution_count": 10,
   "metadata": {},
   "outputs": [
    {
     "name": "stdout",
     "output_type": "stream",
     "text": [
      "\n",
      "\tLjung-Box test\n",
      "\n",
      "data:  Residuals from ARIMA(2,0,0) with drift\n",
      "Q* = 8.6284, df = 3, p-value = 0.03466\n",
      "\n",
      "Model df: 3.   Total lags used: 6\n",
      "\n"
     ]
    },
    {
     "data": {
      "image/png": "[encoded data removed]",
      "text/plain": [
       "plot without title"
      ]
     },
     "metadata": {
      "image/png": {
       "height": 420,
       "width": 420
      },
      "text/plain": {
       "height": 420,
       "width": 420
      }
     },
     "output_type": "display_data"
    }
   ],
   "source": [
    "checkresiduals(mdl1a)"
   ]
  },
  {
   "cell_type": "markdown",
   "metadata": {},
   "source": [
    "# Plotting the correct trend"
   ]
  },
  {
   "cell_type": "code",
   "execution_count": 11,
   "metadata": {},
   "outputs": [],
   "source": [
    "adcroz<-master_gr$growth_bird\n",
    "names(adcroz)<-master_gr$year"
   ]
  },
  {
   "cell_type": "code",
   "execution_count": 12,
   "metadata": {},
   "outputs": [
    {
     "name": "stderr",
     "output_type": "stream",
     "text": [
      "Warning message:\n",
      "“Removed 1 rows containing missing values (geom_point).”\n"
     ]
    },
    {
     "data": {
      "image/png": "[encoded data removed]",
      "text/plain": [
       "plot without title"
      ]
     },
     "metadata": {
      "image/png": {
       "height": 420,
       "width": 420
      },
      "text/plain": {
       "height": 420,
       "width": 420
      }
     },
     "output_type": "display_data"
    }
   ],
   "source": [
    "# Uncorrected trend\n",
    "ggtsdisplay(adcroz)"
   ]
  },
  {
   "cell_type": "code",
   "execution_count": 13,
   "metadata": {},
   "outputs": [
    {
     "name": "stderr",
     "output_type": "stream",
     "text": [
      "Warning message:\n",
      "“Removed 1 rows containing missing values (geom_point).”\n",
      "Warning message:\n",
      "“Removed 1 row(s) containing missing values (geom_path).”\n"
     ]
    },
    {
     "data": {
      "image/png": "[encoded data removed]",
      "text/plain": [
       "plot without title"
      ]
     },
     "metadata": {
      "image/png": {
       "height": 420,
       "width": 420
      },
      "text/plain": {
       "height": 420,
       "width": 420
      }
     },
     "output_type": "display_data"
    }
   ],
   "source": [
    "pdf<-data.frame(year=master_gr$year,uncorr=mdl1$x,corr=fitted(mdl1))\n",
    "ggplot(pdf,aes(x=year,y=uncorr)) + geom_point() + geom_line(aes(y=corr),color=\"blue\")"
   ]
  },
  {
   "cell_type": "markdown",
   "metadata": {},
   "source": [
    "## On the Fish cumulative covariate values explored\n",
    "Fish= Total Tonnes * Perc.134/100  \n",
    "Fish_cum3; 3 years cumulative, no weights  \n",
    "Fish_cum_8_9_1; 3 years cumulative, weights: 80%, 90% ,100%  \n",
    "Fish_cum_6_8_1; 3 years cumulative, weights: 60%, 80% ,100%  \n",
    "Fish_cum_75_1; 2 years cumulative, weights: 75%, 100%  \n",
    "Fish_cum2; 2 years cumulative, no weights  \n",
    "Fish_cum_5_1; 2 years cumulative, weights: 50%, 100%  \n",
    "Fish_cum_4_1; 2 years cumulative, weights: 40%, 100%  \n",
    "Fish_cum_2_1; 2 years cumulative, weights: 20%, 100%"
   ]
  },
  {
   "cell_type": "markdown",
   "metadata": {},
   "source": [
    "## A note on Chl and productivity\n",
    "Chl, and Productivity were not included in the saturated model, specially because how difficult is to give a rationale to link productivity with anything at the Ross Sea. Instead we will add them as last step in our models"
   ]
  },
  {
   "cell_type": "code",
   "execution_count": 14,
   "metadata": {},
   "outputs": [
    {
     "data": {
      "text/plain": [
       "\n",
       "\tSpearman's rank correlation rho\n",
       "\n",
       "data:  master_gr$nmSST_aw_RSP and master_gr$mnOW_RSP6\n",
       "S = 240, p-value = 0.008217\n",
       "alternative hypothesis: true rho is not equal to 0\n",
       "sample estimates:\n",
       "      rho \n",
       "0.6470588 \n"
      ]
     },
     "metadata": {},
     "output_type": "display_data"
    }
   ],
   "source": [
    "#correlation test\n",
    "test <- cor.test(master_gr$nmSST_aw_RSP, master_gr$mnOW_RSP6, method= \"spearman\")\n",
    "test"
   ]
  },
  {
   "cell_type": "markdown",
   "metadata": {},
   "source": [
    "#  Saturated model"
   ]
  },
  {
   "cell_type": "code",
   "execution_count": 15,
   "metadata": {},
   "outputs": [
    {
     "name": "stdout",
     "output_type": "stream",
     "text": [
      "Series: master_gr$growth_bird \n",
      "Regression with ARIMA(1,0,0) errors \n",
      "\n",
      "Coefficients:\n",
      "          ar1   av_SIE  GyreSPD  mnWind  nmSST_aw_RSP  mnAirTemp  Fish_cum3\n",
      "      -0.6729  -0.1237   0.0689  0.0907        1.0364     0.0882     0.0181\n",
      "s.e.   0.1807   0.2278   0.0540  0.1035        0.3169     0.0745     0.0059\n",
      "\n",
      "sigma^2 estimated as 0.06411:  log likelihood=3.73\n",
      "AIC=8.53   AICc=32.53   BIC=14.2\n",
      "\n",
      "Training set error measures:\n",
      "                       ME      RMSE       MAE      MPE     MAPE      MASE\n",
      "Training set -0.006792587 0.1849076 0.1625341 258.5535 313.9719 0.4594671\n",
      "                   ACF1\n",
      "Training set -0.3345306\n"
     ]
    }
   ],
   "source": [
    "#not including fish variable here, the model converges\n",
    "cov_sat_growth<-as.matrix(master_gr[,c(\"av_SIE\", \"GyreSPD\", \"mnWind\", \n",
    "                              \"nmSST_aw_RSP\",\"mnAirTemp\", \"Fish_cum3\")]) # , \"mnOW_RSP6\"\n",
    "mdlsat<-Arima(master_gr$growth_bird,order=c(1,0,0),include.mean=F,include.drift=F,xreg= cov_sat_growth)\n",
    "summary(mdlsat)"
   ]
  },
  {
   "cell_type": "code",
   "execution_count": 16,
   "metadata": {},
   "outputs": [
    {
     "data": {
      "text/plain": [
       "\n",
       "z test of coefficients:\n",
       "\n",
       "               Estimate Std. Error z value  Pr(>|z|)    \n",
       "ar1          -0.6728890  0.1807497 -3.7228 0.0001971 ***\n",
       "av_SIE       -0.1237250  0.2277894 -0.5432 0.5870229    \n",
       "GyreSPD       0.0688728  0.0539850  1.2758 0.2020340    \n",
       "mnWind        0.0907051  0.1035332  0.8761 0.3809778    \n",
       "nmSST_aw_RSP  1.0363849  0.3169204  3.2702 0.0010748 ** \n",
       "mnAirTemp     0.0882127  0.0744997  1.1841 0.2363861    \n",
       "Fish_cum3     0.0181283  0.0059063  3.0693 0.0021456 ** \n",
       "---\n",
       "Signif. codes:  0 ‘***’ 0.001 ‘**’ 0.01 ‘*’ 0.05 ‘.’ 0.1 ‘ ’ 1\n"
      ]
     },
     "metadata": {},
     "output_type": "display_data"
    }
   ],
   "source": [
    "coeftest(mdlsat)"
   ]
  },
  {
   "cell_type": "code",
   "execution_count": 17,
   "metadata": {},
   "outputs": [
    {
     "name": "stdout",
     "output_type": "stream",
     "text": [
      "Series: master_gr$growth_bird \n",
      "Regression with ARIMA(1,0,0) errors \n",
      "\n",
      "Coefficients:\n",
      "          ar1  SIE_lag4  GyreSPD  nmSST_aw_RSP  mnAirTemp  Fish_cum3\n",
      "      -0.7049   -0.0754   0.1150        0.9050     0.0365     0.0172\n",
      "s.e.   0.1707    0.1243   0.0431        0.2687     0.0492     0.0051\n",
      "\n",
      "sigma^2 estimated as 0.05819:  log likelihood=3.53\n",
      "AIC=6.93   AICc=22.93   BIC=11.89\n",
      "\n",
      "Training set error measures:\n",
      "                       ME      RMSE       MAE      MPE     MAPE     MASE\n",
      "Training set -0.006691498 0.1868518 0.1646763 246.3428 328.0506 0.465523\n",
      "                   ACF1\n",
      "Training set -0.4131653\n"
     ]
    }
   ],
   "source": [
    "#checking lag4\n",
    "cov_sat_growth<-as.matrix(master_gr[,c(\"SIE_lag4\", \"GyreSPD\",  \n",
    "                              \"nmSST_aw_RSP\",\"mnAirTemp\", \"Fish_cum3\")]) # , \"mnOW_RSP6\" \"Wind\"\n",
    "mdlsat<-Arima(master_gr$growth_bird,order=c(1,0,0),include.mean=F,include.drift=F,xreg= cov_sat_growth)\n",
    "summary(mdlsat)"
   ]
  },
  {
   "cell_type": "code",
   "execution_count": 18,
   "metadata": {},
   "outputs": [
    {
     "data": {
      "text/plain": [
       "\n",
       "z test of coefficients:\n",
       "\n",
       "               Estimate Std. Error z value  Pr(>|z|)    \n",
       "ar1          -0.7048788  0.1707186 -4.1289 3.645e-05 ***\n",
       "SIE_lag4     -0.0754335  0.1243425 -0.6067 0.5440772    \n",
       "GyreSPD       0.1150435  0.0431213  2.6679 0.0076325 ** \n",
       "nmSST_aw_RSP  0.9049828  0.2686853  3.3682 0.0007566 ***\n",
       "mnAirTemp     0.0364680  0.0492398  0.7406 0.4589235    \n",
       "Fish_cum3     0.0172379  0.0050754  3.3964 0.0006829 ***\n",
       "---\n",
       "Signif. codes:  0 ‘***’ 0.001 ‘**’ 0.01 ‘*’ 0.05 ‘.’ 0.1 ‘ ’ 1\n"
      ]
     },
     "metadata": {},
     "output_type": "display_data"
    }
   ],
   "source": [
    "coeftest(mdlsat) #lag 4 works better (lower AIC)"
   ]
  },
  {
   "cell_type": "code",
   "execution_count": 19,
   "metadata": {},
   "outputs": [
    {
     "name": "stdout",
     "output_type": "stream",
     "text": [
      "Series: master_gr$growth_bird \n",
      "Regression with ARIMA(1,0,0) errors \n",
      "\n",
      "Coefficients:\n",
      "          ar1  SIE_lag4  GyreSPD  nmSST_aw_RSP  mnAirTemp_lag5  Fish_cum3\n",
      "      -0.6832   -0.2400   0.1001        0.8894         -0.0780     0.0154\n",
      "s.e.   0.1792    0.1409   0.0409        0.2487          0.0502     0.0050\n",
      "\n",
      "sigma^2 estimated as 0.05203:  log likelihood=4.4\n",
      "AIC=5.19   AICc=21.19   BIC=10.15\n",
      "\n",
      "Training set error measures:\n",
      "                       ME      RMSE       MAE      MPE     MAPE      MASE\n",
      "Training set -0.005425016 0.1766789 0.1462036 140.9409 208.2059 0.4133023\n",
      "                   ACF1\n",
      "Training set -0.4268511\n"
     ]
    }
   ],
   "source": [
    "#checking lags\n",
    "cov_sat_growth<-as.matrix(master_gr[,c(\"SIE_lag4\", \"GyreSPD\",  \n",
    "                              \"nmSST_aw_RSP\",\"mnAirTemp_lag5\", \"Fish_cum3\")]) # , \"mnOW_RSP6\" \"Wind\"\n",
    "mdlsat<-Arima(master_gr$growth_bird,order=c(1,0,0),include.mean=F,include.drift=F,xreg= cov_sat_growth)\n",
    "summary(mdlsat)"
   ]
  },
  {
   "cell_type": "code",
   "execution_count": 20,
   "metadata": {},
   "outputs": [
    {
     "data": {
      "text/plain": [
       "\n",
       "z test of coefficients:\n",
       "\n",
       "                 Estimate Std. Error z value  Pr(>|z|)    \n",
       "ar1            -0.6832016  0.1792279 -3.8119 0.0001379 ***\n",
       "SIE_lag4       -0.2400229  0.1409316 -1.7031 0.0885464 .  \n",
       "GyreSPD         0.1000974  0.0408839  2.4483 0.0143518 *  \n",
       "nmSST_aw_RSP    0.8894151  0.2487017  3.5762 0.0003486 ***\n",
       "mnAirTemp_lag5 -0.0780456  0.0502313 -1.5537 0.1202500    \n",
       "Fish_cum3       0.0154363  0.0049507  3.1180 0.0018206 ** \n",
       "---\n",
       "Signif. codes:  0 ‘***’ 0.001 ‘**’ 0.01 ‘*’ 0.05 ‘.’ 0.1 ‘ ’ 1\n"
      ]
     },
     "metadata": {},
     "output_type": "display_data"
    }
   ],
   "source": [
    "coeftest(mdlsat)"
   ]
  },
  {
   "cell_type": "code",
   "execution_count": 21,
   "metadata": {},
   "outputs": [
    {
     "name": "stdout",
     "output_type": "stream",
     "text": [
      "Series: master_gr$growth_bird \n",
      "Regression with ARIMA(1,0,0) errors \n",
      "\n",
      "Coefficients:\n",
      "          ar1  SIE_lag4  GyreSPD  nmSST_aw_RSP  Fish_cum3\n",
      "      -0.6859   -0.1051   0.1078        0.9672     0.0169\n",
      "s.e.   0.1747    0.1208   0.0434        0.2614     0.0052\n",
      "\n",
      "sigma^2 estimated as 0.05444:  log likelihood=3.27\n",
      "AIC=5.46   AICc=15.96   BIC=9.71\n",
      "\n",
      "Training set error measures:\n",
      "                       ME      RMSE       MAE      MPE    MAPE      MASE\n",
      "Training set -0.006469898 0.1905096 0.1677245 160.6685 242.537 0.4741398\n",
      "                   ACF1\n",
      "Training set -0.4117844\n"
     ]
    }
   ],
   "source": [
    "#excluding AirTemp\n",
    "cov_sat_growth<-as.matrix(master_gr[,c(\"SIE_lag4\", \"GyreSPD\",  \n",
    "                              \"nmSST_aw_RSP\", \"Fish_cum3\")]) # , \"mnOW_RSP6\" \"Wind\" \"mnAirTemp_lag5\",\n",
    "mdlsat<-Arima(master_gr$growth_bird,order=c(1,0,0),include.mean=F,include.drift=F,xreg= cov_sat_growth)\n",
    "summary(mdlsat)"
   ]
  },
  {
   "cell_type": "code",
   "execution_count": 22,
   "metadata": {},
   "outputs": [
    {
     "data": {
      "text/plain": [
       "\n",
       "z test of coefficients:\n",
       "\n",
       "               Estimate Std. Error z value  Pr(>|z|)    \n",
       "ar1          -0.6858918  0.1746948 -3.9262 8.629e-05 ***\n",
       "SIE_lag4     -0.1050562  0.1207608 -0.8700  0.384326    \n",
       "GyreSPD       0.1077664  0.0433689  2.4849  0.012960 *  \n",
       "nmSST_aw_RSP  0.9671794  0.2614304  3.6996  0.000216 ***\n",
       "Fish_cum3     0.0168954  0.0052013  3.2483  0.001161 ** \n",
       "---\n",
       "Signif. codes:  0 ‘***’ 0.001 ‘**’ 0.01 ‘*’ 0.05 ‘.’ 0.1 ‘ ’ 1\n"
      ]
     },
     "metadata": {},
     "output_type": "display_data"
    }
   ],
   "source": [
    "coeftest(mdlsat)"
   ]
  },
  {
   "cell_type": "code",
   "execution_count": 23,
   "metadata": {},
   "outputs": [
    {
     "name": "stdout",
     "output_type": "stream",
     "text": [
      "Series: master_gr$growth_bird \n",
      "Regression with ARIMA(1,0,0) errors \n",
      "\n",
      "Coefficients:\n",
      "          ar1  GyreSPD  nmSST_aw_RSP  Fish_cum3\n",
      "      -0.6500   0.0752        1.0186     0.0150\n",
      "s.e.   0.1835   0.0237        0.2635     0.0049\n",
      "\n",
      "sigma^2 estimated as 0.05221:  log likelihood=2.91\n",
      "AIC=4.18   AICc=10.84   BIC=7.72\n",
      "\n",
      "Training set error measures:\n",
      "                       ME      RMSE       MAE      MPE     MAPE      MASE\n",
      "Training set -0.008244501 0.1956622 0.1736506 154.1912 242.9052 0.4908923\n",
      "                   ACF1\n",
      "Training set -0.3790451\n"
     ]
    }
   ],
   "source": [
    "#excluding SIE\n",
    "\n",
    "cov_sat_growth<-as.matrix(master_gr[,c(\"GyreSPD\",  \n",
    "                              \"nmSST_aw_RSP\", \"Fish_cum3\")]) # , \"mnOW_RSP6\" \"Wind\" \"mnAirTemp_lag5\",\n",
    "mdlsat<-Arima(master_gr$growth_bird,order=c(1,0,0),include.mean=F,include.drift=F,xreg= cov_sat_growth)\n",
    "summary(mdlsat)"
   ]
  },
  {
   "cell_type": "code",
   "execution_count": 24,
   "metadata": {},
   "outputs": [
    {
     "data": {
      "text/plain": [
       "\n",
       "z test of coefficients:\n",
       "\n",
       "               Estimate Std. Error z value  Pr(>|z|)    \n",
       "ar1          -0.6499574  0.1835489 -3.5411 0.0003985 ***\n",
       "GyreSPD       0.0752450  0.0236760  3.1781 0.0014824 ** \n",
       "nmSST_aw_RSP  1.0185891  0.2635459  3.8649 0.0001111 ***\n",
       "Fish_cum3     0.0149685  0.0049028  3.0530 0.0022653 ** \n",
       "---\n",
       "Signif. codes:  0 ‘***’ 0.001 ‘**’ 0.01 ‘*’ 0.05 ‘.’ 0.1 ‘ ’ 1\n"
      ]
     },
     "metadata": {},
     "output_type": "display_data"
    }
   ],
   "source": [
    "coeftest(mdlsat)"
   ]
  },
  {
   "cell_type": "code",
   "execution_count": 25,
   "metadata": {},
   "outputs": [
    {
     "name": "stdout",
     "output_type": "stream",
     "text": [
      "Series: master_gr$growth_bird \n",
      "Regression with ARIMA(1,0,0) errors \n",
      "\n",
      "Coefficients:\n",
      "          ar1  GyreSPD  OW_day_RSP  Fish_cum3\n",
      "      -0.5668   0.0238     -0.0217     0.0021\n",
      "s.e.   0.2323   0.0203      0.0092     0.0044\n",
      "\n",
      "sigma^2 estimated as 0.07498:  log likelihood=0.28\n",
      "AIC=9.44   AICc=16.11   BIC=12.98\n",
      "\n",
      "Training set error measures:\n",
      "                      ME      RMSE       MAE      MPE     MAPE      MASE\n",
      "Training set -0.01751903 0.2344854 0.1921342 148.4912 214.1854 0.5431436\n",
      "                   ACF1\n",
      "Training set -0.1230496\n"
     ]
    }
   ],
   "source": [
    "#including OW and OW_day\n",
    "\n",
    "cov_sat_growth<-as.matrix(master_gr[,c(\"GyreSPD\",  \n",
    "                              \"OW_day_RSP\", \"Fish_cum3\")]) # , \"mnOW_RSP6\" \"Wind\" \"mnAirTemp_lag5\",\n",
    "mdlsat<-Arima(master_gr$growth_bird,order=c(1,0,0),include.mean=F,include.drift=F,xreg= cov_sat_growth)\n",
    "summary(mdlsat)"
   ]
  },
  {
   "cell_type": "code",
   "execution_count": 26,
   "metadata": {},
   "outputs": [
    {
     "data": {
      "text/plain": [
       "\n",
       "z test of coefficients:\n",
       "\n",
       "             Estimate Std. Error z value Pr(>|z|)  \n",
       "ar1        -0.5667569  0.2322516 -2.4403  0.01468 *\n",
       "GyreSPD     0.0237828  0.0202541  1.1742  0.24031  \n",
       "OW_day_RSP -0.0217174  0.0091938 -2.3622  0.01817 *\n",
       "Fish_cum3   0.0021377  0.0043963  0.4863  0.62679  \n",
       "---\n",
       "Signif. codes:  0 ‘***’ 0.001 ‘**’ 0.01 ‘*’ 0.05 ‘.’ 0.1 ‘ ’ 1\n"
      ]
     },
     "metadata": {},
     "output_type": "display_data"
    }
   ],
   "source": [
    "coeftest(mdlsat)"
   ]
  },
  {
   "cell_type": "code",
   "execution_count": 27,
   "metadata": {},
   "outputs": [
    {
     "name": "stdout",
     "output_type": "stream",
     "text": [
      "Series: master_gr$growth_bird \n",
      "Regression with ARIMA(1,0,0) errors \n",
      "\n",
      "Coefficients:\n",
      "          ar1  GyreSPD  nmSST_aw_RSP  Fish_cum3  intP_RSP\n",
      "      -0.6511   0.0558        1.0389     0.0139    0.2898\n",
      "s.e.   0.1844   0.0416        0.2619     0.0052    0.5147\n",
      "\n",
      "sigma^2 estimated as 0.05623:  log likelihood=3.07\n",
      "AIC=5.86   AICc=16.36   BIC=10.11\n",
      "\n",
      "Training set error measures:\n",
      "                       ME      RMSE       MAE      MPE     MAPE      MASE\n",
      "Training set -0.009046641 0.1936102 0.1716363 114.6241 210.6973 0.4851981\n",
      "                   ACF1\n",
      "Training set -0.3906088\n"
     ]
    }
   ],
   "source": [
    "#Including Productivity (int_P) and Chl\n",
    "#BOTH \"non-significant\" and the model doesn't improve more than 2 AIC\n",
    "\n",
    "cov_sat_growth<-as.matrix(master_gr[,c(\"GyreSPD\",  \n",
    "                              \"nmSST_aw_RSP\", \"Fish_cum3\", \"intP_RSP\")]) # , \"mnOW_RSP6\" \"Wind\" \"mnAirTemp_lag5\",\n",
    "mdlsat<-Arima(master_gr$growth_bird,order=c(1,0,0),include.mean=F,include.drift=F,xreg= cov_sat_growth)\n",
    "summary(mdlsat)\n"
   ]
  },
  {
   "cell_type": "code",
   "execution_count": 28,
   "metadata": {},
   "outputs": [
    {
     "data": {
      "text/plain": [
       "\n",
       "z test of coefficients:\n",
       "\n",
       "               Estimate Std. Error z value  Pr(>|z|)    \n",
       "ar1          -0.6511474  0.1843733 -3.5317 0.0004129 ***\n",
       "GyreSPD       0.0558226  0.0416440  1.3405 0.1800917    \n",
       "nmSST_aw_RSP  1.0389330  0.2619006  3.9669 7.281e-05 ***\n",
       "Fish_cum3     0.0138870  0.0052152  2.6628 0.0077491 ** \n",
       "intP_RSP      0.2897679  0.5147116  0.5630 0.5734543    \n",
       "---\n",
       "Signif. codes:  0 ‘***’ 0.001 ‘**’ 0.01 ‘*’ 0.05 ‘.’ 0.1 ‘ ’ 1\n"
      ]
     },
     "metadata": {},
     "output_type": "display_data"
    }
   ],
   "source": [
    "coeftest(mdlsat)"
   ]
  },
  {
   "cell_type": "code",
   "execution_count": 29,
   "metadata": {},
   "outputs": [
    {
     "name": "stdout",
     "output_type": "stream",
     "text": [
      "Series: master_gr$growth_bird \n",
      "ARIMA(1,0,0) with zero mean \n",
      "\n",
      "Coefficients:\n",
      "          ar1\n",
      "      -0.3267\n",
      "s.e.   0.2626\n",
      "\n",
      "sigma^2 estimated as 0.07936:  log likelihood=-1.97\n",
      "AIC=7.95   AICc=8.87   BIC=9.49\n",
      "\n",
      "Training set error measures:\n",
      "                     ME      RMSE       MAE      MPE     MAPE      MASE\n",
      "Training set 0.04064371 0.2727634 0.1989666 79.78886 175.5433 0.5624579\n",
      "                    ACF1\n",
      "Training set -0.09217139\n"
     ]
    }
   ],
   "source": [
    "#INTERCEPT ONLY\n",
    "cov_sat_growth<-as.matrix(master_gr[,c(1)]) # , \"mnOW_RSP6\" \"Wind\" \"mnAirTemp_lag5\",\n",
    "mdlsat<-Arima(master_gr$growth_bird,order=c(1,0,0),include.mean=F,include.drift=F)\n",
    "summary(mdlsat)"
   ]
  },
  {
   "cell_type": "code",
   "execution_count": 30,
   "metadata": {},
   "outputs": [
    {
     "name": "stdout",
     "output_type": "stream",
     "text": [
      "Series: master_gr$growth_bird \n",
      "Regression with ARIMA(1,0,0) errors \n",
      "\n",
      "Coefficients:\n",
      "          ar1  GyreSPD  nmSST_aw_RSP  Fish_cum3\n",
      "      -0.6500   0.0752        1.0186     0.0150\n",
      "s.e.   0.1835   0.0237        0.2635     0.0049\n",
      "\n",
      "sigma^2 estimated as 0.05221:  log likelihood=2.91\n",
      "AIC=4.18   AICc=10.84   BIC=7.72\n",
      "\n",
      "Training set error measures:\n",
      "                       ME      RMSE       MAE      MPE     MAPE      MASE\n",
      "Training set -0.008244501 0.1956622 0.1736506 154.1912 242.9052 0.4908923\n",
      "                   ACF1\n",
      "Training set -0.3790451\n"
     ]
    }
   ],
   "source": [
    "#checking quadratics\n",
    "\n",
    "cov_sat_growth<-as.matrix(master_gr[,c(\"GyreSPD\",\"nmSST_aw_RSP\",\n",
    "                               \"Fish_cum3\")]) # , \"mnOW_RSP6\" \"Wind\" \"mnAirTemp_lag5\",\n",
    "mdlsat<-Arima(master_gr$growth_bird,order=c(1,0,0),include.mean=F,include.drift=F,xreg= cov_sat_growth)\n",
    "summary(mdlsat)"
   ]
  },
  {
   "cell_type": "code",
   "execution_count": 31,
   "metadata": {},
   "outputs": [
    {
     "name": "stderr",
     "output_type": "stream",
     "text": [
      "Warning message:\n",
      "“Removed 1 row(s) containing missing values (geom_path).”\n"
     ]
    },
    {
     "data": {
      "image/png": "[encoded data removed]",
      "text/plain": [
       "plot without title"
      ]
     },
     "metadata": {
      "image/png": {
       "height": 420,
       "width": 420
      },
      "text/plain": {
       "height": 420,
       "width": 420
      }
     },
     "output_type": "display_data"
    }
   ],
   "source": [
    "ggplot(master_gr,aes(x=year,y=Fish_cum3)) + geom_line()"
   ]
  },
  {
   "cell_type": "code",
   "execution_count": 32,
   "metadata": {},
   "outputs": [
    {
     "data": {
      "text/plain": [
       "\n",
       "z test of coefficients:\n",
       "\n",
       "               Estimate Std. Error z value  Pr(>|z|)    \n",
       "ar1          -0.6499574  0.1835489 -3.5411 0.0003985 ***\n",
       "GyreSPD       0.0752450  0.0236760  3.1781 0.0014824 ** \n",
       "nmSST_aw_RSP  1.0185891  0.2635459  3.8649 0.0001111 ***\n",
       "Fish_cum3     0.0149685  0.0049028  3.0530 0.0022653 ** \n",
       "---\n",
       "Signif. codes:  0 ‘***’ 0.001 ‘**’ 0.01 ‘*’ 0.05 ‘.’ 0.1 ‘ ’ 1\n"
      ]
     },
     "metadata": {},
     "output_type": "display_data"
    }
   ],
   "source": [
    "coeftest(mdlsat)"
   ]
  },
  {
   "cell_type": "code",
   "execution_count": 33,
   "metadata": {},
   "outputs": [
    {
     "name": "stdout",
     "output_type": "stream",
     "text": [
      "Series: master_gr$growth_bird \n",
      "Regression with ARIMA(1,0,0) errors \n",
      "\n",
      "Coefficients:\n",
      "          ar1  GyreSPD  nmSST_aw_RSP  Fish_cum_8_9_1\n",
      "      -0.6531   0.0740        1.0121          0.0167\n",
      "s.e.   0.1830   0.0235        0.2599          0.0054\n",
      "\n",
      "sigma^2 estimated as 0.05188:  log likelihood=2.95\n",
      "AIC=4.09   AICc=10.76   BIC=7.63\n",
      "\n",
      "Training set error measures:\n",
      "                       ME      RMSE       MAE      MPE     MAPE      MASE\n",
      "Training set -0.008484049 0.1950573 0.1739336 141.3941 233.8768 0.4916922\n",
      "                   ACF1\n",
      "Training set -0.3839082\n"
     ]
    }
   ],
   "source": [
    "#trying different Fish percentages\n",
    "#Fish_cum_8_9_1; 3 years cumulative, weights: 80%, 90% ,100%\n",
    "#Fish_cum_6_8_1; 3 years cumulative, weights: 60%, 80% ,100%\n",
    "#Fish_cum_75_1; 2 years cumulative, weights: 75%, 100%\n",
    "#Fish_cum2; 2 years cumulative, no weights\n",
    "#Fish_cum_5_1; 2 years cumulative, weights: 50%, 100%\n",
    "#Fish_cum_4_1; 2 years cumulative, weights: 40%, 100%\n",
    "#Fish_cum_2_1; 2 years cumulative, weights: 20%, 100%\n",
    "\n",
    "cov_sat_growth<-as.matrix(master_gr[,c(\"GyreSPD\",\"nmSST_aw_RSP\",\n",
    "                               \"Fish_cum_8_9_1\")]) # , \"mnOW_RSP6\" \"Wind\" \"mnAirTemp_lag5\",\n",
    "mdlsat<-Arima(master_gr$growth_bird,order=c(1,0,0),include.mean=F,include.drift=F,xreg= cov_sat_growth)\n",
    "summary(mdlsat)"
   ]
  },
  {
   "cell_type": "code",
   "execution_count": 34,
   "metadata": {},
   "outputs": [
    {
     "data": {
      "text/plain": [
       "\n",
       "z test of coefficients:\n",
       "\n",
       "                 Estimate Std. Error z value  Pr(>|z|)    \n",
       "ar1            -0.6530779  0.1830166 -3.5684 0.0003592 ***\n",
       "GyreSPD         0.0739812  0.0234722  3.1519 0.0016223 ** \n",
       "nmSST_aw_RSP    1.0120626  0.2599277  3.8936 9.875e-05 ***\n",
       "Fish_cum_8_9_1  0.0167324  0.0054291  3.0820 0.0020562 ** \n",
       "---\n",
       "Signif. codes:  0 ‘***’ 0.001 ‘**’ 0.01 ‘*’ 0.05 ‘.’ 0.1 ‘ ’ 1\n"
      ]
     },
     "metadata": {},
     "output_type": "display_data"
    }
   ],
   "source": [
    "coeftest(mdlsat)"
   ]
  },
  {
   "cell_type": "markdown",
   "metadata": {},
   "source": [
    "# Checking for correlations"
   ]
  },
  {
   "cell_type": "code",
   "execution_count": 35,
   "metadata": {},
   "outputs": [],
   "source": [
    "in_frame <- master_gr %>% select (mnSIE, SIE_lag4, GyreSPD, GyreSPD_lag4, mnWind, nmSST_aw_RSP, Fish_cum3, mnAirTemp_lag4, mnOW_RSP6)"
   ]
  },
  {
   "cell_type": "code",
   "execution_count": 36,
   "metadata": {},
   "outputs": [
    {
     "name": "stdout",
     "output_type": "stream",
     "text": [
      " var            vif             \n",
      " mnSIE          3.48912533964473\n",
      " SIE_lag4       1.29209707833953\n",
      " GyreSPD        1.45999149627741\n",
      " GyreSPD_lag4   4.13552701269627\n",
      " mnWind         2.13015574381001\n",
      " nmSST_aw_RSP   3.03392369839082\n",
      " Fish_cum3      2.5441985628858 \n",
      " mnAirTemp_lag4 1.55443767151115\n",
      " mnOW_RSP6      3.93049409584641\n",
      "\n",
      "All variables have VIF < 10, max VIF 4.14 \n",
      "\n"
     ]
    },
    {
     "data": {
      "text/html": [
       "<style>\n",
       ".list-inline {list-style: none; margin:0; padding: 0}\n",
       ".list-inline>li {display: inline-block}\n",
       ".list-inline>li:not(:last-child)::after {content: \"\\00b7\"; padding: 0 .5ex}\n",
       "</style>\n",
       "<ol class=list-inline><li>'mnSIE'</li><li>'SIE_lag4'</li><li>'GyreSPD'</li><li>'GyreSPD_lag4'</li><li>'mnWind'</li><li>'nmSST_aw_RSP'</li><li>'Fish_cum3'</li><li>'mnAirTemp_lag4'</li><li>'mnOW_RSP6'</li></ol>\n"
      ],
      "text/latex": [
       "\\begin{enumerate*}\n",
       "\\item 'mnSIE'\n",
       "\\item 'SIE\\_lag4'\n",
       "\\item 'GyreSPD'\n",
       "\\item 'GyreSPD\\_lag4'\n",
       "\\item 'mnWind'\n",
       "\\item 'nmSST\\_aw\\_RSP'\n",
       "\\item 'Fish\\_cum3'\n",
       "\\item 'mnAirTemp\\_lag4'\n",
       "\\item 'mnOW\\_RSP6'\n",
       "\\end{enumerate*}\n"
      ],
      "text/markdown": [
       "1. 'mnSIE'\n",
       "2. 'SIE_lag4'\n",
       "3. 'GyreSPD'\n",
       "4. 'GyreSPD_lag4'\n",
       "5. 'mnWind'\n",
       "6. 'nmSST_aw_RSP'\n",
       "7. 'Fish_cum3'\n",
       "8. 'mnAirTemp_lag4'\n",
       "9. 'mnOW_RSP6'\n",
       "\n",
       "\n"
      ],
      "text/plain": [
       "[1] \"mnSIE\"          \"SIE_lag4\"       \"GyreSPD\"        \"GyreSPD_lag4\"  \n",
       "[5] \"mnWind\"         \"nmSST_aw_RSP\"   \"Fish_cum3\"      \"mnAirTemp_lag4\"\n",
       "[9] \"mnOW_RSP6\"     "
      ]
     },
     "metadata": {},
     "output_type": "display_data"
    }
   ],
   "source": [
    "##### threshold at 10 (it’s equivalent to explaining 99% of the information in a variable by the set of the other covariates).\n",
    "\n",
    "#select covariates based on variance inflation\n",
    "\n",
    "vif_func<-function(in_frame,thresh=10,trace=T,...){\n",
    "  \n",
    "  \n",
    "  \n",
    "  if(class(in_frame) != 'data.frame') in_frame<-data.frame(in_frame)\n",
    "  \n",
    "  \n",
    "  \n",
    "  #get initial vif value for all comparisons of variables\n",
    "  \n",
    "  vif_init<-NULL\n",
    "  \n",
    "  var_names <- names(in_frame)\n",
    "  \n",
    "  for(val in var_names){\n",
    "    \n",
    "    regressors <- var_names[-which(var_names == val)]\n",
    "    \n",
    "    form <- paste(regressors, collapse = '+')\n",
    "    \n",
    "    form_in <- formula(paste(val, '~', form))\n",
    "    \n",
    "    vif_init<-rbind(vif_init, c(val, VIF(lm(form_in, data = in_frame, ...))))\n",
    "    \n",
    "  }\n",
    "  \n",
    "  vif_max<-max(as.numeric(vif_init[,2]), na.rm = TRUE)\n",
    "  \n",
    "  \n",
    "  \n",
    "  if(vif_max < thresh){\n",
    "    \n",
    "    if(trace==T){ #print output of each iteration\n",
    "      \n",
    "      prmatrix(vif_init,collab=c('var','vif'),rowlab=rep('',nrow(vif_init)),quote=F)\n",
    "      \n",
    "      cat('\\n')\n",
    "      \n",
    "      cat(paste('All variables have VIF < ', thresh,', max VIF ',round(vif_max,2), sep=''),'\\n\\n')\n",
    "      \n",
    "    }\n",
    "    \n",
    "    return(var_names)\n",
    "    \n",
    "  }\n",
    "  \n",
    "  else{\n",
    "    \n",
    "    \n",
    "    \n",
    "    in_dat<-in_frame\n",
    "    \n",
    "    \n",
    "    \n",
    "    #backwards selection of explanatory variables, stops when all VIF values are below 'thresh'\n",
    "    \n",
    "    while(vif_max >= thresh){\n",
    "      \n",
    "      \n",
    "      \n",
    "      vif_vals<-NULL\n",
    "      \n",
    "      var_names <- names(in_dat)\n",
    "      \n",
    "      \n",
    "      \n",
    "      for(val in var_names){\n",
    "        \n",
    "        regressors <- var_names[-which(var_names == val)]\n",
    "        \n",
    "        form <- paste(regressors, collapse = '+')\n",
    "        \n",
    "        form_in <- formula(paste(val, '~', form))\n",
    "        \n",
    "        vif_add<-VIF(lm(form_in, data = in_dat, ...))\n",
    "        \n",
    "        vif_vals<-rbind(vif_vals,c(val,vif_add))\n",
    "        \n",
    "      }\n",
    "      \n",
    "      max_row<-which(vif_vals[,2] == max(as.numeric(vif_vals[,2]), na.rm = TRUE))[1]\n",
    "      \n",
    "      \n",
    "      \n",
    "      vif_max<-as.numeric(vif_vals[max_row,2])\n",
    "      \n",
    "      \n",
    "      \n",
    "      if(vif_max<thresh) break\n",
    "      \n",
    "      \n",
    "      \n",
    "      if(trace==T){ #print output of each iteration\n",
    "        \n",
    "        prmatrix(vif_vals,collab=c('var','vif'),rowlab=rep('',nrow(vif_vals)),quote=F)\n",
    "        \n",
    "        cat('\\n')\n",
    "        \n",
    "        cat('removed: ',vif_vals[max_row,1],vif_max,'\\n\\n')\n",
    "        \n",
    "        flush.console()\n",
    "        \n",
    "      }\n",
    "      \n",
    "      \n",
    "      \n",
    "      in_dat<-in_dat[,!names(in_dat) %in% vif_vals[max_row,1]]\n",
    "      \n",
    "      \n",
    "      \n",
    "    }\n",
    "    \n",
    "    \n",
    "    \n",
    "    return(names(in_dat))\n",
    "    \n",
    "    \n",
    "    \n",
    "  }\n",
    "  \n",
    "  \n",
    "  \n",
    "}\n",
    "  \n",
    "vif_func(in_frame,thresh=10,trace=T)"
   ]
  },
  {
   "cell_type": "code",
   "execution_count": 37,
   "metadata": {},
   "outputs": [],
   "source": [
    "in_frame <- master_gr %>% select (av_SIE,  GyreSPD, \n",
    "                              nmSST_aw_MCM,mnAirTemp, mnOW_MCM6)\n",
    "                                       "
   ]
  },
  {
   "cell_type": "code",
   "execution_count": 38,
   "metadata": {},
   "outputs": [
    {
     "name": "stdout",
     "output_type": "stream",
     "text": [
      " var          vif             \n",
      " av_SIE       1.24852898622836\n",
      " GyreSPD      1.45957395948617\n",
      " nmSST_aw_MCM 2.8635748483502 \n",
      " mnAirTemp    1.40144130370279\n",
      " mnOW_MCM6    2.61345375360445\n",
      "\n",
      "All variables have VIF < 10, max VIF 2.86 \n",
      "\n"
     ]
    },
    {
     "data": {
      "text/html": [
       "<style>\n",
       ".list-inline {list-style: none; margin:0; padding: 0}\n",
       ".list-inline>li {display: inline-block}\n",
       ".list-inline>li:not(:last-child)::after {content: \"\\00b7\"; padding: 0 .5ex}\n",
       "</style>\n",
       "<ol class=list-inline><li>'av_SIE'</li><li>'GyreSPD'</li><li>'nmSST_aw_MCM'</li><li>'mnAirTemp'</li><li>'mnOW_MCM6'</li></ol>\n"
      ],
      "text/latex": [
       "\\begin{enumerate*}\n",
       "\\item 'av\\_SIE'\n",
       "\\item 'GyreSPD'\n",
       "\\item 'nmSST\\_aw\\_MCM'\n",
       "\\item 'mnAirTemp'\n",
       "\\item 'mnOW\\_MCM6'\n",
       "\\end{enumerate*}\n"
      ],
      "text/markdown": [
       "1. 'av_SIE'\n",
       "2. 'GyreSPD'\n",
       "3. 'nmSST_aw_MCM'\n",
       "4. 'mnAirTemp'\n",
       "5. 'mnOW_MCM6'\n",
       "\n",
       "\n"
      ],
      "text/plain": [
       "[1] \"av_SIE\"       \"GyreSPD\"      \"nmSST_aw_MCM\" \"mnAirTemp\"    \"mnOW_MCM6\"   "
      ]
     },
     "metadata": {},
     "output_type": "display_data"
    }
   ],
   "source": [
    "vif_func(in_frame,thresh=10,trace=T)"
   ]
  },
  {
   "cell_type": "markdown",
   "metadata": {},
   "source": [
    "# Saturated model with MCM Sound variables"
   ]
  },
  {
   "cell_type": "code",
   "execution_count": 39,
   "metadata": {},
   "outputs": [
    {
     "name": "stdout",
     "output_type": "stream",
     "text": [
      "Series: master_gr$growth_bird \n",
      "Regression with ARIMA(1,0,0) errors \n",
      "\n",
      "Coefficients:\n",
      "          ar1  av_SIE  SIE_lag5  GyreSPD  GyreSPD_lag5  nmSST_aw_MCM  mnAirTemp\n",
      "      -0.5746  0.0547   -0.2184   0.0883       -0.0492       -0.1102     0.0441\n",
      "s.e.   0.4178  0.5746    0.4464   0.1606        0.2232        0.6741     0.1086\n",
      "      mnOW_MCM6\n",
      "       102.3409\n",
      "s.e.   102.6245\n",
      "\n",
      "sigma^2 estimated as 0.1383:  log likelihood=-0.93\n",
      "AIC=19.86   AICc=55.86   BIC=26.24\n",
      "\n",
      "Training set error measures:\n",
      "                      ME      RMSE       MAE      MPE     MAPE      MASE\n",
      "Training set -0.02111401 0.2540645 0.1845584 101.5407 129.5188 0.5217276\n",
      "                    ACF1\n",
      "Training set 0.007010494\n"
     ]
    }
   ],
   "source": [
    "#Including Mcm Sound variables \n",
    "cov_sat_growth<-as.matrix(master_gr[,c(\"av_SIE\", \"SIE_lag5\", \"GyreSPD\", \"GyreSPD_lag5\",\n",
    "                              \"nmSST_aw_MCM\",\"mnAirTemp\", \"mnOW_MCM6\")]) # \"mnWind\",  \n",
    "mdlsat<-Arima(master_gr$growth_bird,order=c(1,0,0),include.mean=F,include.drift=F,xreg= cov_sat_growth)\n",
    "summary(mdlsat)"
   ]
  },
  {
   "cell_type": "code",
   "execution_count": 40,
   "metadata": {},
   "outputs": [
    {
     "data": {
      "text/plain": [
       "\n",
       "z test of coefficients:\n",
       "\n",
       "               Estimate Std. Error z value Pr(>|z|)\n",
       "ar1           -0.574602   0.417775 -1.3754   0.1690\n",
       "av_SIE         0.054726   0.574650  0.0952   0.9241\n",
       "SIE_lag5      -0.218363   0.446423 -0.4891   0.6247\n",
       "GyreSPD        0.088287   0.160553  0.5499   0.5824\n",
       "GyreSPD_lag5  -0.049241   0.223200 -0.2206   0.8254\n",
       "nmSST_aw_MCM  -0.110166   0.674114 -0.1634   0.8702\n",
       "mnAirTemp      0.044094   0.108592  0.4061   0.6847\n",
       "mnOW_MCM6    102.340934 102.624485  0.9972   0.3186\n"
      ]
     },
     "metadata": {},
     "output_type": "display_data"
    }
   ],
   "source": [
    "coeftest(mdlsat) #model works better with RSP variables, non of the MCM variables shows up as significant"
   ]
  },
  {
   "cell_type": "code",
   "execution_count": 41,
   "metadata": {},
   "outputs": [
    {
     "name": "stdout",
     "output_type": "stream",
     "text": [
      "Series: master_gr$growth_bird \n",
      "Regression with ARIMA(1,0,0) errors \n",
      "\n",
      "Coefficients:\n",
      "          ar1  GyreSPD_lag4  nmSST_aw_MCM  Fish_cum_75_1\n",
      "      -0.4011       -0.0050        0.0494         0.0085\n",
      "s.e.   0.2583        0.0406        0.2372         0.0115\n",
      "\n",
      "sigma^2 estimated as 0.09119:  log likelihood=-1.33\n",
      "AIC=12.66   AICc=18.66   BIC=16.52\n",
      "\n",
      "Training set error measures:\n",
      "                      ME      RMSE       MAE       MPE     MAPE      MASE\n",
      "Training set -0.01584543 0.2615222 0.2010207 -118.2566 318.5518 0.5682647\n",
      "                    ACF1\n",
      "Training set -0.09702973\n"
     ]
    }
   ],
   "source": [
    "#best model, including MCM variable\n",
    "cov_sat_growth<-as.matrix(master_gr[,c(\"GyreSPD_lag4\",\n",
    "                                       \"nmSST_aw_MCM\", \"Fish_cum_75_1\" )])\n",
    "mdlsat<-Arima(master_gr$growth_bird,order=c(1,0,0),include.mean=F,include.drift=F,xreg= cov_sat_growth)\n",
    "summary(mdlsat)"
   ]
  },
  {
   "cell_type": "code",
   "execution_count": 42,
   "metadata": {},
   "outputs": [
    {
     "data": {
      "text/plain": [
       "\n",
       "z test of coefficients:\n",
       "\n",
       "                Estimate Std. Error z value Pr(>|z|)\n",
       "ar1           -0.4010874  0.2582506 -1.5531   0.1204\n",
       "GyreSPD_lag4  -0.0050085  0.0405796 -0.1234   0.9018\n",
       "nmSST_aw_MCM   0.0493760  0.2371689  0.2082   0.8351\n",
       "Fish_cum_75_1  0.0084735  0.0114837  0.7379   0.4606\n"
      ]
     },
     "metadata": {},
     "output_type": "display_data"
    }
   ],
   "source": [
    "coeftest(mdlsat) #model is worse than when including SST_RSP"
   ]
  },
  {
   "cell_type": "markdown",
   "metadata": {},
   "source": [
    "# EXPLORING QUADRATICS"
   ]
  },
  {
   "cell_type": "code",
   "execution_count": 43,
   "metadata": {},
   "outputs": [
    {
     "name": "stdout",
     "output_type": "stream",
     "text": [
      "Series: master_gr$growth_bird \n",
      "Regression with ARIMA(1,0,0) errors \n",
      "\n",
      "Coefficients:\n",
      "          ar1  GyreSPD_lag4_2  nmSST_aw_RSP  Fish_cum_2_1\n",
      "      -0.4608          0.0099        0.8561        0.0315\n",
      "s.e.   0.2245          0.0040        0.2461        0.0119\n",
      "\n",
      "sigma^2 estimated as 0.05181:  log likelihood=3.16\n",
      "AIC=3.68   AICc=9.68   BIC=7.54\n",
      "\n",
      "Training set error measures:\n",
      "                        ME      RMSE       MAE      MPE     MAPE      MASE\n",
      "Training set -0.0003004799 0.1971315 0.1635126 -123.256 288.6025 0.4622333\n",
      "                   ACF1\n",
      "Training set -0.1215038\n"
     ]
    }
   ],
   "source": [
    "# Including quadratics in the best model one at the time\n",
    "#Gyre quadratic\n",
    "cov_sat_growth<-as.matrix(master_gr[,c(\"GyreSPD_lag4_2\",\n",
    "                                       \"nmSST_aw_RSP\", \"Fish_cum_2_1\" )])\n",
    "mdlsat<-Arima(master_gr$growth_bird,order=c(1,0,0),include.mean=F,include.drift=F,xreg= cov_sat_growth)\n",
    "summary(mdlsat)"
   ]
  },
  {
   "cell_type": "code",
   "execution_count": 44,
   "metadata": {},
   "outputs": [
    {
     "name": "stdout",
     "output_type": "stream",
     "text": [
      "Series: master_gr$growth_bird \n",
      "Regression with ARIMA(1,0,0) errors \n",
      "\n",
      "Coefficients:\n",
      "          ar1  GyreSPD_lag4  nmSST_aw_RSP_2  Fish_cum_2_1\n",
      "      -0.5710        0.0328         -0.6352        0.0265\n",
      "s.e.   0.2013        0.0232          0.1953        0.0117\n",
      "\n",
      "sigma^2 estimated as 0.05492:  log likelihood=2.62\n",
      "AIC=4.77   AICc=10.77   BIC=8.63\n",
      "\n",
      "Training set error measures:\n",
      "                      ME      RMSE       MAE       MPE     MAPE      MASE\n",
      "Training set -0.01229286 0.2029472 0.1755135 -11.11559 202.6608 0.4961584\n",
      "                   ACF1\n",
      "Training set -0.2262618\n"
     ]
    }
   ],
   "source": [
    "#SST quadratic\n",
    "cov_sat_growth<-as.matrix(master_gr[,c(\"GyreSPD_lag4\",\n",
    "                                       \"nmSST_aw_RSP_2\", \"Fish_cum_2_1\" )])\n",
    "mdlsat<-Arima(master_gr$growth_bird,order=c(1,0,0),include.mean=F,include.drift=F,xreg= cov_sat_growth)\n",
    "summary(mdlsat)"
   ]
  },
  {
   "cell_type": "code",
   "execution_count": 45,
   "metadata": {},
   "outputs": [
    {
     "name": "stdout",
     "output_type": "stream",
     "text": [
      "Series: master_gr$growth_bird \n",
      "Regression with ARIMA(1,0,0) errors \n",
      "\n",
      "Coefficients:\n",
      "          ar1  GyreSPD_lag4_2  nmSST_aw_RSP  Fish_cum_2_1_cuad\n",
      "      -0.3984          0.0112        0.7327             0.0014\n",
      "s.e.   0.2341          0.0042        0.2430             0.0007\n",
      "\n",
      "sigma^2 estimated as 0.0575:  log likelihood=2.36\n",
      "AIC=5.28   AICc=11.28   BIC=9.14\n",
      "\n",
      "Training set error measures:\n",
      "                      ME     RMSE       MAE       MPE     MAPE      MASE\n",
      "Training set 0.003000722 0.207665 0.1769279 -144.5716 330.5234 0.5001569\n",
      "                    ACF1\n",
      "Training set -0.08536666\n"
     ]
    }
   ],
   "source": [
    "#FISH quadratic\n",
    "master_gr$Fish_cum_2_1_cuad<- master_gr$Fish_cum_2_1^2\n",
    "cov_sat_growth<-as.matrix(master_gr[,c(\"GyreSPD_lag4_2\",\n",
    "                                       \"nmSST_aw_RSP\", \"Fish_cum_2_1_cuad\" )])\n",
    "mdlsat<-Arima(master_gr$growth_bird,order=c(1,0,0),include.mean=F,include.drift=F,xreg= cov_sat_growth)\n",
    "summary(mdlsat)"
   ]
  },
  {
   "cell_type": "code",
   "execution_count": 46,
   "metadata": {},
   "outputs": [
    {
     "name": "stdout",
     "output_type": "stream",
     "text": [
      "Series: master_gr$growth_bird \n",
      "Regression with ARIMA(1,0,0) errors \n",
      "\n",
      "Coefficients:\n",
      "          ar1  GyreSPD_lag4  nmSST_aw_RSP  Fish_cum_2_1  mnAirTemp_2\n",
      "      -0.6321        0.1226        0.9666          0.03      -0.0093\n",
      "s.e.   0.1961        0.0358        0.2519          0.01       0.0054\n",
      "\n",
      "sigma^2 estimated as 0.04614:  log likelihood=4.65\n",
      "AIC=2.7   AICc=12.04   BIC=7.34\n",
      "\n",
      "Training set error measures:\n",
      "                       ME      RMSE       MAE     MPE     MAPE      MASE\n",
      "Training set -0.007889949 0.1780969 0.1356197 109.765 241.1175 0.3833829\n",
      "                   ACF1\n",
      "Training set -0.1999623\n"
     ]
    }
   ],
   "source": [
    "# Checking ALL the cuadratic effects\n",
    "#\"av_SIE\", \"SIE_lag5\", \"GyreSPD\", \"GyreSPD_lag5\",\"nmSST_aw_RSP\",\"mnAirTemp\", \"mnOW_RSP6\"\n",
    "\n",
    "cov_sat_growth<-as.matrix(master_gr[,c(\"GyreSPD_lag4\",\n",
    "                                       \"nmSST_aw_RSP\", \"Fish_cum_2_1\", \"mnAirTemp_2\")]) #\"av_SIE\", \"SIE_lag4\"\n",
    "best_mdlsat<-Arima(master_gr$growth_bird,order=c(1,0,0),include.mean=F,include.drift=F,xreg= cov_sat_growth)\n",
    "summary(best_mdlsat)"
   ]
  },
  {
   "cell_type": "code",
   "execution_count": 47,
   "metadata": {},
   "outputs": [
    {
     "data": {
      "text/plain": [
       "\n",
       "z test of coefficients:\n",
       "\n",
       "               Estimate Std. Error z value  Pr(>|z|)    \n",
       "ar1          -0.6321113  0.1961368 -3.2228 0.0012694 ** \n",
       "GyreSPD_lag4  0.1226208  0.0358098  3.4242 0.0006166 ***\n",
       "nmSST_aw_RSP  0.9665783  0.2518630  3.8377 0.0001242 ***\n",
       "Fish_cum_2_1  0.0299553  0.0100465  2.9817 0.0028667 ** \n",
       "mnAirTemp_2  -0.0093309  0.0053971 -1.7289 0.0838318 .  \n",
       "---\n",
       "Signif. codes:  0 ‘***’ 0.001 ‘**’ 0.01 ‘*’ 0.05 ‘.’ 0.1 ‘ ’ 1\n"
      ]
     },
     "metadata": {},
     "output_type": "display_data"
    }
   ],
   "source": [
    "coeftest(best_mdlsat)"
   ]
  },
  {
   "cell_type": "code",
   "execution_count": 48,
   "metadata": {},
   "outputs": [
    {
     "name": "stdout",
     "output_type": "stream",
     "text": [
      "Series: master_gr$growth_bird \n",
      "Regression with ARIMA(1,0,0) errors \n",
      "\n",
      "Coefficients:\n",
      "          ar1  SIE_lag4  mnAirTemp  mnAirTemp_2  Fish_cum_2_1\n",
      "      -0.5665   -0.1674    -0.2289      -0.0308        0.0186\n",
      "s.e.   0.2740    0.3439     0.4203       0.0446        0.0139\n",
      "\n",
      "sigma^2 estimated as 0.08958:  log likelihood=-0.6\n",
      "AIC=13.2   AICc=22.53   BIC=17.83\n",
      "\n",
      "Training set error measures:\n",
      "                      ME      RMSE       MAE     MPE     MAPE      MASE\n",
      "Training set -0.01777128 0.2481664 0.1663997 8.10734 158.0066 0.4703947\n",
      "                   ACF1\n",
      "Training set -0.0876541\n"
     ]
    }
   ],
   "source": [
    "cov_sat_growth<-as.matrix(master_gr[,c(\"SIE_lag4\", \"mnAirTemp\", \"mnAirTemp_2\",\n",
    "                                        \"Fish_cum_2_1\")]) #\"av_SIE\", \"SIE_lag4\" ,\"nmSST_aw_RSP\", \"nmSST_aw_RSP_2\", \"mnAirTemp\", \"mnAirTemp_2\" \"GyreSPD_lag4\",\n",
    "best_mdlsat<-Arima(master_gr$growth_bird,order=c(1,0,0),include.mean=F,include.drift=F,xreg= cov_sat_growth)\n",
    "summary(best_mdlsat)"
   ]
  },
  {
   "cell_type": "code",
   "execution_count": 49,
   "metadata": {},
   "outputs": [
    {
     "data": {
      "text/plain": [
       "\n",
       "z test of coefficients:\n",
       "\n",
       "              Estimate Std. Error z value Pr(>|z|)  \n",
       "ar1          -0.566515   0.273987 -2.0677  0.03867 *\n",
       "SIE_lag4     -0.167362   0.343856 -0.4867  0.62646  \n",
       "mnAirTemp    -0.228866   0.420342 -0.5445  0.58611  \n",
       "mnAirTemp_2  -0.030809   0.044615 -0.6905  0.48985  \n",
       "Fish_cum_2_1  0.018567   0.013928  1.3331  0.18250  \n",
       "---\n",
       "Signif. codes:  0 ‘***’ 0.001 ‘**’ 0.01 ‘*’ 0.05 ‘.’ 0.1 ‘ ’ 1\n"
      ]
     },
     "metadata": {},
     "output_type": "display_data"
    }
   ],
   "source": [
    "coeftest(best_mdlsat)"
   ]
  },
  {
   "cell_type": "code",
   "execution_count": 50,
   "metadata": {},
   "outputs": [
    {
     "name": "stdout",
     "output_type": "stream",
     "text": [
      "Series: master_gr$growth_bird \n",
      "Regression with ARIMA(1,0,0) errors \n",
      "\n",
      "Coefficients:\n",
      "          ar1  SIE_lag4  nmSST_aw_RSP_lag5  Fish_cum_2_1  mnAirTemp_2\n",
      "      -0.5322    0.0723             0.2377        0.0159      -0.0047\n",
      "s.e.   0.2599    0.1132             0.3623        0.0145       0.0073\n",
      "\n",
      "sigma^2 estimated as 0.08908:  log likelihood=-0.53\n",
      "AIC=13.05   AICc=22.39   BIC=17.69\n",
      "\n",
      "Training set error measures:\n",
      "                      ME      RMSE       MAE       MPE     MAPE      MASE\n",
      "Training set -0.01607133 0.2474783 0.1807961 -69.05044 219.2462 0.5110918\n",
      "                    ACF1\n",
      "Training set -0.07967743\n"
     ]
    }
   ],
   "source": [
    "cov_sat_growth<-as.matrix(master_gr[,c(\"SIE_lag4\",\n",
    "                                       \"nmSST_aw_RSP_lag5\", \"Fish_cum_2_1\", \"mnAirTemp_2\")]) #\"av_SIE\", \"SIE_lag4\"\n",
    "best_mdlsat<-Arima(master_gr$growth_bird,order=c(1,0,0),include.mean=F,include.drift=F,xreg= cov_sat_growth)\n",
    "summary(best_mdlsat)"
   ]
  },
  {
   "cell_type": "code",
   "execution_count": 51,
   "metadata": {},
   "outputs": [
    {
     "data": {
      "text/plain": [
       "\n",
       "z test of coefficients:\n",
       "\n",
       "                    Estimate Std. Error z value Pr(>|z|)  \n",
       "ar1               -0.5321724  0.2598758 -2.0478  0.04058 *\n",
       "SIE_lag4           0.0723112  0.1131952  0.6388  0.52294  \n",
       "nmSST_aw_RSP_lag5  0.2377270  0.3622629  0.6562  0.51168  \n",
       "Fish_cum_2_1       0.0159186  0.0144981  1.0980  0.27221  \n",
       "mnAirTemp_2       -0.0046832  0.0073014 -0.6414  0.52126  \n",
       "---\n",
       "Signif. codes:  0 ‘***’ 0.001 ‘**’ 0.01 ‘*’ 0.05 ‘.’ 0.1 ‘ ’ 1\n"
      ]
     },
     "metadata": {},
     "output_type": "display_data"
    }
   ],
   "source": [
    "coeftest(best_mdlsat)"
   ]
  },
  {
   "cell_type": "code",
   "execution_count": 52,
   "metadata": {},
   "outputs": [
    {
     "name": "stdout",
     "output_type": "stream",
     "text": [
      "Series: master_gr$growth_bird \n",
      "Regression with ARIMA(1,0,0) errors \n",
      "\n",
      "Coefficients:\n",
      "          ar1  GyreSPD_lag4  nmSST_aw_RSP  Fish_cum_2_1  mnAirTemp_2\n",
      "      -0.6321        0.1226        0.9666          0.03      -0.0093\n",
      "s.e.   0.1961        0.0358        0.2519          0.01       0.0054\n",
      "\n",
      "sigma^2 estimated as 0.04614:  log likelihood=4.65\n",
      "AIC=2.7   AICc=12.04   BIC=7.34\n",
      "\n",
      "Training set error measures:\n",
      "                       ME      RMSE       MAE     MPE     MAPE      MASE\n",
      "Training set -0.007889949 0.1780969 0.1356197 109.765 241.1175 0.3833829\n",
      "                   ACF1\n",
      "Training set -0.1999623\n"
     ]
    }
   ],
   "source": [
    "cov_sat_growth<-as.matrix(master_gr[,c(\"GyreSPD_lag4\", \"nmSST_aw_RSP\",\n",
    "                                        \"Fish_cum_2_1\", \"mnAirTemp_2\")]) \n",
    "best_mdlsat<-Arima(master_gr$growth_bird,order=c(1,0,0),include.mean=F,include.drift=F,xreg= cov_sat_growth)\n",
    "summary(best_mdlsat)"
   ]
  },
  {
   "cell_type": "code",
   "execution_count": 53,
   "metadata": {},
   "outputs": [
    {
     "data": {
      "text/plain": [
       "\n",
       "z test of coefficients:\n",
       "\n",
       "               Estimate Std. Error z value  Pr(>|z|)    \n",
       "ar1          -0.6321113  0.1961368 -3.2228 0.0012694 ** \n",
       "GyreSPD_lag4  0.1226208  0.0358098  3.4242 0.0006166 ***\n",
       "nmSST_aw_RSP  0.9665783  0.2518630  3.8377 0.0001242 ***\n",
       "Fish_cum_2_1  0.0299553  0.0100465  2.9817 0.0028667 ** \n",
       "mnAirTemp_2  -0.0093309  0.0053971 -1.7289 0.0838318 .  \n",
       "---\n",
       "Signif. codes:  0 ‘***’ 0.001 ‘**’ 0.01 ‘*’ 0.05 ‘.’ 0.1 ‘ ’ 1\n"
      ]
     },
     "metadata": {},
     "output_type": "display_data"
    }
   ],
   "source": [
    "coeftest(best_mdlsat)"
   ]
  },
  {
   "cell_type": "code",
   "execution_count": 54,
   "metadata": {},
   "outputs": [
    {
     "name": "stdout",
     "output_type": "stream",
     "text": [
      "Series: master_gr$growth_bird \n",
      "Regression with ARIMA(1,0,0) errors \n",
      "\n",
      "Coefficients:\n",
      "          ar1  GyreSPD_lag4  nmSST_aw_RSP  Fish_cum_2_1\n",
      "      -0.5471        0.0887        1.0049        0.0285\n",
      "s.e.   0.2056        0.0335        0.2789        0.0114\n",
      "\n",
      "sigma^2 estimated as 0.05024:  log likelihood=3.35\n",
      "AIC=3.3   AICc=9.3   BIC=7.17\n",
      "\n",
      "Training set error measures:\n",
      "                       ME      RMSE       MAE       MPE     MAPE      MASE\n",
      "Training set -0.006911186 0.1941061 0.1628323 -55.68562 239.8937 0.4603101\n",
      "                   ACF1\n",
      "Training set -0.2108959\n"
     ]
    }
   ],
   "source": [
    "cov_sat_growth<-as.matrix(master_gr[,c(\"GyreSPD_lag4\", \"nmSST_aw_RSP\",\n",
    "                                        \"Fish_cum_2_1\")]) # \"mnAirTemp_2\"\n",
    "best_mdlsat<-Arima(master_gr$growth_bird,order=c(1,0,0),include.mean=F,include.drift=F,xreg= cov_sat_growth)\n",
    "summary(best_mdlsat)"
   ]
  },
  {
   "cell_type": "code",
   "execution_count": 55,
   "metadata": {},
   "outputs": [
    {
     "data": {
      "text/plain": [
       "\n",
       "z test of coefficients:\n",
       "\n",
       "              Estimate Std. Error z value  Pr(>|z|)    \n",
       "ar1          -0.547149   0.205641 -2.6607 0.0077978 ** \n",
       "GyreSPD_lag4  0.088693   0.033460  2.6507 0.0080314 ** \n",
       "nmSST_aw_RSP  1.004900   0.278923  3.6028 0.0003148 ***\n",
       "Fish_cum_2_1  0.028475   0.011399  2.4980 0.0124888 *  \n",
       "---\n",
       "Signif. codes:  0 ‘***’ 0.001 ‘**’ 0.01 ‘*’ 0.05 ‘.’ 0.1 ‘ ’ 1\n"
      ]
     },
     "metadata": {},
     "output_type": "display_data"
    }
   ],
   "source": [
    "coeftest(best_mdlsat)"
   ]
  },
  {
   "cell_type": "markdown",
   "metadata": {},
   "source": [
    "# PLOT"
   ]
  },
  {
   "cell_type": "code",
   "execution_count": 56,
   "metadata": {},
   "outputs": [],
   "source": [
    "best_mdlsat.res = resid(best_mdlsat)"
   ]
  },
  {
   "cell_type": "markdown",
   "metadata": {},
   "source": [
    "# Residuals against the observed values of the variables"
   ]
  },
  {
   "cell_type": "code",
   "execution_count": 57,
   "metadata": {},
   "outputs": [
    {
     "data": {
      "image/png": "[encoded data removed]",
      "text/plain": [
       "Plot with title “SST”"
      ]
     },
     "metadata": {
      "image/png": {
       "height": 420,
       "width": 420
      },
      "text/plain": {
       "height": 420,
       "width": 420
      }
     },
     "output_type": "display_data"
    }
   ],
   "source": [
    "plot(master_gr$nmSST_aw_RSP, best_mdlsat.res , ylab=\"Residuals\", xlab=\"SST\", main=\"SST\") \n",
    "abline(0, 0)      "
   ]
  },
  {
   "cell_type": "code",
   "execution_count": 58,
   "metadata": {},
   "outputs": [
    {
     "data": {
      "image/png": "[encoded data removed]",
      "text/plain": [
       "Plot with title “Gyre”"
      ]
     },
     "metadata": {
      "image/png": {
       "height": 420,
       "width": 420
      },
      "text/plain": {
       "height": 420,
       "width": 420
      }
     },
     "output_type": "display_data"
    }
   ],
   "source": [
    "#Gyre\n",
    "plot(master_gr$GyreSPD_lag4, best_mdlsat.res , ylab=\"Residuals\", xlab=\"Gyre\", main=\"Gyre\") \n",
    "abline(0, 0) "
   ]
  },
  {
   "cell_type": "code",
   "execution_count": 59,
   "metadata": {},
   "outputs": [
    {
     "data": {
      "image/png": "[encoded data removed]",
      "text/plain": [
       "Plot with title “Fish”"
      ]
     },
     "metadata": {
      "image/png": {
       "height": 420,
       "width": 420
      },
      "text/plain": {
       "height": 420,
       "width": 420
      }
     },
     "output_type": "display_data"
    }
   ],
   "source": [
    "#Fish_cum_2_1\n",
    "plot(master_gr$Fish_cum_2_1, best_mdlsat.res , ylab=\"Residuals\", xlab=\"Fish\", main=\"Fish\") \n",
    "abline(0, 0)"
   ]
  },
  {
   "cell_type": "markdown",
   "metadata": {},
   "source": [
    "# From here SST will be excluded due its correlation with OW and the lack of consistent hypothesis to explain its effect on penguin annual growth"
   ]
  },
  {
   "cell_type": "markdown",
   "metadata": {},
   "source": [
    "# Starting the selection model "
   ]
  },
  {
   "cell_type": "code",
   "execution_count": 60,
   "metadata": {},
   "outputs": [
    {
     "name": "stdout",
     "output_type": "stream",
     "text": [
      "Series: master_gr$growth_bird \n",
      "Regression with ARIMA(1,0,0) errors \n",
      "\n",
      "Coefficients:\n",
      "          ar1   av_SIE  GyreSPD   mnWind  mnOW_RSP6  mnAirTemp  Fish_cum3\n",
      "      -0.5356  -0.1985   0.1064  -0.0344     0.4182     0.0316     0.0117\n",
      "s.e.   0.2816   0.3292   0.0963   0.1297     2.6067     0.1003     0.0079\n",
      "\n",
      "sigma^2 estimated as 0.11:  log likelihood=-0.18\n",
      "AIC=16.36   AICc=40.36   BIC=22.03\n",
      "\n",
      "Training set error measures:\n",
      "                      ME     RMSE       MAE      MPE     MAPE      MASE\n",
      "Training set -0.01509896 0.242168 0.1951006 117.1034 182.1004 0.5515293\n",
      "                    ACF1\n",
      "Training set -0.08928298\n"
     ]
    }
   ],
   "source": [
    "\n",
    "cov_sat_growth<-as.matrix(master_gr[,c(\"av_SIE\", \"GyreSPD\", \"mnWind\", \"mnOW_RSP6\",\n",
    "                              \"mnAirTemp\", \"Fish_cum3\")]) # ,  \"nmSST_aw_RSP\"\n",
    "mdlsat<-Arima(master_gr$growth_bird,order=c(1,0,0),include.mean=F,include.drift=F,xreg= cov_sat_growth)\n",
    "summary(mdlsat)"
   ]
  },
  {
   "cell_type": "code",
   "execution_count": 61,
   "metadata": {},
   "outputs": [
    {
     "data": {
      "text/plain": [
       "\n",
       "z test of coefficients:\n",
       "\n",
       "            Estimate Std. Error z value Pr(>|z|)  \n",
       "ar1       -0.5356451  0.2816127 -1.9021  0.05716 .\n",
       "av_SIE    -0.1984504  0.3291891 -0.6028  0.54661  \n",
       "GyreSPD    0.1064090  0.0963072  1.1049  0.26921  \n",
       "mnWind    -0.0343889  0.1297093 -0.2651  0.79091  \n",
       "mnOW_RSP6  0.4182413  2.6066620  0.1605  0.87253  \n",
       "mnAirTemp  0.0316168  0.1003289  0.3151  0.75266  \n",
       "Fish_cum3  0.0116932  0.0079256  1.4754  0.14012  \n",
       "---\n",
       "Signif. codes:  0 ‘***’ 0.001 ‘**’ 0.01 ‘*’ 0.05 ‘.’ 0.1 ‘ ’ 1\n"
      ]
     },
     "metadata": {},
     "output_type": "display_data"
    }
   ],
   "source": [
    "coeftest(mdlsat)"
   ]
  },
  {
   "cell_type": "code",
   "execution_count": 62,
   "metadata": {},
   "outputs": [
    {
     "data": {
      "text/html": [
       "&lt;NA&gt;"
      ],
      "text/latex": [
       "<NA>"
      ],
      "text/markdown": [
       "&lt;NA&gt;"
      ],
      "text/plain": [
       "[1] NA"
      ]
     },
     "metadata": {},
     "output_type": "display_data"
    },
    {
     "data": {
      "text/plain": [
       "\n",
       "Call:\n",
       "lm(formula = diff(master_gr$growth_bird) ~ diff(cov_sat_growth) - \n",
       "    1)\n",
       "\n",
       "Residuals:\n",
       "     Min       1Q   Median       3Q      Max \n",
       "-0.61826 -0.30521  0.04061  0.18529  0.70290 \n",
       "\n",
       "Coefficients:\n",
       "                              Estimate Std. Error t value Pr(>|t|)\n",
       "diff(cov_sat_growth)av_SIE    -0.83064    0.93713  -0.886    0.401\n",
       "diff(cov_sat_growth)GyreSPD    0.12895    0.14745   0.875    0.407\n",
       "diff(cov_sat_growth)mnWind     0.13182    0.17334   0.760    0.469\n",
       "diff(cov_sat_growth)mnOW_RSP6  0.83033    3.74354   0.222    0.830\n",
       "diff(cov_sat_growth)mnAirTemp -0.23177    0.28219  -0.821    0.435\n",
       "diff(cov_sat_growth)Fish_cum3  0.01862    0.03087   0.603    0.563\n",
       "\n",
       "Residual standard error: 0.5491 on 8 degrees of freedom\n",
       "  (2 observations deleted due to missingness)\n",
       "Multiple R-squared:  0.1906,\tAdjusted R-squared:  -0.4164 \n",
       "F-statistic: 0.3141 on 6 and 8 DF,  p-value: 0.9123\n"
      ]
     },
     "metadata": {},
     "output_type": "display_data"
    }
   ],
   "source": [
    "# R squared\n",
    "cor(fitted(mdlsat),master_gr$growth_bird)^2\n",
    "\n",
    "b <- lm(diff(master_gr$growth_bird) ~ diff(cov_sat_growth) - 1)\n",
    "summary(b)"
   ]
  },
  {
   "cell_type": "code",
   "execution_count": 63,
   "metadata": {},
   "outputs": [
    {
     "name": "stdout",
     "output_type": "stream",
     "text": [
      "Series: master_gr$growth_bird \n",
      "Regression with ARIMA(1,0,0) errors \n",
      "\n",
      "Coefficients:\n",
      "          ar1   av_SIE  GyreSPD  mnOW_RSP6  Fish_cum3\n",
      "      -0.4526  -0.3496   0.0923     0.5489     0.0128\n",
      "s.e.   0.2626   0.1911   0.0871     2.5774     0.0079\n",
      "\n",
      "sigma^2 estimated as 0.09078:  log likelihood=-0.36\n",
      "AIC=12.73   AICc=23.23   BIC=16.97\n",
      "\n",
      "Training set error measures:\n",
      "                      ME      RMSE       MAE      MPE     MAPE      MASE\n",
      "Training set -0.01343759 0.2460053 0.2026841 24.00333 141.0689 0.5729669\n",
      "                    ACF1\n",
      "Training set -0.09340935\n"
     ]
    }
   ],
   "source": [
    "#working with OW\n",
    "cov_sat_growth<-as.matrix(master_gr[,c(\"av_SIE\", \"GyreSPD\", \"mnOW_RSP6\",\n",
    "                               \"Fish_cum3\")]) # ,  \"nmSST_aw_RSP\"\n",
    "mdlsat<-Arima(master_gr$growth_bird,order=c(1,0,0),include.mean=F,include.drift=F,xreg= cov_sat_growth)\n",
    "summary(mdlsat)"
   ]
  },
  {
   "cell_type": "code",
   "execution_count": 64,
   "metadata": {},
   "outputs": [
    {
     "data": {
      "text/plain": [
       "\n",
       "z test of coefficients:\n",
       "\n",
       "           Estimate Std. Error z value Pr(>|z|)  \n",
       "ar1       -0.452596   0.262599 -1.7235  0.08479 .\n",
       "av_SIE    -0.349648   0.191120 -1.8295  0.06733 .\n",
       "GyreSPD    0.092320   0.087134  1.0595  0.28936  \n",
       "mnOW_RSP6  0.548884   2.577423  0.2130  0.83136  \n",
       "Fish_cum3  0.012813   0.007948  1.6121  0.10695  \n",
       "---\n",
       "Signif. codes:  0 ‘***’ 0.001 ‘**’ 0.01 ‘*’ 0.05 ‘.’ 0.1 ‘ ’ 1\n"
      ]
     },
     "metadata": {},
     "output_type": "display_data"
    }
   ],
   "source": [
    "coeftest(mdlsat)"
   ]
  },
  {
   "cell_type": "code",
   "execution_count": 65,
   "metadata": {},
   "outputs": [
    {
     "data": {
      "text/html": [
       "&lt;NA&gt;"
      ],
      "text/latex": [
       "<NA>"
      ],
      "text/markdown": [
       "&lt;NA&gt;"
      ],
      "text/plain": [
       "[1] NA"
      ]
     },
     "metadata": {},
     "output_type": "display_data"
    },
    {
     "data": {
      "text/plain": [
       "\n",
       "Call:\n",
       "lm(formula = diff(master_gr$growth_bird) ~ diff(cov_sat_growth) - \n",
       "    1)\n",
       "\n",
       "Residuals:\n",
       "    Min      1Q  Median      3Q     Max \n",
       "-0.6181 -0.2324 -0.1301  0.2795  0.8689 \n",
       "\n",
       "Coefficients:\n",
       "                              Estimate Std. Error t value Pr(>|t|)\n",
       "diff(cov_sat_growth)av_SIE    -0.31842    0.75368  -0.422    0.682\n",
       "diff(cov_sat_growth)GyreSPD    0.03528    0.09984   0.353    0.731\n",
       "diff(cov_sat_growth)mnOW_RSP6  0.18762    3.52269   0.053    0.959\n",
       "diff(cov_sat_growth)Fish_cum3  0.02034    0.02915   0.698    0.501\n",
       "\n",
       "Residual standard error: 0.5261 on 10 degrees of freedom\n",
       "  (2 observations deleted due to missingness)\n",
       "Multiple R-squared:  0.07103,\tAdjusted R-squared:  -0.3006 \n",
       "F-statistic: 0.1911 on 4 and 10 DF,  p-value: 0.9376\n"
      ]
     },
     "metadata": {},
     "output_type": "display_data"
    }
   ],
   "source": [
    "# R squared\n",
    "cor(fitted(mdlsat),master_gr$growth_bird)^2\n",
    "\n",
    "b <- lm(diff(master_gr$growth_bird) ~ diff(cov_sat_growth) - 1)\n",
    "summary(b)"
   ]
  },
  {
   "cell_type": "code",
   "execution_count": 66,
   "metadata": {},
   "outputs": [
    {
     "name": "stdout",
     "output_type": "stream",
     "text": [
      "Series: master_gr$growth_bird \n",
      "Regression with ARIMA(1,0,0) errors \n",
      "\n",
      "Coefficients:\n",
      "          ar1   av_SIE  GyreSPD  mnOW_MCM6  Fish_cum3\n",
      "      -0.4702  -0.3786   0.1114    27.0155     0.0124\n",
      "s.e.   0.2552   0.2010   0.0620    57.6849     0.0078\n",
      "\n",
      "sigma^2 estimated as 0.08962:  log likelihood=-0.28\n",
      "AIC=12.55   AICc=23.05   BIC=16.8\n",
      "\n",
      "Training set error measures:\n",
      "                      ME      RMSE       MAE      MPE     MAPE      MASE\n",
      "Training set -0.01390282 0.2444279 0.1992512 20.91732 124.1435 0.5632626\n",
      "                    ACF1\n",
      "Training set -0.08683353\n"
     ]
    }
   ],
   "source": [
    "#including MCM OW\n",
    "\n",
    "cov_sat_growth<-as.matrix(master_gr[,c(\"av_SIE\", \"GyreSPD\", \"mnOW_MCM6\" ,\n",
    "                               \"Fish_cum3\")]) # ,  \"nmSST_aw_RSP\"\n",
    "mdlsat<-Arima(master_gr$growth_bird,order=c(1,0,0),include.mean=F,include.drift=F,xreg= cov_sat_growth)\n",
    "summary(mdlsat)\n"
   ]
  },
  {
   "cell_type": "code",
   "execution_count": 67,
   "metadata": {},
   "outputs": [
    {
     "data": {
      "text/plain": [
       "\n",
       "z test of coefficients:\n",
       "\n",
       "            Estimate Std. Error z value Pr(>|z|)  \n",
       "ar1       -0.4702269  0.2552356 -1.8423  0.06543 .\n",
       "av_SIE    -0.3785792  0.2009821 -1.8836  0.05961 .\n",
       "GyreSPD    0.1114426  0.0620353  1.7964  0.07242 .\n",
       "mnOW_MCM6 27.0155013 57.6848753  0.4683  0.63955  \n",
       "Fish_cum3  0.0123502  0.0078479  1.5737  0.11556  \n",
       "---\n",
       "Signif. codes:  0 ‘***’ 0.001 ‘**’ 0.01 ‘*’ 0.05 ‘.’ 0.1 ‘ ’ 1\n"
      ]
     },
     "metadata": {},
     "output_type": "display_data"
    }
   ],
   "source": [
    "coeftest(mdlsat)"
   ]
  },
  {
   "cell_type": "code",
   "execution_count": 68,
   "metadata": {},
   "outputs": [
    {
     "name": "stdout",
     "output_type": "stream",
     "text": [
      "Series: master_gr$growth_bird \n",
      "Regression with ARIMA(1,0,0) errors \n",
      "\n",
      "Coefficients:\n",
      "          ar1   av_SIE  GyreSPD  logOW_day_MCM  Fish_cum3\n",
      "      -0.3411  -0.3393   0.0837         0.0478     0.0095\n",
      "s.e.   0.3111   0.1870   0.0697         0.0631     0.0095\n",
      "\n",
      "sigma^2 estimated as 0.08808:  log likelihood=-0.08\n",
      "AIC=12.17   AICc=22.67   BIC=16.42\n",
      "\n",
      "Training set error measures:\n",
      "                       ME      RMSE       MAE      MPE     MAPE      MASE\n",
      "Training set -0.008425551 0.2423196 0.2003399 34.78315 123.8465 0.5663402\n",
      "                    ACF1\n",
      "Training set -0.08669102\n"
     ]
    }
   ],
   "source": [
    "#including OW_days\n",
    "cov_sat_growth<-as.matrix(master_gr[,c(\"av_SIE\", \"GyreSPD\", \"logOW_day_MCM\" ,\n",
    "                               \"Fish_cum3\")]) # ,  \"nmSST_aw_RSP\"\n",
    "mdlsat<-Arima(master_gr$growth_bird,order=c(1,0,0),include.mean=F,include.drift=F,xreg= cov_sat_growth)\n",
    "summary(mdlsat)\n"
   ]
  },
  {
   "cell_type": "code",
   "execution_count": 69,
   "metadata": {},
   "outputs": [
    {
     "data": {
      "text/plain": [
       "\n",
       "z test of coefficients:\n",
       "\n",
       "                Estimate Std. Error z value Pr(>|z|)  \n",
       "ar1           -0.3410934  0.3111361 -1.0963   0.2730  \n",
       "av_SIE        -0.3393268  0.1870085 -1.8145   0.0696 .\n",
       "GyreSPD        0.0837292  0.0696925  1.2014   0.2296  \n",
       "logOW_day_MCM  0.0478209  0.0630709  0.7582   0.4483  \n",
       "Fish_cum3      0.0095040  0.0095434  0.9959   0.3193  \n",
       "---\n",
       "Signif. codes:  0 ‘***’ 0.001 ‘**’ 0.01 ‘*’ 0.05 ‘.’ 0.1 ‘ ’ 1\n"
      ]
     },
     "metadata": {},
     "output_type": "display_data"
    }
   ],
   "source": [
    "coeftest(mdlsat)"
   ]
  },
  {
   "cell_type": "markdown",
   "metadata": {},
   "source": [
    "# BEST MODEL"
   ]
  },
  {
   "cell_type": "code",
   "execution_count": 70,
   "metadata": {},
   "outputs": [
    {
     "name": "stdout",
     "output_type": "stream",
     "text": [
      "Series: master_gr$growth_bird \n",
      "Regression with ARIMA(1,0,0) errors \n",
      "\n",
      "Coefficients:\n",
      "          ar1   av_SIE  GyreSPD  Fish_cum3  OW_day_RSPlag4\n",
      "      -0.6012  -0.3283   0.1059     0.0191         -0.0304\n",
      "s.e.   0.2140   0.1504   0.0503     0.0066          0.0121\n",
      "\n",
      "sigma^2 estimated as 0.06433:  log likelihood=2.11\n",
      "AIC=7.78   AICc=18.28   BIC=12.03\n",
      "\n",
      "Training set error measures:\n",
      "                       ME      RMSE       MAE      MPE     MAPE      MASE\n",
      "Training set -0.008596229 0.2070872 0.1650109 135.8589 182.0442 0.4664688\n",
      "                    ACF1\n",
      "Training set -0.04803865\n"
     ]
    }
   ],
   "source": [
    "#checking Crozier model\n",
    "cov_sat_growth_top<-as.matrix(master_gr[,c(\"av_SIE\", \"GyreSPD\", \"Fish_cum3\", \"OW_day_RSPlag4\")]) \n",
    "mdlTop<-Arima(master_gr$growth_bird,order=c(1,0,0),include.mean=F,include.drift=F,xreg= cov_sat_growth_top)\n",
    "summary(mdlTop)"
   ]
  },
  {
   "cell_type": "code",
   "execution_count": 71,
   "metadata": {},
   "outputs": [
    {
     "data": {
      "text/plain": [
       "\n",
       "z test of coefficients:\n",
       "\n",
       "                 Estimate Std. Error z value Pr(>|z|)   \n",
       "ar1            -0.6012129  0.2139571 -2.8100 0.004955 **\n",
       "av_SIE         -0.3282829  0.1503541 -2.1834 0.029006 * \n",
       "GyreSPD         0.1059130  0.0503033  2.1055 0.035249 * \n",
       "Fish_cum3       0.0191236  0.0066223  2.8878 0.003880 **\n",
       "OW_day_RSPlag4 -0.0304361  0.0121025 -2.5148 0.011908 * \n",
       "---\n",
       "Signif. codes:  0 ‘***’ 0.001 ‘**’ 0.01 ‘*’ 0.05 ‘.’ 0.1 ‘ ’ 1\n"
      ]
     },
     "metadata": {},
     "output_type": "display_data"
    }
   ],
   "source": [
    "coeftest(mdlTop)"
   ]
  },
  {
   "cell_type": "code",
   "execution_count": 72,
   "metadata": {},
   "outputs": [],
   "source": [
    "save(mdlTop, master_gr,file=\"~/Workspace/Anthropocene/data/Bird_topModel.RData\")"
   ]
  },
  {
   "cell_type": "code",
   "execution_count": 73,
   "metadata": {},
   "outputs": [],
   "source": [
    "## Let's create the calc_R2 function\n",
    "## We will define it as the usual OLS, even though it includes the ARIMA component, which is technically not a covariate\n",
    "calc_R2<-function(mdl){\n",
    "    tdf<-data.frame(y=mdl$x, resid=mdl$residuals)\n",
    "    tdf<-na.omit(tdf)\n",
    "    ymean<-mean(tdf$y)\n",
    "    tdf$sseY<-(tdf$y-ymean)^2\n",
    "    ssT<-sum(tdf$sseY)\n",
    "    ssE<-sum(tdf$resid^2)\n",
    "    n<-nrow(tdf)\n",
    "    p<-length(mdl$coef)\n",
    "    rSq<-1-(ssE/ssT)\n",
    "    adrSq<-1 - ((ssE/(n-p))/(ssT/(n-1)))\n",
    "    print(paste(\"R-squared:\",round(rSq,3),\"   Adjusted R-squared:\",round(adrSq,3)))\n",
    "}\n"
   ]
  },
  {
   "cell_type": "code",
   "execution_count": 74,
   "metadata": {},
   "outputs": [
    {
     "name": "stdout",
     "output_type": "stream",
     "text": [
      "[1] \"R-squared: 0.505    Adjusted R-squared: 0.307\"\n"
     ]
    }
   ],
   "source": [
    "calc_R2(mdlTop)"
   ]
  },
  {
   "cell_type": "code",
   "execution_count": 75,
   "metadata": {},
   "outputs": [
    {
     "name": "stdout",
     "output_type": "stream",
     "text": [
      "Series: master_gr$growth_bird \n",
      "Regression with ARIMA(1,0,0) errors \n",
      "\n",
      "Coefficients:\n",
      "          ar1  GyreSPD  Fish_cum3  OW_day_RSPlag4\n",
      "      -0.4375   0.0002     0.0095         -0.0324\n",
      "s.e.   0.2493   0.0193     0.0059          0.0147\n",
      "\n",
      "sigma^2 estimated as 0.07651:  log likelihood=0.21\n",
      "AIC=9.57   AICc=16.24   BIC=13.11\n",
      "\n",
      "Training set error measures:\n",
      "                      ME     RMSE      MAE      MPE     MAPE      MASE\n",
      "Training set -0.01462379 0.236866 0.181457 49.59714 125.4473 0.5129602\n",
      "                    ACF1\n",
      "Training set -0.02672419\n"
     ]
    },
    {
     "data": {
      "text/plain": [
       "\n",
       "z test of coefficients:\n",
       "\n",
       "                  Estimate  Std. Error z value Pr(>|z|)  \n",
       "ar1            -0.43754006  0.24927687 -1.7552  0.07922 .\n",
       "GyreSPD         0.00018056  0.01929938  0.0094  0.99254  \n",
       "Fish_cum3       0.00946581  0.00588600  1.6082  0.10779  \n",
       "OW_day_RSPlag4 -0.03235739  0.01469704 -2.2016  0.02769 *\n",
       "---\n",
       "Signif. codes:  0 ‘***’ 0.001 ‘**’ 0.01 ‘*’ 0.05 ‘.’ 0.1 ‘ ’ 1\n"
      ]
     },
     "metadata": {},
     "output_type": "display_data"
    },
    {
     "name": "stdout",
     "output_type": "stream",
     "text": [
      "[1] \"R-squared: 0.352    Adjusted R-squared: 0.175\"\n"
     ]
    }
   ],
   "source": [
    "## Reduced models; no SIE\n",
    "cov_sat_growth<-as.matrix(master_gr[,c(\"GyreSPD\", \"Fish_cum3\", \"OW_day_RSPlag4\")]) # \"mnOW_RSP6\",  \"mnWind\",   \"mnAirTemp\",\n",
    "mdl_noSIE<-Arima(master_gr$growth_bird,order=c(1,0,0),include.mean=F,include.drift=F,xreg= cov_sat_growth)\n",
    "summary(mdl_noSIE)\n",
    "coeftest(mdl_noSIE)\n",
    "calc_R2(mdl_noSIE)"
   ]
  },
  {
   "cell_type": "code",
   "execution_count": 76,
   "metadata": {},
   "outputs": [
    {
     "name": "stdout",
     "output_type": "stream",
     "text": [
      "Series: master_gr$growth_bird \n",
      "Regression with ARIMA(1,0,0) errors \n",
      "\n",
      "Coefficients:\n",
      "          ar1   av_SIE  Fish_cum3  OW_day_RSPlag4\n",
      "      -0.3980  -0.0270     0.0085         -0.0142\n",
      "s.e.   0.2637   0.0632     0.0071          0.0107\n",
      "\n",
      "sigma^2 estimated as 0.08164:  log likelihood=-0.44\n",
      "AIC=10.89   AICc=16.89   BIC=14.75\n",
      "\n",
      "Training set error measures:\n",
      "                       ME      RMSE      MAE       MPE     MAPE      MASE\n",
      "Training set -0.005428463 0.2474488 0.198299 -5.723974 317.8514 0.5605707\n",
      "                    ACF1\n",
      "Training set -0.08532862\n"
     ]
    },
    {
     "data": {
      "text/plain": [
       "\n",
       "z test of coefficients:\n",
       "\n",
       "                 Estimate Std. Error z value Pr(>|z|)\n",
       "ar1            -0.3979773  0.2637467 -1.5089   0.1313\n",
       "av_SIE         -0.0270386  0.0631746 -0.4280   0.6687\n",
       "Fish_cum3       0.0085054  0.0070825  1.2009   0.2298\n",
       "OW_day_RSPlag4 -0.0142486  0.0106911 -1.3327   0.1826\n"
      ]
     },
     "metadata": {},
     "output_type": "display_data"
    },
    {
     "name": "stdout",
     "output_type": "stream",
     "text": [
      "[1] \"R-squared: 0.246    Adjusted R-squared: 0.057\"\n"
     ]
    }
   ],
   "source": [
    "## Reduced models; no Gyre\n",
    "cov_sat_growth<-as.matrix(master_gr[,c(\"av_SIE\", \"Fish_cum3\", \"OW_day_RSPlag4\")]) # \"mnOW_RSP6\",  \"mnWind\",   \"mnAirTemp\",\n",
    "mdl_noGyre<-Arima(master_gr$growth_bird,order=c(1,0,0),include.mean=F,include.drift=F,xreg= cov_sat_growth)\n",
    "summary(mdl_noGyre)\n",
    "coeftest(mdl_noGyre)\n",
    "calc_R2(mdl_noGyre)"
   ]
  },
  {
   "cell_type": "code",
   "execution_count": 77,
   "metadata": {},
   "outputs": [
    {
     "name": "stdout",
     "output_type": "stream",
     "text": [
      "Series: master_gr$growth_bird \n",
      "Regression with ARIMA(1,0,0) errors \n",
      "\n",
      "Coefficients:\n",
      "          ar1   av_SIE  GyreSPD  OW_day_RSPlag4\n",
      "      -0.4418  -0.0109   0.0277         -0.0178\n",
      "s.e.   0.2705   0.1404   0.0563          0.0150\n",
      "\n",
      "sigma^2 estimated as 0.09028:  log likelihood=-1.03\n",
      "AIC=12.06   AICc=18.73   BIC=15.6\n",
      "\n",
      "Training set error measures:\n",
      "                      ME      RMSE       MAE      MPE    MAPE      MASE\n",
      "Training set -0.01403743 0.2573019 0.2009427 194.2671 226.591 0.5680442\n",
      "                   ACF1\n",
      "Training set 0.03686785\n"
     ]
    },
    {
     "data": {
      "text/plain": [
       "\n",
       "z test of coefficients:\n",
       "\n",
       "                Estimate Std. Error z value Pr(>|z|)\n",
       "ar1            -0.441818   0.270486 -1.6334   0.1024\n",
       "av_SIE         -0.010921   0.140364 -0.0778   0.9380\n",
       "GyreSPD         0.027650   0.056344  0.4907   0.6236\n",
       "OW_day_RSPlag4 -0.017834   0.015020 -1.1873   0.2351\n"
      ]
     },
     "metadata": {},
     "output_type": "display_data"
    },
    {
     "name": "stdout",
     "output_type": "stream",
     "text": [
      "[1] \"R-squared: 0.235    Adjusted R-squared: 0.027\"\n"
     ]
    }
   ],
   "source": [
    "## Reduced models; no Fish\n",
    "cov_sat_growth<-as.matrix(master_gr[,c(\"av_SIE\", \"GyreSPD\", \"OW_day_RSPlag4\")]) # \"mnOW_RSP6\",  \"mnWind\",   \"mnAirTemp\",\n",
    "mdl_noFish<-Arima(master_gr$growth_bird,order=c(1,0,0),include.mean=F,include.drift=F,xreg= cov_sat_growth)\n",
    "summary(mdl_noFish)\n",
    "coeftest(mdl_noFish)\n",
    "calc_R2(mdl_noFish)"
   ]
  },
  {
   "cell_type": "code",
   "execution_count": 78,
   "metadata": {},
   "outputs": [
    {
     "name": "stdout",
     "output_type": "stream",
     "text": [
      "Series: master_gr$growth_bird \n",
      "Regression with ARIMA(1,0,0) errors \n",
      "\n",
      "Coefficients:\n",
      "          ar1   av_SIE  GyreSPD  Fish_cum3\n",
      "      -0.4662  -0.3387   0.1056     0.0132\n",
      "s.e.   0.2558   0.1836   0.0612     0.0077\n",
      "\n",
      "sigma^2 estimated as 0.08269:  log likelihood=-0.39\n",
      "AIC=10.77   AICc=17.44   BIC=14.31\n",
      "\n",
      "Training set error measures:\n",
      "                      ME      RMSE       MAE      MPE     MAPE      MASE\n",
      "Training set -0.01385598 0.2462459 0.2028809 14.95368 148.7812 0.5735234\n",
      "                    ACF1\n",
      "Training set -0.08989412\n"
     ]
    },
    {
     "data": {
      "text/plain": [
       "\n",
       "z test of coefficients:\n",
       "\n",
       "            Estimate Std. Error z value Pr(>|z|)  \n",
       "ar1       -0.4662345  0.2557639 -1.8229  0.06832 .\n",
       "av_SIE    -0.3386654  0.1835740 -1.8448  0.06506 .\n",
       "GyreSPD    0.1055674  0.0611926  1.7252  0.08450 .\n",
       "Fish_cum3  0.0131556  0.0077454  1.6985  0.08941 .\n",
       "---\n",
       "Signif. codes:  0 ‘***’ 0.001 ‘**’ 0.01 ‘*’ 0.05 ‘.’ 0.1 ‘ ’ 1\n"
      ]
     },
     "metadata": {},
     "output_type": "display_data"
    },
    {
     "name": "stdout",
     "output_type": "stream",
     "text": [
      "[1] \"R-squared: 0.3    Adjusted R-squared: 0.109\"\n"
     ]
    }
   ],
   "source": [
    "## Reduced models; no OWdate\n",
    "cov_sat_growth<-as.matrix(master_gr[,c(\"av_SIE\", \"GyreSPD\", \"Fish_cum3\")]) \n",
    "mdl_noOWday<-Arima(master_gr$growth_bird,order=c(1,0,0),include.mean=F,include.drift=F,xreg= cov_sat_growth)\n",
    "summary(mdl_noOWday)\n",
    "coeftest(mdl_noOWday)\n",
    "calc_R2(mdl_noOWday)"
   ]
  },
  {
   "cell_type": "code",
   "execution_count": 79,
   "metadata": {},
   "outputs": [
    {
     "name": "stdout",
     "output_type": "stream",
     "text": [
      "Series: master_gr$growth_bird \n",
      "ARIMA(1,0,0) with zero mean \n",
      "\n",
      "Coefficients:\n",
      "          ar1\n",
      "      -0.3267\n",
      "s.e.   0.2626\n",
      "\n",
      "sigma^2 estimated as 0.07936:  log likelihood=-1.97\n",
      "AIC=7.95   AICc=8.87   BIC=9.49\n",
      "\n",
      "Training set error measures:\n",
      "                     ME      RMSE       MAE      MPE     MAPE      MASE\n",
      "Training set 0.04064371 0.2727634 0.1989666 79.78886 175.5433 0.5624579\n",
      "                    ACF1\n",
      "Training set -0.09217139\n"
     ]
    },
    {
     "data": {
      "text/plain": [
       "\n",
       "z test of coefficients:\n",
       "\n",
       "    Estimate Std. Error z value Pr(>|z|)\n",
       "ar1 -0.32674    0.26259 -1.2443   0.2134\n"
      ]
     },
     "metadata": {},
     "output_type": "display_data"
    },
    {
     "name": "stdout",
     "output_type": "stream",
     "text": [
      "[1] \"R-squared: 0.083    Adjusted R-squared: 0.083\"\n"
     ]
    }
   ],
   "source": [
    "#intercept only\n",
    "cov_sat_growth<-as.matrix(master_gr[,c(1)]) # \"mnOW_RSP6\",  \"mnWind\",  ,\n",
    "mdl_intOnly<-Arima(master_gr$growth_bird,order=c(1,0,0),include.mean=F,include.drift=F)\n",
    "summary(mdl_intOnly)\n",
    "coeftest(mdl_intOnly)\n",
    "calc_R2(mdl_intOnly)"
   ]
  },
  {
   "cell_type": "code",
   "execution_count": 80,
   "metadata": {},
   "outputs": [],
   "source": [
    "## function to generate the data\n",
    "# df is the source data.frame (master_gr)\n",
    "# varv is the variable for which to construct the partial dependence plot\n",
    "# meanmed indicates if fixing other variables to their mean or median value\n",
    "# mdl is the model in which to evaluate the partial dependence\n",
    "# type indicates if evaluating the dependence on a sequence of the predictor values or their real values\n",
    "getPDdata<-function(df,varv, meanmed=\"mean\", mdl, type=\"seq\"){\n",
    "    #get fixed values of constant vars\n",
    "    cvars<-names(coef(mdl)); cvars<-cvars[which(!cvars %in% c(varv,\"ar1\",\"ar2\",\"ar3\"))]\n",
    "    pddc<-sapply(cvars,function(vv,df,meanmed){\n",
    "        mvv<-ifelse(meanmed==\"mean\",mean(df[,vv],na.rm=T),median(df[,vv],na.rm=T))\n",
    "    },df=df,meanmed=meanmed)\n",
    "    \n",
    "    #get varying values of partial dependence var\n",
    "    if(type==\"seq\"){\n",
    "        minprv<-min(df[,varv],na.rm=T); maxprv<-max(df[,varv],na.rm=T)\n",
    "        prv<-seq(minprv,maxprv,length.out=nrow(df))\n",
    "    }else{\n",
    "        prv<-unique(df[,varv])\n",
    "    }\n",
    "    pddf<-data.frame(prv=prv);names(pddf)<-varv\n",
    "    \n",
    "    #combine into matrix\n",
    "    for(ii in 1:NROW(pddc)){\n",
    "        cvn<-pddc[ii]; cvnn<-cvars[ii]\n",
    "        pddf<-cbind(pddf,cvnv=rep(cvn,nrow(pddf)))\n",
    "        names(pddf)<-gsub(\"cvnv\",cvnn,names(pddf))\n",
    "    }\n",
    "    #must re-order as in the original matrix used to train the model\n",
    "    cvars<-names(coef(mdl)); cvars<-cvars[which(!cvars %in% c(\"ar1\",\"ar2\",\"ar3\"))]\n",
    "    pddf<-pddf[,cvars]\n",
    "    pdmx<-as.matrix(pddf)\n",
    "    \n",
    "    preds<-forecast(mdl,xreg=pdmx,level=80)\n",
    "    plotdata<-data.frame(varv=prv,meanv=as.numeric(preds$mean),\n",
    "                         lcv=as.numeric(preds$lower),ucv=as.numeric(preds$upper))\n",
    "    names(plotdata)<-gsub(\"varv\",varv,names(plotdata))\n",
    "    return(plotdata)\n",
    "}\n",
    "\n"
   ]
  },
  {
   "cell_type": "code",
   "execution_count": 81,
   "metadata": {},
   "outputs": [
    {
     "data": {
      "image/png": "[encoded data removed]",
      "text/plain": [
       "plot without title"
      ]
     },
     "metadata": {
      "image/png": {
       "height": 420,
       "width": 420
      },
      "text/plain": {
       "height": 420,
       "width": 420
      }
     },
     "output_type": "display_data"
    }
   ],
   "source": [
    "##\"av_SIE\", \"GyreSPD\", \"Fish_cum3\", \"OW_day_RSPlag4\"\n",
    "pdat_sie<-getPDdata(df=master_gr,varv=\"av_SIE\",mdl=mdlTop)\n",
    "ggplot(pdat_sie,aes(x=av_SIE,y=meanv)) + geom_ribbon(aes(ymin=lcv,ymax=ucv),alpha=0.5) + geom_line(color=\"blue\") +\n",
    "    labs(x=\"SIE\", y = \"Predicted log(growth rate)\")"
   ]
  },
  {
   "cell_type": "code",
   "execution_count": 82,
   "metadata": {},
   "outputs": [],
   "source": [
    "#av_SIE\", \"GyreSPD\", \"Fish_cum3\", \"OW_day_RSPlag4\"\n",
    "pdat_gysp<-getPDdata(df=master_gr,varv=\"GyreSPD\",mdl=mdlTop)\n",
    "pdat_fish<-getPDdata(df=master_gr,varv=\"Fish_cum3\",mdl=mdlTop)\n",
    "pdat_ow<-getPDdata(df=master_gr,varv=\"OW_day_RSPlag4\",mdl=mdlTop)"
   ]
  },
  {
   "cell_type": "code",
   "execution_count": 83,
   "metadata": {},
   "outputs": [],
   "source": [
    "save(pdat_sie,pdat_gysp,pdat_fish,pdat_ow,file=\"~/Workspace/Anthropocene/data/pdPlots_bird.RData\")"
   ]
  },
  {
   "cell_type": "code",
   "execution_count": null,
   "metadata": {},
   "outputs": [],
   "source": []
  }
 ],
 "metadata": {
  "kernelspec": {
   "display_name": "R",
   "language": "R",
   "name": "ir"
  },
  "language_info": {
   "codemirror_mode": "r",
   "file_extension": ".r",
   "mimetype": "text/x-r-source",
   "name": "R",
   "pygments_lexer": "r",
   "version": "3.6.3"
  }
 },
 "nbformat": 4,
 "nbformat_minor": 2
}
