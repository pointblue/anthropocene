{
 "cells": [
  {
   "cell_type": "markdown",
   "metadata": {},
   "source": [
    "# Finding the temporal autocorrelation order and evidence of slope\n",
    "This notebook fits an ARIMA model for WESE data looking for evidence of change"
   ]
  },
  {
   "cell_type": "code",
   "execution_count": 1,
   "metadata": {},
   "outputs": [
    {
     "name": "stderr",
     "output_type": "stream",
     "text": [
      "Registered S3 method overwritten by 'quantmod':\n",
      "  method            from\n",
      "  as.zoo.data.frame zoo \n",
      "\n",
      "\n",
      "Attaching package: ‘dplyr’\n",
      "\n",
      "\n",
      "The following objects are masked from ‘package:plyr’:\n",
      "\n",
      "    arrange, count, desc, failwith, id, mutate, rename, summarise,\n",
      "    summarize\n",
      "\n",
      "\n",
      "The following objects are masked from ‘package:stats’:\n",
      "\n",
      "    filter, lag\n",
      "\n",
      "\n",
      "The following objects are masked from ‘package:base’:\n",
      "\n",
      "    intersect, setdiff, setequal, union\n",
      "\n",
      "\n",
      "Loading required package: zoo\n",
      "\n",
      "\n",
      "Attaching package: ‘zoo’\n",
      "\n",
      "\n",
      "The following objects are masked from ‘package:base’:\n",
      "\n",
      "    as.Date, as.Date.numeric\n",
      "\n",
      "\n"
     ]
    }
   ],
   "source": [
    "# Load libraries\n",
    "library(forecast); library(ggplot2);library(plyr); library(dplyr); library(fmsb); library(stats); \n",
    "library(lmtest); library(modelr)"
   ]
  },
  {
   "cell_type": "code",
   "execution_count": 2,
   "metadata": {},
   "outputs": [],
   "source": [
    "# Load the data\n",
    "master<-read.csv(\"~/Workspace/Anthropocene/data/MASTER_SIE_MOD.csv\")"
   ]
  },
  {
   "cell_type": "code",
   "execution_count": 3,
   "metadata": {},
   "outputs": [],
   "source": [
    "#calculating the annual percentage change for WESE\n",
    "master_gr <- master %>% mutate(growth_wese=log(WESE/lag(WESE)))%>% mutate(growth_wese_1=log(WESE_1/lag(WESE_1)))\n"
   ]
  },
  {
   "cell_type": "code",
   "execution_count": 4,
   "metadata": {},
   "outputs": [],
   "source": [
    "master_gr<-subset(master_gr,year>2002 & year<2019)"
   ]
  },
  {
   "cell_type": "code",
   "execution_count": 5,
   "metadata": {},
   "outputs": [
    {
     "data": {
      "text/html": [
       "<table>\n",
       "<caption>A data.frame: 6 × 40</caption>\n",
       "<thead>\n",
       "\t<tr><th></th><th scope=col>year</th><th scope=col>intP_RSP</th><th scope=col>mnChl_aw_RSP</th><th scope=col>mnOW_RSP</th><th scope=col>nmSST_aw_RSP</th><th scope=col>intP_MCM</th><th scope=col>mnChl_aw_MCM</th><th scope=col>mnOW_MCM</th><th scope=col>nmSST_aw_MCM</th><th scope=col>mnAirTemp</th><th scope=col>⋯</th><th scope=col>ADPE_CROZ</th><th scope=col>ADPE_RO</th><th scope=col>BIRD</th><th scope=col>EMPE</th><th scope=col>WESE</th><th scope=col>WESE_1</th><th scope=col>av_SIE</th><th scope=col>FIE</th><th scope=col>growth_wese</th><th scope=col>growth_wese_1</th></tr>\n",
       "\t<tr><th></th><th scope=col>&lt;int&gt;</th><th scope=col>&lt;dbl&gt;</th><th scope=col>&lt;dbl&gt;</th><th scope=col>&lt;int&gt;</th><th scope=col>&lt;dbl&gt;</th><th scope=col>&lt;dbl&gt;</th><th scope=col>&lt;dbl&gt;</th><th scope=col>&lt;dbl&gt;</th><th scope=col>&lt;dbl&gt;</th><th scope=col>&lt;dbl&gt;</th><th scope=col>⋯</th><th scope=col>&lt;int&gt;</th><th scope=col>&lt;int&gt;</th><th scope=col>&lt;int&gt;</th><th scope=col>&lt;int&gt;</th><th scope=col>&lt;dbl&gt;</th><th scope=col>&lt;dbl&gt;</th><th scope=col>&lt;dbl&gt;</th><th scope=col>&lt;dbl&gt;</th><th scope=col>&lt;dbl&gt;</th><th scope=col>&lt;dbl&gt;</th></tr>\n",
       "</thead>\n",
       "<tbody>\n",
       "\t<tr><th scope=row>6</th><td>2003</td><td>0.658810</td><td>1.278130</td><td>190735</td><td>-1.047010</td><td>0.1797500</td><td>0.2424260</td><td>2701.45</td><td>-1.177640</td><td>-4.625</td><td>⋯</td><td>100843</td><td>19630</td><td>22816</td><td>279</td><td>0.5084746</td><td>0.78</td><td>2.859</td><td>52.0</td><td>-0.05001038</td><td>-0.02531781</td></tr>\n",
       "\t<tr><th scope=row>7</th><td>2004</td><td>0.659537</td><td>1.201000</td><td>268734</td><td>-0.546599</td><td>0.0595893</td><td>0.0920093</td><td>1115.63</td><td>-1.394120</td><td>-5.000</td><td>⋯</td><td>182492</td><td>20360</td><td>36773</td><td>475</td><td>0.2607562</td><td>0.35</td><td>2.759</td><td>14.9</td><td>-0.66782939</td><td>-0.80136077</td></tr>\n",
       "\t<tr><th scope=row>8</th><td>2005</td><td>0.617897</td><td>1.116710</td><td>236044</td><td>-0.551816</td><td>0.2451990</td><td>0.5341190</td><td>3630.16</td><td>-1.099050</td><td>-5.250</td><td>⋯</td><td>194449</td><td>24590</td><td>57709</td><td>  0</td><td>0.3780965</td><td>0.55</td><td>2.832</td><td>47.0</td><td> 0.37156358</td><td> 0.45198512</td></tr>\n",
       "\t<tr><th scope=row>9</th><td>2006</td><td>0.673591</td><td>1.344420</td><td>218199</td><td>-0.970962</td><td>0.3927390</td><td>0.5908280</td><td>4718.94</td><td>-0.954533</td><td>-6.000</td><td>⋯</td><td>205667</td><td>26070</td><td>50326</td><td>359</td><td>0.5215124</td><td>0.95</td><td>2.738</td><td>47.0</td><td> 0.32158360</td><td> 0.54654371</td></tr>\n",
       "\t<tr><th scope=row>10</th><td>2007</td><td>0.543325</td><td>1.170400</td><td>188097</td><td>-1.006890</td><td>0.3533950</td><td>0.6396110</td><td>3903.53</td><td>-1.064650</td><td>-6.800</td><td>⋯</td><td>197990</td><td>26540</td><td>50595</td><td>612</td><td>0.6518905</td><td>1.25</td><td>3.126</td><td>23.0</td><td> 0.22314355</td><td> 0.27443685</td></tr>\n",
       "\t<tr><th scope=row>11</th><td>2008</td><td>0.525248</td><td>0.962226</td><td>241795</td><td>-0.846050</td><td>0.2566900</td><td>0.5890600</td><td>1968.25</td><td>-1.173800</td><td>-5.025</td><td>⋯</td><td>193624</td><td>18050</td><td>39285</td><td>367</td><td>0.5215124</td><td>0.75</td><td>3.167</td><td>20.0</td><td>-0.22314355</td><td>-0.51082562</td></tr>\n",
       "</tbody>\n",
       "</table>\n"
      ],
      "text/latex": [
       "A data.frame: 6 × 40\n",
       "\\begin{tabular}{r|lllllllllllllllllllll}\n",
       "  & year & intP\\_RSP & mnChl\\_aw\\_RSP & mnOW\\_RSP & nmSST\\_aw\\_RSP & intP\\_MCM & mnChl\\_aw\\_MCM & mnOW\\_MCM & nmSST\\_aw\\_MCM & mnAirTemp & ⋯ & ADPE\\_CROZ & ADPE\\_RO & BIRD & EMPE & WESE & WESE\\_1 & av\\_SIE & FIE & growth\\_wese & growth\\_wese\\_1\\\\\n",
       "  & <int> & <dbl> & <dbl> & <int> & <dbl> & <dbl> & <dbl> & <dbl> & <dbl> & <dbl> & ⋯ & <int> & <int> & <int> & <int> & <dbl> & <dbl> & <dbl> & <dbl> & <dbl> & <dbl>\\\\\n",
       "\\hline\n",
       "\t6 & 2003 & 0.658810 & 1.278130 & 190735 & -1.047010 & 0.1797500 & 0.2424260 & 2701.45 & -1.177640 & -4.625 & ⋯ & 100843 & 19630 & 22816 & 279 & 0.5084746 & 0.78 & 2.859 & 52.0 & -0.05001038 & -0.02531781\\\\\n",
       "\t7 & 2004 & 0.659537 & 1.201000 & 268734 & -0.546599 & 0.0595893 & 0.0920093 & 1115.63 & -1.394120 & -5.000 & ⋯ & 182492 & 20360 & 36773 & 475 & 0.2607562 & 0.35 & 2.759 & 14.9 & -0.66782939 & -0.80136077\\\\\n",
       "\t8 & 2005 & 0.617897 & 1.116710 & 236044 & -0.551816 & 0.2451990 & 0.5341190 & 3630.16 & -1.099050 & -5.250 & ⋯ & 194449 & 24590 & 57709 &   0 & 0.3780965 & 0.55 & 2.832 & 47.0 &  0.37156358 &  0.45198512\\\\\n",
       "\t9 & 2006 & 0.673591 & 1.344420 & 218199 & -0.970962 & 0.3927390 & 0.5908280 & 4718.94 & -0.954533 & -6.000 & ⋯ & 205667 & 26070 & 50326 & 359 & 0.5215124 & 0.95 & 2.738 & 47.0 &  0.32158360 &  0.54654371\\\\\n",
       "\t10 & 2007 & 0.543325 & 1.170400 & 188097 & -1.006890 & 0.3533950 & 0.6396110 & 3903.53 & -1.064650 & -6.800 & ⋯ & 197990 & 26540 & 50595 & 612 & 0.6518905 & 1.25 & 3.126 & 23.0 &  0.22314355 &  0.27443685\\\\\n",
       "\t11 & 2008 & 0.525248 & 0.962226 & 241795 & -0.846050 & 0.2566900 & 0.5890600 & 1968.25 & -1.173800 & -5.025 & ⋯ & 193624 & 18050 & 39285 & 367 & 0.5215124 & 0.75 & 3.167 & 20.0 & -0.22314355 & -0.51082562\\\\\n",
       "\\end{tabular}\n"
      ],
      "text/markdown": [
       "\n",
       "A data.frame: 6 × 40\n",
       "\n",
       "| <!--/--> | year &lt;int&gt; | intP_RSP &lt;dbl&gt; | mnChl_aw_RSP &lt;dbl&gt; | mnOW_RSP &lt;int&gt; | nmSST_aw_RSP &lt;dbl&gt; | intP_MCM &lt;dbl&gt; | mnChl_aw_MCM &lt;dbl&gt; | mnOW_MCM &lt;dbl&gt; | nmSST_aw_MCM &lt;dbl&gt; | mnAirTemp &lt;dbl&gt; | ⋯ ⋯ | ADPE_CROZ &lt;int&gt; | ADPE_RO &lt;int&gt; | BIRD &lt;int&gt; | EMPE &lt;int&gt; | WESE &lt;dbl&gt; | WESE_1 &lt;dbl&gt; | av_SIE &lt;dbl&gt; | FIE &lt;dbl&gt; | growth_wese &lt;dbl&gt; | growth_wese_1 &lt;dbl&gt; |\n",
       "|---|---|---|---|---|---|---|---|---|---|---|---|---|---|---|---|---|---|---|---|---|---|\n",
       "| 6 | 2003 | 0.658810 | 1.278130 | 190735 | -1.047010 | 0.1797500 | 0.2424260 | 2701.45 | -1.177640 | -4.625 | ⋯ | 100843 | 19630 | 22816 | 279 | 0.5084746 | 0.78 | 2.859 | 52.0 | -0.05001038 | -0.02531781 |\n",
       "| 7 | 2004 | 0.659537 | 1.201000 | 268734 | -0.546599 | 0.0595893 | 0.0920093 | 1115.63 | -1.394120 | -5.000 | ⋯ | 182492 | 20360 | 36773 | 475 | 0.2607562 | 0.35 | 2.759 | 14.9 | -0.66782939 | -0.80136077 |\n",
       "| 8 | 2005 | 0.617897 | 1.116710 | 236044 | -0.551816 | 0.2451990 | 0.5341190 | 3630.16 | -1.099050 | -5.250 | ⋯ | 194449 | 24590 | 57709 |   0 | 0.3780965 | 0.55 | 2.832 | 47.0 |  0.37156358 |  0.45198512 |\n",
       "| 9 | 2006 | 0.673591 | 1.344420 | 218199 | -0.970962 | 0.3927390 | 0.5908280 | 4718.94 | -0.954533 | -6.000 | ⋯ | 205667 | 26070 | 50326 | 359 | 0.5215124 | 0.95 | 2.738 | 47.0 |  0.32158360 |  0.54654371 |\n",
       "| 10 | 2007 | 0.543325 | 1.170400 | 188097 | -1.006890 | 0.3533950 | 0.6396110 | 3903.53 | -1.064650 | -6.800 | ⋯ | 197990 | 26540 | 50595 | 612 | 0.6518905 | 1.25 | 3.126 | 23.0 |  0.22314355 |  0.27443685 |\n",
       "| 11 | 2008 | 0.525248 | 0.962226 | 241795 | -0.846050 | 0.2566900 | 0.5890600 | 1968.25 | -1.173800 | -5.025 | ⋯ | 193624 | 18050 | 39285 | 367 | 0.5215124 | 0.75 | 3.167 | 20.0 | -0.22314355 | -0.51082562 |\n",
       "\n"
      ],
      "text/plain": [
       "   year intP_RSP mnChl_aw_RSP mnOW_RSP nmSST_aw_RSP intP_MCM  mnChl_aw_MCM\n",
       "6  2003 0.658810 1.278130     190735   -1.047010    0.1797500 0.2424260   \n",
       "7  2004 0.659537 1.201000     268734   -0.546599    0.0595893 0.0920093   \n",
       "8  2005 0.617897 1.116710     236044   -0.551816    0.2451990 0.5341190   \n",
       "9  2006 0.673591 1.344420     218199   -0.970962    0.3927390 0.5908280   \n",
       "10 2007 0.543325 1.170400     188097   -1.006890    0.3533950 0.6396110   \n",
       "11 2008 0.525248 0.962226     241795   -0.846050    0.2566900 0.5890600   \n",
       "   mnOW_MCM nmSST_aw_MCM mnAirTemp ⋯ ADPE_CROZ ADPE_RO BIRD  EMPE WESE     \n",
       "6  2701.45  -1.177640    -4.625    ⋯ 100843    19630   22816 279  0.5084746\n",
       "7  1115.63  -1.394120    -5.000    ⋯ 182492    20360   36773 475  0.2607562\n",
       "8  3630.16  -1.099050    -5.250    ⋯ 194449    24590   57709   0  0.3780965\n",
       "9  4718.94  -0.954533    -6.000    ⋯ 205667    26070   50326 359  0.5215124\n",
       "10 3903.53  -1.064650    -6.800    ⋯ 197990    26540   50595 612  0.6518905\n",
       "11 1968.25  -1.173800    -5.025    ⋯ 193624    18050   39285 367  0.5215124\n",
       "   WESE_1 av_SIE FIE  growth_wese growth_wese_1\n",
       "6  0.78   2.859  52.0 -0.05001038 -0.02531781  \n",
       "7  0.35   2.759  14.9 -0.66782939 -0.80136077  \n",
       "8  0.55   2.832  47.0  0.37156358  0.45198512  \n",
       "9  0.95   2.738  47.0  0.32158360  0.54654371  \n",
       "10 1.25   3.126  23.0  0.22314355  0.27443685  \n",
       "11 0.75   3.167  20.0 -0.22314355 -0.51082562  "
      ]
     },
     "metadata": {},
     "output_type": "display_data"
    }
   ],
   "source": [
    "head(master_gr)"
   ]
  },
  {
   "cell_type": "code",
   "execution_count": 6,
   "metadata": {},
   "outputs": [],
   "source": [
    "master_gr$mnOW_MCM6<- master_gr$mnOW_MCM/10^3"
   ]
  },
  {
   "cell_type": "code",
   "execution_count": 7,
   "metadata": {},
   "outputs": [],
   "source": [
    "#lag 5 years SIE\n",
    "master_gr <- master_gr %>% mutate(SIE_lag5 = lag(av_SIE,5))\n",
    "master_gr[5,\"SIE_lag5\"]<-2.703\n",
    "master_gr[4,\"SIE_lag5\"]<-3.123\n",
    "master_gr[3,\"SIE_lag5\"]<-2.731\n",
    "master_gr[2,\"SIE_lag5\"]<-2.767\n",
    "master_gr[1,\"SIE_lag5\"]<-2.60\n",
    "\n",
    "#lag 4 years SIE\n",
    "master_gr <- master_gr %>% mutate(SIE_lag4 = lag(av_SIE,4))\n",
    "master_gr[4,\"SIE_lag4\"]<-2.703\n",
    "master_gr[3,\"SIE_lag4\"]<-3.123\n",
    "master_gr[2,\"SIE_lag4\"]<-2.731\n",
    "master_gr[1,\"SIE_lag4\"]<-2.767\n",
    "\n",
    "\n",
    "#lag 4 years Gyre\n",
    "master_gr <- master_gr %>% mutate(GyreSPD_lag4 = lag(GyreSPD,4))\n",
    "master_gr[4,\"GyreSPD_lag4\"]<-6.2\n",
    "master_gr[3,\"GyreSPD_lag4\"]<-6.3\n",
    "master_gr[2,\"GyreSPD_lag4\"]<-5.7\n",
    "master_gr[1,\"GyreSPD_lag4\"]<-5.8\n",
    "\n",
    "#lag 5 years Gyre\n",
    "master_gr <- master_gr %>% mutate(GyreSPD_lag5 = lag(GyreSPD,5))\n",
    "master_gr[5,\"GyreSPD_lag5\"]<-6.2\n",
    "master_gr[4,\"GyreSPD_lag5\"]<-6.3\n",
    "master_gr[3,\"GyreSPD_lag5\"]<-5.7\n",
    "master_gr[2,\"GyreSPD_lag5\"]<-5.8\n",
    "master_gr[1,\"GyreSPD_lag5\"]<-5.0\n",
    "\n",
    "#lag 5 years Air Temp\n",
    "master_gr <- master_gr %>% mutate(mnAirTemp_lag5 = lag(mnAirTemp,5))\n",
    "master_gr[5,\"mnAirTemp_lag5\"]<--5.6\n",
    "master_gr[4,\"mnAirTemp_lag5\"]<--4.5\n",
    "master_gr[3,\"mnAirTemp_lag5\"]<--5.2\n",
    "master_gr[2,\"mnAirTemp_lag5\"]<--7.7\n",
    "master_gr[1,\"mnAirTemp_lag5\"]<--4.2\n",
    "\n",
    "#lag 4 years Air Temp\n",
    "master_gr <- master_gr %>% mutate(mnAirTemp_lag4 = lag(mnAirTemp,4))\n",
    "master_gr[5,\"mnAirTemp_lag4\"]<--5.6\n",
    "master_gr[4,\"mnAirTemp_lag4\"]<--4.5\n",
    "master_gr[3,\"mnAirTemp_lag4\"]<--5.2\n",
    "master_gr[2,\"mnAirTemp_lag4\"]<--7.7\n",
    "\n",
    "\n",
    "#lag 4 years FIE\n",
    "master_gr <- master_gr %>% mutate(FIE_lag6 = lag(FIE,6))\n",
    "\n",
    "\n",
    "# VARIABLES WITHOUT DATA FOR THE LAGGED YEARS (before 1998)\n",
    "\n",
    "master_gr <- master_gr %>% mutate(mnWind_lag = lag(mnWind,5))\n",
    "master_gr <- master_gr %>% mutate(Salinity_lag = lag(Salinity,5))\n",
    "master_gr <- master_gr %>% mutate(mnSST_lag = lag(nmSST_aw_RSP,5))\n",
    "master_gr <- master_gr %>% mutate(Prop134_lag = lag(Prop._134,5))\n",
    "master_gr <- master_gr %>% mutate(FIE_lag4 = lag(FIE,4))\n"
   ]
  },
  {
   "cell_type": "code",
   "execution_count": 8,
   "metadata": {},
   "outputs": [],
   "source": [
    "# Quadratic variables\n",
    "master_gr$FIE_2<- master_gr$FIE^2\n",
    "master_gr$FIE_lag4_2<- master_gr$FIE_lag4^2\n",
    "master_gr$SIE_lag4_2<- master_gr$SIE_lag4^2\n",
    "master_gr$SIE_2<- master_gr$mnSIE^2\n",
    "master_gr$mnAirTemp_2<- master_gr$mnAirTemp^2\n",
    "master_gr$SIE_lag5_2<- master_gr$SIE_lag5^2\n",
    "master_gr$mnOW_RSP6<- master_gr$mnOW_RSP/10^3\n",
    "master_gr$mnOW_MCM6<- master_gr$mnOW_MCM/10^3\n",
    "master_gr$mnOW_RSP6_2<-master_gr$mnOW_RSP6^2\n",
    "master_gr$mnOW_MCM6_2<-master_gr$mnOW_MCM6^2\n",
    "master_gr$mnChl_aw_RSP_2<-master_gr$mnChl_aw_RSP^2\n",
    "master_gr$nmSST_aw_RSP_2<-master_gr$nmSST_aw_RSP^2\n",
    "master_gr$mnWind_2<-master_gr$mnWind^2\n",
    "master_gr$GyreSPD_2<-master_gr$GyreSPD^2\n",
    "master_gr$GyreSPD_lag4_2<-master_gr$GyreSPD_lag4^2\n",
    "master_gr$GyreSPD_lag5_2<-master_gr$GyreSPD_lag5^2\n",
    "master_gr$Salinity_2<-master_gr$Salinity^2\n",
    "master_gr$intP_RSP_2<-master_gr$intP_RSP^2\n",
    "master_gr$Prop._134_2<-master_gr$Prop._134^2\n",
    "master_gr$TOTALTonnes.100_2<-master_gr$TOTALTonnes.100^2\n",
    "master_gr$mnSIE_2<- master_gr$mnSIE^2\n",
    "master_gr$mnAirTemp_2<- master_gr$mnAirTemp^2"
   ]
  },
  {
   "cell_type": "code",
   "execution_count": 9,
   "metadata": {},
   "outputs": [
    {
     "data": {
      "text/html": [
       "<table>\n",
       "<caption>A data.frame: 6 × 73</caption>\n",
       "<thead>\n",
       "\t<tr><th></th><th scope=col>year</th><th scope=col>intP_RSP</th><th scope=col>mnChl_aw_RSP</th><th scope=col>mnOW_RSP</th><th scope=col>nmSST_aw_RSP</th><th scope=col>intP_MCM</th><th scope=col>mnChl_aw_MCM</th><th scope=col>mnOW_MCM</th><th scope=col>nmSST_aw_MCM</th><th scope=col>mnAirTemp</th><th scope=col>⋯</th><th scope=col>nmSST_aw_RSP_2</th><th scope=col>mnWind_2</th><th scope=col>GyreSPD_2</th><th scope=col>GyreSPD_lag4_2</th><th scope=col>GyreSPD_lag5_2</th><th scope=col>Salinity_2</th><th scope=col>intP_RSP_2</th><th scope=col>Prop._134_2</th><th scope=col>TOTALTonnes.100_2</th><th scope=col>mnSIE_2</th></tr>\n",
       "\t<tr><th></th><th scope=col>&lt;int&gt;</th><th scope=col>&lt;dbl&gt;</th><th scope=col>&lt;dbl&gt;</th><th scope=col>&lt;int&gt;</th><th scope=col>&lt;dbl&gt;</th><th scope=col>&lt;dbl&gt;</th><th scope=col>&lt;dbl&gt;</th><th scope=col>&lt;dbl&gt;</th><th scope=col>&lt;dbl&gt;</th><th scope=col>&lt;dbl&gt;</th><th scope=col>⋯</th><th scope=col>&lt;dbl&gt;</th><th scope=col>&lt;dbl&gt;</th><th scope=col>&lt;dbl&gt;</th><th scope=col>&lt;dbl&gt;</th><th scope=col>&lt;dbl&gt;</th><th scope=col>&lt;dbl&gt;</th><th scope=col>&lt;dbl&gt;</th><th scope=col>&lt;dbl&gt;</th><th scope=col>&lt;dbl&gt;</th><th scope=col>&lt;dbl&gt;</th></tr>\n",
       "</thead>\n",
       "<tbody>\n",
       "\t<tr><th scope=row>1</th><td>2003</td><td>0.658810</td><td>1.278130</td><td>190735</td><td>-1.047010</td><td>0.1797500</td><td>0.2424260</td><td>2701.45</td><td>-1.177640</td><td>-4.625</td><td>⋯</td><td>1.0962299</td><td>73.96</td><td>49.00</td><td>33.64</td><td>25.00</td><td>1213.547</td><td>0.4340306</td><td>3025</td><td> 201.0923</td><td> 8.173881</td></tr>\n",
       "\t<tr><th scope=row>2</th><td>2004</td><td>0.659537</td><td>1.201000</td><td>268734</td><td>-0.546599</td><td>0.0595893</td><td>0.0920093</td><td>1115.63</td><td>-1.394120</td><td>-5.000</td><td>⋯</td><td>0.2987705</td><td>70.56</td><td>51.84</td><td>32.49</td><td>33.64</td><td>1213.477</td><td>0.4349891</td><td>1225</td><td> 426.2491</td><td> 7.612081</td></tr>\n",
       "\t<tr><th scope=row>3</th><td>2005</td><td>0.617897</td><td>1.116710</td><td>236044</td><td>-0.551816</td><td>0.2451990</td><td>0.5341190</td><td>3630.16</td><td>-1.099050</td><td>-5.250</td><td>⋯</td><td>0.3045009</td><td>77.44</td><td>60.84</td><td>39.69</td><td>32.49</td><td>1210.692</td><td>0.3817967</td><td>1444</td><td>1125.8508</td><td> 8.020224</td></tr>\n",
       "\t<tr><th scope=row>4</th><td>2006</td><td>0.673591</td><td>1.344420</td><td>218199</td><td>-0.970962</td><td>0.3927390</td><td>0.5908280</td><td>4718.94</td><td>-0.954533</td><td>-6.000</td><td>⋯</td><td>0.9427672</td><td>77.44</td><td>29.16</td><td>38.44</td><td>39.69</td><td>1211.040</td><td>0.4537248</td><td>2025</td><td> 729.6968</td><td> 7.496644</td></tr>\n",
       "\t<tr><th scope=row>5</th><td>2007</td><td>0.543325</td><td>1.170400</td><td>188097</td><td>-1.006890</td><td>0.3533950</td><td>0.6396110</td><td>3903.53</td><td>-1.064650</td><td>-6.800</td><td>⋯</td><td>1.0138275</td><td>88.36</td><td>24.01</td><td>49.00</td><td>38.44</td><td>      NA</td><td>0.2952021</td><td>1764</td><td> 814.4232</td><td> 9.771876</td></tr>\n",
       "\t<tr><th scope=row>6</th><td>2008</td><td>0.525248</td><td>0.962226</td><td>241795</td><td>-0.846050</td><td>0.2566900</td><td>0.5890600</td><td>1968.25</td><td>-1.173800</td><td>-5.025</td><td>⋯</td><td>0.7158006</td><td>67.24</td><td>54.76</td><td>51.84</td><td>49.00</td><td>1212.432</td><td>0.2758855</td><td>1681</td><td> 500.7257</td><td>10.029889</td></tr>\n",
       "</tbody>\n",
       "</table>\n"
      ],
      "text/latex": [
       "A data.frame: 6 × 73\n",
       "\\begin{tabular}{r|lllllllllllllllllllll}\n",
       "  & year & intP\\_RSP & mnChl\\_aw\\_RSP & mnOW\\_RSP & nmSST\\_aw\\_RSP & intP\\_MCM & mnChl\\_aw\\_MCM & mnOW\\_MCM & nmSST\\_aw\\_MCM & mnAirTemp & ⋯ & nmSST\\_aw\\_RSP\\_2 & mnWind\\_2 & GyreSPD\\_2 & GyreSPD\\_lag4\\_2 & GyreSPD\\_lag5\\_2 & Salinity\\_2 & intP\\_RSP\\_2 & Prop.\\_134\\_2 & TOTALTonnes.100\\_2 & mnSIE\\_2\\\\\n",
       "  & <int> & <dbl> & <dbl> & <int> & <dbl> & <dbl> & <dbl> & <dbl> & <dbl> & <dbl> & ⋯ & <dbl> & <dbl> & <dbl> & <dbl> & <dbl> & <dbl> & <dbl> & <dbl> & <dbl> & <dbl>\\\\\n",
       "\\hline\n",
       "\t1 & 2003 & 0.658810 & 1.278130 & 190735 & -1.047010 & 0.1797500 & 0.2424260 & 2701.45 & -1.177640 & -4.625 & ⋯ & 1.0962299 & 73.96 & 49.00 & 33.64 & 25.00 & 1213.547 & 0.4340306 & 3025 &  201.0923 &  8.173881\\\\\n",
       "\t2 & 2004 & 0.659537 & 1.201000 & 268734 & -0.546599 & 0.0595893 & 0.0920093 & 1115.63 & -1.394120 & -5.000 & ⋯ & 0.2987705 & 70.56 & 51.84 & 32.49 & 33.64 & 1213.477 & 0.4349891 & 1225 &  426.2491 &  7.612081\\\\\n",
       "\t3 & 2005 & 0.617897 & 1.116710 & 236044 & -0.551816 & 0.2451990 & 0.5341190 & 3630.16 & -1.099050 & -5.250 & ⋯ & 0.3045009 & 77.44 & 60.84 & 39.69 & 32.49 & 1210.692 & 0.3817967 & 1444 & 1125.8508 &  8.020224\\\\\n",
       "\t4 & 2006 & 0.673591 & 1.344420 & 218199 & -0.970962 & 0.3927390 & 0.5908280 & 4718.94 & -0.954533 & -6.000 & ⋯ & 0.9427672 & 77.44 & 29.16 & 38.44 & 39.69 & 1211.040 & 0.4537248 & 2025 &  729.6968 &  7.496644\\\\\n",
       "\t5 & 2007 & 0.543325 & 1.170400 & 188097 & -1.006890 & 0.3533950 & 0.6396110 & 3903.53 & -1.064650 & -6.800 & ⋯ & 1.0138275 & 88.36 & 24.01 & 49.00 & 38.44 &       NA & 0.2952021 & 1764 &  814.4232 &  9.771876\\\\\n",
       "\t6 & 2008 & 0.525248 & 0.962226 & 241795 & -0.846050 & 0.2566900 & 0.5890600 & 1968.25 & -1.173800 & -5.025 & ⋯ & 0.7158006 & 67.24 & 54.76 & 51.84 & 49.00 & 1212.432 & 0.2758855 & 1681 &  500.7257 & 10.029889\\\\\n",
       "\\end{tabular}\n"
      ],
      "text/markdown": [
       "\n",
       "A data.frame: 6 × 73\n",
       "\n",
       "| <!--/--> | year &lt;int&gt; | intP_RSP &lt;dbl&gt; | mnChl_aw_RSP &lt;dbl&gt; | mnOW_RSP &lt;int&gt; | nmSST_aw_RSP &lt;dbl&gt; | intP_MCM &lt;dbl&gt; | mnChl_aw_MCM &lt;dbl&gt; | mnOW_MCM &lt;dbl&gt; | nmSST_aw_MCM &lt;dbl&gt; | mnAirTemp &lt;dbl&gt; | ⋯ ⋯ | nmSST_aw_RSP_2 &lt;dbl&gt; | mnWind_2 &lt;dbl&gt; | GyreSPD_2 &lt;dbl&gt; | GyreSPD_lag4_2 &lt;dbl&gt; | GyreSPD_lag5_2 &lt;dbl&gt; | Salinity_2 &lt;dbl&gt; | intP_RSP_2 &lt;dbl&gt; | Prop._134_2 &lt;dbl&gt; | TOTALTonnes.100_2 &lt;dbl&gt; | mnSIE_2 &lt;dbl&gt; |\n",
       "|---|---|---|---|---|---|---|---|---|---|---|---|---|---|---|---|---|---|---|---|---|---|\n",
       "| 1 | 2003 | 0.658810 | 1.278130 | 190735 | -1.047010 | 0.1797500 | 0.2424260 | 2701.45 | -1.177640 | -4.625 | ⋯ | 1.0962299 | 73.96 | 49.00 | 33.64 | 25.00 | 1213.547 | 0.4340306 | 3025 |  201.0923 |  8.173881 |\n",
       "| 2 | 2004 | 0.659537 | 1.201000 | 268734 | -0.546599 | 0.0595893 | 0.0920093 | 1115.63 | -1.394120 | -5.000 | ⋯ | 0.2987705 | 70.56 | 51.84 | 32.49 | 33.64 | 1213.477 | 0.4349891 | 1225 |  426.2491 |  7.612081 |\n",
       "| 3 | 2005 | 0.617897 | 1.116710 | 236044 | -0.551816 | 0.2451990 | 0.5341190 | 3630.16 | -1.099050 | -5.250 | ⋯ | 0.3045009 | 77.44 | 60.84 | 39.69 | 32.49 | 1210.692 | 0.3817967 | 1444 | 1125.8508 |  8.020224 |\n",
       "| 4 | 2006 | 0.673591 | 1.344420 | 218199 | -0.970962 | 0.3927390 | 0.5908280 | 4718.94 | -0.954533 | -6.000 | ⋯ | 0.9427672 | 77.44 | 29.16 | 38.44 | 39.69 | 1211.040 | 0.4537248 | 2025 |  729.6968 |  7.496644 |\n",
       "| 5 | 2007 | 0.543325 | 1.170400 | 188097 | -1.006890 | 0.3533950 | 0.6396110 | 3903.53 | -1.064650 | -6.800 | ⋯ | 1.0138275 | 88.36 | 24.01 | 49.00 | 38.44 |       NA | 0.2952021 | 1764 |  814.4232 |  9.771876 |\n",
       "| 6 | 2008 | 0.525248 | 0.962226 | 241795 | -0.846050 | 0.2566900 | 0.5890600 | 1968.25 | -1.173800 | -5.025 | ⋯ | 0.7158006 | 67.24 | 54.76 | 51.84 | 49.00 | 1212.432 | 0.2758855 | 1681 |  500.7257 | 10.029889 |\n",
       "\n"
      ],
      "text/plain": [
       "  year intP_RSP mnChl_aw_RSP mnOW_RSP nmSST_aw_RSP intP_MCM  mnChl_aw_MCM\n",
       "1 2003 0.658810 1.278130     190735   -1.047010    0.1797500 0.2424260   \n",
       "2 2004 0.659537 1.201000     268734   -0.546599    0.0595893 0.0920093   \n",
       "3 2005 0.617897 1.116710     236044   -0.551816    0.2451990 0.5341190   \n",
       "4 2006 0.673591 1.344420     218199   -0.970962    0.3927390 0.5908280   \n",
       "5 2007 0.543325 1.170400     188097   -1.006890    0.3533950 0.6396110   \n",
       "6 2008 0.525248 0.962226     241795   -0.846050    0.2566900 0.5890600   \n",
       "  mnOW_MCM nmSST_aw_MCM mnAirTemp ⋯ nmSST_aw_RSP_2 mnWind_2 GyreSPD_2\n",
       "1 2701.45  -1.177640    -4.625    ⋯ 1.0962299      73.96    49.00    \n",
       "2 1115.63  -1.394120    -5.000    ⋯ 0.2987705      70.56    51.84    \n",
       "3 3630.16  -1.099050    -5.250    ⋯ 0.3045009      77.44    60.84    \n",
       "4 4718.94  -0.954533    -6.000    ⋯ 0.9427672      77.44    29.16    \n",
       "5 3903.53  -1.064650    -6.800    ⋯ 1.0138275      88.36    24.01    \n",
       "6 1968.25  -1.173800    -5.025    ⋯ 0.7158006      67.24    54.76    \n",
       "  GyreSPD_lag4_2 GyreSPD_lag5_2 Salinity_2 intP_RSP_2 Prop._134_2\n",
       "1 33.64          25.00          1213.547   0.4340306  3025       \n",
       "2 32.49          33.64          1213.477   0.4349891  1225       \n",
       "3 39.69          32.49          1210.692   0.3817967  1444       \n",
       "4 38.44          39.69          1211.040   0.4537248  2025       \n",
       "5 49.00          38.44                NA   0.2952021  1764       \n",
       "6 51.84          49.00          1212.432   0.2758855  1681       \n",
       "  TOTALTonnes.100_2 mnSIE_2  \n",
       "1  201.0923          8.173881\n",
       "2  426.2491          7.612081\n",
       "3 1125.8508          8.020224\n",
       "4  729.6968          7.496644\n",
       "5  814.4232          9.771876\n",
       "6  500.7257         10.029889"
      ]
     },
     "metadata": {},
     "output_type": "display_data"
    }
   ],
   "source": [
    "head(master_gr)\n"
   ]
  },
  {
   "cell_type": "code",
   "execution_count": 10,
   "metadata": {},
   "outputs": [
    {
     "data": {
      "image/png": "[encoded data removed]",
      "text/plain": [
       "plot without title"
      ]
     },
     "metadata": {
      "image/png": {
       "height": 420,
       "width": 420
      },
      "text/plain": {
       "height": 420,
       "width": 420
      }
     },
     "output_type": "display_data"
    }
   ],
   "source": [
    "ggplot(master_gr, aes(x=year, y= Fish_cum3))+geom_point()"
   ]
  },
  {
   "cell_type": "markdown",
   "metadata": {},
   "source": [
    "# Arima model with growth_wese"
   ]
  },
  {
   "cell_type": "code",
   "execution_count": 11,
   "metadata": {},
   "outputs": [
    {
     "name": "stdout",
     "output_type": "stream",
     "text": [
      "Series: master_gr$growth_wese \n",
      "ARIMA(1,0,0) with zero mean \n",
      "\n",
      "Coefficients:\n",
      "          ar1\n",
      "      -0.3381\n",
      "s.e.   0.2484\n",
      "\n",
      "sigma^2 estimated as 0.08219:  log likelihood=-2.26\n",
      "AIC=8.52   AICc=9.44   BIC=10.06\n",
      "\n",
      "Training set error measures:\n",
      "                     ME      RMSE       MAE      MPE     MAPE      MASE\n",
      "Training set 0.02013582 0.2775849 0.2133557 123.3987 123.3987 0.6292148\n",
      "                    ACF1\n",
      "Training set -0.08687543\n"
     ]
    }
   ],
   "source": [
    "#checking best model\n",
    "mdl1<-Arima(master_gr$growth_wese,order=c(1,0,0),include.mean=F,include.drift=F)\n",
    "summary(mdl1)"
   ]
  },
  {
   "cell_type": "code",
   "execution_count": 12,
   "metadata": {},
   "outputs": [
    {
     "name": "stdout",
     "output_type": "stream",
     "text": [
      "\n",
      "\tLjung-Box test\n",
      "\n",
      "data:  Residuals from ARIMA(1,0,0) with zero mean\n",
      "Q* = 2.3657, df = 3, p-value = 0.5001\n",
      "\n",
      "Model df: 1.   Total lags used: 4\n",
      "\n"
     ]
    },
    {
     "data": {
      "image/png": "[encoded data removed]",
      "text/plain": [
       "plot without title"
      ]
     },
     "metadata": {
      "image/png": {
       "height": 420,
       "width": 420
      },
      "text/plain": {
       "height": 420,
       "width": 420
      }
     },
     "output_type": "display_data"
    }
   ],
   "source": [
    "checkresiduals(mdl1)"
   ]
  },
  {
   "cell_type": "markdown",
   "metadata": {},
   "source": [
    "### NOTE that the use of an ARIMA model is not justified\n",
    "There seem to be no significant autocorrelation effects. From here down we use a regression model."
   ]
  },
  {
   "cell_type": "code",
   "execution_count": 13,
   "metadata": {},
   "outputs": [
    {
     "name": "stdout",
     "output_type": "stream",
     "text": [
      " var          vif             \n",
      " FIE          1.8613986000153 \n",
      " mnWind       4.00772426706111\n",
      " nmSST_aw_MCM 5.74833057791949\n",
      " Fish_cum3    2.60333655850395\n",
      " mnAirTemp    1.36479382717309\n",
      " mnOW_MCM6    10.815955188567 \n",
      "\n",
      "removed:  mnOW_MCM6 10.81596 \n",
      "\n"
     ]
    },
    {
     "data": {
      "text/html": [
       "<style>\n",
       ".list-inline {list-style: none; margin:0; padding: 0}\n",
       ".list-inline>li {display: inline-block}\n",
       ".list-inline>li:not(:last-child)::after {content: \"\\00b7\"; padding: 0 .5ex}\n",
       "</style>\n",
       "<ol class=list-inline><li>'FIE'</li><li>'mnWind'</li><li>'nmSST_aw_MCM'</li><li>'Fish_cum3'</li><li>'mnAirTemp'</li></ol>\n"
      ],
      "text/latex": [
       "\\begin{enumerate*}\n",
       "\\item 'FIE'\n",
       "\\item 'mnWind'\n",
       "\\item 'nmSST\\_aw\\_MCM'\n",
       "\\item 'Fish\\_cum3'\n",
       "\\item 'mnAirTemp'\n",
       "\\end{enumerate*}\n"
      ],
      "text/markdown": [
       "1. 'FIE'\n",
       "2. 'mnWind'\n",
       "3. 'nmSST_aw_MCM'\n",
       "4. 'Fish_cum3'\n",
       "5. 'mnAirTemp'\n",
       "\n",
       "\n"
      ],
      "text/plain": [
       "[1] \"FIE\"          \"mnWind\"       \"nmSST_aw_MCM\" \"Fish_cum3\"    \"mnAirTemp\"   "
      ]
     },
     "metadata": {},
     "output_type": "display_data"
    }
   ],
   "source": [
    "#threshold at 10 (it’s equivalent to explaining 99% of the information in a variable by the set of the other covariates).\n",
    "\n",
    "#select covariates based on variance inflation\n",
    "\n",
    "in_frame <- master_gr %>% select (FIE, mnWind, nmSST_aw_MCM, Fish_cum3, mnAirTemp, mnOW_MCM6)\n",
    "\n",
    "vif_func<-function(in_frame,thresh=10,trace=T,...){\n",
    "  \n",
    "  \n",
    "  \n",
    "  if(class(in_frame) != 'data.frame') in_frame<-data.frame(in_frame)\n",
    "  \n",
    "  \n",
    "  \n",
    "  #get initial vif value for all comparisons of variables\n",
    "  \n",
    "  vif_init<-NULL\n",
    "  \n",
    "  var_names <- names(in_frame)\n",
    "  \n",
    "  for(val in var_names){\n",
    "    \n",
    "    regressors <- var_names[-which(var_names == val)]\n",
    "    \n",
    "    form <- paste(regressors, collapse = '+')\n",
    "    \n",
    "    form_in <- formula(paste(val, '~', form))\n",
    "    \n",
    "    vif_init<-rbind(vif_init, c(val, VIF(lm(form_in, data = in_frame, ...))))\n",
    "    \n",
    "  }\n",
    "  \n",
    "  vif_max<-max(as.numeric(vif_init[,2]), na.rm = TRUE)\n",
    "  \n",
    "  \n",
    "  \n",
    "  if(vif_max < thresh){\n",
    "    \n",
    "    if(trace==T){ #print output of each iteration\n",
    "      \n",
    "      prmatrix(vif_init,collab=c('var','vif'),rowlab=rep('',nrow(vif_init)),quote=F)\n",
    "      \n",
    "      cat('\\n')\n",
    "      \n",
    "      cat(paste('All variables have VIF < ', thresh,', max VIF ',round(vif_max,2), sep=''),'\\n\\n')\n",
    "      \n",
    "    }\n",
    "    \n",
    "    return(var_names)\n",
    "    \n",
    "  }\n",
    "  \n",
    "  else{\n",
    "    \n",
    "    \n",
    "    \n",
    "    in_dat<-in_frame\n",
    "    \n",
    "    \n",
    "    \n",
    "    #backwards selection of explanatory variables, stops when all VIF values are below 'thresh'\n",
    "    \n",
    "    while(vif_max >= thresh){\n",
    "      \n",
    "      \n",
    "      \n",
    "      vif_vals<-NULL\n",
    "      \n",
    "      var_names <- names(in_dat)\n",
    "      \n",
    "      \n",
    "      \n",
    "      for(val in var_names){\n",
    "        \n",
    "        regressors <- var_names[-which(var_names == val)]\n",
    "        \n",
    "        form <- paste(regressors, collapse = '+')\n",
    "        \n",
    "        form_in <- formula(paste(val, '~', form))\n",
    "        \n",
    "        vif_add<-VIF(lm(form_in, data = in_dat, ...))\n",
    "        \n",
    "        vif_vals<-rbind(vif_vals,c(val,vif_add))\n",
    "        \n",
    "      }\n",
    "      \n",
    "      max_row<-which(vif_vals[,2] == max(as.numeric(vif_vals[,2]), na.rm = TRUE))[1]\n",
    "      \n",
    "      \n",
    "      \n",
    "      vif_max<-as.numeric(vif_vals[max_row,2])\n",
    "      \n",
    "      \n",
    "      \n",
    "      if(vif_max<thresh) break\n",
    "      \n",
    "      \n",
    "      \n",
    "      if(trace==T){ #print output of each iteration\n",
    "        \n",
    "        prmatrix(vif_vals,collab=c('var','vif'),rowlab=rep('',nrow(vif_vals)),quote=F)\n",
    "        \n",
    "        cat('\\n')\n",
    "        \n",
    "        cat('removed: ',vif_vals[max_row,1],vif_max,'\\n\\n')\n",
    "        \n",
    "        flush.console()\n",
    "        \n",
    "      }\n",
    "      \n",
    "      \n",
    "      \n",
    "      in_dat<-in_dat[,!names(in_dat) %in% vif_vals[max_row,1]]\n",
    "      \n",
    "      \n",
    "      \n",
    "    }\n",
    "    \n",
    "    \n",
    "    \n",
    "    return(names(in_dat))\n",
    "    \n",
    "    \n",
    "    \n",
    "  }\n",
    "  \n",
    "  \n",
    "  \n",
    "}\n",
    "  \n",
    "vif_func(in_frame,thresh=10,trace=T)"
   ]
  },
  {
   "cell_type": "markdown",
   "metadata": {},
   "source": [
    "# Fish variables"
   ]
  },
  {
   "cell_type": "code",
   "execution_count": 14,
   "metadata": {},
   "outputs": [],
   "source": [
    "# Fish_cum3= cumulative 3 years (no weights)\n",
    "# Fish_cum_8_9_1= 3 years with weights (80%, 90% and 100%)\n",
    "# Fish_cum_6_8_1= 3 years with weights (60%, 80% and 100%)\n",
    "# Fish_cum2= cumulative 2 years (no weights)\n",
    "# Fish_cum_75_1= 2 years with weights (75% and 100%)\n",
    "# Fish_cum_5_1= 2 years with weights (50% and 100%)\n",
    "# Fish_cum_2_1= 2 years with weights (20% and 100%)"
   ]
  },
  {
   "cell_type": "code",
   "execution_count": 15,
   "metadata": {},
   "outputs": [],
   "source": [
    "#Saturated model\n",
    "\n",
    "model_wese<- lm(growth_wese~ FIE+ mnWind + nmSST_aw_MCM + Fish_cum3 + mnAirTemp +  mnOW_MCM6, data=master_gr)"
   ]
  },
  {
   "cell_type": "code",
   "execution_count": 16,
   "metadata": {},
   "outputs": [
    {
     "data": {
      "text/plain": [
       "\n",
       "Call:\n",
       "lm(formula = growth_wese ~ FIE + mnWind + nmSST_aw_MCM + Fish_cum3 + \n",
       "    mnAirTemp + mnOW_MCM6, data = master_gr)\n",
       "\n",
       "Residuals:\n",
       "     Min       1Q   Median       3Q      Max \n",
       "-0.19164 -0.13320  0.01736  0.11230  0.18859 \n",
       "\n",
       "Coefficients:\n",
       "              Estimate Std. Error t value Pr(>|t|)  \n",
       "(Intercept)  -0.330197   0.780564  -0.423   0.6822  \n",
       "FIE           0.010442   0.004068   2.567   0.0303 *\n",
       "mnWind       -0.148211   0.098992  -1.497   0.1686  \n",
       "nmSST_aw_MCM -0.204287   0.585192  -0.349   0.7350  \n",
       "Fish_cum3     0.003942   0.009197   0.429   0.6783  \n",
       "mnAirTemp    -0.073455   0.081044  -0.906   0.3884  \n",
       "mnOW_MCM6     0.189035   0.127080   1.488   0.1710  \n",
       "---\n",
       "Signif. codes:  0 ‘***’ 0.001 ‘**’ 0.01 ‘*’ 0.05 ‘.’ 0.1 ‘ ’ 1\n",
       "\n",
       "Residual standard error: 0.1797 on 9 degrees of freedom\n",
       "Multiple R-squared:  0.7899,\tAdjusted R-squared:  0.6498 \n",
       "F-statistic: 5.639 on 6 and 9 DF,  p-value: 0.01097\n"
      ]
     },
     "metadata": {},
     "output_type": "display_data"
    },
    {
     "data": {
      "text/html": [
       "'AIC: -2.73494514806318'"
      ],
      "text/latex": [
       "'AIC: -2.73494514806318'"
      ],
      "text/markdown": [
       "'AIC: -2.73494514806318'"
      ],
      "text/plain": [
       "[1] \"AIC: -2.73494514806318\""
      ]
     },
     "metadata": {},
     "output_type": "display_data"
    }
   ],
   "source": [
    "summary(model_wese); paste(\"AIC:\",AIC(model_wese))"
   ]
  },
  {
   "cell_type": "code",
   "execution_count": 17,
   "metadata": {},
   "outputs": [
    {
     "data": {
      "text/html": [
       "<table>\n",
       "<caption>A data.frame: 16 × 10</caption>\n",
       "<thead>\n",
       "\t<tr><th scope=col>year</th><th scope=col>FIE</th><th scope=col>GyreSPD</th><th scope=col>mnWind</th><th scope=col>nmSST_aw_MCM</th><th scope=col>Fish_cum3</th><th scope=col>Fish_cum_6_8_1</th><th scope=col>Fish_cum_75_1</th><th scope=col>mnAirTemp</th><th scope=col>mnOW_MCM6</th></tr>\n",
       "\t<tr><th scope=col>&lt;int&gt;</th><th scope=col>&lt;dbl&gt;</th><th scope=col>&lt;dbl&gt;</th><th scope=col>&lt;dbl&gt;</th><th scope=col>&lt;dbl&gt;</th><th scope=col>&lt;dbl&gt;</th><th scope=col>&lt;dbl&gt;</th><th scope=col>&lt;dbl&gt;</th><th scope=col>&lt;dbl&gt;</th><th scope=col>&lt;dbl&gt;</th></tr>\n",
       "</thead>\n",
       "<tbody>\n",
       "\t<tr><td>2003</td><td>52.0</td><td>7.0</td><td> 8.6</td><td>-1.177640</td><td>10.20478</td><td> 9.587261</td><td> 9.091788</td><td>-4.625</td><td>2.70145</td></tr>\n",
       "\t<tr><td>2004</td><td>14.9</td><td>7.2</td><td> 8.4</td><td>-1.394120</td><td>16.74862</td><td>14.499460</td><td>13.075569</td><td>-5.000</td><td>1.11563</td></tr>\n",
       "\t<tr><td>2005</td><td>47.0</td><td>7.8</td><td> 8.8</td><td>-1.099050</td><td>27.77582</td><td>23.210861</td><td>18.169929</td><td>-5.250</td><td>3.63016</td></tr>\n",
       "\t<tr><td>2006</td><td>47.0</td><td>5.4</td><td> 8.8</td><td>-0.954533</td><td>32.13224</td><td>26.691748</td><td>21.718609</td><td>-6.000</td><td>4.71894</td></tr>\n",
       "\t<tr><td>2007</td><td>23.0</td><td>4.9</td><td> 9.4</td><td>-1.064650</td><td>36.89221</td><td>29.360890</td><td>21.102856</td><td>-6.800</td><td>3.90353</td></tr>\n",
       "\t<tr><td>2008</td><td>20.0</td><td>7.4</td><td> 8.2</td><td>-1.173800</td><td>33.31634</td><td>26.056814</td><td>18.164030</td><td>-5.025</td><td>1.96825</td></tr>\n",
       "\t<tr><td>2009</td><td>38.0</td><td>6.1</td><td> 9.2</td><td>-0.939651</td><td>30.58369</td><td>23.954386</td><td>16.304059</td><td>-5.475</td><td>5.00304</td></tr>\n",
       "\t<tr><td>2010</td><td>18.0</td><td>7.8</td><td> 8.8</td><td>-0.910408</td><td>30.33708</td><td>24.782637</td><td>18.806762</td><td>-4.800</td><td>4.67662</td></tr>\n",
       "\t<tr><td>2011</td><td>18.0</td><td>5.6</td><td> 8.6</td><td>-1.145310</td><td>31.43484</td><td>25.317699</td><td>19.076832</td><td>-4.475</td><td>3.44675</td></tr>\n",
       "\t<tr><td>2012</td><td>16.0</td><td>6.4</td><td> 8.0</td><td>-1.007750</td><td>30.11851</td><td>23.368292</td><td>15.811044</td><td>-4.325</td><td>3.79997</td></tr>\n",
       "\t<tr><td>2013</td><td>18.0</td><td>5.0</td><td> 8.8</td><td>-0.529366</td><td>25.28148</td><td>19.551199</td><td>12.982484</td><td>-5.475</td><td>4.80929</td></tr>\n",
       "\t<tr><td>2014</td><td>20.0</td><td>6.7</td><td> 9.2</td><td>-0.991542</td><td>20.07679</td><td>15.453585</td><td>10.244371</td><td>-5.425</td><td>3.85574</td></tr>\n",
       "\t<tr><td>2015</td><td>20.0</td><td>7.4</td><td>10.4</td><td>-0.801907</td><td>16.79036</td><td>13.015897</td><td> 8.621099</td><td>-5.275</td><td>4.85060</td></tr>\n",
       "\t<tr><td>2016</td><td>15.0</td><td>6.6</td><td> 8.2</td><td>-1.027590</td><td>12.70800</td><td> 9.716879</td><td> 6.435300</td><td>-6.175</td><td>2.02915</td></tr>\n",
       "\t<tr><td>2017</td><td>60.0</td><td>7.3</td><td> 8.8</td><td>-1.148770</td><td>17.55640</td><td>15.064240</td><td>12.031000</td><td>-4.700</td><td>3.26214</td></tr>\n",
       "\t<tr><td>2018</td><td>13.5</td><td> NA</td><td>11.8</td><td>-1.057240</td><td>21.17440</td><td>18.063200</td><td>15.875400</td><td>-4.700</td><td>4.95809</td></tr>\n",
       "</tbody>\n",
       "</table>\n"
      ],
      "text/latex": [
       "A data.frame: 16 × 10\n",
       "\\begin{tabular}{llllllllll}\n",
       " year & FIE & GyreSPD & mnWind & nmSST\\_aw\\_MCM & Fish\\_cum3 & Fish\\_cum\\_6\\_8\\_1 & Fish\\_cum\\_75\\_1 & mnAirTemp & mnOW\\_MCM6\\\\\n",
       " <int> & <dbl> & <dbl> & <dbl> & <dbl> & <dbl> & <dbl> & <dbl> & <dbl> & <dbl>\\\\\n",
       "\\hline\n",
       "\t 2003 & 52.0 & 7.0 &  8.6 & -1.177640 & 10.20478 &  9.587261 &  9.091788 & -4.625 & 2.70145\\\\\n",
       "\t 2004 & 14.9 & 7.2 &  8.4 & -1.394120 & 16.74862 & 14.499460 & 13.075569 & -5.000 & 1.11563\\\\\n",
       "\t 2005 & 47.0 & 7.8 &  8.8 & -1.099050 & 27.77582 & 23.210861 & 18.169929 & -5.250 & 3.63016\\\\\n",
       "\t 2006 & 47.0 & 5.4 &  8.8 & -0.954533 & 32.13224 & 26.691748 & 21.718609 & -6.000 & 4.71894\\\\\n",
       "\t 2007 & 23.0 & 4.9 &  9.4 & -1.064650 & 36.89221 & 29.360890 & 21.102856 & -6.800 & 3.90353\\\\\n",
       "\t 2008 & 20.0 & 7.4 &  8.2 & -1.173800 & 33.31634 & 26.056814 & 18.164030 & -5.025 & 1.96825\\\\\n",
       "\t 2009 & 38.0 & 6.1 &  9.2 & -0.939651 & 30.58369 & 23.954386 & 16.304059 & -5.475 & 5.00304\\\\\n",
       "\t 2010 & 18.0 & 7.8 &  8.8 & -0.910408 & 30.33708 & 24.782637 & 18.806762 & -4.800 & 4.67662\\\\\n",
       "\t 2011 & 18.0 & 5.6 &  8.6 & -1.145310 & 31.43484 & 25.317699 & 19.076832 & -4.475 & 3.44675\\\\\n",
       "\t 2012 & 16.0 & 6.4 &  8.0 & -1.007750 & 30.11851 & 23.368292 & 15.811044 & -4.325 & 3.79997\\\\\n",
       "\t 2013 & 18.0 & 5.0 &  8.8 & -0.529366 & 25.28148 & 19.551199 & 12.982484 & -5.475 & 4.80929\\\\\n",
       "\t 2014 & 20.0 & 6.7 &  9.2 & -0.991542 & 20.07679 & 15.453585 & 10.244371 & -5.425 & 3.85574\\\\\n",
       "\t 2015 & 20.0 & 7.4 & 10.4 & -0.801907 & 16.79036 & 13.015897 &  8.621099 & -5.275 & 4.85060\\\\\n",
       "\t 2016 & 15.0 & 6.6 &  8.2 & -1.027590 & 12.70800 &  9.716879 &  6.435300 & -6.175 & 2.02915\\\\\n",
       "\t 2017 & 60.0 & 7.3 &  8.8 & -1.148770 & 17.55640 & 15.064240 & 12.031000 & -4.700 & 3.26214\\\\\n",
       "\t 2018 & 13.5 &  NA & 11.8 & -1.057240 & 21.17440 & 18.063200 & 15.875400 & -4.700 & 4.95809\\\\\n",
       "\\end{tabular}\n"
      ],
      "text/markdown": [
       "\n",
       "A data.frame: 16 × 10\n",
       "\n",
       "| year &lt;int&gt; | FIE &lt;dbl&gt; | GyreSPD &lt;dbl&gt; | mnWind &lt;dbl&gt; | nmSST_aw_MCM &lt;dbl&gt; | Fish_cum3 &lt;dbl&gt; | Fish_cum_6_8_1 &lt;dbl&gt; | Fish_cum_75_1 &lt;dbl&gt; | mnAirTemp &lt;dbl&gt; | mnOW_MCM6 &lt;dbl&gt; |\n",
       "|---|---|---|---|---|---|---|---|---|---|\n",
       "| 2003 | 52.0 | 7.0 |  8.6 | -1.177640 | 10.20478 |  9.587261 |  9.091788 | -4.625 | 2.70145 |\n",
       "| 2004 | 14.9 | 7.2 |  8.4 | -1.394120 | 16.74862 | 14.499460 | 13.075569 | -5.000 | 1.11563 |\n",
       "| 2005 | 47.0 | 7.8 |  8.8 | -1.099050 | 27.77582 | 23.210861 | 18.169929 | -5.250 | 3.63016 |\n",
       "| 2006 | 47.0 | 5.4 |  8.8 | -0.954533 | 32.13224 | 26.691748 | 21.718609 | -6.000 | 4.71894 |\n",
       "| 2007 | 23.0 | 4.9 |  9.4 | -1.064650 | 36.89221 | 29.360890 | 21.102856 | -6.800 | 3.90353 |\n",
       "| 2008 | 20.0 | 7.4 |  8.2 | -1.173800 | 33.31634 | 26.056814 | 18.164030 | -5.025 | 1.96825 |\n",
       "| 2009 | 38.0 | 6.1 |  9.2 | -0.939651 | 30.58369 | 23.954386 | 16.304059 | -5.475 | 5.00304 |\n",
       "| 2010 | 18.0 | 7.8 |  8.8 | -0.910408 | 30.33708 | 24.782637 | 18.806762 | -4.800 | 4.67662 |\n",
       "| 2011 | 18.0 | 5.6 |  8.6 | -1.145310 | 31.43484 | 25.317699 | 19.076832 | -4.475 | 3.44675 |\n",
       "| 2012 | 16.0 | 6.4 |  8.0 | -1.007750 | 30.11851 | 23.368292 | 15.811044 | -4.325 | 3.79997 |\n",
       "| 2013 | 18.0 | 5.0 |  8.8 | -0.529366 | 25.28148 | 19.551199 | 12.982484 | -5.475 | 4.80929 |\n",
       "| 2014 | 20.0 | 6.7 |  9.2 | -0.991542 | 20.07679 | 15.453585 | 10.244371 | -5.425 | 3.85574 |\n",
       "| 2015 | 20.0 | 7.4 | 10.4 | -0.801907 | 16.79036 | 13.015897 |  8.621099 | -5.275 | 4.85060 |\n",
       "| 2016 | 15.0 | 6.6 |  8.2 | -1.027590 | 12.70800 |  9.716879 |  6.435300 | -6.175 | 2.02915 |\n",
       "| 2017 | 60.0 | 7.3 |  8.8 | -1.148770 | 17.55640 | 15.064240 | 12.031000 | -4.700 | 3.26214 |\n",
       "| 2018 | 13.5 |  NA | 11.8 | -1.057240 | 21.17440 | 18.063200 | 15.875400 | -4.700 | 4.95809 |\n",
       "\n"
      ],
      "text/plain": [
       "   year FIE  GyreSPD mnWind nmSST_aw_MCM Fish_cum3 Fish_cum_6_8_1 Fish_cum_75_1\n",
       "1  2003 52.0 7.0      8.6   -1.177640    10.20478   9.587261       9.091788    \n",
       "2  2004 14.9 7.2      8.4   -1.394120    16.74862  14.499460      13.075569    \n",
       "3  2005 47.0 7.8      8.8   -1.099050    27.77582  23.210861      18.169929    \n",
       "4  2006 47.0 5.4      8.8   -0.954533    32.13224  26.691748      21.718609    \n",
       "5  2007 23.0 4.9      9.4   -1.064650    36.89221  29.360890      21.102856    \n",
       "6  2008 20.0 7.4      8.2   -1.173800    33.31634  26.056814      18.164030    \n",
       "7  2009 38.0 6.1      9.2   -0.939651    30.58369  23.954386      16.304059    \n",
       "8  2010 18.0 7.8      8.8   -0.910408    30.33708  24.782637      18.806762    \n",
       "9  2011 18.0 5.6      8.6   -1.145310    31.43484  25.317699      19.076832    \n",
       "10 2012 16.0 6.4      8.0   -1.007750    30.11851  23.368292      15.811044    \n",
       "11 2013 18.0 5.0      8.8   -0.529366    25.28148  19.551199      12.982484    \n",
       "12 2014 20.0 6.7      9.2   -0.991542    20.07679  15.453585      10.244371    \n",
       "13 2015 20.0 7.4     10.4   -0.801907    16.79036  13.015897       8.621099    \n",
       "14 2016 15.0 6.6      8.2   -1.027590    12.70800   9.716879       6.435300    \n",
       "15 2017 60.0 7.3      8.8   -1.148770    17.55640  15.064240      12.031000    \n",
       "16 2018 13.5  NA     11.8   -1.057240    21.17440  18.063200      15.875400    \n",
       "   mnAirTemp mnOW_MCM6\n",
       "1  -4.625    2.70145  \n",
       "2  -5.000    1.11563  \n",
       "3  -5.250    3.63016  \n",
       "4  -6.000    4.71894  \n",
       "5  -6.800    3.90353  \n",
       "6  -5.025    1.96825  \n",
       "7  -5.475    5.00304  \n",
       "8  -4.800    4.67662  \n",
       "9  -4.475    3.44675  \n",
       "10 -4.325    3.79997  \n",
       "11 -5.475    4.80929  \n",
       "12 -5.425    3.85574  \n",
       "13 -5.275    4.85060  \n",
       "14 -6.175    2.02915  \n",
       "15 -4.700    3.26214  \n",
       "16 -4.700    4.95809  "
      ]
     },
     "metadata": {},
     "output_type": "display_data"
    }
   ],
   "source": [
    "master_gr[,c(\"year\",\"FIE\", \"GyreSPD\", \"mnWind\", \"nmSST_aw_MCM\" ,\"Fish_cum3\", \"Fish_cum_6_8_1\", \"Fish_cum_75_1\", \"mnAirTemp\", \"mnOW_MCM6\")]"
   ]
  },
  {
   "cell_type": "code",
   "execution_count": 18,
   "metadata": {},
   "outputs": [
    {
     "name": "stdout",
     "output_type": "stream",
     "text": [
      "Start:  AIC=-50.14\n",
      "growth_wese ~ FIE + mnWind + nmSST_aw_MCM + Fish_cum3 + mnAirTemp + \n",
      "    mnOW_MCM6\n",
      "\n",
      "               Df Sum of Sq     RSS     AIC\n",
      "- nmSST_aw_MCM  1  0.003933 0.29441 -51.926\n",
      "- Fish_cum3     1  0.005928 0.29641 -51.818\n",
      "- mnAirTemp     1  0.026514 0.31699 -50.743\n",
      "<none>                      0.29048 -50.141\n",
      "- mnOW_MCM6     1  0.071417 0.36190 -48.624\n",
      "- mnWind        1  0.072350 0.36283 -48.583\n",
      "- FIE           1  0.212659 0.50314 -43.352\n",
      "\n",
      "Step:  AIC=-51.93\n",
      "growth_wese ~ FIE + mnWind + Fish_cum3 + mnAirTemp + mnOW_MCM6\n",
      "\n",
      "            Df Sum of Sq     RSS     AIC\n",
      "- mnAirTemp  1   0.02293 0.31734 -52.726\n",
      "- Fish_cum3  1   0.02373 0.31815 -52.685\n",
      "<none>                   0.29441 -51.926\n",
      "- mnWind     1   0.10269 0.39711 -49.138\n",
      "- mnOW_MCM6  1   0.22272 0.51713 -44.913\n",
      "- FIE        1   0.41362 0.70803 -39.886\n",
      "\n",
      "Step:  AIC=-52.73\n",
      "growth_wese ~ FIE + mnWind + Fish_cum3 + mnOW_MCM6\n",
      "\n",
      "            Df Sum of Sq     RSS     AIC\n",
      "- Fish_cum3  1   0.03425 0.35159 -53.086\n",
      "<none>                   0.31734 -52.726\n",
      "- mnWind     1   0.09742 0.41475 -50.443\n",
      "- mnOW_MCM6  1   0.21873 0.53607 -46.337\n",
      "- FIE        1   0.41716 0.73450 -41.299\n",
      "\n",
      "Step:  AIC=-53.09\n",
      "growth_wese ~ FIE + mnWind + mnOW_MCM6\n",
      "\n",
      "            Df Sum of Sq     RSS     AIC\n",
      "<none>                   0.35159 -53.086\n",
      "- mnWind     1   0.19647 0.54806 -47.983\n",
      "- FIE        1   0.38318 0.73477 -43.293\n",
      "- mnOW_MCM6  1   0.45763 0.80922 -41.748\n"
     ]
    },
    {
     "data": {
      "text/plain": [
       "\n",
       "Call:\n",
       "lm(formula = growth_wese ~ FIE + mnWind + mnOW_MCM6, data = master_gr)\n",
       "\n",
       "Coefficients:\n",
       "(Intercept)          FIE       mnWind    mnOW_MCM6  \n",
       "    0.42764      0.01053     -0.15221      0.17973  \n"
      ]
     },
     "metadata": {},
     "output_type": "display_data"
    }
   ],
   "source": [
    "step(model_wese)"
   ]
  },
  {
   "cell_type": "code",
   "execution_count": 19,
   "metadata": {
    "scrolled": true
   },
   "outputs": [
    {
     "data": {
      "text/plain": [
       "\n",
       "Call:\n",
       "lm(formula = growth_wese ~ FIE + mnWind + mnOW_MCM6, data = master_gr)\n",
       "\n",
       "Residuals:\n",
       "     Min       1Q   Median       3Q      Max \n",
       "-0.20428 -0.15388  0.03637  0.11878  0.28260 \n",
       "\n",
       "Coefficients:\n",
       "             Estimate Std. Error t value Pr(>|t|)   \n",
       "(Intercept)  0.427640   0.475621   0.899  0.38628   \n",
       "FIE          0.010526   0.002911   3.616  0.00354 **\n",
       "mnWind      -0.152212   0.058779  -2.590  0.02368 * \n",
       "mnOW_MCM6    0.179734   0.045478   3.952  0.00192 **\n",
       "---\n",
       "Signif. codes:  0 ‘***’ 0.001 ‘**’ 0.01 ‘*’ 0.05 ‘.’ 0.1 ‘ ’ 1\n",
       "\n",
       "Residual standard error: 0.1712 on 12 degrees of freedom\n",
       "Multiple R-squared:  0.7457,\tAdjusted R-squared:  0.6821 \n",
       "F-statistic: 11.73 on 3 and 12 DF,  p-value: 0.0007018\n"
      ]
     },
     "metadata": {},
     "output_type": "display_data"
    },
    {
     "data": {
      "text/html": [
       "'AIC: -5.68013503342124'"
      ],
      "text/latex": [
       "'AIC: -5.68013503342124'"
      ],
      "text/markdown": [
       "'AIC: -5.68013503342124'"
      ],
      "text/plain": [
       "[1] \"AIC: -5.68013503342124\""
      ]
     },
     "metadata": {},
     "output_type": "display_data"
    }
   ],
   "source": [
    "#trying model above\n",
    "model_wese<- lm(formula = growth_wese ~ FIE + mnWind + mnOW_MCM6, data = master_gr)\n",
    "summary (model_wese); paste(\"AIC:\",AIC(model_wese))"
   ]
  },
  {
   "cell_type": "code",
   "execution_count": 20,
   "metadata": {},
   "outputs": [
    {
     "data": {
      "text/plain": [
       "\n",
       "Call:\n",
       "lm(formula = growth_wese ~ FIE + mnWind + Fish_cum3 + mnOW_MCM6, \n",
       "    data = master_gr)\n",
       "\n",
       "Residuals:\n",
       "      Min        1Q    Median        3Q       Max \n",
       "-0.170399 -0.144717  0.001645  0.120113  0.193478 \n",
       "\n",
       "Coefficients:\n",
       "             Estimate Std. Error t value Pr(>|t|)   \n",
       "(Intercept)  0.057114   0.581711   0.098  0.92355   \n",
       "FIE          0.011381   0.002993   3.803  0.00293 **\n",
       "mnWind      -0.120092   0.065353  -1.838  0.09326 . \n",
       "Fish_cum3    0.007105   0.006521   1.090  0.29920   \n",
       "mnOW_MCM6    0.147955   0.053732   2.754  0.01877 * \n",
       "---\n",
       "Signif. codes:  0 ‘***’ 0.001 ‘**’ 0.01 ‘*’ 0.05 ‘.’ 0.1 ‘ ’ 1\n",
       "\n",
       "Residual standard error: 0.1698 on 11 degrees of freedom\n",
       "Multiple R-squared:  0.7704,\tAdjusted R-squared:  0.687 \n",
       "F-statistic:  9.23 on 4 and 11 DF,  p-value: 0.0016\n"
      ]
     },
     "metadata": {},
     "output_type": "display_data"
    },
    {
     "data": {
      "text/html": [
       "'AIC: -5.31993041081639'"
      ],
      "text/latex": [
       "'AIC: -5.31993041081639'"
      ],
      "text/markdown": [
       "'AIC: -5.31993041081639'"
      ],
      "text/plain": [
       "[1] \"AIC: -5.31993041081639\""
      ]
     },
     "metadata": {},
     "output_type": "display_data"
    }
   ],
   "source": [
    "#Including Fish cum\n",
    "model_wese<- lm(formula = growth_wese ~ FIE + mnWind + Fish_cum3 + mnOW_MCM6, data = master_gr)\n",
    "summary (model_wese); paste(\"AIC:\",AIC(model_wese))\n"
   ]
  },
  {
   "cell_type": "code",
   "execution_count": 21,
   "metadata": {},
   "outputs": [
    {
     "data": {
      "text/plain": [
       "\n",
       "Call:\n",
       "lm(formula = growth_wese ~ FIE + mnWind + Fish_cum3 + mnOW_MCM6 + \n",
       "    GyreSPD, data = master_gr)\n",
       "\n",
       "Residuals:\n",
       "     Min       1Q   Median       3Q      Max \n",
       "-0.20012 -0.08440  0.01108  0.10239  0.16174 \n",
       "\n",
       "Coefficients:\n",
       "             Estimate Std. Error t value Pr(>|t|)   \n",
       "(Intercept) -1.353959   0.824473  -1.642  0.13496   \n",
       "FIE          0.010362   0.002717   3.814  0.00413 **\n",
       "mnWind       0.017528   0.093077   0.188  0.85481   \n",
       "Fish_cum3    0.009759   0.006008   1.624  0.13879   \n",
       "mnOW_MCM6    0.124051   0.052387   2.368  0.04205 * \n",
       "GyreSPD      0.039276   0.047008   0.836  0.42505   \n",
       "---\n",
       "Signif. codes:  0 ‘***’ 0.001 ‘**’ 0.01 ‘*’ 0.05 ‘.’ 0.1 ‘ ’ 1\n",
       "\n",
       "Residual standard error: 0.1513 on 9 degrees of freedom\n",
       "  (1 observation deleted due to missingness)\n",
       "Multiple R-squared:  0.816,\tAdjusted R-squared:  0.7139 \n",
       "F-statistic: 7.985 on 5 and 9 DF,  p-value: 0.00398\n"
      ]
     },
     "metadata": {},
     "output_type": "display_data"
    },
    {
     "data": {
      "text/html": [
       "'AIC: -7.74983086549227'"
      ],
      "text/latex": [
       "'AIC: -7.74983086549227'"
      ],
      "text/markdown": [
       "'AIC: -7.74983086549227'"
      ],
      "text/plain": [
       "[1] \"AIC: -7.74983086549227\""
      ]
     },
     "metadata": {},
     "output_type": "display_data"
    }
   ],
   "source": [
    "# Including Gyre\n",
    "model_wese<- lm(formula = growth_wese ~ FIE + mnWind + Fish_cum3 + mnOW_MCM6 + GyreSPD, data = master_gr)\n",
    "summary (model_wese); paste(\"AIC:\",AIC(model_wese))"
   ]
  },
  {
   "cell_type": "code",
   "execution_count": 22,
   "metadata": {},
   "outputs": [
    {
     "data": {
      "text/plain": [
       "\n",
       "Call:\n",
       "lm(formula = growth_wese ~ FIE + mnWind + Fish_cum3 + mnOW_MCM6 + \n",
       "    GyreSPD, data = master_gr)\n",
       "\n",
       "Residuals:\n",
       "     Min       1Q   Median       3Q      Max \n",
       "-0.20012 -0.08440  0.01108  0.10239  0.16174 \n",
       "\n",
       "Coefficients:\n",
       "             Estimate Std. Error t value Pr(>|t|)   \n",
       "(Intercept) -1.353959   0.824473  -1.642  0.13496   \n",
       "FIE          0.010362   0.002717   3.814  0.00413 **\n",
       "mnWind       0.017528   0.093077   0.188  0.85481   \n",
       "Fish_cum3    0.009759   0.006008   1.624  0.13879   \n",
       "mnOW_MCM6    0.124051   0.052387   2.368  0.04205 * \n",
       "GyreSPD      0.039276   0.047008   0.836  0.42505   \n",
       "---\n",
       "Signif. codes:  0 ‘***’ 0.001 ‘**’ 0.01 ‘*’ 0.05 ‘.’ 0.1 ‘ ’ 1\n",
       "\n",
       "Residual standard error: 0.1513 on 9 degrees of freedom\n",
       "  (1 observation deleted due to missingness)\n",
       "Multiple R-squared:  0.816,\tAdjusted R-squared:  0.7139 \n",
       "F-statistic: 7.985 on 5 and 9 DF,  p-value: 0.00398\n"
      ]
     },
     "metadata": {},
     "output_type": "display_data"
    },
    {
     "data": {
      "text/html": [
       "'AIC: -7.74983086549227'"
      ],
      "text/latex": [
       "'AIC: -7.74983086549227'"
      ],
      "text/markdown": [
       "'AIC: -7.74983086549227'"
      ],
      "text/plain": [
       "[1] \"AIC: -7.74983086549227\""
      ]
     },
     "metadata": {},
     "output_type": "display_data"
    }
   ],
   "source": [
    "#trying ALL FISH_CUM. BEST MODEL?  Best model is with Fish_cum3\n",
    "model_wese<- lm(formula = growth_wese ~ FIE + mnWind + Fish_cum3 + mnOW_MCM6 + GyreSPD, data = master_gr)\n",
    "summary (model_wese); paste(\"AIC:\",AIC(model_wese))"
   ]
  },
  {
   "cell_type": "code",
   "execution_count": 23,
   "metadata": {},
   "outputs": [
    {
     "name": "stderr",
     "output_type": "stream",
     "text": [
      "Warning message in cor.test.default(master_gr$FIE, master_gr$mnOW_MCM6, method = \"spearman\"):\n",
      "“Cannot compute exact p-value with ties”\n"
     ]
    },
    {
     "data": {
      "text/plain": [
       "\n",
       "\tSpearman's rank correlation rho\n",
       "\n",
       "data:  master_gr$FIE and master_gr$mnOW_MCM6\n",
       "S = 668.93, p-value = 0.9523\n",
       "alternative hypothesis: true rho is not equal to 0\n",
       "sample estimates:\n",
       "      rho \n",
       "0.0162846 \n"
      ]
     },
     "metadata": {},
     "output_type": "display_data"
    }
   ],
   "source": [
    "test <- cor.test(master_gr$FIE, master_gr$mnOW_MCM6, method= \"spearman\")\n",
    "test\n"
   ]
  },
  {
   "cell_type": "markdown",
   "metadata": {},
   "source": [
    "# BEST MODEL\n",
    "The model below is the best model we found. At the bottom we do a likelihood ratio test to justify the exclusion of wind effects in the model. We also fit reduced models from this one, one variable at the time."
   ]
  },
  {
   "cell_type": "code",
   "execution_count": 24,
   "metadata": {},
   "outputs": [
    {
     "data": {
      "text/plain": [
       "\n",
       "Call:\n",
       "lm(formula = growth_wese ~ FIE + mnOW_MCM6 + GyreSPD + Fish_cum3, \n",
       "    data = master_gr)\n",
       "\n",
       "Residuals:\n",
       "      Min        1Q    Median        3Q       Max \n",
       "-0.195570 -0.087610 -0.003034  0.103752  0.161810 \n",
       "\n",
       "Coefficients:\n",
       "             Estimate Std. Error t value Pr(>|t|)   \n",
       "(Intercept) -1.218671   0.384500  -3.169  0.01000 **\n",
       "FIE          0.010307   0.002568   4.014  0.00246 **\n",
       "mnOW_MCM6    0.130653   0.037001   3.531  0.00544 **\n",
       "GyreSPD      0.040298   0.044385   0.908  0.38528   \n",
       "Fish_cum3    0.009370   0.005364   1.747  0.11125   \n",
       "---\n",
       "Signif. codes:  0 ‘***’ 0.001 ‘**’ 0.01 ‘*’ 0.05 ‘.’ 0.1 ‘ ’ 1\n",
       "\n",
       "Residual standard error: 0.1438 on 10 degrees of freedom\n",
       "  (1 observation deleted due to missingness)\n",
       "Multiple R-squared:  0.8153,\tAdjusted R-squared:  0.7415 \n",
       "F-statistic: 11.04 on 4 and 10 DF,  p-value: 0.00109\n"
      ]
     },
     "metadata": {},
     "output_type": "display_data"
    },
    {
     "data": {
      "text/html": [
       "'AIC: -9.6908445481179'"
      ],
      "text/latex": [
       "'AIC: -9.6908445481179'"
      ],
      "text/markdown": [
       "'AIC: -9.6908445481179'"
      ],
      "text/plain": [
       "[1] \"AIC: -9.6908445481179\""
      ]
     },
     "metadata": {},
     "output_type": "display_data"
    },
    {
     "data": {
      "text/plain": [
       "'log Lik.' 10.84542 (df=6)"
      ]
     },
     "metadata": {},
     "output_type": "display_data"
    }
   ],
   "source": [
    "# Top model\n",
    "top_model_wese<- lm(formula = growth_wese ~ FIE + mnOW_MCM6 + GyreSPD + Fish_cum3, data = master_gr)\n",
    "summary (top_model_wese); paste(\"AIC:\",AIC(top_model_wese))\n",
    "logLik(top_model_wese)"
   ]
  },
  {
   "cell_type": "code",
   "execution_count": 25,
   "metadata": {},
   "outputs": [
    {
     "data": {
      "text/plain": [
       "\n",
       "Call:\n",
       "lm(formula = growth_wese ~ mnOW_MCM6 + GyreSPD + Fish_cum3, data = master_gr)\n",
       "\n",
       "Residuals:\n",
       "     Min       1Q   Median       3Q      Max \n",
       "-0.29674 -0.11415  0.01076  0.11935  0.45285 \n",
       "\n",
       "Coefficients:\n",
       "             Estimate Std. Error t value Pr(>|t|)  \n",
       "(Intercept) -1.114810   0.591101  -1.886   0.0860 .\n",
       "mnOW_MCM6    0.164768   0.055487   2.969   0.0128 *\n",
       "GyreSPD      0.064735   0.067743   0.956   0.3598  \n",
       "Fish_cum3    0.005601   0.008137   0.688   0.5055  \n",
       "---\n",
       "Signif. codes:  0 ‘***’ 0.001 ‘**’ 0.01 ‘*’ 0.05 ‘.’ 0.1 ‘ ’ 1\n",
       "\n",
       "Residual standard error: 0.2216 on 11 degrees of freedom\n",
       "  (1 observation deleted due to missingness)\n",
       "Multiple R-squared:  0.5177,\tAdjusted R-squared:  0.3862 \n",
       "F-statistic: 3.936 on 3 and 11 DF,  p-value: 0.03929\n"
      ]
     },
     "metadata": {},
     "output_type": "display_data"
    },
    {
     "data": {
      "text/html": [
       "'AIC: 2.70814759538535'"
      ],
      "text/latex": [
       "'AIC: 2.70814759538535'"
      ],
      "text/markdown": [
       "'AIC: 2.70814759538535'"
      ],
      "text/plain": [
       "[1] \"AIC: 2.70814759538535\""
      ]
     },
     "metadata": {},
     "output_type": "display_data"
    },
    {
     "data": {
      "text/plain": [
       "'log Lik.' 3.645926 (df=5)"
      ]
     },
     "metadata": {},
     "output_type": "display_data"
    }
   ],
   "source": [
    "# No FIE\n",
    "model_wese<- lm(formula = growth_wese ~ mnOW_MCM6 + GyreSPD + Fish_cum3, data = master_gr)\n",
    "summary (model_wese); paste(\"AIC:\",AIC(model_wese))\n",
    "logLik(model_wese)"
   ]
  },
  {
   "cell_type": "code",
   "execution_count": 26,
   "metadata": {},
   "outputs": [
    {
     "data": {
      "text/plain": [
       "\n",
       "Call:\n",
       "lm(formula = growth_wese ~ FIE + GyreSPD + Fish_cum3, data = master_gr)\n",
       "\n",
       "Residuals:\n",
       "     Min       1Q   Median       3Q      Max \n",
       "-0.41614 -0.06710  0.02665  0.09690  0.22688 \n",
       "\n",
       "Coefficients:\n",
       "             Estimate Std. Error t value Pr(>|t|)   \n",
       "(Intercept) -0.733096   0.513179  -1.429  0.18091   \n",
       "FIE          0.012389   0.003571   3.469  0.00525 **\n",
       "GyreSPD      0.004572   0.061765   0.074  0.94232   \n",
       "Fish_cum3    0.015756   0.007217   2.183  0.05158 . \n",
       "---\n",
       "Signif. codes:  0 ‘***’ 0.001 ‘**’ 0.01 ‘*’ 0.05 ‘.’ 0.1 ‘ ’ 1\n",
       "\n",
       "Residual standard error: 0.2055 on 11 degrees of freedom\n",
       "  (1 observation deleted due to missingness)\n",
       "Multiple R-squared:  0.5851,\tAdjusted R-squared:  0.4719 \n",
       "F-statistic:  5.17 on 3 and 11 DF,  p-value: 0.018\n"
      ]
     },
     "metadata": {},
     "output_type": "display_data"
    },
    {
     "data": {
      "text/html": [
       "'AIC: 0.452156159992603'"
      ],
      "text/latex": [
       "'AIC: 0.452156159992603'"
      ],
      "text/markdown": [
       "'AIC: 0.452156159992603'"
      ],
      "text/plain": [
       "[1] \"AIC: 0.452156159992603\""
      ]
     },
     "metadata": {},
     "output_type": "display_data"
    },
    {
     "data": {
      "text/plain": [
       "'log Lik.' 4.773922 (df=5)"
      ]
     },
     "metadata": {},
     "output_type": "display_data"
    }
   ],
   "source": [
    "# No mean Open Water at McMurdo Sound (lag 6 yrs)\n",
    "model_wese<- lm(formula = growth_wese ~ FIE + GyreSPD + Fish_cum3, data = master_gr)\n",
    "summary (model_wese); paste(\"AIC:\",AIC(model_wese))\n",
    "logLik(model_wese)"
   ]
  },
  {
   "cell_type": "code",
   "execution_count": 27,
   "metadata": {
    "scrolled": false
   },
   "outputs": [
    {
     "data": {
      "text/plain": [
       "\n",
       "Call:\n",
       "lm(formula = growth_wese ~ FIE + mnOW_MCM6 + Fish_cum3, data = master_gr)\n",
       "\n",
       "Residuals:\n",
       "    Min      1Q  Median      3Q     Max \n",
       "-0.3742 -0.1185  0.0545  0.1341  0.2097 \n",
       "\n",
       "Coefficients:\n",
       "             Estimate Std. Error t value Pr(>|t|)    \n",
       "(Intercept) -0.954267   0.206126  -4.630 0.000581 ***\n",
       "FIE          0.013039   0.003123   4.175 0.001289 ** \n",
       "mnOW_MCM6    0.080419   0.042904   1.874 0.085417 .  \n",
       "Fish_cum3    0.012510   0.006370   1.964 0.073132 .  \n",
       "---\n",
       "Signif. codes:  0 ‘***’ 0.001 ‘**’ 0.01 ‘*’ 0.05 ‘.’ 0.1 ‘ ’ 1\n",
       "\n",
       "Residual standard error: 0.1859 on 12 degrees of freedom\n",
       "Multiple R-squared:    0.7,\tAdjusted R-squared:  0.625 \n",
       "F-statistic: 9.332 on 3 and 12 DF,  p-value: 0.001843\n"
      ]
     },
     "metadata": {},
     "output_type": "display_data"
    },
    {
     "data": {
      "text/html": [
       "'AIC: -3.03648266776172'"
      ],
      "text/latex": [
       "'AIC: -3.03648266776172'"
      ],
      "text/markdown": [
       "'AIC: -3.03648266776172'"
      ],
      "text/plain": [
       "[1] \"AIC: -3.03648266776172\""
      ]
     },
     "metadata": {},
     "output_type": "display_data"
    },
    {
     "data": {
      "text/plain": [
       "'log Lik.' 6.518241 (df=5)"
      ]
     },
     "metadata": {},
     "output_type": "display_data"
    }
   ],
   "source": [
    "# No Gyre speed\n",
    "model_wese<- lm(formula = growth_wese ~ FIE + mnOW_MCM6 + Fish_cum3, data = master_gr)\n",
    "summary (model_wese); paste(\"AIC:\",AIC(model_wese))\n",
    "logLik(model_wese)"
   ]
  },
  {
   "cell_type": "code",
   "execution_count": 28,
   "metadata": {},
   "outputs": [
    {
     "data": {
      "text/plain": [
       "\n",
       "Call:\n",
       "lm(formula = growth_wese ~ FIE + mnOW_MCM6 + GyreSPD, data = master_gr)\n",
       "\n",
       "Residuals:\n",
       "     Min       1Q   Median       3Q      Max \n",
       "-0.21413 -0.14426  0.04833  0.10110  0.21715 \n",
       "\n",
       "Coefficients:\n",
       "             Estimate Std. Error t value Pr(>|t|)   \n",
       "(Intercept) -0.898510   0.368180  -2.440  0.03280 * \n",
       "FIE          0.009522   0.002754   3.458  0.00535 **\n",
       "mnOW_MCM6    0.152446   0.037943   4.018  0.00202 **\n",
       "GyreSPD      0.018453   0.046388   0.398  0.69840   \n",
       "---\n",
       "Signif. codes:  0 ‘***’ 0.001 ‘**’ 0.01 ‘*’ 0.05 ‘.’ 0.1 ‘ ’ 1\n",
       "\n",
       "Residual standard error: 0.1567 on 11 degrees of freedom\n",
       "  (1 observation deleted due to missingness)\n",
       "Multiple R-squared:  0.759,\tAdjusted R-squared:  0.6932 \n",
       "F-statistic: 11.55 on 3 and 11 DF,  p-value: 0.001005\n"
      ]
     },
     "metadata": {},
     "output_type": "display_data"
    },
    {
     "data": {
      "text/html": [
       "'AIC: -7.69610081940068'"
      ],
      "text/latex": [
       "'AIC: -7.69610081940068'"
      ],
      "text/markdown": [
       "'AIC: -7.69610081940068'"
      ],
      "text/plain": [
       "[1] \"AIC: -7.69610081940068\""
      ]
     },
     "metadata": {},
     "output_type": "display_data"
    },
    {
     "data": {
      "text/plain": [
       "'log Lik.' 8.84805 (df=5)"
      ]
     },
     "metadata": {},
     "output_type": "display_data"
    }
   ],
   "source": [
    "# No cumulative Fish effects\n",
    "model_wese<- lm(formula = growth_wese ~ FIE + mnOW_MCM6 + GyreSPD, data = master_gr)\n",
    "summary (model_wese); paste(\"AIC:\",AIC(model_wese))\n",
    "logLik(model_wese)"
   ]
  },
  {
   "cell_type": "code",
   "execution_count": 29,
   "metadata": {},
   "outputs": [
    {
     "name": "stdout",
     "output_type": "stream",
     "text": [
      "Series: master_gr$growth_wese \n",
      "Regression with ARIMA(1,0,0) errors \n",
      "\n",
      "Coefficients:\n",
      "          ar1     FIE  Fish_cum3  mnOW_MCM6  GyreSPD\n",
      "      -0.3849  0.0095     0.0012     0.1039  -0.0955\n",
      "s.e.   0.2606  0.0027     0.0042     0.0350   0.0190\n",
      "\n",
      "sigma^2 estimated as 0.03621:  log likelihood=6.57\n",
      "AIC=-1.13   AICc=9.37   BIC=3.12\n",
      "\n",
      "Training set error measures:\n",
      "                      ME      RMSE       MAE      MPE     MAPE      MASE\n",
      "Training set -0.01006786 0.1553662 0.1198774 102.9865 124.9582 0.3535347\n",
      "                    ACF1\n",
      "Training set -0.06893918\n"
     ]
    },
    {
     "data": {
      "text/plain": [
       "\n",
       "z test of coefficients:\n",
       "\n",
       "            Estimate Std. Error z value  Pr(>|z|)    \n",
       "ar1       -0.3849339  0.2605860 -1.4772 0.1396258    \n",
       "FIE        0.0094909  0.0027032  3.5110 0.0004464 ***\n",
       "Fish_cum3  0.0011722  0.0041574  0.2820 0.7779806    \n",
       "mnOW_MCM6  0.1039089  0.0350442  2.9651 0.0030260 ** \n",
       "GyreSPD   -0.0954588  0.0190456 -5.0121 5.383e-07 ***\n",
       "---\n",
       "Signif. codes:  0 ‘***’ 0.001 ‘**’ 0.01 ‘*’ 0.05 ‘.’ 0.1 ‘ ’ 1\n"
      ]
     },
     "metadata": {},
     "output_type": "display_data"
    }
   ],
   "source": [
    "# Top model as ARIMA\n",
    "cov_sat_growth_top<-as.matrix(master_gr[,c(\"FIE\", \"Fish_cum3\", \"mnOW_MCM6\", \"GyreSPD\")]) \n",
    "mdlTop<-Arima(master_gr$growth_wese,order=c(1,0,0),include.mean=F,include.drift=F,xreg= cov_sat_growth_top)\n",
    "summary(mdlTop)\n",
    "coeftest(mdlTop)"
   ]
  },
  {
   "cell_type": "code",
   "execution_count": 30,
   "metadata": {},
   "outputs": [
    {
     "data": {
      "text/plain": [
       "\n",
       "Call:\n",
       "lm(formula = growth_wese ~ 1, data = master_gr)\n",
       "\n",
       "Residuals:\n",
       "     Min       1Q   Median       3Q      Max \n",
       "-0.67502 -0.10966  0.02119  0.21120  0.43925 \n",
       "\n",
       "Coefficients:\n",
       "            Estimate Std. Error t value Pr(>|t|)\n",
       "(Intercept) 0.007192   0.075894   0.095    0.926\n",
       "\n",
       "Residual standard error: 0.3036 on 15 degrees of freedom\n"
      ]
     },
     "metadata": {},
     "output_type": "display_data"
    },
    {
     "data": {
      "text/html": [
       "'AIC: 10.2256705602546'"
      ],
      "text/latex": [
       "'AIC: 10.2256705602546'"
      ],
      "text/markdown": [
       "'AIC: 10.2256705602546'"
      ],
      "text/plain": [
       "[1] \"AIC: 10.2256705602546\""
      ]
     },
     "metadata": {},
     "output_type": "display_data"
    },
    {
     "data": {
      "text/plain": [
       "'log Lik.' -3.112835 (df=2)"
      ]
     },
     "metadata": {},
     "output_type": "display_data"
    },
    {
     "data": {
      "text/html": [
       "0.105603892853791"
      ],
      "text/latex": [
       "0.105603892853791"
      ],
      "text/markdown": [
       "0.105603892853791"
      ],
      "text/plain": [
       "[1] 0.1056039"
      ]
     },
     "metadata": {},
     "output_type": "display_data"
    },
    {
     "data": {
      "text/html": [
       "0"
      ],
      "text/latex": [
       "0"
      ],
      "text/markdown": [
       "0"
      ],
      "text/plain": [
       "[1] 0"
      ]
     },
     "metadata": {},
     "output_type": "display_data"
    },
    {
     "data": {
      "text/html": [
       "0"
      ],
      "text/latex": [
       "0"
      ],
      "text/markdown": [
       "0"
      ],
      "text/plain": [
       "[1] 0"
      ]
     },
     "metadata": {},
     "output_type": "display_data"
    }
   ],
   "source": [
    "# Intercept-only model\n",
    "model_wese<- lm(formula = growth_wese ~ 1, data = master_gr)\n",
    "summary (model_wese); paste(\"AIC:\",AIC(model_wese))\n",
    "logLik(model_wese)\n",
    "# Need to calculate the R-sq. as the square of the correlation between observations and fitted values\n",
    "cor(master_gr$growth_wese,model_wese$fitted)^2\n",
    "# The above is the same for adj.r.sq because n-1 == n-p in this case...\n",
    "\n",
    "#For some reason, R returns adj.r.sq = 0\n",
    "summary(model_wese)$adj.r.squared\n",
    "summary(model_wese)$r.squared"
   ]
  },
  {
   "cell_type": "code",
   "execution_count": 31,
   "metadata": {},
   "outputs": [
    {
     "data": {
      "text/html": [
       "<table>\n",
       "<caption>A anova: 2 × 5</caption>\n",
       "<thead>\n",
       "\t<tr><th></th><th scope=col>#Df</th><th scope=col>LogLik</th><th scope=col>Df</th><th scope=col>Chisq</th><th scope=col>Pr(&gt;Chisq)</th></tr>\n",
       "\t<tr><th></th><th scope=col>&lt;dbl&gt;</th><th scope=col>&lt;dbl&gt;</th><th scope=col>&lt;dbl&gt;</th><th scope=col>&lt;dbl&gt;</th><th scope=col>&lt;dbl&gt;</th></tr>\n",
       "</thead>\n",
       "<tbody>\n",
       "\t<tr><th scope=row>1</th><td>7</td><td>10.87492</td><td>NA</td><td>        NA</td><td>       NA</td></tr>\n",
       "\t<tr><th scope=row>2</th><td>6</td><td>10.84542</td><td>-1</td><td>0.05898632</td><td>0.8081053</td></tr>\n",
       "</tbody>\n",
       "</table>\n"
      ],
      "text/latex": [
       "A anova: 2 × 5\n",
       "\\begin{tabular}{r|lllll}\n",
       "  & \\#Df & LogLik & Df & Chisq & Pr(>Chisq)\\\\\n",
       "  & <dbl> & <dbl> & <dbl> & <dbl> & <dbl>\\\\\n",
       "\\hline\n",
       "\t1 & 7 & 10.87492 & NA &         NA &        NA\\\\\n",
       "\t2 & 6 & 10.84542 & -1 & 0.05898632 & 0.8081053\\\\\n",
       "\\end{tabular}\n"
      ],
      "text/markdown": [
       "\n",
       "A anova: 2 × 5\n",
       "\n",
       "| <!--/--> | #Df &lt;dbl&gt; | LogLik &lt;dbl&gt; | Df &lt;dbl&gt; | Chisq &lt;dbl&gt; | Pr(&gt;Chisq) &lt;dbl&gt; |\n",
       "|---|---|---|---|---|---|\n",
       "| 1 | 7 | 10.87492 | NA |         NA |        NA |\n",
       "| 2 | 6 | 10.84542 | -1 | 0.05898632 | 0.8081053 |\n",
       "\n"
      ],
      "text/plain": [
       "  #Df LogLik   Df Chisq      Pr(>Chisq)\n",
       "1 7   10.87492 NA         NA        NA \n",
       "2 6   10.84542 -1 0.05898632 0.8081053 "
      ]
     },
     "metadata": {},
     "output_type": "display_data"
    }
   ],
   "source": [
    "## Checking Likelihood ratio tests to see if excluding wind is justified\n",
    "library(lmtest)\n",
    "model_wese_wind<- lm(formula = growth_wese ~ FIE + mnWind + Fish_cum3 + mnOW_MCM6 + GyreSPD, data = master_gr)\n",
    "model_wese<-lm(formula = growth_wese ~ FIE + Fish_cum3 + mnOW_MCM6 + GyreSPD, data = master_gr)\n",
    "lrtest(model_wese_wind,model_wese)\n",
    "\n",
    "# We cannot do the same for Gyre speed because the model without it uses 2019 data \n",
    "# so has one more record than the model with gyre speed"
   ]
  },
  {
   "cell_type": "markdown",
   "metadata": {},
   "source": [
    "### By the LRTest above we are justified in not including Wind"
   ]
  },
  {
   "cell_type": "code",
   "execution_count": 32,
   "metadata": {},
   "outputs": [],
   "source": [
    "save(master_gr,model_wese,file=\"/home/ubuntu/Workspace/Anthropocene/data/bestWESEmodel.RData\")"
   ]
  },
  {
   "cell_type": "code",
   "execution_count": 33,
   "metadata": {},
   "outputs": [
    {
     "data": {
      "text/html": [
       "15"
      ],
      "text/latex": [
       "15"
      ],
      "text/markdown": [
       "15"
      ],
      "text/plain": [
       "[1] 15"
      ]
     },
     "metadata": {},
     "output_type": "display_data"
    },
    {
     "data": {
      "text/html": [
       "16"
      ],
      "text/latex": [
       "16"
      ],
      "text/markdown": [
       "16"
      ],
      "text/plain": [
       "[1] 16"
      ]
     },
     "metadata": {},
     "output_type": "display_data"
    },
    {
     "data": {
      "text/plain": [
       "'log Lik.' -3.112835 (df=2)"
      ]
     },
     "metadata": {},
     "output_type": "display_data"
    },
    {
     "data": {
      "text/html": [
       "-4.1128352801273"
      ],
      "text/latex": [
       "-4.1128352801273"
      ],
      "text/markdown": [
       "-4.1128352801273"
      ],
      "text/plain": [
       "[1] -4.112835"
      ]
     },
     "metadata": {},
     "output_type": "display_data"
    },
    {
     "data": {
      "text/html": [
       "-3.1128352801273"
      ],
      "text/latex": [
       "-3.1128352801273"
      ],
      "text/markdown": [
       "-3.1128352801273"
      ],
      "text/plain": [
       "[1] -3.112835"
      ]
     },
     "metadata": {},
     "output_type": "display_data"
    }
   ],
   "source": [
    "# Leo confirming that the logLikelihood is estimated using the unbiased estimate for the variance, hence burining 2 d.f, not 1\n",
    "model_wese<- lm(formula = growth_wese ~ 1, data = master_gr)\n",
    "\n",
    "# In theory only one parameter estimated in the intercept-only model, so 1 df burned:\n",
    "model_wese$df.residual; nrow(master_gr)\n",
    "\n",
    "# Here's the reported logLikelihood:\n",
    "logLik(model_wese)\n",
    "# But note that if k=1, the log-likelihood (from AIC estimate, logLik = AIC-2k/-2) is:\n",
    "(10.2256705602546-2)/-2\n",
    "\n",
    "# If k=2, then we get the reported logLikelihood, implying d.f. = 2\n",
    "(10.2256705602546-4)/-2"
   ]
  },
  {
   "cell_type": "code",
   "execution_count": null,
   "metadata": {},
   "outputs": [],
   "source": []
  },
  {
   "cell_type": "code",
   "execution_count": null,
   "metadata": {},
   "outputs": [],
   "source": []
  }
 ],
 "metadata": {
  "kernelspec": {
   "display_name": "R",
   "language": "R",
   "name": "ir"
  },
  "language_info": {
   "codemirror_mode": "r",
   "file_extension": ".r",
   "mimetype": "text/x-r-source",
   "name": "R",
   "pygments_lexer": "r",
   "version": "3.6.3"
  }
 },
 "nbformat": 4,
 "nbformat_minor": 2
}
